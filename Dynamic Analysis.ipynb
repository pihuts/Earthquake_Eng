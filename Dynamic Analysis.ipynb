{
 "cells": [
  {
   "cell_type": "code",
   "execution_count": 49,
   "metadata": {},
   "outputs": [],
   "source": [
    "from sympy import Matrix,linear_eq_to_matrix,sympify,Eq,symbols,solve,pprint\n",
    "import numpy as np\n",
    "import handcalcs.render\n",
    "import forallpeople\n",
    "from numpy import pi\n",
    "forallpeople.environment(\"structural\", top_level=True)"
   ]
  },
  {
   "attachments": {},
   "cell_type": "markdown",
   "metadata": {},
   "source": [
    "## 1. FORMULATE THE STIFFNESS MATRICES FOR THE FF:\n",
    "1. 2 - STORY BLDG.\n",
    "2. 3 - STORY BLDG.\n",
    "3. 4 - STORY BLDG.\n",
    "4. 5 - STORY BLDG."
   ]
  },
  {
   "cell_type": "code",
   "execution_count": 50,
   "metadata": {},
   "outputs": [],
   "source": [
    "def get_matrix_eqn(mode_shape):\n",
    "        global k1,k2,k3,k4,k5,u1,u2,u3,u4,u5,m1,m2,m3,m4,m5,y1_a,y2_a,y3_a,y4_a,y5_a,wj2,k_list,u_list, m_list,y_list\n",
    "        mode_number = mode_shape\n",
    "        k1,k2,k3,k4,k5,u1,u2,u3,u4,u5,m1,m2,m3,m4,m5,y1_a,y2_a,y3_a,y4_a,y5_a,wj2 = symbols('k1 k2 k3 k4 k5 u1 u2 u3 u4 u5 m1 m2 m3 m4 m5 y1_a y2_a y3_a y4_a y5_a,w_j')\n",
    "        varible_list = [k1,k2,k3,k4,k5,u1,u2,u3,u4,u5,m1,m2,m3,m4,m5,y1_a,y2_a,y3_a,y4_a,y5_a]\n",
    "        k_list = [k1,k2,k3,k4,k5]\n",
    "        u_list = [u1,u2,u3,u4,u5]\n",
    "        m_list = [m1,m2,m3,m4,m5]\n",
    "        y_list = [y1_a,y2_a,y3_a,y4_a,y5_a]\n",
    "        mode_shape = np.arange(mode_shape)\n",
    "        k_equation_string = []\n",
    "        for i,k in reversed(list(enumerate(mode_shape,1))):\n",
    "            if i == len(mode_shape):\n",
    "                  k_string = f\"k{i}*(u{i} - u{i-1}) + m{i}*y{i}_a \"\n",
    "            else:\n",
    "                  k_string = f\"k{i}*(u{i} - u{i-1}) - k{i+1}*(u{i+1} -u{i}) + m{i}*y{i}_a \"\n",
    "            k_equation_string.append(k_string)\n",
    "                  \n",
    "        # k_equation_string = [f\"m{i}*y{i}_a + k{i}*(u{i} - {0 if i == 1 else f'u{i-1}'}) - k{i+1}*(u{i+1} -u{i})\" if i != len(mode_shape) else f\"m{i}*y{i}_a + k{i}*(u{i} -u{i-1})\" for i,k in reversed(list(enumerate(mode_shape,1)))]\n",
    "        \n",
    "        \n",
    "        \n",
    "        m_equation_string = [f\"m{i}*y{i}_a \" for i,k in reversed(list(enumerate(mode_shape,1)))]\n",
    "        k_equation_array = Matrix(k_equation_string)\n",
    "        m_equation_array = Matrix(m_equation_string)\n",
    "        print(f\"MODE SHAPE: {mode_number} - EQUATION\")\n",
    "        display(k_equation_array)\n",
    "        u_shape = [u_list[i] for i,j in reversed(list(enumerate(mode_shape)))]\n",
    "        m_shape = [m_list[i] for i,j in enumerate(mode_shape)]\n",
    "        y_shape = [y_list[i] for i,j in reversed(list(enumerate(mode_shape)))]\n",
    "        k_shape = [k_list[i] for i,j in enumerate(mode_shape)]\n",
    "\n",
    "        k_equation_expression = [Eq(sympify(j),0) for j in k_equation_string]\n",
    "        m_equation_expression = [Eq(sympify(j),0) for j in m_equation_string]\n",
    "        # eqns = [k1*(u1-u2),k2*(u2-u3)-k1*(u1-u2),k3*(u3-u1)-k2*(u2-u3)]\n",
    "        stiffness_matrix, b = linear_eq_to_matrix(k_equation_expression, u_shape)\n",
    "        print(f\"MODE SHAPE: {mode_number} - STIFFNESS MATRIX\")\n",
    "        u_matrix = Matrix(u_shape)\n",
    "        display(stiffness_matrix,u_matrix )\n",
    "        \n",
    "        mass_matrix, b = linear_eq_to_matrix(m_equation_expression, y_shape)\n",
    "        print(f\"MODE SHAPE: {mode_number} - MASS MATRIX\")\n",
    "        y_matrix = Matrix(y_shape)\n",
    "        display(mass_matrix,y_matrix )\n",
    "        return stiffness_matrix,mass_matrix,u_matrix,y_matrix\n",
    "\n",
    "\n",
    "# mode_shape_ = 5\n",
    "# mode_shape__ = [i+1 for i in range(mode_shape_)]\n",
    "# for i1,mode_shape in enumerate(mode_shape__,1):\n",
    "#     if i1 != 1:\n",
    "#         get_matrix_eqn(mode_shape)\n"
   ]
  },
  {
   "attachments": {},
   "cell_type": "markdown",
   "metadata": {},
   "source": [
    "## 2. COMPUTE THE FF FOR A 3 STORY BLDG:\n",
    "1. w_j\n",
    "2. 0_ij\n",
    "3. r_j"
   ]
  },
  {
   "attachments": {},
   "cell_type": "markdown",
   "metadata": {},
   "source": [
    "### GIVEN"
   ]
  },
  {
   "cell_type": "code",
   "execution_count": 51,
   "metadata": {},
   "outputs": [
    {
     "data": {
      "text/latex": [
       "\\[\n",
       "\\begin{aligned}\n",
       "m_{1} &= 5000 \\; \\;\\textrm{(in kg)}\n",
       "\\\\[10pt]\n",
       "m_{2} &= 5200 \\; \\;\\textrm{(in kg)}\n",
       "\\\\[10pt]\n",
       "m_{3} &= 5000 \\; \\;\\textrm{(in kg)}\n",
       "\\\\[10pt]\n",
       "m_{4} &= 5000 \\; \\;\\textrm{(in kg)}\n",
       "\\\\[10pt]\n",
       "k_{1} &= 145000 \\; \\;\\textrm{(in N/m)}\n",
       "\\\\[10pt]\n",
       "k_{2} &= 140000 \\; \\;\\textrm{(in N/m)}\n",
       "\\\\[10pt]\n",
       "k_{3} &= 140000 \\; \\;\\textrm{(in N/m)}\n",
       "\\\\[10pt]\n",
       "k_{4} &= 140000 \\; \\;\\textrm{(in N/m)}\n",
       "\\end{aligned}\n",
       "\\]"
      ],
      "text/plain": [
       "<IPython.core.display.Latex object>"
      ]
     },
     "metadata": {},
     "output_type": "display_data"
    }
   ],
   "source": [
    "%%render \n",
    "m_1 = 5000 # in kg\n",
    "m_2 = 5200# in kg\n",
    "m_3 = 5000 # in kg\n",
    "m_4 = 5000 # in kg\n",
    "k_1 = 145000 # in N/m\n",
    "k_2 = 140000 # in N/m\n",
    "k_3 = 140000 # in N/m\n",
    "k_4 = 140000 # in N/m\n",
    "\n",
    "# k_1 = 145# in N/m\n",
    "# k_2 = 140 # in N/m\n",
    "# k_3 = 140 # in N/m\n",
    "# k_4 = 140 # in N/m\n",
    "\n",
    "# m_3 = 1\n",
    "# m_2 = 1.5\n",
    "# m_1 = 2\n",
    "# k_3 = 600\n",
    "# k_2 = 1200\n",
    "# k_1 = 1800\n",
    "\n"
   ]
  },
  {
   "cell_type": "code",
   "execution_count": 52,
   "metadata": {},
   "outputs": [
    {
     "name": "stdout",
     "output_type": "stream",
     "text": [
      "MODE SHAPE: 4 - EQUATION\n"
     ]
    },
    {
     "data": {
      "text/latex": [
       "$\\displaystyle \\left[\\begin{matrix}k_{4} \\left(- u_{3} + u_{4}\\right) + m_{4} y_{4 a}\\\\k_{3} \\left(- u_{2} + u_{3}\\right) - k_{4} \\left(- u_{3} + u_{4}\\right) + m_{3} y_{3 a}\\\\k_{2} \\left(- u_{1} + u_{2}\\right) - k_{3} \\left(- u_{2} + u_{3}\\right) + m_{2} y_{2 a}\\\\k_{1} \\left(- u_{0} + u_{1}\\right) - k_{2} \\left(- u_{1} + u_{2}\\right) + m_{1} y_{1 a}\\end{matrix}\\right]$"
      ],
      "text/plain": [
       "Matrix([\n",
       "[                k4*(-u3 + u4) + m4*y4_a],\n",
       "[k3*(-u2 + u3) - k4*(-u3 + u4) + m3*y3_a],\n",
       "[k2*(-u1 + u2) - k3*(-u2 + u3) + m2*y2_a],\n",
       "[k1*(-u0 + u1) - k2*(-u1 + u2) + m1*y1_a]])"
      ]
     },
     "metadata": {},
     "output_type": "display_data"
    },
    {
     "name": "stdout",
     "output_type": "stream",
     "text": [
      "MODE SHAPE: 4 - STIFFNESS MATRIX\n"
     ]
    },
    {
     "data": {
      "text/latex": [
       "$\\displaystyle \\left[\\begin{matrix}k_{4} & - k_{4} & 0 & 0\\\\- k_{4} & k_{3} + k_{4} & - k_{3} & 0\\\\0 & - k_{3} & k_{2} + k_{3} & - k_{2}\\\\0 & 0 & - k_{2} & k_{1} + k_{2}\\end{matrix}\\right]$"
      ],
      "text/plain": [
       "Matrix([\n",
       "[ k4,     -k4,       0,       0],\n",
       "[-k4, k3 + k4,     -k3,       0],\n",
       "[  0,     -k3, k2 + k3,     -k2],\n",
       "[  0,       0,     -k2, k1 + k2]])"
      ]
     },
     "metadata": {},
     "output_type": "display_data"
    },
    {
     "data": {
      "text/latex": [
       "$\\displaystyle \\left[\\begin{matrix}u_{4}\\\\u_{3}\\\\u_{2}\\\\u_{1}\\end{matrix}\\right]$"
      ],
      "text/plain": [
       "Matrix([\n",
       "[u4],\n",
       "[u3],\n",
       "[u2],\n",
       "[u1]])"
      ]
     },
     "metadata": {},
     "output_type": "display_data"
    },
    {
     "name": "stdout",
     "output_type": "stream",
     "text": [
      "MODE SHAPE: 4 - MASS MATRIX\n"
     ]
    },
    {
     "data": {
      "text/latex": [
       "$\\displaystyle \\left[\\begin{matrix}m_{4} & 0 & 0 & 0\\\\0 & m_{3} & 0 & 0\\\\0 & 0 & m_{2} & 0\\\\0 & 0 & 0 & m_{1}\\end{matrix}\\right]$"
      ],
      "text/plain": [
       "Matrix([\n",
       "[m4,  0,  0,  0],\n",
       "[ 0, m3,  0,  0],\n",
       "[ 0,  0, m2,  0],\n",
       "[ 0,  0,  0, m1]])"
      ]
     },
     "metadata": {},
     "output_type": "display_data"
    },
    {
     "data": {
      "text/latex": [
       "$\\displaystyle \\left[\\begin{matrix}y_{4 a}\\\\y_{3 a}\\\\y_{2 a}\\\\y_{1 a}\\end{matrix}\\right]$"
      ],
      "text/plain": [
       "Matrix([\n",
       "[y4_a],\n",
       "[y3_a],\n",
       "[y2_a],\n",
       "[y1_a]])"
      ]
     },
     "metadata": {},
     "output_type": "display_data"
    }
   ],
   "source": [
    "stiffness_matrix,mass_matrix,u_matrix,y_matrix = get_matrix_eqn(4)\n"
   ]
  },
  {
   "attachments": {},
   "cell_type": "markdown",
   "metadata": {},
   "source": [
    "### SUBSTITUTE VALUES TO MATRIX"
   ]
  },
  {
   "cell_type": "code",
   "execution_count": 53,
   "metadata": {},
   "outputs": [
    {
     "name": "stdout",
     "output_type": "stream",
     "text": [
      "SUBSTITUTE VALUES TO STIFFNESS MATRIX\n"
     ]
    },
    {
     "data": {
      "text/latex": [
       "$\\displaystyle \\left[\\begin{matrix}140000 & -140000 & 0 & 0\\\\-140000 & 280000 & -140000 & 0\\\\0 & -140000 & 280000 & -140000\\\\0 & 0 & -140000 & 285000\\end{matrix}\\right]$"
      ],
      "text/plain": [
       "Matrix([\n",
       "[ 140000, -140000,       0,       0],\n",
       "[-140000,  280000, -140000,       0],\n",
       "[      0, -140000,  280000, -140000],\n",
       "[      0,       0, -140000,  285000]])"
      ]
     },
     "metadata": {},
     "output_type": "display_data"
    },
    {
     "name": "stdout",
     "output_type": "stream",
     "text": [
      "SUBSTITUTE VALUES TO MASS MATRIX\n"
     ]
    },
    {
     "data": {
      "text/latex": [
       "$\\displaystyle \\left[\\begin{matrix}5000 & 0 & 0 & 0\\\\0 & 5000 & 0 & 0\\\\0 & 0 & 5200 & 0\\\\0 & 0 & 0 & 5000\\end{matrix}\\right]$"
      ],
      "text/plain": [
       "Matrix([\n",
       "[5000,    0,    0,    0],\n",
       "[   0, 5000,    0,    0],\n",
       "[   0,    0, 5200,    0],\n",
       "[   0,    0,    0, 5000]])"
      ]
     },
     "metadata": {},
     "output_type": "display_data"
    },
    {
     "name": "stdout",
     "output_type": "stream",
     "text": [
      "MASS MATRIX X wj^2\n"
     ]
    },
    {
     "data": {
      "text/latex": [
       "$\\displaystyle \\left[\\begin{matrix}5000 w_{j}^{2} & 0 & 0 & 0\\\\0 & 5000 w_{j}^{2} & 0 & 0\\\\0 & 0 & 5200 w_{j}^{2} & 0\\\\0 & 0 & 0 & 5000 w_{j}^{2}\\end{matrix}\\right]$"
      ],
      "text/plain": [
       "Matrix([\n",
       "[5000*w_j**2,           0,           0,           0],\n",
       "[          0, 5000*w_j**2,           0,           0],\n",
       "[          0,           0, 5200*w_j**2,           0],\n",
       "[          0,           0,           0, 5000*w_j**2]])"
      ]
     },
     "metadata": {},
     "output_type": "display_data"
    },
    {
     "name": "stdout",
     "output_type": "stream",
     "text": [
      "STIFFNESS MATRIX - MASS MATRIX X wj^2\n"
     ]
    },
    {
     "data": {
      "text/latex": [
       "$\\displaystyle \\left[\\begin{matrix}140000 - 5000 w_{j}^{2} & -140000 & 0 & 0\\\\-140000 & 280000 - 5000 w_{j}^{2} & -140000 & 0\\\\0 & -140000 & 280000 - 5200 w_{j}^{2} & -140000\\\\0 & 0 & -140000 & 285000 - 5000 w_{j}^{2}\\end{matrix}\\right]$"
      ],
      "text/plain": [
       "Matrix([\n",
       "[140000 - 5000*w_j**2,              -140000,                    0,                    0],\n",
       "[             -140000, 280000 - 5000*w_j**2,              -140000,                    0],\n",
       "[                   0,              -140000, 280000 - 5200*w_j**2,              -140000],\n",
       "[                   0,                    0,              -140000, 285000 - 5000*w_j**2]])"
      ]
     },
     "metadata": {},
     "output_type": "display_data"
    },
    {
     "name": "stdout",
     "output_type": "stream",
     "text": [
      "DETERMINANT OF STIFFNESS MATRIX - MASS MATRIX X wj^2\n"
     ]
    },
    {
     "data": {
      "text/latex": [
       "$\\displaystyle 650000000000000 w_{j}^{8} - 126650000000000000 w_{j}^{6} + 7576800000000000000 w_{j}^{4} - 141257200000000000000 w_{j}^{2} + 397880000000000000000$"
      ],
      "text/plain": [
       "650000000000000*w_j**8 - 126650000000000000*w_j**6 + 7576800000000000000*w_j**4 - 141257200000000000000*w_j**2 + 397880000000000000000"
      ]
     },
     "metadata": {},
     "output_type": "display_data"
    },
    {
     "name": "stdout",
     "output_type": "stream",
     "text": [
      "LET wj^2 = x\n"
     ]
    },
    {
     "data": {
      "text/latex": [
       "$\\displaystyle 650000000000000 x^{4} - 126650000000000000 x^{3} + 7576800000000000000 x^{2} - 141257200000000000000 x + 397880000000000000000$"
      ],
      "text/plain": [
       "650000000000000*x**4 - 126650000000000000*x**3 + 7576800000000000000*x**2 - 141257200000000000000*x + 397880000000000000000"
      ]
     },
     "metadata": {},
     "output_type": "display_data"
    },
    {
     "name": "stdout",
     "output_type": "stream",
     "text": [
      "SOLVE FOR x\n",
      "3.40321620570107\n",
      "27.9480279317277\n",
      "66.0339892394700\n",
      "97.4609204692551\n",
      "SOLVE FOR wj\n"
     ]
    },
    {
     "data": {
      "text/plain": [
       "[1.84478080153201, 5.28658944232742, 8.12613002846189, 9.87222976177394]"
      ]
     },
     "metadata": {},
     "output_type": "display_data"
    },
    {
     "name": "stdout",
     "output_type": "stream",
     "text": [
      "SOLVE FOR T\n"
     ]
    },
    {
     "data": {
      "text/plain": [
       "[3.40592513861901, 1.18851395133370, 0.773207576690582, 0.636450473580810]"
      ]
     },
     "metadata": {},
     "output_type": "display_data"
    }
   ],
   "source": [
    "\n",
    "from sympy import real_roots,N, linsolve\n",
    "\n",
    "stiffness_matrix = stiffness_matrix.subs([(k1,k_1),(k2,k_2),(k3,k_3), (k4,k_4)])\n",
    "wj2 = symbols('w_j', real=True)\n",
    "print(\"SUBSTITUTE VALUES TO STIFFNESS MATRIX\")\n",
    "display(stiffness_matrix)\n",
    "mass_matrix = mass_matrix.subs([(m1,m_1),(m2,m_2),(m3,m_3), (m4,m_4)])\n",
    "print(\"SUBSTITUTE VALUES TO MASS MATRIX\")\n",
    "display(mass_matrix)\n",
    "print(\"MASS MATRIX X wj^2\")\n",
    "mass_matrix_wj2 = mass_matrix * wj2 ** 2\n",
    "display(mass_matrix_wj2)\n",
    "print(\"STIFFNESS MATRIX - MASS MATRIX X wj^2\")\n",
    "stiffness_matrix_mass_matrix_wj2 = stiffness_matrix - mass_matrix_wj2\n",
    "display(stiffness_matrix_mass_matrix_wj2)\n",
    "print(\"DETERMINANT OF STIFFNESS MATRIX - MASS MATRIX X wj^2\")\n",
    "determinant_stiffness_matrix_mass_matrix_wj2 = stiffness_matrix_mass_matrix_wj2.det()\n",
    "display(determinant_stiffness_matrix_mass_matrix_wj2)\n",
    "print(\"LET wj^2 = x\")\n",
    "x = symbols('x', real=True)\n",
    "determinant_stiffness_matrix_mass_matrix_wj2 = determinant_stiffness_matrix_mass_matrix_wj2.subs(wj2**2,x)\n",
    "display(determinant_stiffness_matrix_mass_matrix_wj2)\n",
    "print(\"SOLVE FOR x\")\n",
    "x_roots = real_roots(determinant_stiffness_matrix_mass_matrix_wj2,x)\n",
    "for x1 in x_roots:\n",
    "    pprint(N(x1))\n",
    "# display(x)\n",
    "print(\"SOLVE FOR wj\")\n",
    "\n",
    "wj = [N(i)**0.5 for i in x_roots]\n",
    "\n",
    "display(wj)\n",
    "print(\"SOLVE FOR T\")\n",
    "T = [2 * pi / i for i in wj]\n",
    "display(T)\n",
    "\n"
   ]
  },
  {
   "cell_type": "code",
   "execution_count": 54,
   "metadata": {},
   "outputs": [
    {
     "data": {
      "text/latex": [
       "$\\displaystyle \\left[\\begin{matrix}1\\\\\\phi_{3}\\\\\\phi_{2}\\\\\\phi_{1}\\end{matrix}\\right]$"
      ],
      "text/plain": [
       "Matrix([\n",
       "[    1],\n",
       "[phi_3],\n",
       "[phi_2],\n",
       "[phi_1]])"
      ]
     },
     "execution_count": 54,
     "metadata": {},
     "output_type": "execute_result"
    }
   ],
   "source": [
    "phi1,phi2,phi3,phi4 = symbols('phi_1,phi_2,phi_3,phi_4', real=True)\n",
    "angle_matrix = Matrix([phi4,phi3,phi2,phi1])\n",
    "# angle_matrix = Matrix([phi1,phi2,phi3])\n",
    "angle_matrix = angle_matrix.subs([(phi4,1)])\n",
    "angle_matrix"
   ]
  },
  {
   "cell_type": "code",
   "execution_count": 55,
   "metadata": {},
   "outputs": [
    {
     "data": {
      "text/latex": [
       "$\\displaystyle \\left[\\begin{matrix}140000 - 5000 w_{j}^{2} & -140000 & 0 & 0\\\\-140000 & 280000 - 5000 w_{j}^{2} & -140000 & 0\\\\0 & -140000 & 280000 - 5200 w_{j}^{2} & -140000\\\\0 & 0 & -140000 & 285000 - 5000 w_{j}^{2}\\end{matrix}\\right]$"
      ],
      "text/plain": [
       "Matrix([\n",
       "[140000 - 5000*w_j**2,              -140000,                    0,                    0],\n",
       "[             -140000, 280000 - 5000*w_j**2,              -140000,                    0],\n",
       "[                   0,              -140000, 280000 - 5200*w_j**2,              -140000],\n",
       "[                   0,                    0,              -140000, 285000 - 5000*w_j**2]])"
      ]
     },
     "metadata": {},
     "output_type": "display_data"
    },
    {
     "data": {
      "text/latex": [
       "$\\displaystyle \\left[\\begin{matrix}- 140000 \\phi_{3} - 5000 w_{j}^{2} + 140000\\\\- 140000 \\phi_{2} + \\phi_{3} \\cdot \\left(280000 - 5000 w_{j}^{2}\\right) - 140000\\\\- 140000 \\phi_{1} + \\phi_{2} \\cdot \\left(280000 - 5200 w_{j}^{2}\\right) - 140000 \\phi_{3}\\\\\\phi_{1} \\cdot \\left(285000 - 5000 w_{j}^{2}\\right) - 140000 \\phi_{2}\\end{matrix}\\right]$"
      ],
      "text/plain": [
       "Matrix([\n",
       "[                       -140000*phi_3 - 5000*w_j**2 + 140000],\n",
       "[      -140000*phi_2 + phi_3*(280000 - 5000*w_j**2) - 140000],\n",
       "[-140000*phi_1 + phi_2*(280000 - 5200*w_j**2) - 140000*phi_3],\n",
       "[                phi_1*(285000 - 5000*w_j**2) - 140000*phi_2]])"
      ]
     },
     "execution_count": 55,
     "metadata": {},
     "output_type": "execute_result"
    }
   ],
   "source": [
    "display(stiffness_matrix_mass_matrix_wj2)\n",
    "angle_stiffness = stiffness_matrix_mass_matrix_wj2 * angle_matrix\n",
    "angle_stiffness"
   ]
  },
  {
   "cell_type": "code",
   "execution_count": 56,
   "metadata": {},
   "outputs": [
    {
     "name": "stdout",
     "output_type": "stream",
     "text": [
      "CALCULATE ANGLE STIFFNESS\n",
      "3.40321620570107\n",
      "[Eq(122983.918971495 - 140000*phi_3, 0), Eq(-140000*phi_2 + 262983.918971495*phi_3 - 140000, 0), Eq(-140000*phi_1 + 262303.275730354*phi_2 - 140000*phi_3, 0)]\n",
      "{phi_1: 0.339647058740976, phi_2: 0.650142499061048, phi_3: 0.878456564082107}\n"
     ]
    },
    {
     "data": {
      "text/latex": [
       "$\\displaystyle \\left[\\begin{matrix}122983.918971495 - 140000 \\phi_{3}\\\\- 140000 \\phi_{2} + 262983.918971495 \\phi_{3} - 140000\\\\- 140000 \\phi_{1} + 262303.275730354 \\phi_{2} - 140000 \\phi_{3}\\\\267983.918971495 \\phi_{1} - 140000 \\phi_{2}\\end{matrix}\\right]$"
      ],
      "text/plain": [
       "Matrix([\n",
       "[                      122983.918971495 - 140000*phi_3],\n",
       "[      -140000*phi_2 + 262983.918971495*phi_3 - 140000],\n",
       "[-140000*phi_1 + 262303.275730354*phi_2 - 140000*phi_3],\n",
       "[                267983.918971495*phi_1 - 140000*phi_2]])"
      ]
     },
     "metadata": {},
     "output_type": "display_data"
    },
    {
     "name": "stdout",
     "output_type": "stream",
     "text": [
      "27.9480279317277\n",
      "[Eq(259.86034136152 - 140000*phi_3, 0), Eq(-140000*phi_2 + 140259.860341362*phi_3 - 140000, 0), Eq(-140000*phi_1 + 134670.254755016*phi_2 - 140000*phi_3, 0)]\n",
      "{phi_1: -0.961997739717630, phi_2: -0.998140409429203, phi_3: 0.00185614529543943}\n"
     ]
    },
    {
     "data": {
      "text/latex": [
       "$\\displaystyle \\left[\\begin{matrix}259.86034136152 - 140000 \\phi_{3}\\\\- 140000 \\phi_{2} + 140259.860341362 \\phi_{3} - 140000\\\\- 140000 \\phi_{1} + 134670.254755016 \\phi_{2} - 140000 \\phi_{3}\\\\145259.860341362 \\phi_{1} - 140000 \\phi_{2}\\end{matrix}\\right]$"
      ],
      "text/plain": [
       "Matrix([\n",
       "[                       259.86034136152 - 140000*phi_3],\n",
       "[      -140000*phi_2 + 140259.860341362*phi_3 - 140000],\n",
       "[-140000*phi_1 + 134670.254755016*phi_2 - 140000*phi_3],\n",
       "[                145259.860341362*phi_1 - 140000*phi_2]])"
      ]
     },
     "metadata": {},
     "output_type": "display_data"
    },
    {
     "name": "stdout",
     "output_type": "stream",
     "text": [
      "66.0339892394700\n",
      "[Eq(-140000*phi_3 - 190169.94619735, 0), Eq(-140000*phi_2 - 50169.9461973498*phi_3 - 140000, 0), Eq(-140000*phi_1 - 63376.7440452438*phi_2 - 140000*phi_3, 0)]\n",
      "{phi_1: 1.59068851206271, phi_2: -0.513223675047247, phi_3: -1.35835675855250}\n"
     ]
    },
    {
     "data": {
      "text/latex": [
       "$\\displaystyle \\left[\\begin{matrix}- 140000 \\phi_{3} - 190169.94619735\\\\- 140000 \\phi_{2} - 50169.9461973498 \\phi_{3} - 140000\\\\- 140000 \\phi_{1} - 63376.7440452438 \\phi_{2} - 140000 \\phi_{3}\\\\- 45169.9461973498 \\phi_{1} - 140000 \\phi_{2}\\end{matrix}\\right]$"
      ],
      "text/plain": [
       "Matrix([\n",
       "[                      -140000*phi_3 - 190169.94619735],\n",
       "[      -140000*phi_2 - 50169.9461973498*phi_3 - 140000],\n",
       "[-140000*phi_1 - 63376.7440452438*phi_2 - 140000*phi_3],\n",
       "[               -45169.9461973498*phi_1 - 140000*phi_2]])"
      ]
     },
     "metadata": {},
     "output_type": "display_data"
    },
    {
     "name": "stdout",
     "output_type": "stream",
     "text": [
      "97.4609204692551\n",
      "[Eq(-140000*phi_3 - 347304.602346276, 0), Eq(-140000*phi_2 - 207304.602346276*phi_3 - 140000, 0), Eq(-140000*phi_1 - 226796.786440127*phi_2 - 140000*phi_3, 0)]\n",
      "{phi_1: -1.85003355882771, phi_2: 2.67335931032787, phi_3: -2.48074715961626}\n"
     ]
    },
    {
     "data": {
      "text/latex": [
       "$\\displaystyle \\left[\\begin{matrix}- 140000 \\phi_{3} - 347304.602346276\\\\- 140000 \\phi_{2} - 207304.602346276 \\phi_{3} - 140000\\\\- 140000 \\phi_{1} - 226796.786440127 \\phi_{2} - 140000 \\phi_{3}\\\\- 202304.602346276 \\phi_{1} - 140000 \\phi_{2}\\end{matrix}\\right]$"
      ],
      "text/plain": [
       "Matrix([\n",
       "[                     -140000*phi_3 - 347304.602346276],\n",
       "[      -140000*phi_2 - 207304.602346276*phi_3 - 140000],\n",
       "[-140000*phi_1 - 226796.786440127*phi_2 - 140000*phi_3],\n",
       "[               -202304.602346276*phi_1 - 140000*phi_2]])"
      ]
     },
     "metadata": {},
     "output_type": "display_data"
    }
   ],
   "source": [
    "print(\"CALCULATE ANGLE STIFFNESS\")\n",
    "\n",
    "for x1 in x_roots:\n",
    "    print(N(x1))\n",
    "    angle_stiffness_1 = angle_stiffness.subs([(wj2**2,N(x1))])\n",
    "    angle_stiffness_1_lineq = [Eq(xd,0) for xd in angle_stiffness_1]\n",
    "    angle_stiffness_1_lineq.pop(-1)\n",
    "    print(angle_stiffness_1_lineq)\n",
    "    phi2_ = solve(angle_stiffness_1_lineq,[phi1,phi2,phi3])\n",
    "    print(phi2_)\n",
    "    display(angle_stiffness_1)"
   ]
  },
  {
   "cell_type": "code",
   "execution_count": null,
   "metadata": {},
   "outputs": [],
   "source": []
  }
 ],
 "metadata": {
  "kernelspec": {
   "display_name": "Python 3 (ipykernel)",
   "language": "python",
   "name": "python3"
  },
  "language_info": {
   "codemirror_mode": {
    "name": "ipython",
    "version": 3
   },
   "file_extension": ".py",
   "mimetype": "text/x-python",
   "name": "python",
   "nbconvert_exporter": "python",
   "pygments_lexer": "ipython3",
   "version": "3.10.9"
  }
 },
 "nbformat": 4,
 "nbformat_minor": 4
}
