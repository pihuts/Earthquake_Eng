{
 "cells": [
  {
   "cell_type": "code",
   "execution_count": 4,
   "metadata": {},
   "outputs": [],
   "source": [
    "import handcalcs.render\n",
    "import forallpeople\n",
    "from handcalcs.decorator import handcalc\n",
    "import pandas as pd\n",
    "forallpeople.environment(\"structural\", top_level=True)"
   ]
  },
  {
   "cell_type": "code",
   "execution_count": 5,
   "metadata": {},
   "outputs": [
    {
     "data": {
      "text/html": [
       "<div>\n",
       "<style scoped>\n",
       "    .dataframe tbody tr th:only-of-type {\n",
       "        vertical-align: middle;\n",
       "    }\n",
       "\n",
       "    .dataframe tbody tr th {\n",
       "        vertical-align: top;\n",
       "    }\n",
       "\n",
       "    .dataframe thead th {\n",
       "        text-align: right;\n",
       "    }\n",
       "</style>\n",
       "<table border=\"1\" class=\"dataframe\">\n",
       "  <thead>\n",
       "    <tr style=\"text-align: right;\">\n",
       "      <th></th>\n",
       "      <th>W</th>\n",
       "      <th>H</th>\n",
       "      <th>H_n</th>\n",
       "      <th>WxH</th>\n",
       "    </tr>\n",
       "  </thead>\n",
       "  <tbody>\n",
       "    <tr>\n",
       "      <th>Roof</th>\n",
       "      <td>1.000 MN</td>\n",
       "      <td>3.000 m</td>\n",
       "      <td>10.000 m</td>\n",
       "      <td>10.000 MN·m</td>\n",
       "    </tr>\n",
       "    <tr>\n",
       "      <th>Floor 3</th>\n",
       "      <td>1.300 MN</td>\n",
       "      <td>3.000 m</td>\n",
       "      <td>7.000 m</td>\n",
       "      <td>9.100 MN·m</td>\n",
       "    </tr>\n",
       "    <tr>\n",
       "      <th>Floor 2</th>\n",
       "      <td>1.430 MN</td>\n",
       "      <td>4.000 m</td>\n",
       "      <td>4.000 m</td>\n",
       "      <td>5.720 MN·m</td>\n",
       "    </tr>\n",
       "  </tbody>\n",
       "</table>\n",
       "</div>"
      ],
      "text/plain": [
       "                W        H       H_n          WxH\n",
       "Roof     1.000 MN  3.000 m  10.000 m  10.000 MN·m\n",
       "Floor 3  1.300 MN  3.000 m   7.000 m   9.100 MN·m\n",
       "Floor 2  1.430 MN  4.000 m   4.000 m   5.720 MN·m"
      ]
     },
     "execution_count": 5,
     "metadata": {},
     "output_type": "execute_result"
    }
   ],
   "source": [
    "W1 =1430 *kN \n",
    "W2 = 1300  *kN \n",
    "W3 = 1000 * kN\n",
    "\n",
    "H_n = [4,3,3][::-1]\n",
    "\n",
    "H_n_ = [j * m for j in H_n]\n",
    "\n",
    "W_list = [W3,W2,W1]\n",
    "index =  [f\"Floor {i + 1}\" if i != len(H_n_) else \"Roof\" for i,j in enumerate(H_n_,1)][::-1]\n",
    "\n",
    "WH = pd.DataFrame([W_list,H_n_])\n",
    "WH = WH.T.set_index([index])\n",
    "WH[3] =   WH.loc[::-1, 1].cumsum()[::-1]\n",
    "WH[4] =   WH[0]*WH[3]\n",
    "WH.columns = [\"W\",\"H\",\"H_n\",\"WxH\"]\n",
    "WH"
   ]
  },
  {
   "attachments": {},
   "cell_type": "markdown",
   "metadata": {},
   "source": [
    "## Parameters"
   ]
  },
  {
   "cell_type": "code",
   "execution_count": 6,
   "metadata": {},
   "outputs": [
    {
     "ename": "IndentationError",
     "evalue": "expected an indented block (1569996420.py, line 14)",
     "output_type": "error",
     "traceback": [
      "\u001b[1;36m  File \u001b[1;32m\"C:\\Users\\63976\\AppData\\Local\\Temp\\ipykernel_2532\\1569996420.py\"\u001b[1;36m, line \u001b[1;32m14\u001b[0m\n\u001b[1;33m    @handcalc(override=\"params\", jupyter_display=True, precision=precision)\u001b[0m\n\u001b[1;37m    ^\u001b[0m\n\u001b[1;31mIndentationError\u001b[0m\u001b[1;31m:\u001b[0m expected an indented block\n"
     ]
    }
   ],
   "source": [
    "\n",
    "zone = 0.4 \n",
    "SeismicSource_Type = \"A\"\n",
    "Soil_Profile = \"SD\"\n",
    "I = 1\n",
    "R = 8.5\n",
    "Distance = 5\n",
    "C_t = 0.731\n",
    "mode = \"long\"\n",
    "precision = 5\n",
    "@handcalc(override=mode, jupyter_display=True, precision=precision)\n",
    "def C_t_finder():\n",
    "    \n",
    "\n",
    "@handcalc(override=\"params\", jupyter_display=True, precision=precision)\n",
    "def parameters(zone,SeismicSource_Type,Soil_Profile,I,R,Distance,H_n,C_t):\n",
    "    Zone = zone\n",
    "    SeismicSource = SeismicSource_Type\n",
    "    Soil = Soil_Profile\n",
    "    I = I\n",
    "    R = R\n",
    "    Distance = Distance * 10 ** 3 * m \n",
    "    H_n = sum(H_n)\n",
    "    C_t = C_t\n",
    "    \n",
    "    \n",
    "@handcalc(override=mode, jupyter_display=True, precision=precision)\n",
    "def telastic(H_n):\n",
    "    T = 0.0731 * (sum(H_n) ** (3 / 4)) # Equation 208-12\n",
    "    return T\n",
    "\n",
    "@handcalc(override=mode, jupyter_display=True, precision=precision)\n",
    "def ircd(i):\n",
    "    if i == \"I\":x = 1.5\n",
    "    elif i == \"II\":x = 1.25\n",
    "    elif i == \"III\":x = 1\n",
    "    elif i == \"IV\":x = 1\n",
    "    elif i == \"V\":x = 1\n",
    "    return x\n",
    "\n",
    "\n",
    "@handcalc(override=mode, jupyter_display=True, precision=precision)\n",
    "def narcd(Distance):\n",
    "    if Distance >= 5 and Distance <= 10:Na = 1.2 - (((Distance - 5) / 5) * (1.2 - 1)) # Table 208-6\n",
    "    elif Distance >= 2 and Distance <= 5:Na = 1.5 - (((Distance - 2) / 3) * (1.5 - 1.2)) # Table 208-6\n",
    "    return Na\n",
    "\n",
    "\n",
    "@handcalc(override=mode, jupyter_display=True, precision=precision)\n",
    "def nvrcd(Distance):\n",
    "\n",
    "    if Distance >= 5 and Distance <= 10:Nv = 1.6 - (((Distance - 5) / 5) * (1.6 - 1.2)) # Table 208-5\n",
    "    elif Distance >= 2 and Distance <= 5:Nv = 2 - (((Distance - 2) / 3) * (2 - 1.6)) # Table 208-5\n",
    "    elif Distance >= 10 and Distance <= 15:Nv = 1.2 - (((Distance - 10) / 5) * (1.2 - 1)) # Table 208-5\n",
    "    return Nv\n",
    "\n",
    "\n",
    "@handcalc(override=mode, jupyter_display=True, precision=precision)\n",
    "def carcd(na, Soil_Profile):\n",
    "    if Soil_Profile == \"SA\":Ca = 0.32 * na # Table 208-7\n",
    "    elif Soil_Profile == \"SB\":Ca = 0.4 * na # Table 208-7\n",
    "    elif Soil_Profile == \"SC\":Ca = 0.4 * na # Table 208-7\n",
    "    elif Soil_Profile == \"SD\":Ca = 0.44 * na # Table 208-7\n",
    "    elif Soil_Profile == \"SE\":Ca = 0.44 * na # Table 208-7\n",
    "    return Ca\n",
    "\n",
    "\n",
    "@handcalc(override=mode, jupyter_display=True, precision=precision)\n",
    "def cvrcd(nv, Soil_Profile):\n",
    "    if Soil_Profile == \"SA\":Cv = 0.32 * nv # Table 208-8\n",
    "    elif Soil_Profile == \"SB\":Cv = 0.4 * nv # Table 208-8 \n",
    "    elif Soil_Profile == \"SC\":Cv = 0.56 * nv# Table 208-8\n",
    "    elif Soil_Profile == \"SD\":Cv = 0.64 * nv # Table 208-8\n",
    "    elif Soil_Profile == \"SE\":Cv = 0.96 * nv # Table 208-8\n",
    "    return Cv\n",
    "\n",
    "\n",
    "@handcalc(override=mode, jupyter_display=True, precision=precision)\n",
    "def BaseShear(cv, I, r, t, w):\n",
    "    V = ((cv * I) / (r * t)) * w # Equation 208-8\n",
    "    return V\n",
    "\n",
    "\n",
    "@handcalc(override=mode, jupyter_display=True, precision=precision)\n",
    "def MaxShear(ca, I, r, w):\n",
    "    V = ((2.5 * ca * I) / r) * w # Equation 208-9\n",
    "    return V\n",
    "\n",
    "\n",
    "@handcalc(override=mode, jupyter_display=True, precision=precision)\n",
    "def MinShear(ca, I, w):\n",
    "    V = 0.11 * ca * I * w # Equation 208-10\n",
    "    return V\n",
    "\n",
    "\n",
    "@handcalc(override=mode, jupyter_display=True, precision=precision)\n",
    "def Zone4(z, nv, I, r, w):\n",
    "    V = ((0.8 * z * nv * I) / r) * w # Equation 208-11\n",
    "    return V\n",
    "\n",
    "# @handcalc(override=mode, jupyter_display=True, precision=2)\n",
    "# def FBaseShear(v, vmax, V_min, V_zone4):\n",
    "\n",
    "#     if V_min > V_zone4:V_min = V_min\n",
    "#     else:V_min = V_zone4\n",
    "#     if v < V_min:BaseShear = V_min\n",
    "#     elif v > vmax:BaseShear = vmax\n",
    "#     else:BaseShear = v\n",
    "#     return BaseShear\n",
    "\n",
    "@handcalc(override=mode, jupyter_display=True, precision=precision)\n",
    "def FBaseShear(v, vmax, V_min, V_zone4):\n",
    "\n",
    "    if v < max(V_min,V_zone4):BaseShear = max(V_min,V_zone4)\n",
    "    elif v > vmax:BaseShear = vmax\n",
    "    else:BaseShear = v\n",
    "    return BaseShear\n",
    "\n",
    "@handcalc(override=mode, jupyter_display=True, precision=precision)\n",
    "def ft(t, v):\n",
    "    if t > 0.7 : ft = 0.07 * t * v # Equation 208-16\n",
    "    elif t < 0.7 : ft = 0\n",
    "    if ft > (0.25 * v):ft = 0.25 * v # Equation 208-16\n",
    "    return ft\n",
    "\n",
    "\n",
    "@handcalc(override=mode, jupyter_display=True, precision=2)\n",
    "def lateral_force(v, ft, WixHi,WixHi_Total,floor):\n",
    "    F = ((v - ft) * WixHi)/WixHi_Total\n",
    "    return F\n",
    "\n",
    "\n",
    "@handcalc(override=mode, jupyter_display=True, precision=precision)\n",
    "def lateral_force_top(v, ft, coefficient,WxH_Total,T):\n",
    "    F = (((v- ft) * coefficient)/WxH_Total) + ft\n",
    "    return F\n",
    "\n",
    "\n",
    "\n",
    "\n",
    "# print(type(Distance))\n",
    "sadasd = parameters(zone, SeismicSource_Type, Soil_Profile, I, R, Distance, H_n,C_t)\n",
    "\n",
    "\n",
    "\n",
    "\n",
    "\n",
    "\n"
   ]
  },
  {
   "attachments": {},
   "cell_type": "markdown",
   "metadata": {},
   "source": [
    "## Total Weight"
   ]
  },
  {
   "cell_type": "code",
   "execution_count": null,
   "metadata": {},
   "outputs": [
    {
     "data": {
      "text/latex": [
       "\\[\n",
       "\\begin{aligned}\n",
       "W &= \\Sigma \\left( \\mathrm{W1} ,\\  \\mathrm{W2} ,\\  \\mathrm{W3} \\right)  = \\Sigma \\left( 1.430\\ \\mathrm{MN} ,\\  1.300\\ \\mathrm{MN} ,\\  1.000\\ \\mathrm{MN} \\right) &= 3.730\\ \\mathrm{MN}  \n",
       "\\end{aligned}\n",
       "\\]"
      ],
      "text/plain": [
       "<IPython.core.display.Latex object>"
      ]
     },
     "metadata": {},
     "output_type": "display_data"
    }
   ],
   "source": [
    "%%render \n",
    "W = sum((W1,W2,W3))"
   ]
  },
  {
   "attachments": {},
   "cell_type": "markdown",
   "metadata": {},
   "source": [
    "## Nv,Na,Cv,Ca"
   ]
  },
  {
   "cell_type": "code",
   "execution_count": null,
   "metadata": {},
   "outputs": [
    {
     "data": {
      "text/latex": [
       "\\[\n",
       "\\begin{aligned}\n",
       "&\\text{Since, } \\mathrm{Distance} \\geq 5 \\rightarrow \\left( 5 \\geq 5 \\right) : \\; \\;\\textrm{(Table 208-6)} \\\\[10pt]\n",
       "\\mathrm{Na} &= 1.2 - \\left( \\left( \\frac{ \\mathrm{Distance} - 5 }{ 5 } \\right) \\cdot \\left( 1.2 - 1 \\right) \\right) \\\\&= 1.2 - \\left( \\left( \\frac{ 5 - 5 }{ 5 } \\right) \\cdot \\left( 1.2 - 1 \\right) \\right) \\\\&= 1.20000  \\\\[10pt]\n",
       "\\end{aligned}\n",
       "\\]"
      ],
      "text/plain": [
       "<IPython.core.display.Latex object>"
      ]
     },
     "metadata": {},
     "output_type": "display_data"
    },
    {
     "data": {
      "text/latex": [
       "\\[\n",
       "\\begin{aligned}\n",
       "&\\text{Since, } \\mathrm{Distance} \\geq 5 \\rightarrow \\left( 5 \\geq 5 \\right) : \\; \\;\\textrm{(Table 208-5)} \\\\[10pt]\n",
       "\\mathrm{Nv} &= 1.6 - \\left( \\left( \\frac{ \\mathrm{Distance} - 5 }{ 5 } \\right) \\cdot \\left( 1.6 - 1.2 \\right) \\right) \\\\&= 1.6 - \\left( \\left( \\frac{ 5 - 5 }{ 5 } \\right) \\cdot \\left( 1.6 - 1.2 \\right) \\right) \\\\&= 1.60000  \\\\[10pt]\n",
       "\\end{aligned}\n",
       "\\]"
      ],
      "text/plain": [
       "<IPython.core.display.Latex object>"
      ]
     },
     "metadata": {},
     "output_type": "display_data"
    },
    {
     "data": {
      "text/latex": [
       "\\[\n",
       "\\begin{aligned}\n",
       "&\\text{Since, } \\mathrm{Soil}_{Profile} \\rightarrow \\left( \\textrm{SD} \\right) : \\; \\;\\textrm{(Table 208-7)} \\\\[10pt]\n",
       "\\mathrm{Ca} &= 0.44 \\cdot \\mathrm{na} \\\\&= 0.44 \\cdot 1.20000 \\\\&= 0.52800  \\\\[10pt]\n",
       "\\end{aligned}\n",
       "\\]"
      ],
      "text/plain": [
       "<IPython.core.display.Latex object>"
      ]
     },
     "metadata": {},
     "output_type": "display_data"
    },
    {
     "data": {
      "text/latex": [
       "\\[\n",
       "\\begin{aligned}\n",
       "&\\text{Since, } \\mathrm{Soil}_{Profile} \\rightarrow \\left( \\textrm{SD} \\right) : \\; \\;\\textrm{(Table 208-8)} \\\\[10pt]\n",
       "\\mathrm{Cv} &= 0.64 \\cdot \\mathrm{nv} \\\\&= 0.64 \\cdot 1.60000 \\\\&= 1.02400  \\\\[10pt]\n",
       "\\end{aligned}\n",
       "\\]"
      ],
      "text/plain": [
       "<IPython.core.display.Latex object>"
      ]
     },
     "metadata": {},
     "output_type": "display_data"
    },
    {
     "data": {
      "text/latex": [
       "\\[\n",
       "\\begin{aligned}\n",
       "T &= 0.0731 \\cdot \\left( \\Sigma \\left( H_{n} \\right) \\right) ^{ \\left( \\frac{ 3 }{ 4 } \\right) } \\\\&= 0.0731 \\cdot \\left( \\Sigma \\left( [3,\\ 3,\\ 4] \\right) \\right) ^{ \\left( \\frac{ 3 }{ 4 } \\right) } \\\\&= 0.41107 \\; \\;\\textrm{(Equation 208-12)}\\\\[10pt]\n",
       "\\end{aligned}\n",
       "\\]"
      ],
      "text/plain": [
       "<IPython.core.display.Latex object>"
      ]
     },
     "metadata": {},
     "output_type": "display_data"
    }
   ],
   "source": [
    "\n",
    "Na = narcd(Distance) # Table 208-5\n",
    "Nv = nvrcd(Distance) # Table 208-6\n",
    "Ca = carcd(Na, Soil_Profile)# Table 208-7\n",
    "Cv = cvrcd(Nv, Soil_Profile)# Table 208-8\n",
    "T = telastic(H_n) # Equation 208-12"
   ]
  },
  {
   "attachments": {},
   "cell_type": "markdown",
   "metadata": {},
   "source": [
    "## Base Shear"
   ]
  },
  {
   "cell_type": "code",
   "execution_count": null,
   "metadata": {},
   "outputs": [
    {
     "data": {
      "text/latex": [
       "\\[\n",
       "\\begin{aligned}\n",
       "V &= \\left( \\frac{ \\mathrm{cv} \\cdot I }{ r \\cdot t } \\right) \\cdot w \\\\&= \\left( \\frac{ 1.02400 \\cdot 1 }{ 8.50000 \\cdot 0.41107 } \\right) \\cdot 3.73000\\ \\mathrm{MN} \\\\&= 1.09313\\ \\mathrm{MN} \\; \\;\\textrm{(Equation 208-8)}\\\\[10pt]\n",
       "\\end{aligned}\n",
       "\\]"
      ],
      "text/plain": [
       "<IPython.core.display.Latex object>"
      ]
     },
     "metadata": {},
     "output_type": "display_data"
    },
    {
     "data": {
      "text/latex": [
       "\\[\n",
       "\\begin{aligned}\n",
       "V &= \\left( \\frac{ 2.5 \\cdot \\mathrm{ca} \\cdot I }{ r } \\right) \\cdot w \\\\&= \\left( \\frac{ 2.5 \\cdot 0.52800 \\cdot 1 }{ 8.50000 } \\right) \\cdot 3.73000\\ \\mathrm{MN} \\\\&= 579.24706\\ \\mathrm{kN} \\; \\;\\textrm{(Equation 208-9)}\\\\[10pt]\n",
       "\\end{aligned}\n",
       "\\]"
      ],
      "text/plain": [
       "<IPython.core.display.Latex object>"
      ]
     },
     "metadata": {},
     "output_type": "display_data"
    },
    {
     "data": {
      "text/latex": [
       "\\[\n",
       "\\begin{aligned}\n",
       "V &= 0.11 \\cdot \\mathrm{ca} \\cdot I \\cdot w \\\\&= 0.11 \\cdot 0.52800 \\cdot 1 \\cdot 3.73000\\ \\mathrm{MN} \\\\&= 216.63840\\ \\mathrm{kN} \\; \\;\\textrm{(Equation 208-10)}\\\\[10pt]\n",
       "\\end{aligned}\n",
       "\\]"
      ],
      "text/plain": [
       "<IPython.core.display.Latex object>"
      ]
     },
     "metadata": {},
     "output_type": "display_data"
    },
    {
     "data": {
      "text/latex": [
       "\\[\n",
       "\\begin{aligned}\n",
       "V &= \\left( \\frac{ 0.8 \\cdot z \\cdot \\mathrm{nv} \\cdot I }{ r } \\right) \\cdot w \\\\&= \\left( \\frac{ 0.8 \\cdot 0.40000 \\cdot 1.60000 \\cdot 1 }{ 8.50000 } \\right) \\cdot 3.73000\\ \\mathrm{MN} \\\\&= 224.67765\\ \\mathrm{kN} \\; \\;\\textrm{(Equation 208-11)}\\\\[10pt]\n",
       "\\end{aligned}\n",
       "\\]"
      ],
      "text/plain": [
       "<IPython.core.display.Latex object>"
      ]
     },
     "metadata": {},
     "output_type": "display_data"
    },
    {
     "data": {
      "text/latex": [
       "\\[\n",
       "\\begin{aligned}\n",
       "&\\text{Since, } v \\gt \\mathrm{vmax} \\rightarrow \\left( 1.09313\\ \\mathrm{MN} \\gt 579.24706\\ \\mathrm{kN} \\right) :   \\\\[10pt]\n",
       "\\mathrm{BaseShear} &= 579.24706\\ \\mathrm{kN} \\; \n",
       "\\end{aligned}\n",
       "\\]"
      ],
      "text/plain": [
       "<IPython.core.display.Latex object>"
      ]
     },
     "metadata": {},
     "output_type": "display_data"
    },
    {
     "data": {
      "text/latex": [
       "\\[\n",
       "\\begin{aligned}\n",
       "&\\text{Since, } t \\lt 0.7 \\rightarrow \\left( 0.41107 \\lt 0.7 \\right) :   \\\\[10pt]\n",
       "\\mathrm{ft} &= 0 \\; \n",
       "\\end{aligned}\n",
       "\\]"
      ],
      "text/plain": [
       "<IPython.core.display.Latex object>"
      ]
     },
     "metadata": {},
     "output_type": "display_data"
    }
   ],
   "source": [
    "\n",
    "BaseShear = BaseShear(Cv, I, R, T, W) # Equation 208-8\n",
    "MaxShear = MaxShear(Ca, I, R, W)# Equation 208-9\n",
    "MinShear = MinShear(Ca, I, W)# Equation 208-10\n",
    "Zone4 = Zone4(zone, Nv, I, R, W)# Equation 208-11\n",
    "FBaseShear = FBaseShear(BaseShear, MaxShear, MinShear, Zone4)\n",
    "ft = ft(T, FBaseShear)# Equation 208-16"
   ]
  },
  {
   "attachments": {},
   "cell_type": "markdown",
   "metadata": {},
   "source": [
    "## F1,F2 AND F3"
   ]
  },
  {
   "cell_type": "code",
   "execution_count": null,
   "metadata": {},
   "outputs": [
    {
     "data": {
      "text/latex": [
       "\\[\n",
       "\\begin{aligned}\n",
       "F &= \\frac{ \\left( v - \\mathrm{ft} \\right) \\cdot \\mathrm{WixHi} }{ \\mathrm{WixHi}_{Total} } \\\\&= \\frac{ \\left( 579.25\\ \\mathrm{kN} - 0 \\right) \\cdot 5.72\\ \\mathrm{MN} \\cdot \\mathrm{m} }{ 24.82\\ \\mathrm{MN} \\cdot \\mathrm{m} } \\\\&= 133.49\\ \\mathrm{kN}  \\\\[10pt]\n",
       "\\end{aligned}\n",
       "\\]"
      ],
      "text/plain": [
       "<IPython.core.display.Latex object>"
      ]
     },
     "metadata": {},
     "output_type": "display_data"
    },
    {
     "data": {
      "text/latex": [
       "\\[\n",
       "\\begin{aligned}\n",
       "F &= \\frac{ \\left( v - \\mathrm{ft} \\right) \\cdot \\mathrm{WixHi} }{ \\mathrm{WixHi}_{Total} } \\\\&= \\frac{ \\left( 579.25\\ \\mathrm{kN} - 0 \\right) \\cdot 9.10\\ \\mathrm{MN} \\cdot \\mathrm{m} }{ 24.82\\ \\mathrm{MN} \\cdot \\mathrm{m} } \\\\&= 212.38\\ \\mathrm{kN}  \\\\[10pt]\n",
       "\\end{aligned}\n",
       "\\]"
      ],
      "text/plain": [
       "<IPython.core.display.Latex object>"
      ]
     },
     "metadata": {},
     "output_type": "display_data"
    },
    {
     "data": {
      "text/latex": [
       "\\[\n",
       "\\begin{aligned}\n",
       "F &= \\frac{ \\left( v - \\mathrm{ft} \\right) \\cdot \\mathrm{WixHi} }{ \\mathrm{WixHi}_{Total} } \\\\&= \\frac{ \\left( 579.25\\ \\mathrm{kN} - 0 \\right) \\cdot 10.00\\ \\mathrm{MN} \\cdot \\mathrm{m} }{ 24.82\\ \\mathrm{MN} \\cdot \\mathrm{m} } \\\\&= 233.38\\ \\mathrm{kN}  \\\\[10pt]\n",
       "\\end{aligned}\n",
       "\\]"
      ],
      "text/plain": [
       "<IPython.core.display.Latex object>"
      ]
     },
     "metadata": {},
     "output_type": "display_data"
    },
    {
     "data": {
      "text/html": [
       "<div>\n",
       "<style scoped>\n",
       "    .dataframe tbody tr th:only-of-type {\n",
       "        vertical-align: middle;\n",
       "    }\n",
       "\n",
       "    .dataframe tbody tr th {\n",
       "        vertical-align: top;\n",
       "    }\n",
       "\n",
       "    .dataframe thead th {\n",
       "        text-align: right;\n",
       "    }\n",
       "</style>\n",
       "<table border=\"1\" class=\"dataframe\">\n",
       "  <thead>\n",
       "    <tr style=\"text-align: right;\">\n",
       "      <th></th>\n",
       "      <th>Forces</th>\n",
       "    </tr>\n",
       "  </thead>\n",
       "  <tbody>\n",
       "    <tr>\n",
       "      <th>F1</th>\n",
       "      <td>133.493 kN</td>\n",
       "    </tr>\n",
       "    <tr>\n",
       "      <th>F2</th>\n",
       "      <td>212.375 kN</td>\n",
       "    </tr>\n",
       "    <tr>\n",
       "      <th>F3</th>\n",
       "      <td>233.379 kN</td>\n",
       "    </tr>\n",
       "  </tbody>\n",
       "</table>\n",
       "</div>"
      ],
      "text/plain": [
       "        Forces\n",
       "F1  133.493 kN\n",
       "F2  212.375 kN\n",
       "F3  233.379 kN"
      ]
     },
     "execution_count": 7,
     "metadata": {},
     "output_type": "execute_result"
    }
   ],
   "source": [
    "WxH_Total = WH[\"WxH\"].sum()\n",
    "asdas = [lateral_force(FBaseShear, ft, j,WxH_Total,i) for i,j in enumerate(WH[\"WxH\"][::-1],1) ]\n",
    "LateralPd = pd.DataFrame(asdas,index = [f\"F{i}\" for i,j in enumerate(asdas,1)],columns = [\"Forces\"])\n",
    "LateralPd"
   ]
  },
  {
   "cell_type": "code",
   "execution_count": null,
   "metadata": {},
   "outputs": [],
   "source": [
    "import numpy as np\n",
    "from math import sqrt\n",
    "D_e = np.array([6,6])\n",
    "H_n_ = H_n[0]"
   ]
  },
  {
   "cell_type": "code",
   "execution_count": null,
   "metadata": {},
   "outputs": [
    {
     "data": {
      "text/latex": [
       "\\[\n",
       "\\begin{aligned}\n",
       "A_{e} &= 0.3 \\cdot 6 &= 1.800  \n",
       "\\\\[10pt]\n",
       "A_{c} &= \\Sigma \\left( A_{e} \\cdot \\left( 0.2 + \\left( \\frac{ D_{e} }{ H_{n_{}} } \\right) \\right) ^{ 2 } \\right)  = \\Sigma \\left( 1.800 \\cdot \\left( 0.2 + \\left( \\frac{ [6.000,\\ 6.000] }{ 3 } \\right) \\right) ^{ 2 } \\right) &= 17.424  \n",
       "\\\\[10pt]\n",
       "C_{t} &= 0.0743 \\cdot \\sqrt { A_{c} }  = 0.0743 \\cdot \\sqrt { 17.424 } &= 0.310  \n",
       "\\end{aligned}\n",
       "\\]"
      ],
      "text/plain": [
       "<IPython.core.display.Latex object>"
      ]
     },
     "metadata": {},
     "output_type": "display_data"
    }
   ],
   "source": [
    "%%render\n",
    "\n",
    "A_e = 0.3 * 6\n",
    "A_c = sum(A_e*(0.2+(D_e/H_n_))**2)\n",
    "C_t = 0.0743*sqrt(A_c)"
   ]
  },
  {
   "cell_type": "code",
   "execution_count": 10,
   "metadata": {},
   "outputs": [
    {
     "data": {
      "text/latex": [
       "\\[\n",
       "\\begin{aligned}\n",
       "e_{x} &= \\operatorname{abs} { \\left( 22.678 - 22.282 \\right) } &= 0.396  \n",
       "\\\\[10pt]\n",
       "e_{y} &= \\operatorname{abs} { \\left( 22.336 - 22.951 \\right) } &= 0.615  \n",
       "\\\\[10pt]\n",
       "e &= \\sqrt { \\left( e_{x} \\right) ^{ 2 } + \\left( e_{y} \\right) ^{ 2 } }  = \\sqrt { \\left( 0.396 \\right) ^{ 2 } + \\left( 0.615 \\right) ^{ 2 } } &= 0.731  \n",
       "\\\\[10pt]\n",
       "e_{natural} &= 0.05 \\cdot 44 &= 2.200  \n",
       "\\\\[10pt]\n",
       "&\\text{Since, } e \\lt e_{natural} \\rightarrow \\left( 0.731 \\lt 2.200 \\right) :   \\\\[10pt]\n",
       "e_{} &= 2.200 \\; \n",
       "\\end{aligned}\n",
       "\\]"
      ],
      "text/plain": [
       "<IPython.core.display.Latex object>"
      ]
     },
     "metadata": {},
     "output_type": "display_data"
    }
   ],
   "source": [
    "%%render\n",
    "e_x = abs(22.678 - 22.282)\n",
    "e_y = abs(22.336 - 22.951)\n",
    "e = sqrt(e_x**2 + e_y**2)\n",
    "e_natural = 0.05 * 44\n",
    "if e < e_natural:e_ = e_natural\n",
    "    "
   ]
  },
  {
   "cell_type": "code",
   "execution_count": null,
   "metadata": {},
   "outputs": [],
   "source": [
    "from math import sqrt"
   ]
  },
  {
   "cell_type": "code",
   "execution_count": null,
   "metadata": {},
   "outputs": [],
   "source": []
  }
 ],
 "metadata": {
  "kernelspec": {
   "display_name": "Python 3 (ipykernel)",
   "language": "python",
   "name": "python3"
  },
  "language_info": {
   "codemirror_mode": {
    "name": "ipython",
    "version": 3
   },
   "file_extension": ".py",
   "mimetype": "text/x-python",
   "name": "python",
   "nbconvert_exporter": "python",
   "pygments_lexer": "ipython3",
   "version": "3.9.13"
  }
 },
 "nbformat": 4,
 "nbformat_minor": 4
}
