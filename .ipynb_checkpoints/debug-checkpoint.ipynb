{
 "cells": [
  {
   "cell_type": "code",
   "execution_count": 41,
   "metadata": {},
   "outputs": [
    {
     "name": "stdout",
     "output_type": "stream",
     "text": [
      "(27,)\n",
      "(27,)\n"
     ]
    }
   ],
   "source": [
    "\n",
    "import numpy as np\n",
    "from handcalcs.decorator import handcalc\n",
    "import numpy as np\n",
    "import PLOTTER_APPROX as PLOTTER\n",
    "import UTILITIES_APPROX as UTIL\n",
    "import forallpeople\n",
    "import handcalcs.render\n",
    "import ipycalc\n",
    "from scipy import stats\n",
    "from IPython.display import display, Markdown, Latex\n",
    "import pandas as pd\n",
    "import dataframe_image as dfi\n",
    "import warnings\n",
    "warnings.filterwarnings('ignore')\n",
    "\n",
    "forallpeople.environment(\"structural\", top_level=True)\n",
    "from numpy import nansum as sum\n",
    "asd = [0,6,5,6,5,6,5,6,5]* 9 \n",
    "span_list = np.array(asd).reshape(9,9).astype(np.float64)  # left to right\n",
    "span_list_cum = np.cumsum(span_list, axis=1)  # left to right\n",
    "asd = [0,5,5,5,5,6,6,6,6] * 9\n",
    "height_list = np.array(asd).reshape(9,9).T.astype(np.float64)   # left to right\n",
    "height_list_cum = np.cumsum(height_list, axis=0)  # bot to top\n",
    "length_list = np.full_like(span_list, 0.5)  # left to right\n",
    "width_list = np.full_like(span_list, 0.5)  # left to right\n",
    "array3d = np.array([span_list_cum, height_list_cum, length_list, width_list])\n",
    "array3d[:,:4,:2] = np.NAN\n",
    "array3d[:,-2:,-2:] = np.NAN\n",
    "b = 0.5\n",
    "h = 0.5\n",
    "span_array_X  = (array3d[0] + b/2 )\n",
    "span_array_Y  = (array3d[1]+ b/2) \n",
    "length_array_X  = (array3d[2]) * m \n",
    "width_array_Y  = (array3d[3])* m \n",
    "height_array = np.full_like(span_array_X, 3.5)* m \n",
    "concrete_density = 23.56 * kN/m**3\n",
    "height_list = np.array([4,3.5,3.5,1.75]) * m \n",
    "\n",
    "\n",
    "girder_span_Y = (span_array_X[:,1:] - span_array_X[:,:-1]) * m \n",
    "girder_span_X = (span_array_Y[1:,:] - span_array_Y[:-1,:]).T * m \n",
    "depth_girder_array = (np.full_like(girder_span_Y, 0.6)) * m \n",
    "width_girder_array = (np.full_like(girder_span_Y, 0.4))* m \n",
    "\n",
    "\n",
    "shearwall_width = 0.3 * m\n",
    "shearwall_length_X = np.array([6,0.5,0.5,6.0]) * m\n",
    "shearwall_distance_X = np.array([0.25,3.25,3.25,44.250]) * m\n",
    "shearwall_length_Y = np.array([3,3]) * m\n",
    "shearwall_distance_Y = np.array([20.25,26.25]) * m\n",
    "\n",
    "\n",
    "slab_area_1 = 44 * m * 44 * m\n",
    "slab_area_2 = - (20 * m * 11 * m)\n",
    "slab_area_3 = - (12 * m * 11 * m)\n",
    "slab_array = np.array([slab_area_1,slab_area_2,slab_area_3])\n",
    "slab_thickness = 0.13 * m\n",
    "slab_distance_Y = np.array([22,10,38]) * m\n",
    "slab_distance_X = np.array([22,6,39]) * m\n",
    "\n",
    "wall_width = 0.15 * m\n",
    "wall_length_Y = np.array([girder_span_Y[0],girder_span_Y[-1],girder_span_Y[3],girder_span_Y[7]]).ravel()\n",
    "wall_length_X = np.array([girder_span_X[:,0],girder_span_X[:,-1],girder_span_X[:,2]]).ravel()\n",
    "\n",
    "wall_distance_Y = np.array([span_array_Y[0,:-1],span_array_Y[-1,:-1],span_array_Y[3,:-1],span_array_Y[7,:-1]]).ravel() * m\n",
    "wall_distance_X = np.array([span_array_X[:,0],span_array_X[:,-1],span_array_X[:,2]]).ravel() * m\n",
    "\n",
    "\n"
   ]
  },
  {
   "cell_type": "markdown",
   "metadata": {},
   "source": [
    "# Center of Mass and Rigidity"
   ]
  },
  {
   "cell_type": "code",
   "execution_count": 42,
   "metadata": {},
   "outputs": [
    {
     "data": {
      "text/markdown": [
       "## FLOOR - 2 - X AXIS\n",
       "            "
      ],
      "text/plain": [
       "<IPython.core.display.Markdown object>"
      ]
     },
     "metadata": {},
     "output_type": "display_data"
    },
    {
     "data": {
      "text/latex": [
       "\\[\n",
       "\\begin{aligned}\n",
       "\\mathrm{Grid} &= 1 \\; \n",
       "\\\\[10pt]\n",
       "\\mathrm{AnDn}_{Col_{Total}} &= \\mathrm{Col}_{No} \\cdot \\mathrm{distance} \\cdot \\mathrm{length}_{col} \\cdot \\mathrm{width}_{col} \\cdot \\mathrm{height}_{col} \\cdot \\gamma_{c}  = 3.000 \\cdot 250.000\\ \\mathrm{mm} \\cdot 500.000\\ \\mathrm{mm} \\cdot 500.000\\ \\mathrm{mm} \\cdot 4.000\\ \\mathrm{m} \\cdot 23.560\\ \\mathrm{kN/m³} &= 17.670\\ \\mathrm{kN} \\cdot \\mathrm{m}  \n",
       "\\\\[10pt]\n",
       "\\mathrm{An}_{Col_{Total}} &= \\mathrm{Col}_{No} \\cdot \\mathrm{length}_{col} \\cdot \\mathrm{width}_{col} \\cdot \\mathrm{height}_{col} \\cdot \\gamma_{c}  = 3.000 \\cdot 500.000\\ \\mathrm{mm} \\cdot 500.000\\ \\mathrm{mm} \\cdot 4.000\\ \\mathrm{m} \\cdot 23.560\\ \\mathrm{kN/m³} &= 70.680\\ \\mathrm{kN}  \n",
       "\\\\[10pt]\n",
       "\\mathrm{RnDn}_{Col_{Total}} &= \\mathrm{Col}_{No} \\cdot \\left( \\frac{ \\left( \\mathrm{length}_{col} \\right) ^{ 4 } }{ 12 } \\right) \\cdot \\mathrm{distance}  = 3.000 \\cdot \\left( \\frac{ \\left( 500.000\\ \\mathrm{mm} \\right) ^{ 4 } }{ 12 } \\right) \\cdot 250.000\\ \\mathrm{mm} &= 3906250000000.000\\ \\mathrm{mm}^{5}  \n",
       "\\\\[10pt]\n",
       "\\mathrm{Rn}_{Col_{Total}} &= \\mathrm{Col}_{No} \\cdot \\frac{ \\left( \\mathrm{length}_{col} \\right) ^{ 4 } }{ 12 }  = 3.000 \\cdot \\frac{ \\left( 500.000\\ \\mathrm{mm} \\right) ^{ 4 } }{ 12 } &= 15625000000.000\\ \\mathrm{mm}^{4}  \n",
       "\\\\[10pt]\n",
       "\\mathrm{AnXn}_{Beam_{Total}} &= \\Sigma \\left( \\mathrm{length}_{girder} \\cdot \\mathrm{width}_{girder} \\cdot \\mathrm{height}_{girder} \\cdot \\gamma_{c} \\cdot \\mathrm{distance} \\right)  = \\Sigma \\left( [nan,\\ nan,\\ nan,\\ nan,\\ 6.000\\ \\mathrm{m},\\ 6.000\\ \\mathrm{m},\\ 6.000\\ \\mathrm{m},\\ 6.000\\ \\mathrm{m}] \\cdot 400.000\\ \\mathrm{mm} \\cdot 600.000\\ \\mathrm{mm} \\cdot 23.560\\ \\mathrm{kN/m³} \\cdot 250.000\\ \\mathrm{mm} \\right) &= 33.926\\ \\mathrm{kN} \\cdot \\mathrm{m}  \n",
       "\\\\[10pt]\n",
       "\\mathrm{An}_{Beam_{Total}} &= \\Sigma \\left( \\mathrm{length}_{girder} \\cdot \\mathrm{width}_{girder} \\cdot \\mathrm{height}_{girder} \\cdot \\gamma_{c} \\right)  = \\Sigma \\left( [nan,\\ nan,\\ nan,\\ nan,\\ 6.000\\ \\mathrm{m},\\ 6.000\\ \\mathrm{m},\\ 6.000\\ \\mathrm{m},\\ 6.000\\ \\mathrm{m}] \\cdot 400.000\\ \\mathrm{mm} \\cdot 600.000\\ \\mathrm{mm} \\cdot 23.560\\ \\mathrm{kN/m³} \\right) &= 135.706\\ \\mathrm{kN}  \n",
       "\\end{aligned}\n",
       "\\]"
      ],
      "text/plain": [
       "<IPython.core.display.Latex object>"
      ]
     },
     "metadata": {},
     "output_type": "display_data"
    },
    {
     "data": {
      "text/latex": [
       "\\[\n",
       "\\begin{aligned}\n",
       "\\mathrm{Grid} &= 2 \\; \n",
       "\\\\[10pt]\n",
       "\\mathrm{AnDn}_{Col_{Total}} &= \\mathrm{Col}_{No} \\cdot \\mathrm{distance} \\cdot \\mathrm{length}_{col} \\cdot \\mathrm{width}_{col} \\cdot \\mathrm{height}_{col} \\cdot \\gamma_{c}  = 5.000 \\cdot 6.250\\ \\mathrm{m} \\cdot 500.000\\ \\mathrm{mm} \\cdot 500.000\\ \\mathrm{mm} \\cdot 4.000\\ \\mathrm{m} \\cdot 23.560\\ \\mathrm{kN/m³} &= 736.250\\ \\mathrm{kN} \\cdot \\mathrm{m}  \n",
       "\\\\[10pt]\n",
       "\\mathrm{An}_{Col_{Total}} &= \\mathrm{Col}_{No} \\cdot \\mathrm{length}_{col} \\cdot \\mathrm{width}_{col} \\cdot \\mathrm{height}_{col} \\cdot \\gamma_{c}  = 5.000 \\cdot 500.000\\ \\mathrm{mm} \\cdot 500.000\\ \\mathrm{mm} \\cdot 4.000\\ \\mathrm{m} \\cdot 23.560\\ \\mathrm{kN/m³} &= 117.800\\ \\mathrm{kN}  \n",
       "\\\\[10pt]\n",
       "\\mathrm{RnDn}_{Col_{Total}} &= \\mathrm{Col}_{No} \\cdot \\left( \\frac{ \\left( \\mathrm{length}_{col} \\right) ^{ 4 } }{ 12 } \\right) \\cdot \\mathrm{distance}  = 5.000 \\cdot \\left( \\frac{ \\left( 500.000\\ \\mathrm{mm} \\right) ^{ 4 } }{ 12 } \\right) \\cdot 6.250\\ \\mathrm{m} &= 162760416666666.656\\ \\mathrm{mm}^{5}  \n",
       "\\\\[10pt]\n",
       "\\mathrm{Rn}_{Col_{Total}} &= \\mathrm{Col}_{No} \\cdot \\frac{ \\left( \\mathrm{length}_{col} \\right) ^{ 4 } }{ 12 }  = 5.000 \\cdot \\frac{ \\left( 500.000\\ \\mathrm{mm} \\right) ^{ 4 } }{ 12 } &= 26041666666.667\\ \\mathrm{mm}^{4}  \n",
       "\\\\[10pt]\n",
       "\\mathrm{AnXn}_{Beam_{Total}} &= \\Sigma \\left( \\mathrm{length}_{girder} \\cdot \\mathrm{width}_{girder} \\cdot \\mathrm{height}_{girder} \\cdot \\gamma_{c} \\cdot \\mathrm{distance} \\right)  = \\Sigma \\left( [nan,\\ nan,\\ nan,\\ nan,\\ 6.000\\ \\mathrm{m},\\ 6.000\\ \\mathrm{m},\\ 6.000\\ \\mathrm{m},\\ 6.000\\ \\mathrm{m}] \\cdot 400.000\\ \\mathrm{mm} \\cdot 600.000\\ \\mathrm{mm} \\cdot 23.560\\ \\mathrm{kN/m³} \\cdot 6.250\\ \\mathrm{m} \\right) &= 848.160\\ \\mathrm{kN} \\cdot \\mathrm{m}  \n",
       "\\\\[10pt]\n",
       "\\mathrm{An}_{Beam_{Total}} &= \\Sigma \\left( \\mathrm{length}_{girder} \\cdot \\mathrm{width}_{girder} \\cdot \\mathrm{height}_{girder} \\cdot \\gamma_{c} \\right)  = \\Sigma \\left( [nan,\\ nan,\\ nan,\\ nan,\\ 6.000\\ \\mathrm{m},\\ 6.000\\ \\mathrm{m},\\ 6.000\\ \\mathrm{m},\\ 6.000\\ \\mathrm{m}] \\cdot 400.000\\ \\mathrm{mm} \\cdot 600.000\\ \\mathrm{mm} \\cdot 23.560\\ \\mathrm{kN/m³} \\right) &= 135.706\\ \\mathrm{kN}  \n",
       "\\end{aligned}\n",
       "\\]"
      ],
      "text/plain": [
       "<IPython.core.display.Latex object>"
      ]
     },
     "metadata": {},
     "output_type": "display_data"
    },
    {
     "data": {
      "text/latex": [
       "\\[\n",
       "\\begin{aligned}\n",
       "\\mathrm{Grid} &= 3 \\; \n",
       "\\\\[10pt]\n",
       "\\mathrm{AnDn}_{Col_{Total}} &= \\mathrm{Col}_{No} \\cdot \\mathrm{distance} \\cdot \\mathrm{length}_{col} \\cdot \\mathrm{width}_{col} \\cdot \\mathrm{height}_{col} \\cdot \\gamma_{c}  = 9.000 \\cdot 11.250\\ \\mathrm{m} \\cdot 500.000\\ \\mathrm{mm} \\cdot 500.000\\ \\mathrm{mm} \\cdot 4.000\\ \\mathrm{m} \\cdot 23.560\\ \\mathrm{kN/m³} &= 2.385\\ \\mathrm{MN} \\cdot \\mathrm{m}  \n",
       "\\\\[10pt]\n",
       "\\mathrm{An}_{Col_{Total}} &= \\mathrm{Col}_{No} \\cdot \\mathrm{length}_{col} \\cdot \\mathrm{width}_{col} \\cdot \\mathrm{height}_{col} \\cdot \\gamma_{c}  = 9.000 \\cdot 500.000\\ \\mathrm{mm} \\cdot 500.000\\ \\mathrm{mm} \\cdot 4.000\\ \\mathrm{m} \\cdot 23.560\\ \\mathrm{kN/m³} &= 212.040\\ \\mathrm{kN}  \n",
       "\\\\[10pt]\n",
       "\\mathrm{RnDn}_{Col_{Total}} &= \\mathrm{Col}_{No} \\cdot \\left( \\frac{ \\left( \\mathrm{length}_{col} \\right) ^{ 4 } }{ 12 } \\right) \\cdot \\mathrm{distance}  = 9.000 \\cdot \\left( \\frac{ \\left( 500.000\\ \\mathrm{mm} \\right) ^{ 4 } }{ 12 } \\right) \\cdot 11.250\\ \\mathrm{m} &= 527343749999999.938\\ \\mathrm{mm}^{5}  \n",
       "\\\\[10pt]\n",
       "\\mathrm{Rn}_{Col_{Total}} &= \\mathrm{Col}_{No} \\cdot \\frac{ \\left( \\mathrm{length}_{col} \\right) ^{ 4 } }{ 12 }  = 9.000 \\cdot \\frac{ \\left( 500.000\\ \\mathrm{mm} \\right) ^{ 4 } }{ 12 } &= 46875000000.000\\ \\mathrm{mm}^{4}  \n",
       "\\\\[10pt]\n",
       "\\mathrm{AnXn}_{Beam_{Total}} &= \\Sigma \\left( \\mathrm{length}_{girder} \\cdot \\mathrm{width}_{girder} \\cdot \\mathrm{height}_{girder} \\cdot \\gamma_{c} \\cdot \\mathrm{distance} \\right)  = \\Sigma \\left( [5.000\\ \\mathrm{m},\\ 5.000\\ \\mathrm{m},\\ 5.000\\ \\mathrm{m},\\ 5.000\\ \\mathrm{m},\\ 6.000\\ \\mathrm{m},\\ 6.000\\ \\mathrm{m},\\ 6.000\\ \\mathrm{m},\\ 6.000\\ \\mathrm{m}] \\cdot 400.000\\ \\mathrm{mm} \\cdot 600.000\\ \\mathrm{mm} \\cdot 23.560\\ \\mathrm{kN/m³} \\cdot 11.250\\ \\mathrm{m} \\right) &= 2.799\\ \\mathrm{MN} \\cdot \\mathrm{m}  \n",
       "\\\\[10pt]\n",
       "\\mathrm{An}_{Beam_{Total}} &= \\Sigma \\left( \\mathrm{length}_{girder} \\cdot \\mathrm{width}_{girder} \\cdot \\mathrm{height}_{girder} \\cdot \\gamma_{c} \\right)  = \\Sigma \\left( [5.000\\ \\mathrm{m},\\ 5.000\\ \\mathrm{m},\\ 5.000\\ \\mathrm{m},\\ 5.000\\ \\mathrm{m},\\ 6.000\\ \\mathrm{m},\\ 6.000\\ \\mathrm{m},\\ 6.000\\ \\mathrm{m},\\ 6.000\\ \\mathrm{m}] \\cdot 400.000\\ \\mathrm{mm} \\cdot 600.000\\ \\mathrm{mm} \\cdot 23.560\\ \\mathrm{kN/m³} \\right) &= 248.794\\ \\mathrm{kN}  \n",
       "\\end{aligned}\n",
       "\\]"
      ],
      "text/plain": [
       "<IPython.core.display.Latex object>"
      ]
     },
     "metadata": {},
     "output_type": "display_data"
    },
    {
     "data": {
      "text/latex": [
       "\\[\n",
       "\\begin{aligned}\n",
       "\\mathrm{Grid} &= 4 \\; \n",
       "\\\\[10pt]\n",
       "\\mathrm{AnDn}_{Col_{Total}} &= \\mathrm{Col}_{No} \\cdot \\mathrm{distance} \\cdot \\mathrm{length}_{col} \\cdot \\mathrm{width}_{col} \\cdot \\mathrm{height}_{col} \\cdot \\gamma_{c}  = 9.000 \\cdot 17.250\\ \\mathrm{m} \\cdot 500.000\\ \\mathrm{mm} \\cdot 500.000\\ \\mathrm{mm} \\cdot 4.000\\ \\mathrm{m} \\cdot 23.560\\ \\mathrm{kN/m³} &= 3.658\\ \\mathrm{MN} \\cdot \\mathrm{m}  \n",
       "\\\\[10pt]\n",
       "\\mathrm{An}_{Col_{Total}} &= \\mathrm{Col}_{No} \\cdot \\mathrm{length}_{col} \\cdot \\mathrm{width}_{col} \\cdot \\mathrm{height}_{col} \\cdot \\gamma_{c}  = 9.000 \\cdot 500.000\\ \\mathrm{mm} \\cdot 500.000\\ \\mathrm{mm} \\cdot 4.000\\ \\mathrm{m} \\cdot 23.560\\ \\mathrm{kN/m³} &= 212.040\\ \\mathrm{kN}  \n",
       "\\\\[10pt]\n",
       "\\mathrm{RnDn}_{Col_{Total}} &= \\mathrm{Col}_{No} \\cdot \\left( \\frac{ \\left( \\mathrm{length}_{col} \\right) ^{ 4 } }{ 12 } \\right) \\cdot \\mathrm{distance}  = 9.000 \\cdot \\left( \\frac{ \\left( 500.000\\ \\mathrm{mm} \\right) ^{ 4 } }{ 12 } \\right) \\cdot 17.250\\ \\mathrm{m} &= 808593749999999.875\\ \\mathrm{mm}^{5}  \n",
       "\\\\[10pt]\n",
       "\\mathrm{Rn}_{Col_{Total}} &= \\mathrm{Col}_{No} \\cdot \\frac{ \\left( \\mathrm{length}_{col} \\right) ^{ 4 } }{ 12 }  = 9.000 \\cdot \\frac{ \\left( 500.000\\ \\mathrm{mm} \\right) ^{ 4 } }{ 12 } &= 46875000000.000\\ \\mathrm{mm}^{4}  \n",
       "\\\\[10pt]\n",
       "\\mathrm{AnXn}_{Beam_{Total}} &= \\Sigma \\left( \\mathrm{length}_{girder} \\cdot \\mathrm{width}_{girder} \\cdot \\mathrm{height}_{girder} \\cdot \\gamma_{c} \\cdot \\mathrm{distance} \\right)  = \\Sigma \\left( [5.000\\ \\mathrm{m},\\ 5.000\\ \\mathrm{m},\\ 5.000\\ \\mathrm{m},\\ 5.000\\ \\mathrm{m},\\ 6.000\\ \\mathrm{m},\\ 6.000\\ \\mathrm{m},\\ 6.000\\ \\mathrm{m},\\ 6.000\\ \\mathrm{m}] \\cdot 400.000\\ \\mathrm{mm} \\cdot 600.000\\ \\mathrm{mm} \\cdot 23.560\\ \\mathrm{kN/m³} \\cdot 17.250\\ \\mathrm{m} \\right) &= 4.292\\ \\mathrm{MN} \\cdot \\mathrm{m}  \n",
       "\\\\[10pt]\n",
       "\\mathrm{An}_{Beam_{Total}} &= \\Sigma \\left( \\mathrm{length}_{girder} \\cdot \\mathrm{width}_{girder} \\cdot \\mathrm{height}_{girder} \\cdot \\gamma_{c} \\right)  = \\Sigma \\left( [5.000\\ \\mathrm{m},\\ 5.000\\ \\mathrm{m},\\ 5.000\\ \\mathrm{m},\\ 5.000\\ \\mathrm{m},\\ 6.000\\ \\mathrm{m},\\ 6.000\\ \\mathrm{m},\\ 6.000\\ \\mathrm{m},\\ 6.000\\ \\mathrm{m}] \\cdot 400.000\\ \\mathrm{mm} \\cdot 600.000\\ \\mathrm{mm} \\cdot 23.560\\ \\mathrm{kN/m³} \\right) &= 248.794\\ \\mathrm{kN}  \n",
       "\\end{aligned}\n",
       "\\]"
      ],
      "text/plain": [
       "<IPython.core.display.Latex object>"
      ]
     },
     "metadata": {},
     "output_type": "display_data"
    },
    {
     "data": {
      "text/latex": [
       "\\[\n",
       "\\begin{aligned}\n",
       "\\mathrm{Grid} &= 5 \\; \n",
       "\\\\[10pt]\n",
       "\\mathrm{AnDn}_{Col_{Total}} &= \\mathrm{Col}_{No} \\cdot \\mathrm{distance} \\cdot \\mathrm{length}_{col} \\cdot \\mathrm{width}_{col} \\cdot \\mathrm{height}_{col} \\cdot \\gamma_{c}  = 9.000 \\cdot 22.250\\ \\mathrm{m} \\cdot 500.000\\ \\mathrm{mm} \\cdot 500.000\\ \\mathrm{mm} \\cdot 4.000\\ \\mathrm{m} \\cdot 23.560\\ \\mathrm{kN/m³} &= 4.718\\ \\mathrm{MN} \\cdot \\mathrm{m}  \n",
       "\\\\[10pt]\n",
       "\\mathrm{An}_{Col_{Total}} &= \\mathrm{Col}_{No} \\cdot \\mathrm{length}_{col} \\cdot \\mathrm{width}_{col} \\cdot \\mathrm{height}_{col} \\cdot \\gamma_{c}  = 9.000 \\cdot 500.000\\ \\mathrm{mm} \\cdot 500.000\\ \\mathrm{mm} \\cdot 4.000\\ \\mathrm{m} \\cdot 23.560\\ \\mathrm{kN/m³} &= 212.040\\ \\mathrm{kN}  \n",
       "\\\\[10pt]\n",
       "\\mathrm{RnDn}_{Col_{Total}} &= \\mathrm{Col}_{No} \\cdot \\left( \\frac{ \\left( \\mathrm{length}_{col} \\right) ^{ 4 } }{ 12 } \\right) \\cdot \\mathrm{distance}  = 9.000 \\cdot \\left( \\frac{ \\left( 500.000\\ \\mathrm{mm} \\right) ^{ 4 } }{ 12 } \\right) \\cdot 22.250\\ \\mathrm{m} &= 1.043\\ \\mathrm{m}^{5}  \n",
       "\\\\[10pt]\n",
       "\\mathrm{Rn}_{Col_{Total}} &= \\mathrm{Col}_{No} \\cdot \\frac{ \\left( \\mathrm{length}_{col} \\right) ^{ 4 } }{ 12 }  = 9.000 \\cdot \\frac{ \\left( 500.000\\ \\mathrm{mm} \\right) ^{ 4 } }{ 12 } &= 46875000000.000\\ \\mathrm{mm}^{4}  \n",
       "\\\\[10pt]\n",
       "\\mathrm{AnXn}_{Beam_{Total}} &= \\Sigma \\left( \\mathrm{length}_{girder} \\cdot \\mathrm{width}_{girder} \\cdot \\mathrm{height}_{girder} \\cdot \\gamma_{c} \\cdot \\mathrm{distance} \\right)  = \\Sigma \\left( [5.000\\ \\mathrm{m},\\ 5.000\\ \\mathrm{m},\\ 5.000\\ \\mathrm{m},\\ 5.000\\ \\mathrm{m},\\ 6.000\\ \\mathrm{m},\\ 6.000\\ \\mathrm{m},\\ 6.000\\ \\mathrm{m},\\ 6.000\\ \\mathrm{m}] \\cdot 400.000\\ \\mathrm{mm} \\cdot 600.000\\ \\mathrm{mm} \\cdot 23.560\\ \\mathrm{kN/m³} \\cdot 22.250\\ \\mathrm{m} \\right) &= 5.536\\ \\mathrm{MN} \\cdot \\mathrm{m}  \n",
       "\\\\[10pt]\n",
       "\\mathrm{An}_{Beam_{Total}} &= \\Sigma \\left( \\mathrm{length}_{girder} \\cdot \\mathrm{width}_{girder} \\cdot \\mathrm{height}_{girder} \\cdot \\gamma_{c} \\right)  = \\Sigma \\left( [5.000\\ \\mathrm{m},\\ 5.000\\ \\mathrm{m},\\ 5.000\\ \\mathrm{m},\\ 5.000\\ \\mathrm{m},\\ 6.000\\ \\mathrm{m},\\ 6.000\\ \\mathrm{m},\\ 6.000\\ \\mathrm{m},\\ 6.000\\ \\mathrm{m}] \\cdot 400.000\\ \\mathrm{mm} \\cdot 600.000\\ \\mathrm{mm} \\cdot 23.560\\ \\mathrm{kN/m³} \\right) &= 248.794\\ \\mathrm{kN}  \n",
       "\\end{aligned}\n",
       "\\]"
      ],
      "text/plain": [
       "<IPython.core.display.Latex object>"
      ]
     },
     "metadata": {},
     "output_type": "display_data"
    },
    {
     "data": {
      "text/latex": [
       "\\[\n",
       "\\begin{aligned}\n",
       "\\mathrm{Grid} &= 6 \\; \n",
       "\\\\[10pt]\n",
       "\\mathrm{AnDn}_{Col_{Total}} &= \\mathrm{Col}_{No} \\cdot \\mathrm{distance} \\cdot \\mathrm{length}_{col} \\cdot \\mathrm{width}_{col} \\cdot \\mathrm{height}_{col} \\cdot \\gamma_{c}  = 9.000 \\cdot 28.250\\ \\mathrm{m} \\cdot 500.000\\ \\mathrm{mm} \\cdot 500.000\\ \\mathrm{mm} \\cdot 4.000\\ \\mathrm{m} \\cdot 23.560\\ \\mathrm{kN/m³} &= 5.990\\ \\mathrm{MN} \\cdot \\mathrm{m}  \n",
       "\\\\[10pt]\n",
       "\\mathrm{An}_{Col_{Total}} &= \\mathrm{Col}_{No} \\cdot \\mathrm{length}_{col} \\cdot \\mathrm{width}_{col} \\cdot \\mathrm{height}_{col} \\cdot \\gamma_{c}  = 9.000 \\cdot 500.000\\ \\mathrm{mm} \\cdot 500.000\\ \\mathrm{mm} \\cdot 4.000\\ \\mathrm{m} \\cdot 23.560\\ \\mathrm{kN/m³} &= 212.040\\ \\mathrm{kN}  \n",
       "\\\\[10pt]\n",
       "\\mathrm{RnDn}_{Col_{Total}} &= \\mathrm{Col}_{No} \\cdot \\left( \\frac{ \\left( \\mathrm{length}_{col} \\right) ^{ 4 } }{ 12 } \\right) \\cdot \\mathrm{distance}  = 9.000 \\cdot \\left( \\frac{ \\left( 500.000\\ \\mathrm{mm} \\right) ^{ 4 } }{ 12 } \\right) \\cdot 28.250\\ \\mathrm{m} &= 1.324\\ \\mathrm{m}^{5}  \n",
       "\\\\[10pt]\n",
       "\\mathrm{Rn}_{Col_{Total}} &= \\mathrm{Col}_{No} \\cdot \\frac{ \\left( \\mathrm{length}_{col} \\right) ^{ 4 } }{ 12 }  = 9.000 \\cdot \\frac{ \\left( 500.000\\ \\mathrm{mm} \\right) ^{ 4 } }{ 12 } &= 46875000000.000\\ \\mathrm{mm}^{4}  \n",
       "\\\\[10pt]\n",
       "\\mathrm{AnXn}_{Beam_{Total}} &= \\Sigma \\left( \\mathrm{length}_{girder} \\cdot \\mathrm{width}_{girder} \\cdot \\mathrm{height}_{girder} \\cdot \\gamma_{c} \\cdot \\mathrm{distance} \\right)  = \\Sigma \\left( [5.000\\ \\mathrm{m},\\ 5.000\\ \\mathrm{m},\\ 5.000\\ \\mathrm{m},\\ 5.000\\ \\mathrm{m},\\ 6.000\\ \\mathrm{m},\\ 6.000\\ \\mathrm{m},\\ 6.000\\ \\mathrm{m},\\ 6.000\\ \\mathrm{m}] \\cdot 400.000\\ \\mathrm{mm} \\cdot 600.000\\ \\mathrm{mm} \\cdot 23.560\\ \\mathrm{kN/m³} \\cdot 28.250\\ \\mathrm{m} \\right) &= 7.028\\ \\mathrm{MN} \\cdot \\mathrm{m}  \n",
       "\\\\[10pt]\n",
       "\\mathrm{An}_{Beam_{Total}} &= \\Sigma \\left( \\mathrm{length}_{girder} \\cdot \\mathrm{width}_{girder} \\cdot \\mathrm{height}_{girder} \\cdot \\gamma_{c} \\right)  = \\Sigma \\left( [5.000\\ \\mathrm{m},\\ 5.000\\ \\mathrm{m},\\ 5.000\\ \\mathrm{m},\\ 5.000\\ \\mathrm{m},\\ 6.000\\ \\mathrm{m},\\ 6.000\\ \\mathrm{m},\\ 6.000\\ \\mathrm{m},\\ 6.000\\ \\mathrm{m}] \\cdot 400.000\\ \\mathrm{mm} \\cdot 600.000\\ \\mathrm{mm} \\cdot 23.560\\ \\mathrm{kN/m³} \\right) &= 248.794\\ \\mathrm{kN}  \n",
       "\\end{aligned}\n",
       "\\]"
      ],
      "text/plain": [
       "<IPython.core.display.Latex object>"
      ]
     },
     "metadata": {},
     "output_type": "display_data"
    },
    {
     "data": {
      "text/latex": [
       "\\[\n",
       "\\begin{aligned}\n",
       "\\mathrm{Grid} &= 7 \\; \n",
       "\\\\[10pt]\n",
       "\\mathrm{AnDn}_{Col_{Total}} &= \\mathrm{Col}_{No} \\cdot \\mathrm{distance} \\cdot \\mathrm{length}_{col} \\cdot \\mathrm{width}_{col} \\cdot \\mathrm{height}_{col} \\cdot \\gamma_{c}  = 9.000 \\cdot 33.250\\ \\mathrm{m} \\cdot 500.000\\ \\mathrm{mm} \\cdot 500.000\\ \\mathrm{mm} \\cdot 4.000\\ \\mathrm{m} \\cdot 23.560\\ \\mathrm{kN/m³} &= 7.050\\ \\mathrm{MN} \\cdot \\mathrm{m}  \n",
       "\\\\[10pt]\n",
       "\\mathrm{An}_{Col_{Total}} &= \\mathrm{Col}_{No} \\cdot \\mathrm{length}_{col} \\cdot \\mathrm{width}_{col} \\cdot \\mathrm{height}_{col} \\cdot \\gamma_{c}  = 9.000 \\cdot 500.000\\ \\mathrm{mm} \\cdot 500.000\\ \\mathrm{mm} \\cdot 4.000\\ \\mathrm{m} \\cdot 23.560\\ \\mathrm{kN/m³} &= 212.040\\ \\mathrm{kN}  \n",
       "\\\\[10pt]\n",
       "\\mathrm{RnDn}_{Col_{Total}} &= \\mathrm{Col}_{No} \\cdot \\left( \\frac{ \\left( \\mathrm{length}_{col} \\right) ^{ 4 } }{ 12 } \\right) \\cdot \\mathrm{distance}  = 9.000 \\cdot \\left( \\frac{ \\left( 500.000\\ \\mathrm{mm} \\right) ^{ 4 } }{ 12 } \\right) \\cdot 33.250\\ \\mathrm{m} &= 1.559\\ \\mathrm{m}^{5}  \n",
       "\\\\[10pt]\n",
       "\\mathrm{Rn}_{Col_{Total}} &= \\mathrm{Col}_{No} \\cdot \\frac{ \\left( \\mathrm{length}_{col} \\right) ^{ 4 } }{ 12 }  = 9.000 \\cdot \\frac{ \\left( 500.000\\ \\mathrm{mm} \\right) ^{ 4 } }{ 12 } &= 46875000000.000\\ \\mathrm{mm}^{4}  \n",
       "\\\\[10pt]\n",
       "\\mathrm{AnXn}_{Beam_{Total}} &= \\Sigma \\left( \\mathrm{length}_{girder} \\cdot \\mathrm{width}_{girder} \\cdot \\mathrm{height}_{girder} \\cdot \\gamma_{c} \\cdot \\mathrm{distance} \\right)  = \\Sigma \\left( [5.000\\ \\mathrm{m},\\ 5.000\\ \\mathrm{m},\\ 5.000\\ \\mathrm{m},\\ 5.000\\ \\mathrm{m},\\ 6.000\\ \\mathrm{m},\\ 6.000\\ \\mathrm{m},\\ 6.000\\ \\mathrm{m},\\ 6.000\\ \\mathrm{m}] \\cdot 400.000\\ \\mathrm{mm} \\cdot 600.000\\ \\mathrm{mm} \\cdot 23.560\\ \\mathrm{kN/m³} \\cdot 33.250\\ \\mathrm{m} \\right) &= 8.272\\ \\mathrm{MN} \\cdot \\mathrm{m}  \n",
       "\\\\[10pt]\n",
       "\\mathrm{An}_{Beam_{Total}} &= \\Sigma \\left( \\mathrm{length}_{girder} \\cdot \\mathrm{width}_{girder} \\cdot \\mathrm{height}_{girder} \\cdot \\gamma_{c} \\right)  = \\Sigma \\left( [5.000\\ \\mathrm{m},\\ 5.000\\ \\mathrm{m},\\ 5.000\\ \\mathrm{m},\\ 5.000\\ \\mathrm{m},\\ 6.000\\ \\mathrm{m},\\ 6.000\\ \\mathrm{m},\\ 6.000\\ \\mathrm{m},\\ 6.000\\ \\mathrm{m}] \\cdot 400.000\\ \\mathrm{mm} \\cdot 600.000\\ \\mathrm{mm} \\cdot 23.560\\ \\mathrm{kN/m³} \\right) &= 248.794\\ \\mathrm{kN}  \n",
       "\\end{aligned}\n",
       "\\]"
      ],
      "text/plain": [
       "<IPython.core.display.Latex object>"
      ]
     },
     "metadata": {},
     "output_type": "display_data"
    },
    {
     "data": {
      "text/latex": [
       "\\[\n",
       "\\begin{aligned}\n",
       "\\mathrm{Grid} &= 8 \\; \n",
       "\\\\[10pt]\n",
       "\\mathrm{AnDn}_{Col_{Total}} &= \\mathrm{Col}_{No} \\cdot \\mathrm{distance} \\cdot \\mathrm{length}_{col} \\cdot \\mathrm{width}_{col} \\cdot \\mathrm{height}_{col} \\cdot \\gamma_{c}  = 7.000 \\cdot 39.250\\ \\mathrm{m} \\cdot 500.000\\ \\mathrm{mm} \\cdot 500.000\\ \\mathrm{mm} \\cdot 4.000\\ \\mathrm{m} \\cdot 23.560\\ \\mathrm{kN/m³} &= 6.473\\ \\mathrm{MN} \\cdot \\mathrm{m}  \n",
       "\\\\[10pt]\n",
       "\\mathrm{An}_{Col_{Total}} &= \\mathrm{Col}_{No} \\cdot \\mathrm{length}_{col} \\cdot \\mathrm{width}_{col} \\cdot \\mathrm{height}_{col} \\cdot \\gamma_{c}  = 7.000 \\cdot 500.000\\ \\mathrm{mm} \\cdot 500.000\\ \\mathrm{mm} \\cdot 4.000\\ \\mathrm{m} \\cdot 23.560\\ \\mathrm{kN/m³} &= 164.920\\ \\mathrm{kN}  \n",
       "\\\\[10pt]\n",
       "\\mathrm{RnDn}_{Col_{Total}} &= \\mathrm{Col}_{No} \\cdot \\left( \\frac{ \\left( \\mathrm{length}_{col} \\right) ^{ 4 } }{ 12 } \\right) \\cdot \\mathrm{distance}  = 7.000 \\cdot \\left( \\frac{ \\left( 500.000\\ \\mathrm{mm} \\right) ^{ 4 } }{ 12 } \\right) \\cdot 39.250\\ \\mathrm{m} &= 1.431\\ \\mathrm{m}^{5}  \n",
       "\\\\[10pt]\n",
       "\\mathrm{Rn}_{Col_{Total}} &= \\mathrm{Col}_{No} \\cdot \\frac{ \\left( \\mathrm{length}_{col} \\right) ^{ 4 } }{ 12 }  = 7.000 \\cdot \\frac{ \\left( 500.000\\ \\mathrm{mm} \\right) ^{ 4 } }{ 12 } &= 36458333333.333\\ \\mathrm{mm}^{4}  \n",
       "\\\\[10pt]\n",
       "\\mathrm{AnXn}_{Beam_{Total}} &= \\Sigma \\left( \\mathrm{length}_{girder} \\cdot \\mathrm{width}_{girder} \\cdot \\mathrm{height}_{girder} \\cdot \\gamma_{c} \\cdot \\mathrm{distance} \\right)  = \\Sigma \\left( [5.000\\ \\mathrm{m},\\ 5.000\\ \\mathrm{m},\\ 5.000\\ \\mathrm{m},\\ 5.000\\ \\mathrm{m},\\ 6.000\\ \\mathrm{m},\\ 6.000\\ \\mathrm{m},\\ nan,\\ nan] \\cdot 400.000\\ \\mathrm{mm} \\cdot 600.000\\ \\mathrm{mm} \\cdot 23.560\\ \\mathrm{kN/m³} \\cdot 39.250\\ \\mathrm{m} \\right) &= 7.102\\ \\mathrm{MN} \\cdot \\mathrm{m}  \n",
       "\\\\[10pt]\n",
       "\\mathrm{An}_{Beam_{Total}} &= \\Sigma \\left( \\mathrm{length}_{girder} \\cdot \\mathrm{width}_{girder} \\cdot \\mathrm{height}_{girder} \\cdot \\gamma_{c} \\right)  = \\Sigma \\left( [5.000\\ \\mathrm{m},\\ 5.000\\ \\mathrm{m},\\ 5.000\\ \\mathrm{m},\\ 5.000\\ \\mathrm{m},\\ 6.000\\ \\mathrm{m},\\ 6.000\\ \\mathrm{m},\\ nan,\\ nan] \\cdot 400.000\\ \\mathrm{mm} \\cdot 600.000\\ \\mathrm{mm} \\cdot 23.560\\ \\mathrm{kN/m³} \\right) &= 180.941\\ \\mathrm{kN}  \n",
       "\\end{aligned}\n",
       "\\]"
      ],
      "text/plain": [
       "<IPython.core.display.Latex object>"
      ]
     },
     "metadata": {},
     "output_type": "display_data"
    },
    {
     "data": {
      "text/latex": [
       "\\[\n",
       "\\begin{aligned}\n",
       "\\mathrm{Grid} &= 9 \\; \n",
       "\\\\[10pt]\n",
       "\\mathrm{AnDn}_{Col_{Total}} &= \\mathrm{Col}_{No} \\cdot \\mathrm{distance} \\cdot \\mathrm{length}_{col} \\cdot \\mathrm{width}_{col} \\cdot \\mathrm{height}_{col} \\cdot \\gamma_{c}  = 5.000 \\cdot 44.250\\ \\mathrm{m} \\cdot 500.000\\ \\mathrm{mm} \\cdot 500.000\\ \\mathrm{mm} \\cdot 4.000\\ \\mathrm{m} \\cdot 23.560\\ \\mathrm{kN/m³} &= 5.213\\ \\mathrm{MN} \\cdot \\mathrm{m}  \n",
       "\\\\[10pt]\n",
       "\\mathrm{An}_{Col_{Total}} &= \\mathrm{Col}_{No} \\cdot \\mathrm{length}_{col} \\cdot \\mathrm{width}_{col} \\cdot \\mathrm{height}_{col} \\cdot \\gamma_{c}  = 5.000 \\cdot 500.000\\ \\mathrm{mm} \\cdot 500.000\\ \\mathrm{mm} \\cdot 4.000\\ \\mathrm{m} \\cdot 23.560\\ \\mathrm{kN/m³} &= 117.800\\ \\mathrm{kN}  \n",
       "\\\\[10pt]\n",
       "\\mathrm{RnDn}_{Col_{Total}} &= \\mathrm{Col}_{No} \\cdot \\left( \\frac{ \\left( \\mathrm{length}_{col} \\right) ^{ 4 } }{ 12 } \\right) \\cdot \\mathrm{distance}  = 5.000 \\cdot \\left( \\frac{ \\left( 500.000\\ \\mathrm{mm} \\right) ^{ 4 } }{ 12 } \\right) \\cdot 44.250\\ \\mathrm{m} &= 1.152\\ \\mathrm{m}^{5}  \n",
       "\\\\[10pt]\n",
       "\\mathrm{Rn}_{Col_{Total}} &= \\mathrm{Col}_{No} \\cdot \\frac{ \\left( \\mathrm{length}_{col} \\right) ^{ 4 } }{ 12 }  = 5.000 \\cdot \\frac{ \\left( 500.000\\ \\mathrm{mm} \\right) ^{ 4 } }{ 12 } &= 26041666666.667\\ \\mathrm{mm}^{4}  \n",
       "\\\\[10pt]\n",
       "\\mathrm{AnXn}_{Beam_{Total}} &= \\Sigma \\left( \\mathrm{length}_{girder} \\cdot \\mathrm{width}_{girder} \\cdot \\mathrm{height}_{girder} \\cdot \\gamma_{c} \\cdot \\mathrm{distance} \\right)  = \\Sigma \\left( [5.000\\ \\mathrm{m},\\ 5.000\\ \\mathrm{m},\\ 5.000\\ \\mathrm{m},\\ 5.000\\ \\mathrm{m},\\ 6.000\\ \\mathrm{m},\\ 6.000\\ \\mathrm{m},\\ nan,\\ nan] \\cdot 400.000\\ \\mathrm{mm} \\cdot 600.000\\ \\mathrm{mm} \\cdot 23.560\\ \\mathrm{kN/m³} \\cdot 44.250\\ \\mathrm{m} \\right) &= 8.007\\ \\mathrm{MN} \\cdot \\mathrm{m}  \n",
       "\\\\[10pt]\n",
       "\\mathrm{An}_{Beam_{Total}} &= \\Sigma \\left( \\mathrm{length}_{girder} \\cdot \\mathrm{width}_{girder} \\cdot \\mathrm{height}_{girder} \\cdot \\gamma_{c} \\right)  = \\Sigma \\left( [5.000\\ \\mathrm{m},\\ 5.000\\ \\mathrm{m},\\ 5.000\\ \\mathrm{m},\\ 5.000\\ \\mathrm{m},\\ 6.000\\ \\mathrm{m},\\ 6.000\\ \\mathrm{m},\\ nan,\\ nan] \\cdot 400.000\\ \\mathrm{mm} \\cdot 600.000\\ \\mathrm{mm} \\cdot 23.560\\ \\mathrm{kN/m³} \\right) &= 180.941\\ \\mathrm{kN}  \n",
       "\\end{aligned}\n",
       "\\]"
      ],
      "text/plain": [
       "<IPython.core.display.Latex object>"
      ]
     },
     "metadata": {},
     "output_type": "display_data"
    },
    {
     "data": {
      "text/latex": [
       "\\[\n",
       "\\begin{aligned}\n",
       "\\mathrm{AnDn}_{SW_{Total}} &= \\Sigma \\left( \\mathrm{length} \\cdot \\mathrm{distance} \\cdot \\mathrm{width} \\cdot \\mathrm{height} \\cdot \\gamma_{c} \\right) \\\\&= \\Sigma \\left( [6.000\\ \\mathrm{m},\\ 500.000\\ \\mathrm{mm},\\ 500.000\\ \\mathrm{mm},\\ 6.000\\ \\mathrm{m}] \\cdot [250.000\\ \\mathrm{mm},\\ 3.250\\ \\mathrm{m},\\ 3.250\\ \\mathrm{m},\\ 44.250\\ \\mathrm{m}] \\cdot 300.000\\ \\mathrm{mm} \\cdot 4.000\\ \\mathrm{m} \\cdot 23.560\\ \\mathrm{kN/m³} \\right) \\\\&= 7.641\\ \\mathrm{MN} \\cdot \\mathrm{m}  \\\\[10pt]\n",
       "\\\\[10pt]\n",
       "\\mathrm{An}_{SW_{Total}} &= \\Sigma \\left( \\mathrm{length} \\cdot \\mathrm{width} \\cdot \\mathrm{height} \\cdot \\gamma_{c} \\right) \\\\&= \\Sigma \\left( [6.000\\ \\mathrm{m},\\ 500.000\\ \\mathrm{mm},\\ 500.000\\ \\mathrm{mm},\\ 6.000\\ \\mathrm{m}] \\cdot 300.000\\ \\mathrm{mm} \\cdot 4.000\\ \\mathrm{m} \\cdot 23.560\\ \\mathrm{kN/m³} \\right) \\\\&= 367.536\\ \\mathrm{kN}  \\\\[10pt]\n",
       "\\\\[10pt]\n",
       "\\mathrm{RnDn}_{SW_{Total}} &= \\Sigma \\left( \\left( \\frac{ \\left( \\mathrm{length} \\right) ^{ 3 } \\cdot \\mathrm{width} }{ 12 } \\right) \\cdot \\mathrm{distance} \\right) \\\\&= \\Sigma \\left( \\left( \\frac{ \\left( [6.000\\ \\mathrm{m},\\ 500.000\\ \\mathrm{mm},\\ 500.000\\ \\mathrm{mm},\\ 6.000\\ \\mathrm{m}] \\right) ^{ 3 } \\cdot 300.000\\ \\mathrm{mm} }{ 12 } \\right) \\cdot [250.000\\ \\mathrm{mm},\\ 3.250\\ \\mathrm{m},\\ 3.250\\ \\mathrm{m},\\ 44.250\\ \\mathrm{m}] \\right) \\\\&= 240.320\\ \\mathrm{m}^{5}  \\\\[10pt]\n",
       "\\\\[10pt]\n",
       "\\mathrm{Rn}_{SW_{Total}} &= \\Sigma \\left( \\frac{ \\left( \\mathrm{length} \\right) ^{ 3 } \\cdot \\mathrm{width} }{ 12 } \\right) \\\\&= \\Sigma \\left( \\frac{ \\left( [6.000\\ \\mathrm{m},\\ 500.000\\ \\mathrm{mm},\\ 500.000\\ \\mathrm{mm},\\ 6.000\\ \\mathrm{m}] \\right) ^{ 3 } \\cdot 300.000\\ \\mathrm{mm} }{ 12 } \\right) \\\\&= 10.806\\ \\mathrm{m}^{4}  \\\\[10pt]\n",
       "\\end{aligned}\n",
       "\\]"
      ],
      "text/plain": [
       "<IPython.core.display.Latex object>"
      ]
     },
     "metadata": {},
     "output_type": "display_data"
    },
    {
     "data": {
      "text/latex": [
       "\\[\n",
       "\\begin{aligned}\n",
       "\\mathrm{AnDn}_{Slab_{Total}} &= \\Sigma \\left( \\mathrm{area} \\cdot \\mathrm{distance} \\cdot \\mathrm{height} \\cdot \\gamma_{c} \\right) \\\\&= \\Sigma \\left( [1936.000\\ \\mathrm{m}^{2},\\ -220.000\\ \\mathrm{m}^{2},\\ -132.000\\ \\mathrm{m}^{2}] \\cdot [22.000\\ \\mathrm{m},\\ 6.000\\ \\mathrm{m},\\ 39.000\\ \\mathrm{m}] \\cdot 130.000\\ \\mathrm{mm} \\cdot 23.560\\ \\mathrm{kN/m³} \\right) \\\\&= 110.641\\ \\mathrm{MN} \\cdot \\mathrm{m}  \\\\[10pt]\n",
       "\\\\[10pt]\n",
       "\\mathrm{An}_{Slab_{Total}} &= \\Sigma \\left( \\mathrm{area} \\cdot \\mathrm{height} \\cdot \\gamma_{c} \\right) \\\\&= \\Sigma \\left( [1936.000\\ \\mathrm{m}^{2},\\ -220.000\\ \\mathrm{m}^{2},\\ -132.000\\ \\mathrm{m}^{2}] \\cdot 130.000\\ \\mathrm{mm} \\cdot 23.560\\ \\mathrm{kN/m³} \\right) \\\\&= 4.851\\ \\mathrm{MN}  \\\\[10pt]\n",
       "\\end{aligned}\n",
       "\\]"
      ],
      "text/plain": [
       "<IPython.core.display.Latex object>"
      ]
     },
     "metadata": {},
     "output_type": "display_data"
    },
    {
     "data": {
      "text/latex": [
       "\\[\n",
       "\\begin{aligned}\n",
       "\\mathrm{AnDn}_{Wall_{Total}} &= \\Sigma \\left( \\mathrm{length} \\cdot \\mathrm{distance} \\cdot \\mathrm{width} \\cdot \\mathrm{height} \\cdot \\gamma_{c} \\cdot 0.7 \\right) \\\\&= \\Sigma \\left( [nan,\\ nan,\\ 5.000\\ \\mathrm{m},\\ 5.000\\ \\mathrm{m},\\ 5.000\\ \\mathrm{m},\\ 5.000\\ \\mathrm{m},\\ 5.000\\ \\mathrm{m},\\ 5.000\\ \\mathrm{m},\\ 5.000\\ \\mathrm{m},\\ 6.000\\ \\mathrm{m},\\ 6.000\\ \\mathrm{m},\\ 6.000\\ \\mathrm{m},\\ 6.000\\ \\mathrm{m},\\ 6.000\\ \\mathrm{m},\\ 6.000\\ \\mathrm{m},\\ 6.000\\ \\mathrm{m},\\ nan,\\ nan,\\ nan,\\ nan,\\ 5.000\\ \\mathrm{m},\\ 5.000\\ \\mathrm{m},\\ 5.000\\ \\mathrm{m},\\ 5.000\\ \\mathrm{m},\\ 5.000\\ \\mathrm{m},\\ 5.000\\ \\mathrm{m},\\ 5.000\\ \\mathrm{m}] \\cdot [nan,\\ nan,\\ nan,\\ nan,\\ 250.000\\ \\mathrm{mm},\\ 250.000\\ \\mathrm{mm},\\ 250.000\\ \\mathrm{mm},\\ 250.000\\ \\mathrm{mm},\\ 250.000\\ \\mathrm{mm},\\ 44.250\\ \\mathrm{m},\\ 44.250\\ \\mathrm{m},\\ 44.250\\ \\mathrm{m},\\ 44.250\\ \\mathrm{m},\\ 44.250\\ \\mathrm{m},\\ 44.250\\ \\mathrm{m},\\ 44.250\\ \\mathrm{m},\\ nan,\\ nan,\\ 11.250\\ \\mathrm{m},\\ 11.250\\ \\mathrm{m},\\ 11.250\\ \\mathrm{m},\\ 11.250\\ \\mathrm{m},\\ 11.250\\ \\mathrm{m},\\ 11.250\\ \\mathrm{m},\\ 11.250\\ \\mathrm{m},\\ 11.250\\ \\mathrm{m},\\ 11.250\\ \\mathrm{m}] \\cdot 150.000\\ \\mathrm{mm} \\cdot 4.000\\ \\mathrm{m} \\cdot 23.560\\ \\mathrm{kN/m³} \\cdot 0.7 \\right) \\\\&= 22.348\\ \\mathrm{MN} \\cdot \\mathrm{m}  \\\\[10pt]\n",
       "\\\\[10pt]\n",
       "\\mathrm{An}_{Wall_{Total}} &= \\Sigma \\left( \\mathrm{length} \\cdot \\mathrm{width} \\cdot \\mathrm{height} \\cdot \\gamma_{c} \\cdot 0.7 \\right) \\\\&= \\Sigma \\left( [nan,\\ nan,\\ 5.000\\ \\mathrm{m},\\ 5.000\\ \\mathrm{m},\\ 5.000\\ \\mathrm{m},\\ 5.000\\ \\mathrm{m},\\ 5.000\\ \\mathrm{m},\\ 5.000\\ \\mathrm{m},\\ 5.000\\ \\mathrm{m},\\ 6.000\\ \\mathrm{m},\\ 6.000\\ \\mathrm{m},\\ 6.000\\ \\mathrm{m},\\ 6.000\\ \\mathrm{m},\\ 6.000\\ \\mathrm{m},\\ 6.000\\ \\mathrm{m},\\ 6.000\\ \\mathrm{m},\\ nan,\\ nan,\\ nan,\\ nan,\\ 5.000\\ \\mathrm{m},\\ 5.000\\ \\mathrm{m},\\ 5.000\\ \\mathrm{m},\\ 5.000\\ \\mathrm{m},\\ 5.000\\ \\mathrm{m},\\ 5.000\\ \\mathrm{m},\\ 5.000\\ \\mathrm{m}] \\cdot 150.000\\ \\mathrm{mm} \\cdot 4.000\\ \\mathrm{m} \\cdot 23.560\\ \\mathrm{kN/m³} \\cdot 0.7 \\right) \\\\&= 1.108\\ \\mathrm{MN}  \\\\[10pt]\n",
       "\\end{aligned}\n",
       "\\]"
      ],
      "text/plain": [
       "<IPython.core.display.Latex object>"
      ]
     },
     "metadata": {},
     "output_type": "display_data"
    },
    {
     "data": {
      "text/latex": [
       "\\[\n",
       "\\begin{aligned}\n",
       "\\mathrm{AnDn}_{Col_{Total}} &= \\Sigma \\left( \\mathrm{AnDn}_{Col} \\right) \\\\&= \\Sigma \\left( [17.670\\ \\mathrm{kN} \\cdot \\mathrm{m},\\ 736.250\\ \\mathrm{kN} \\cdot \\mathrm{m},\\ 2.385\\ \\mathrm{MN} \\cdot \\mathrm{m},\\ 3.658\\ \\mathrm{MN} \\cdot \\mathrm{m},\\ 4.718\\ \\mathrm{MN} \\cdot \\mathrm{m},\\ 5.990\\ \\mathrm{MN} \\cdot \\mathrm{m},\\ 7.050\\ \\mathrm{MN} \\cdot \\mathrm{m},\\ 6.473\\ \\mathrm{MN} \\cdot \\mathrm{m},\\ 5.213\\ \\mathrm{MN} \\cdot \\mathrm{m}] \\right) \\\\&= 36.241\\ \\mathrm{MN} \\cdot \\mathrm{m}  \\\\[10pt]\n",
       "\\\\[10pt]\n",
       "\\mathrm{An}_{Col_{Total}} &= \\Sigma \\left( \\mathrm{An}_{Col} \\right) \\\\&= \\Sigma \\left( [70.680\\ \\mathrm{kN},\\ 117.800\\ \\mathrm{kN},\\ 212.040\\ \\mathrm{kN},\\ 212.040\\ \\mathrm{kN},\\ 212.040\\ \\mathrm{kN},\\ 212.040\\ \\mathrm{kN},\\ 212.040\\ \\mathrm{kN},\\ 164.920\\ \\mathrm{kN},\\ 117.800\\ \\mathrm{kN}] \\right) \\\\&= 1.531\\ \\mathrm{MN}  \\\\[10pt]\n",
       "\\\\[10pt]\n",
       "\\mathrm{RnDn}_{Col_{Total}} &= \\Sigma \\left( \\mathrm{RnDn}_{Col} \\right) \\\\&= \\Sigma \\left( [3906250000000.000\\ \\mathrm{mm}^{5},\\ 162760416666666.656\\ \\mathrm{mm}^{5},\\ 527343749999999.938\\ \\mathrm{mm}^{5},\\ 808593749999999.875\\ \\mathrm{mm}^{5},\\ 1.043\\ \\mathrm{m}^{5},\\ 1.324\\ \\mathrm{m}^{5},\\ 1.559\\ \\mathrm{m}^{5},\\ 1.431\\ \\mathrm{m}^{5},\\ 1.152\\ \\mathrm{m}^{5}] \\right) \\\\&= 8.012\\ \\mathrm{m}^{5}  \\\\[10pt]\n",
       "\\\\[10pt]\n",
       "\\mathrm{Rn}_{Col_{Total}} &= \\Sigma \\left( \\mathrm{Rn}_{Col} \\right) \\\\&= \\Sigma \\left( [15625000000.000\\ \\mathrm{mm}^{4},\\ 26041666666.667\\ \\mathrm{mm}^{4},\\ 46875000000.000\\ \\mathrm{mm}^{4},\\ 46875000000.000\\ \\mathrm{mm}^{4},\\ 46875000000.000\\ \\mathrm{mm}^{4},\\ 46875000000.000\\ \\mathrm{mm}^{4},\\ 46875000000.000\\ \\mathrm{mm}^{4},\\ 36458333333.333\\ \\mathrm{mm}^{4},\\ 26041666666.667\\ \\mathrm{mm}^{4}] \\right) \\\\&= 338541666666.667\\ \\mathrm{mm}^{4}  \\\\[10pt]\n",
       "\\\\[10pt]\n",
       "\\mathrm{AnDn}_{Beam_{Total}} &= \\Sigma \\left( \\mathrm{AnDn}_{Beam} \\right) \\\\&= \\Sigma \\left( [33.926\\ \\mathrm{kN} \\cdot \\mathrm{m},\\ 848.160\\ \\mathrm{kN} \\cdot \\mathrm{m},\\ 2.799\\ \\mathrm{MN} \\cdot \\mathrm{m},\\ 4.292\\ \\mathrm{MN} \\cdot \\mathrm{m},\\ 5.536\\ \\mathrm{MN} \\cdot \\mathrm{m},\\ 7.028\\ \\mathrm{MN} \\cdot \\mathrm{m},\\ 8.272\\ \\mathrm{MN} \\cdot \\mathrm{m},\\ 7.102\\ \\mathrm{MN} \\cdot \\mathrm{m},\\ 8.007\\ \\mathrm{MN} \\cdot \\mathrm{m}] \\right) \\\\&= 43.918\\ \\mathrm{MN} \\cdot \\mathrm{m}  \\\\[10pt]\n",
       "\\\\[10pt]\n",
       "\\mathrm{An}_{Beam_{Total}} &= \\Sigma \\left( \\mathrm{An}_{Beam} \\right) \\\\&= \\Sigma \\left( [135.706\\ \\mathrm{kN},\\ 135.706\\ \\mathrm{kN},\\ 248.794\\ \\mathrm{kN},\\ 248.794\\ \\mathrm{kN},\\ 248.794\\ \\mathrm{kN},\\ 248.794\\ \\mathrm{kN},\\ 248.794\\ \\mathrm{kN},\\ 180.941\\ \\mathrm{kN},\\ 180.941\\ \\mathrm{kN}] \\right) \\\\&= 1.877\\ \\mathrm{MN}  \\\\[10pt]\n",
       "\\\\[10pt]\n",
       "\\mathrm{AnDn}_{SW_{Total}} &= \\Sigma \\left( \\mathrm{AnDn}_{SW} \\right) \\\\&= \\Sigma \\left( [7.641\\ \\mathrm{MN} \\cdot \\mathrm{m}] \\right) \\\\&= 7.641\\ \\mathrm{MN} \\cdot \\mathrm{m}  \\\\[10pt]\n",
       "\\\\[10pt]\n",
       "\\mathrm{An}_{SW_{Total}} &= \\Sigma \\left( \\mathrm{An}_{SW} \\right) \\\\&= \\Sigma \\left( [367.536\\ \\mathrm{kN}] \\right) \\\\&= 367.536\\ \\mathrm{kN}  \\\\[10pt]\n",
       "\\\\[10pt]\n",
       "\\mathrm{RnDn}_{SW_{Total}} &= \\Sigma \\left( \\mathrm{RnDn}_{SW_{Total}} \\right) \\\\&= \\Sigma \\left( 240.320\\ \\mathrm{m}^{5} \\right) \\\\&= 240.320\\ \\mathrm{m}^{5}  \\\\[10pt]\n",
       "\\\\[10pt]\n",
       "\\mathrm{Rn}_{SW_{Total}} &= \\Sigma \\left( \\mathrm{Rn}_{SW} \\right) \\\\&= \\Sigma \\left( [10.806\\ \\mathrm{m}^{4}] \\right) \\\\&= 10.806\\ \\mathrm{m}^{4}  \\\\[10pt]\n",
       "\\\\[10pt]\n",
       "\\mathrm{AnDn}_{Slab_{Total}} &= \\Sigma \\left( \\mathrm{AnDn}_{Slab} \\right) \\\\&= \\Sigma \\left( [110.641\\ \\mathrm{MN} \\cdot \\mathrm{m}] \\right) \\\\&= 110.641\\ \\mathrm{MN} \\cdot \\mathrm{m}  \\\\[10pt]\n",
       "\\\\[10pt]\n",
       "\\mathrm{An}_{Slab_{Total}} &= \\Sigma \\left( \\mathrm{An}_{Slab} \\right) \\\\&= \\Sigma \\left( [4.851\\ \\mathrm{MN}] \\right) \\\\&= 4.851\\ \\mathrm{MN}  \\\\[10pt]\n",
       "\\\\[10pt]\n",
       "\\mathrm{AnDn}_{Wall_{Total}} &= \\Sigma \\left( \\mathrm{AnDn}_{Wall} \\right) \\\\&= \\Sigma \\left( [22.348\\ \\mathrm{MN} \\cdot \\mathrm{m}] \\right) \\\\&= 22.348\\ \\mathrm{MN} \\cdot \\mathrm{m}  \\\\[10pt]\n",
       "\\\\[10pt]\n",
       "\\mathrm{An}_{Wall_{Total}} &= \\Sigma \\left( \\mathrm{An}_{Wall} \\right) \\\\&= \\Sigma \\left( [1.108\\ \\mathrm{MN}] \\right) \\\\&= 1.108\\ \\mathrm{MN}  \\\\[10pt]\n",
       "\\end{aligned}\n",
       "\\]"
      ],
      "text/plain": [
       "<IPython.core.display.Latex object>"
      ]
     },
     "metadata": {},
     "output_type": "display_data"
    },
    {
     "data": {
      "text/latex": [
       "\\[\n",
       "\\begin{aligned}\n",
       "\\mathrm{AnDn} &= \\Sigma \\left( \\mathrm{AnDn}_{Col_{Total}} + \\mathrm{AnDn}_{SW_{Total}} + \\mathrm{AnDn}_{Slab_{Total}} + \\mathrm{AnDn}_{Wall_{Total}} + \\mathrm{AnDn}_{Beam_{Total}} \\right) \\\\&= \\Sigma \\left( 36.241\\ \\mathrm{MN} \\cdot \\mathrm{m} + 7.641\\ \\mathrm{MN} \\cdot \\mathrm{m} + 110.641\\ \\mathrm{MN} \\cdot \\mathrm{m} + 22.348\\ \\mathrm{MN} \\cdot \\mathrm{m} + 43.918\\ \\mathrm{MN} \\cdot \\mathrm{m} \\right) \\\\&= 220.788\\ \\mathrm{MN} \\cdot \\mathrm{m}  \\\\[10pt]\n",
       "\\\\[10pt]\n",
       "\\mathrm{An} &= \\Sigma \\left( \\mathrm{An}_{Col_{Total}} + \\mathrm{An}_{SW_{Total}} + \\mathrm{An}_{Slab_{Total}} + \\mathrm{An}_{Wall_{Total}} + \\mathrm{An}_{Beam_{Total}} \\right) \\\\&= \\Sigma \\left( 1.531\\ \\mathrm{MN} + 367.536\\ \\mathrm{kN} + 4.851\\ \\mathrm{MN} + 1.108\\ \\mathrm{MN} + 1.877\\ \\mathrm{MN} \\right) \\\\&= 9.736\\ \\mathrm{MN}  \\\\[10pt]\n",
       "\\\\[10pt]\n",
       "\\mathrm{RnDn} &= \\Sigma \\left( \\mathrm{RnDn}_{Col_{Total}} + \\mathrm{RnDn}_{SW_{Total}} \\right) \\\\&= \\Sigma \\left( 8.012\\ \\mathrm{m}^{5} + 240.320\\ \\mathrm{m}^{5} \\right) \\\\&= 248.332\\ \\mathrm{m}^{5}  \\\\[10pt]\n",
       "\\\\[10pt]\n",
       "\\mathrm{Rn} &= \\Sigma \\left( \\mathrm{Rn}_{Col_{Total}} + \\mathrm{Rn}_{SW_{Total}} \\right) \\\\&= \\Sigma \\left( 338541666666.667\\ \\mathrm{mm}^{4} + 10.806\\ \\mathrm{m}^{4} \\right) \\\\&= 11.145\\ \\mathrm{m}^{4}  \\\\[10pt]\n",
       "\\\\[10pt]\n",
       "C_{m} &= \\frac{ \\Sigma \\left( \\mathrm{AnDn} \\right) }{ \\Sigma \\left( \\mathrm{An} \\right) } \\\\&= \\frac{ \\Sigma \\left( 220.788\\ \\mathrm{MN} \\cdot \\mathrm{m} \\right) }{ \\Sigma \\left( 9.736\\ \\mathrm{MN} \\right) } \\\\&= 22.678\\ \\mathrm{m}  \\\\[10pt]\n",
       "\\\\[10pt]\n",
       "C_{r} &= \\frac{ \\Sigma \\left( \\mathrm{RnDn} \\right) }{ \\Sigma \\left( \\mathrm{Rn} \\right) } \\\\&= \\frac{ \\Sigma \\left( 248.332\\ \\mathrm{m}^{5} \\right) }{ \\Sigma \\left( 11.145\\ \\mathrm{m}^{4} \\right) } \\\\&= 22.282\\ \\mathrm{m}  \\\\[10pt]\n",
       "\\end{aligned}\n",
       "\\]"
      ],
      "text/plain": [
       "<IPython.core.display.Latex object>"
      ]
     },
     "metadata": {},
     "output_type": "display_data"
    },
    {
     "data": {
      "text/markdown": [
       "## FLOOR - 3 - X AXIS\n",
       "            "
      ],
      "text/plain": [
       "<IPython.core.display.Markdown object>"
      ]
     },
     "metadata": {},
     "output_type": "display_data"
    },
    {
     "data": {
      "text/latex": [
       "\\[\n",
       "\\begin{aligned}\n",
       "\\mathrm{Grid} &= 1 \\; \n",
       "\\\\[10pt]\n",
       "\\mathrm{AnDn}_{Col_{Total}} &= \\mathrm{Col}_{No} \\cdot \\mathrm{distance} \\cdot \\mathrm{length}_{col} \\cdot \\mathrm{width}_{col} \\cdot \\mathrm{height}_{col} \\cdot \\gamma_{c}  = 3.000 \\cdot 250.000\\ \\mathrm{mm} \\cdot 500.000\\ \\mathrm{mm} \\cdot 500.000\\ \\mathrm{mm} \\cdot 3.500\\ \\mathrm{m} \\cdot 23.560\\ \\mathrm{kN/m³} &= 15.461\\ \\mathrm{kN} \\cdot \\mathrm{m}  \n",
       "\\\\[10pt]\n",
       "\\mathrm{An}_{Col_{Total}} &= \\mathrm{Col}_{No} \\cdot \\mathrm{length}_{col} \\cdot \\mathrm{width}_{col} \\cdot \\mathrm{height}_{col} \\cdot \\gamma_{c}  = 3.000 \\cdot 500.000\\ \\mathrm{mm} \\cdot 500.000\\ \\mathrm{mm} \\cdot 3.500\\ \\mathrm{m} \\cdot 23.560\\ \\mathrm{kN/m³} &= 61.845\\ \\mathrm{kN}  \n",
       "\\\\[10pt]\n",
       "\\mathrm{RnDn}_{Col_{Total}} &= \\mathrm{Col}_{No} \\cdot \\left( \\frac{ \\left( \\mathrm{length}_{col} \\right) ^{ 4 } }{ 12 } \\right) \\cdot \\mathrm{distance}  = 3.000 \\cdot \\left( \\frac{ \\left( 500.000\\ \\mathrm{mm} \\right) ^{ 4 } }{ 12 } \\right) \\cdot 250.000\\ \\mathrm{mm} &= 3906250000000.000\\ \\mathrm{mm}^{5}  \n",
       "\\\\[10pt]\n",
       "\\mathrm{Rn}_{Col_{Total}} &= \\mathrm{Col}_{No} \\cdot \\frac{ \\left( \\mathrm{length}_{col} \\right) ^{ 4 } }{ 12 }  = 3.000 \\cdot \\frac{ \\left( 500.000\\ \\mathrm{mm} \\right) ^{ 4 } }{ 12 } &= 15625000000.000\\ \\mathrm{mm}^{4}  \n",
       "\\\\[10pt]\n",
       "\\mathrm{AnXn}_{Beam_{Total}} &= \\Sigma \\left( \\mathrm{length}_{girder} \\cdot \\mathrm{width}_{girder} \\cdot \\mathrm{height}_{girder} \\cdot \\gamma_{c} \\cdot \\mathrm{distance} \\right)  = \\Sigma \\left( [nan,\\ nan,\\ nan,\\ nan,\\ 6.000\\ \\mathrm{m},\\ 6.000\\ \\mathrm{m},\\ 6.000\\ \\mathrm{m},\\ 6.000\\ \\mathrm{m}] \\cdot 400.000\\ \\mathrm{mm} \\cdot 600.000\\ \\mathrm{mm} \\cdot 23.560\\ \\mathrm{kN/m³} \\cdot 250.000\\ \\mathrm{mm} \\right) &= 33.926\\ \\mathrm{kN} \\cdot \\mathrm{m}  \n",
       "\\\\[10pt]\n",
       "\\mathrm{An}_{Beam_{Total}} &= \\Sigma \\left( \\mathrm{length}_{girder} \\cdot \\mathrm{width}_{girder} \\cdot \\mathrm{height}_{girder} \\cdot \\gamma_{c} \\right)  = \\Sigma \\left( [nan,\\ nan,\\ nan,\\ nan,\\ 6.000\\ \\mathrm{m},\\ 6.000\\ \\mathrm{m},\\ 6.000\\ \\mathrm{m},\\ 6.000\\ \\mathrm{m}] \\cdot 400.000\\ \\mathrm{mm} \\cdot 600.000\\ \\mathrm{mm} \\cdot 23.560\\ \\mathrm{kN/m³} \\right) &= 135.706\\ \\mathrm{kN}  \n",
       "\\end{aligned}\n",
       "\\]"
      ],
      "text/plain": [
       "<IPython.core.display.Latex object>"
      ]
     },
     "metadata": {},
     "output_type": "display_data"
    },
    {
     "data": {
      "text/latex": [
       "\\[\n",
       "\\begin{aligned}\n",
       "\\mathrm{Grid} &= 2 \\; \n",
       "\\\\[10pt]\n",
       "\\mathrm{AnDn}_{Col_{Total}} &= \\mathrm{Col}_{No} \\cdot \\mathrm{distance} \\cdot \\mathrm{length}_{col} \\cdot \\mathrm{width}_{col} \\cdot \\mathrm{height}_{col} \\cdot \\gamma_{c}  = 5.000 \\cdot 6.250\\ \\mathrm{m} \\cdot 500.000\\ \\mathrm{mm} \\cdot 500.000\\ \\mathrm{mm} \\cdot 3.500\\ \\mathrm{m} \\cdot 23.560\\ \\mathrm{kN/m³} &= 644.219\\ \\mathrm{kN} \\cdot \\mathrm{m}  \n",
       "\\\\[10pt]\n",
       "\\mathrm{An}_{Col_{Total}} &= \\mathrm{Col}_{No} \\cdot \\mathrm{length}_{col} \\cdot \\mathrm{width}_{col} \\cdot \\mathrm{height}_{col} \\cdot \\gamma_{c}  = 5.000 \\cdot 500.000\\ \\mathrm{mm} \\cdot 500.000\\ \\mathrm{mm} \\cdot 3.500\\ \\mathrm{m} \\cdot 23.560\\ \\mathrm{kN/m³} &= 103.075\\ \\mathrm{kN}  \n",
       "\\\\[10pt]\n",
       "\\mathrm{RnDn}_{Col_{Total}} &= \\mathrm{Col}_{No} \\cdot \\left( \\frac{ \\left( \\mathrm{length}_{col} \\right) ^{ 4 } }{ 12 } \\right) \\cdot \\mathrm{distance}  = 5.000 \\cdot \\left( \\frac{ \\left( 500.000\\ \\mathrm{mm} \\right) ^{ 4 } }{ 12 } \\right) \\cdot 6.250\\ \\mathrm{m} &= 162760416666666.656\\ \\mathrm{mm}^{5}  \n",
       "\\\\[10pt]\n",
       "\\mathrm{Rn}_{Col_{Total}} &= \\mathrm{Col}_{No} \\cdot \\frac{ \\left( \\mathrm{length}_{col} \\right) ^{ 4 } }{ 12 }  = 5.000 \\cdot \\frac{ \\left( 500.000\\ \\mathrm{mm} \\right) ^{ 4 } }{ 12 } &= 26041666666.667\\ \\mathrm{mm}^{4}  \n",
       "\\\\[10pt]\n",
       "\\mathrm{AnXn}_{Beam_{Total}} &= \\Sigma \\left( \\mathrm{length}_{girder} \\cdot \\mathrm{width}_{girder} \\cdot \\mathrm{height}_{girder} \\cdot \\gamma_{c} \\cdot \\mathrm{distance} \\right)  = \\Sigma \\left( [nan,\\ nan,\\ nan,\\ nan,\\ 6.000\\ \\mathrm{m},\\ 6.000\\ \\mathrm{m},\\ 6.000\\ \\mathrm{m},\\ 6.000\\ \\mathrm{m}] \\cdot 400.000\\ \\mathrm{mm} \\cdot 600.000\\ \\mathrm{mm} \\cdot 23.560\\ \\mathrm{kN/m³} \\cdot 6.250\\ \\mathrm{m} \\right) &= 848.160\\ \\mathrm{kN} \\cdot \\mathrm{m}  \n",
       "\\\\[10pt]\n",
       "\\mathrm{An}_{Beam_{Total}} &= \\Sigma \\left( \\mathrm{length}_{girder} \\cdot \\mathrm{width}_{girder} \\cdot \\mathrm{height}_{girder} \\cdot \\gamma_{c} \\right)  = \\Sigma \\left( [nan,\\ nan,\\ nan,\\ nan,\\ 6.000\\ \\mathrm{m},\\ 6.000\\ \\mathrm{m},\\ 6.000\\ \\mathrm{m},\\ 6.000\\ \\mathrm{m}] \\cdot 400.000\\ \\mathrm{mm} \\cdot 600.000\\ \\mathrm{mm} \\cdot 23.560\\ \\mathrm{kN/m³} \\right) &= 135.706\\ \\mathrm{kN}  \n",
       "\\end{aligned}\n",
       "\\]"
      ],
      "text/plain": [
       "<IPython.core.display.Latex object>"
      ]
     },
     "metadata": {},
     "output_type": "display_data"
    },
    {
     "data": {
      "text/latex": [
       "\\[\n",
       "\\begin{aligned}\n",
       "\\mathrm{Grid} &= 3 \\; \n",
       "\\\\[10pt]\n",
       "\\mathrm{AnDn}_{Col_{Total}} &= \\mathrm{Col}_{No} \\cdot \\mathrm{distance} \\cdot \\mathrm{length}_{col} \\cdot \\mathrm{width}_{col} \\cdot \\mathrm{height}_{col} \\cdot \\gamma_{c}  = 9.000 \\cdot 11.250\\ \\mathrm{m} \\cdot 500.000\\ \\mathrm{mm} \\cdot 500.000\\ \\mathrm{mm} \\cdot 3.500\\ \\mathrm{m} \\cdot 23.560\\ \\mathrm{kN/m³} &= 2.087\\ \\mathrm{MN} \\cdot \\mathrm{m}  \n",
       "\\\\[10pt]\n",
       "\\mathrm{An}_{Col_{Total}} &= \\mathrm{Col}_{No} \\cdot \\mathrm{length}_{col} \\cdot \\mathrm{width}_{col} \\cdot \\mathrm{height}_{col} \\cdot \\gamma_{c}  = 9.000 \\cdot 500.000\\ \\mathrm{mm} \\cdot 500.000\\ \\mathrm{mm} \\cdot 3.500\\ \\mathrm{m} \\cdot 23.560\\ \\mathrm{kN/m³} &= 185.535\\ \\mathrm{kN}  \n",
       "\\\\[10pt]\n",
       "\\mathrm{RnDn}_{Col_{Total}} &= \\mathrm{Col}_{No} \\cdot \\left( \\frac{ \\left( \\mathrm{length}_{col} \\right) ^{ 4 } }{ 12 } \\right) \\cdot \\mathrm{distance}  = 9.000 \\cdot \\left( \\frac{ \\left( 500.000\\ \\mathrm{mm} \\right) ^{ 4 } }{ 12 } \\right) \\cdot 11.250\\ \\mathrm{m} &= 527343749999999.938\\ \\mathrm{mm}^{5}  \n",
       "\\\\[10pt]\n",
       "\\mathrm{Rn}_{Col_{Total}} &= \\mathrm{Col}_{No} \\cdot \\frac{ \\left( \\mathrm{length}_{col} \\right) ^{ 4 } }{ 12 }  = 9.000 \\cdot \\frac{ \\left( 500.000\\ \\mathrm{mm} \\right) ^{ 4 } }{ 12 } &= 46875000000.000\\ \\mathrm{mm}^{4}  \n",
       "\\\\[10pt]\n",
       "\\mathrm{AnXn}_{Beam_{Total}} &= \\Sigma \\left( \\mathrm{length}_{girder} \\cdot \\mathrm{width}_{girder} \\cdot \\mathrm{height}_{girder} \\cdot \\gamma_{c} \\cdot \\mathrm{distance} \\right)  = \\Sigma \\left( [5.000\\ \\mathrm{m},\\ 5.000\\ \\mathrm{m},\\ 5.000\\ \\mathrm{m},\\ 5.000\\ \\mathrm{m},\\ 6.000\\ \\mathrm{m},\\ 6.000\\ \\mathrm{m},\\ 6.000\\ \\mathrm{m},\\ 6.000\\ \\mathrm{m}] \\cdot 400.000\\ \\mathrm{mm} \\cdot 600.000\\ \\mathrm{mm} \\cdot 23.560\\ \\mathrm{kN/m³} \\cdot 11.250\\ \\mathrm{m} \\right) &= 2.799\\ \\mathrm{MN} \\cdot \\mathrm{m}  \n",
       "\\\\[10pt]\n",
       "\\mathrm{An}_{Beam_{Total}} &= \\Sigma \\left( \\mathrm{length}_{girder} \\cdot \\mathrm{width}_{girder} \\cdot \\mathrm{height}_{girder} \\cdot \\gamma_{c} \\right)  = \\Sigma \\left( [5.000\\ \\mathrm{m},\\ 5.000\\ \\mathrm{m},\\ 5.000\\ \\mathrm{m},\\ 5.000\\ \\mathrm{m},\\ 6.000\\ \\mathrm{m},\\ 6.000\\ \\mathrm{m},\\ 6.000\\ \\mathrm{m},\\ 6.000\\ \\mathrm{m}] \\cdot 400.000\\ \\mathrm{mm} \\cdot 600.000\\ \\mathrm{mm} \\cdot 23.560\\ \\mathrm{kN/m³} \\right) &= 248.794\\ \\mathrm{kN}  \n",
       "\\end{aligned}\n",
       "\\]"
      ],
      "text/plain": [
       "<IPython.core.display.Latex object>"
      ]
     },
     "metadata": {},
     "output_type": "display_data"
    },
    {
     "data": {
      "text/latex": [
       "\\[\n",
       "\\begin{aligned}\n",
       "\\mathrm{Grid} &= 4 \\; \n",
       "\\\\[10pt]\n",
       "\\mathrm{AnDn}_{Col_{Total}} &= \\mathrm{Col}_{No} \\cdot \\mathrm{distance} \\cdot \\mathrm{length}_{col} \\cdot \\mathrm{width}_{col} \\cdot \\mathrm{height}_{col} \\cdot \\gamma_{c}  = 9.000 \\cdot 17.250\\ \\mathrm{m} \\cdot 500.000\\ \\mathrm{mm} \\cdot 500.000\\ \\mathrm{mm} \\cdot 3.500\\ \\mathrm{m} \\cdot 23.560\\ \\mathrm{kN/m³} &= 3.200\\ \\mathrm{MN} \\cdot \\mathrm{m}  \n",
       "\\\\[10pt]\n",
       "\\mathrm{An}_{Col_{Total}} &= \\mathrm{Col}_{No} \\cdot \\mathrm{length}_{col} \\cdot \\mathrm{width}_{col} \\cdot \\mathrm{height}_{col} \\cdot \\gamma_{c}  = 9.000 \\cdot 500.000\\ \\mathrm{mm} \\cdot 500.000\\ \\mathrm{mm} \\cdot 3.500\\ \\mathrm{m} \\cdot 23.560\\ \\mathrm{kN/m³} &= 185.535\\ \\mathrm{kN}  \n",
       "\\\\[10pt]\n",
       "\\mathrm{RnDn}_{Col_{Total}} &= \\mathrm{Col}_{No} \\cdot \\left( \\frac{ \\left( \\mathrm{length}_{col} \\right) ^{ 4 } }{ 12 } \\right) \\cdot \\mathrm{distance}  = 9.000 \\cdot \\left( \\frac{ \\left( 500.000\\ \\mathrm{mm} \\right) ^{ 4 } }{ 12 } \\right) \\cdot 17.250\\ \\mathrm{m} &= 808593749999999.875\\ \\mathrm{mm}^{5}  \n",
       "\\\\[10pt]\n",
       "\\mathrm{Rn}_{Col_{Total}} &= \\mathrm{Col}_{No} \\cdot \\frac{ \\left( \\mathrm{length}_{col} \\right) ^{ 4 } }{ 12 }  = 9.000 \\cdot \\frac{ \\left( 500.000\\ \\mathrm{mm} \\right) ^{ 4 } }{ 12 } &= 46875000000.000\\ \\mathrm{mm}^{4}  \n",
       "\\\\[10pt]\n",
       "\\mathrm{AnXn}_{Beam_{Total}} &= \\Sigma \\left( \\mathrm{length}_{girder} \\cdot \\mathrm{width}_{girder} \\cdot \\mathrm{height}_{girder} \\cdot \\gamma_{c} \\cdot \\mathrm{distance} \\right)  = \\Sigma \\left( [5.000\\ \\mathrm{m},\\ 5.000\\ \\mathrm{m},\\ 5.000\\ \\mathrm{m},\\ 5.000\\ \\mathrm{m},\\ 6.000\\ \\mathrm{m},\\ 6.000\\ \\mathrm{m},\\ 6.000\\ \\mathrm{m},\\ 6.000\\ \\mathrm{m}] \\cdot 400.000\\ \\mathrm{mm} \\cdot 600.000\\ \\mathrm{mm} \\cdot 23.560\\ \\mathrm{kN/m³} \\cdot 17.250\\ \\mathrm{m} \\right) &= 4.292\\ \\mathrm{MN} \\cdot \\mathrm{m}  \n",
       "\\\\[10pt]\n",
       "\\mathrm{An}_{Beam_{Total}} &= \\Sigma \\left( \\mathrm{length}_{girder} \\cdot \\mathrm{width}_{girder} \\cdot \\mathrm{height}_{girder} \\cdot \\gamma_{c} \\right)  = \\Sigma \\left( [5.000\\ \\mathrm{m},\\ 5.000\\ \\mathrm{m},\\ 5.000\\ \\mathrm{m},\\ 5.000\\ \\mathrm{m},\\ 6.000\\ \\mathrm{m},\\ 6.000\\ \\mathrm{m},\\ 6.000\\ \\mathrm{m},\\ 6.000\\ \\mathrm{m}] \\cdot 400.000\\ \\mathrm{mm} \\cdot 600.000\\ \\mathrm{mm} \\cdot 23.560\\ \\mathrm{kN/m³} \\right) &= 248.794\\ \\mathrm{kN}  \n",
       "\\end{aligned}\n",
       "\\]"
      ],
      "text/plain": [
       "<IPython.core.display.Latex object>"
      ]
     },
     "metadata": {},
     "output_type": "display_data"
    },
    {
     "data": {
      "text/latex": [
       "\\[\n",
       "\\begin{aligned}\n",
       "\\mathrm{Grid} &= 5 \\; \n",
       "\\\\[10pt]\n",
       "\\mathrm{AnDn}_{Col_{Total}} &= \\mathrm{Col}_{No} \\cdot \\mathrm{distance} \\cdot \\mathrm{length}_{col} \\cdot \\mathrm{width}_{col} \\cdot \\mathrm{height}_{col} \\cdot \\gamma_{c}  = 9.000 \\cdot 22.250\\ \\mathrm{m} \\cdot 500.000\\ \\mathrm{mm} \\cdot 500.000\\ \\mathrm{mm} \\cdot 3.500\\ \\mathrm{m} \\cdot 23.560\\ \\mathrm{kN/m³} &= 4.128\\ \\mathrm{MN} \\cdot \\mathrm{m}  \n",
       "\\\\[10pt]\n",
       "\\mathrm{An}_{Col_{Total}} &= \\mathrm{Col}_{No} \\cdot \\mathrm{length}_{col} \\cdot \\mathrm{width}_{col} \\cdot \\mathrm{height}_{col} \\cdot \\gamma_{c}  = 9.000 \\cdot 500.000\\ \\mathrm{mm} \\cdot 500.000\\ \\mathrm{mm} \\cdot 3.500\\ \\mathrm{m} \\cdot 23.560\\ \\mathrm{kN/m³} &= 185.535\\ \\mathrm{kN}  \n",
       "\\\\[10pt]\n",
       "\\mathrm{RnDn}_{Col_{Total}} &= \\mathrm{Col}_{No} \\cdot \\left( \\frac{ \\left( \\mathrm{length}_{col} \\right) ^{ 4 } }{ 12 } \\right) \\cdot \\mathrm{distance}  = 9.000 \\cdot \\left( \\frac{ \\left( 500.000\\ \\mathrm{mm} \\right) ^{ 4 } }{ 12 } \\right) \\cdot 22.250\\ \\mathrm{m} &= 1.043\\ \\mathrm{m}^{5}  \n",
       "\\\\[10pt]\n",
       "\\mathrm{Rn}_{Col_{Total}} &= \\mathrm{Col}_{No} \\cdot \\frac{ \\left( \\mathrm{length}_{col} \\right) ^{ 4 } }{ 12 }  = 9.000 \\cdot \\frac{ \\left( 500.000\\ \\mathrm{mm} \\right) ^{ 4 } }{ 12 } &= 46875000000.000\\ \\mathrm{mm}^{4}  \n",
       "\\\\[10pt]\n",
       "\\mathrm{AnXn}_{Beam_{Total}} &= \\Sigma \\left( \\mathrm{length}_{girder} \\cdot \\mathrm{width}_{girder} \\cdot \\mathrm{height}_{girder} \\cdot \\gamma_{c} \\cdot \\mathrm{distance} \\right)  = \\Sigma \\left( [5.000\\ \\mathrm{m},\\ 5.000\\ \\mathrm{m},\\ 5.000\\ \\mathrm{m},\\ 5.000\\ \\mathrm{m},\\ 6.000\\ \\mathrm{m},\\ 6.000\\ \\mathrm{m},\\ 6.000\\ \\mathrm{m},\\ 6.000\\ \\mathrm{m}] \\cdot 400.000\\ \\mathrm{mm} \\cdot 600.000\\ \\mathrm{mm} \\cdot 23.560\\ \\mathrm{kN/m³} \\cdot 22.250\\ \\mathrm{m} \\right) &= 5.536\\ \\mathrm{MN} \\cdot \\mathrm{m}  \n",
       "\\\\[10pt]\n",
       "\\mathrm{An}_{Beam_{Total}} &= \\Sigma \\left( \\mathrm{length}_{girder} \\cdot \\mathrm{width}_{girder} \\cdot \\mathrm{height}_{girder} \\cdot \\gamma_{c} \\right)  = \\Sigma \\left( [5.000\\ \\mathrm{m},\\ 5.000\\ \\mathrm{m},\\ 5.000\\ \\mathrm{m},\\ 5.000\\ \\mathrm{m},\\ 6.000\\ \\mathrm{m},\\ 6.000\\ \\mathrm{m},\\ 6.000\\ \\mathrm{m},\\ 6.000\\ \\mathrm{m}] \\cdot 400.000\\ \\mathrm{mm} \\cdot 600.000\\ \\mathrm{mm} \\cdot 23.560\\ \\mathrm{kN/m³} \\right) &= 248.794\\ \\mathrm{kN}  \n",
       "\\end{aligned}\n",
       "\\]"
      ],
      "text/plain": [
       "<IPython.core.display.Latex object>"
      ]
     },
     "metadata": {},
     "output_type": "display_data"
    },
    {
     "data": {
      "text/latex": [
       "\\[\n",
       "\\begin{aligned}\n",
       "\\mathrm{Grid} &= 6 \\; \n",
       "\\\\[10pt]\n",
       "\\mathrm{AnDn}_{Col_{Total}} &= \\mathrm{Col}_{No} \\cdot \\mathrm{distance} \\cdot \\mathrm{length}_{col} \\cdot \\mathrm{width}_{col} \\cdot \\mathrm{height}_{col} \\cdot \\gamma_{c}  = 9.000 \\cdot 28.250\\ \\mathrm{m} \\cdot 500.000\\ \\mathrm{mm} \\cdot 500.000\\ \\mathrm{mm} \\cdot 3.500\\ \\mathrm{m} \\cdot 23.560\\ \\mathrm{kN/m³} &= 5.241\\ \\mathrm{MN} \\cdot \\mathrm{m}  \n",
       "\\\\[10pt]\n",
       "\\mathrm{An}_{Col_{Total}} &= \\mathrm{Col}_{No} \\cdot \\mathrm{length}_{col} \\cdot \\mathrm{width}_{col} \\cdot \\mathrm{height}_{col} \\cdot \\gamma_{c}  = 9.000 \\cdot 500.000\\ \\mathrm{mm} \\cdot 500.000\\ \\mathrm{mm} \\cdot 3.500\\ \\mathrm{m} \\cdot 23.560\\ \\mathrm{kN/m³} &= 185.535\\ \\mathrm{kN}  \n",
       "\\\\[10pt]\n",
       "\\mathrm{RnDn}_{Col_{Total}} &= \\mathrm{Col}_{No} \\cdot \\left( \\frac{ \\left( \\mathrm{length}_{col} \\right) ^{ 4 } }{ 12 } \\right) \\cdot \\mathrm{distance}  = 9.000 \\cdot \\left( \\frac{ \\left( 500.000\\ \\mathrm{mm} \\right) ^{ 4 } }{ 12 } \\right) \\cdot 28.250\\ \\mathrm{m} &= 1.324\\ \\mathrm{m}^{5}  \n",
       "\\\\[10pt]\n",
       "\\mathrm{Rn}_{Col_{Total}} &= \\mathrm{Col}_{No} \\cdot \\frac{ \\left( \\mathrm{length}_{col} \\right) ^{ 4 } }{ 12 }  = 9.000 \\cdot \\frac{ \\left( 500.000\\ \\mathrm{mm} \\right) ^{ 4 } }{ 12 } &= 46875000000.000\\ \\mathrm{mm}^{4}  \n",
       "\\\\[10pt]\n",
       "\\mathrm{AnXn}_{Beam_{Total}} &= \\Sigma \\left( \\mathrm{length}_{girder} \\cdot \\mathrm{width}_{girder} \\cdot \\mathrm{height}_{girder} \\cdot \\gamma_{c} \\cdot \\mathrm{distance} \\right)  = \\Sigma \\left( [5.000\\ \\mathrm{m},\\ 5.000\\ \\mathrm{m},\\ 5.000\\ \\mathrm{m},\\ 5.000\\ \\mathrm{m},\\ 6.000\\ \\mathrm{m},\\ 6.000\\ \\mathrm{m},\\ 6.000\\ \\mathrm{m},\\ 6.000\\ \\mathrm{m}] \\cdot 400.000\\ \\mathrm{mm} \\cdot 600.000\\ \\mathrm{mm} \\cdot 23.560\\ \\mathrm{kN/m³} \\cdot 28.250\\ \\mathrm{m} \\right) &= 7.028\\ \\mathrm{MN} \\cdot \\mathrm{m}  \n",
       "\\\\[10pt]\n",
       "\\mathrm{An}_{Beam_{Total}} &= \\Sigma \\left( \\mathrm{length}_{girder} \\cdot \\mathrm{width}_{girder} \\cdot \\mathrm{height}_{girder} \\cdot \\gamma_{c} \\right)  = \\Sigma \\left( [5.000\\ \\mathrm{m},\\ 5.000\\ \\mathrm{m},\\ 5.000\\ \\mathrm{m},\\ 5.000\\ \\mathrm{m},\\ 6.000\\ \\mathrm{m},\\ 6.000\\ \\mathrm{m},\\ 6.000\\ \\mathrm{m},\\ 6.000\\ \\mathrm{m}] \\cdot 400.000\\ \\mathrm{mm} \\cdot 600.000\\ \\mathrm{mm} \\cdot 23.560\\ \\mathrm{kN/m³} \\right) &= 248.794\\ \\mathrm{kN}  \n",
       "\\end{aligned}\n",
       "\\]"
      ],
      "text/plain": [
       "<IPython.core.display.Latex object>"
      ]
     },
     "metadata": {},
     "output_type": "display_data"
    },
    {
     "data": {
      "text/latex": [
       "\\[\n",
       "\\begin{aligned}\n",
       "\\mathrm{Grid} &= 7 \\; \n",
       "\\\\[10pt]\n",
       "\\mathrm{AnDn}_{Col_{Total}} &= \\mathrm{Col}_{No} \\cdot \\mathrm{distance} \\cdot \\mathrm{length}_{col} \\cdot \\mathrm{width}_{col} \\cdot \\mathrm{height}_{col} \\cdot \\gamma_{c}  = 9.000 \\cdot 33.250\\ \\mathrm{m} \\cdot 500.000\\ \\mathrm{mm} \\cdot 500.000\\ \\mathrm{mm} \\cdot 3.500\\ \\mathrm{m} \\cdot 23.560\\ \\mathrm{kN/m³} &= 6.169\\ \\mathrm{MN} \\cdot \\mathrm{m}  \n",
       "\\\\[10pt]\n",
       "\\mathrm{An}_{Col_{Total}} &= \\mathrm{Col}_{No} \\cdot \\mathrm{length}_{col} \\cdot \\mathrm{width}_{col} \\cdot \\mathrm{height}_{col} \\cdot \\gamma_{c}  = 9.000 \\cdot 500.000\\ \\mathrm{mm} \\cdot 500.000\\ \\mathrm{mm} \\cdot 3.500\\ \\mathrm{m} \\cdot 23.560\\ \\mathrm{kN/m³} &= 185.535\\ \\mathrm{kN}  \n",
       "\\\\[10pt]\n",
       "\\mathrm{RnDn}_{Col_{Total}} &= \\mathrm{Col}_{No} \\cdot \\left( \\frac{ \\left( \\mathrm{length}_{col} \\right) ^{ 4 } }{ 12 } \\right) \\cdot \\mathrm{distance}  = 9.000 \\cdot \\left( \\frac{ \\left( 500.000\\ \\mathrm{mm} \\right) ^{ 4 } }{ 12 } \\right) \\cdot 33.250\\ \\mathrm{m} &= 1.559\\ \\mathrm{m}^{5}  \n",
       "\\\\[10pt]\n",
       "\\mathrm{Rn}_{Col_{Total}} &= \\mathrm{Col}_{No} \\cdot \\frac{ \\left( \\mathrm{length}_{col} \\right) ^{ 4 } }{ 12 }  = 9.000 \\cdot \\frac{ \\left( 500.000\\ \\mathrm{mm} \\right) ^{ 4 } }{ 12 } &= 46875000000.000\\ \\mathrm{mm}^{4}  \n",
       "\\\\[10pt]\n",
       "\\mathrm{AnXn}_{Beam_{Total}} &= \\Sigma \\left( \\mathrm{length}_{girder} \\cdot \\mathrm{width}_{girder} \\cdot \\mathrm{height}_{girder} \\cdot \\gamma_{c} \\cdot \\mathrm{distance} \\right)  = \\Sigma \\left( [5.000\\ \\mathrm{m},\\ 5.000\\ \\mathrm{m},\\ 5.000\\ \\mathrm{m},\\ 5.000\\ \\mathrm{m},\\ 6.000\\ \\mathrm{m},\\ 6.000\\ \\mathrm{m},\\ 6.000\\ \\mathrm{m},\\ 6.000\\ \\mathrm{m}] \\cdot 400.000\\ \\mathrm{mm} \\cdot 600.000\\ \\mathrm{mm} \\cdot 23.560\\ \\mathrm{kN/m³} \\cdot 33.250\\ \\mathrm{m} \\right) &= 8.272\\ \\mathrm{MN} \\cdot \\mathrm{m}  \n",
       "\\\\[10pt]\n",
       "\\mathrm{An}_{Beam_{Total}} &= \\Sigma \\left( \\mathrm{length}_{girder} \\cdot \\mathrm{width}_{girder} \\cdot \\mathrm{height}_{girder} \\cdot \\gamma_{c} \\right)  = \\Sigma \\left( [5.000\\ \\mathrm{m},\\ 5.000\\ \\mathrm{m},\\ 5.000\\ \\mathrm{m},\\ 5.000\\ \\mathrm{m},\\ 6.000\\ \\mathrm{m},\\ 6.000\\ \\mathrm{m},\\ 6.000\\ \\mathrm{m},\\ 6.000\\ \\mathrm{m}] \\cdot 400.000\\ \\mathrm{mm} \\cdot 600.000\\ \\mathrm{mm} \\cdot 23.560\\ \\mathrm{kN/m³} \\right) &= 248.794\\ \\mathrm{kN}  \n",
       "\\end{aligned}\n",
       "\\]"
      ],
      "text/plain": [
       "<IPython.core.display.Latex object>"
      ]
     },
     "metadata": {},
     "output_type": "display_data"
    },
    {
     "data": {
      "text/latex": [
       "\\[\n",
       "\\begin{aligned}\n",
       "\\mathrm{Grid} &= 8 \\; \n",
       "\\\\[10pt]\n",
       "\\mathrm{AnDn}_{Col_{Total}} &= \\mathrm{Col}_{No} \\cdot \\mathrm{distance} \\cdot \\mathrm{length}_{col} \\cdot \\mathrm{width}_{col} \\cdot \\mathrm{height}_{col} \\cdot \\gamma_{c}  = 7.000 \\cdot 39.250\\ \\mathrm{m} \\cdot 500.000\\ \\mathrm{mm} \\cdot 500.000\\ \\mathrm{mm} \\cdot 3.500\\ \\mathrm{m} \\cdot 23.560\\ \\mathrm{kN/m³} &= 5.664\\ \\mathrm{MN} \\cdot \\mathrm{m}  \n",
       "\\\\[10pt]\n",
       "\\mathrm{An}_{Col_{Total}} &= \\mathrm{Col}_{No} \\cdot \\mathrm{length}_{col} \\cdot \\mathrm{width}_{col} \\cdot \\mathrm{height}_{col} \\cdot \\gamma_{c}  = 7.000 \\cdot 500.000\\ \\mathrm{mm} \\cdot 500.000\\ \\mathrm{mm} \\cdot 3.500\\ \\mathrm{m} \\cdot 23.560\\ \\mathrm{kN/m³} &= 144.305\\ \\mathrm{kN}  \n",
       "\\\\[10pt]\n",
       "\\mathrm{RnDn}_{Col_{Total}} &= \\mathrm{Col}_{No} \\cdot \\left( \\frac{ \\left( \\mathrm{length}_{col} \\right) ^{ 4 } }{ 12 } \\right) \\cdot \\mathrm{distance}  = 7.000 \\cdot \\left( \\frac{ \\left( 500.000\\ \\mathrm{mm} \\right) ^{ 4 } }{ 12 } \\right) \\cdot 39.250\\ \\mathrm{m} &= 1.431\\ \\mathrm{m}^{5}  \n",
       "\\\\[10pt]\n",
       "\\mathrm{Rn}_{Col_{Total}} &= \\mathrm{Col}_{No} \\cdot \\frac{ \\left( \\mathrm{length}_{col} \\right) ^{ 4 } }{ 12 }  = 7.000 \\cdot \\frac{ \\left( 500.000\\ \\mathrm{mm} \\right) ^{ 4 } }{ 12 } &= 36458333333.333\\ \\mathrm{mm}^{4}  \n",
       "\\\\[10pt]\n",
       "\\mathrm{AnXn}_{Beam_{Total}} &= \\Sigma \\left( \\mathrm{length}_{girder} \\cdot \\mathrm{width}_{girder} \\cdot \\mathrm{height}_{girder} \\cdot \\gamma_{c} \\cdot \\mathrm{distance} \\right)  = \\Sigma \\left( [5.000\\ \\mathrm{m},\\ 5.000\\ \\mathrm{m},\\ 5.000\\ \\mathrm{m},\\ 5.000\\ \\mathrm{m},\\ 6.000\\ \\mathrm{m},\\ 6.000\\ \\mathrm{m},\\ nan,\\ nan] \\cdot 400.000\\ \\mathrm{mm} \\cdot 600.000\\ \\mathrm{mm} \\cdot 23.560\\ \\mathrm{kN/m³} \\cdot 39.250\\ \\mathrm{m} \\right) &= 7.102\\ \\mathrm{MN} \\cdot \\mathrm{m}  \n",
       "\\\\[10pt]\n",
       "\\mathrm{An}_{Beam_{Total}} &= \\Sigma \\left( \\mathrm{length}_{girder} \\cdot \\mathrm{width}_{girder} \\cdot \\mathrm{height}_{girder} \\cdot \\gamma_{c} \\right)  = \\Sigma \\left( [5.000\\ \\mathrm{m},\\ 5.000\\ \\mathrm{m},\\ 5.000\\ \\mathrm{m},\\ 5.000\\ \\mathrm{m},\\ 6.000\\ \\mathrm{m},\\ 6.000\\ \\mathrm{m},\\ nan,\\ nan] \\cdot 400.000\\ \\mathrm{mm} \\cdot 600.000\\ \\mathrm{mm} \\cdot 23.560\\ \\mathrm{kN/m³} \\right) &= 180.941\\ \\mathrm{kN}  \n",
       "\\end{aligned}\n",
       "\\]"
      ],
      "text/plain": [
       "<IPython.core.display.Latex object>"
      ]
     },
     "metadata": {},
     "output_type": "display_data"
    },
    {
     "data": {
      "text/latex": [
       "\\[\n",
       "\\begin{aligned}\n",
       "\\mathrm{Grid} &= 9 \\; \n",
       "\\\\[10pt]\n",
       "\\mathrm{AnDn}_{Col_{Total}} &= \\mathrm{Col}_{No} \\cdot \\mathrm{distance} \\cdot \\mathrm{length}_{col} \\cdot \\mathrm{width}_{col} \\cdot \\mathrm{height}_{col} \\cdot \\gamma_{c}  = 5.000 \\cdot 44.250\\ \\mathrm{m} \\cdot 500.000\\ \\mathrm{mm} \\cdot 500.000\\ \\mathrm{mm} \\cdot 3.500\\ \\mathrm{m} \\cdot 23.560\\ \\mathrm{kN/m³} &= 4.561\\ \\mathrm{MN} \\cdot \\mathrm{m}  \n",
       "\\\\[10pt]\n",
       "\\mathrm{An}_{Col_{Total}} &= \\mathrm{Col}_{No} \\cdot \\mathrm{length}_{col} \\cdot \\mathrm{width}_{col} \\cdot \\mathrm{height}_{col} \\cdot \\gamma_{c}  = 5.000 \\cdot 500.000\\ \\mathrm{mm} \\cdot 500.000\\ \\mathrm{mm} \\cdot 3.500\\ \\mathrm{m} \\cdot 23.560\\ \\mathrm{kN/m³} &= 103.075\\ \\mathrm{kN}  \n",
       "\\\\[10pt]\n",
       "\\mathrm{RnDn}_{Col_{Total}} &= \\mathrm{Col}_{No} \\cdot \\left( \\frac{ \\left( \\mathrm{length}_{col} \\right) ^{ 4 } }{ 12 } \\right) \\cdot \\mathrm{distance}  = 5.000 \\cdot \\left( \\frac{ \\left( 500.000\\ \\mathrm{mm} \\right) ^{ 4 } }{ 12 } \\right) \\cdot 44.250\\ \\mathrm{m} &= 1.152\\ \\mathrm{m}^{5}  \n",
       "\\\\[10pt]\n",
       "\\mathrm{Rn}_{Col_{Total}} &= \\mathrm{Col}_{No} \\cdot \\frac{ \\left( \\mathrm{length}_{col} \\right) ^{ 4 } }{ 12 }  = 5.000 \\cdot \\frac{ \\left( 500.000\\ \\mathrm{mm} \\right) ^{ 4 } }{ 12 } &= 26041666666.667\\ \\mathrm{mm}^{4}  \n",
       "\\\\[10pt]\n",
       "\\mathrm{AnXn}_{Beam_{Total}} &= \\Sigma \\left( \\mathrm{length}_{girder} \\cdot \\mathrm{width}_{girder} \\cdot \\mathrm{height}_{girder} \\cdot \\gamma_{c} \\cdot \\mathrm{distance} \\right)  = \\Sigma \\left( [5.000\\ \\mathrm{m},\\ 5.000\\ \\mathrm{m},\\ 5.000\\ \\mathrm{m},\\ 5.000\\ \\mathrm{m},\\ 6.000\\ \\mathrm{m},\\ 6.000\\ \\mathrm{m},\\ nan,\\ nan] \\cdot 400.000\\ \\mathrm{mm} \\cdot 600.000\\ \\mathrm{mm} \\cdot 23.560\\ \\mathrm{kN/m³} \\cdot 44.250\\ \\mathrm{m} \\right) &= 8.007\\ \\mathrm{MN} \\cdot \\mathrm{m}  \n",
       "\\\\[10pt]\n",
       "\\mathrm{An}_{Beam_{Total}} &= \\Sigma \\left( \\mathrm{length}_{girder} \\cdot \\mathrm{width}_{girder} \\cdot \\mathrm{height}_{girder} \\cdot \\gamma_{c} \\right)  = \\Sigma \\left( [5.000\\ \\mathrm{m},\\ 5.000\\ \\mathrm{m},\\ 5.000\\ \\mathrm{m},\\ 5.000\\ \\mathrm{m},\\ 6.000\\ \\mathrm{m},\\ 6.000\\ \\mathrm{m},\\ nan,\\ nan] \\cdot 400.000\\ \\mathrm{mm} \\cdot 600.000\\ \\mathrm{mm} \\cdot 23.560\\ \\mathrm{kN/m³} \\right) &= 180.941\\ \\mathrm{kN}  \n",
       "\\end{aligned}\n",
       "\\]"
      ],
      "text/plain": [
       "<IPython.core.display.Latex object>"
      ]
     },
     "metadata": {},
     "output_type": "display_data"
    },
    {
     "data": {
      "text/latex": [
       "\\[\n",
       "\\begin{aligned}\n",
       "\\mathrm{AnDn}_{SW_{Total}} &= \\Sigma \\left( \\mathrm{length} \\cdot \\mathrm{distance} \\cdot \\mathrm{width} \\cdot \\mathrm{height} \\cdot \\gamma_{c} \\right) \\\\&= \\Sigma \\left( [6.000\\ \\mathrm{m},\\ 500.000\\ \\mathrm{mm},\\ 500.000\\ \\mathrm{mm},\\ 6.000\\ \\mathrm{m}] \\cdot [250.000\\ \\mathrm{mm},\\ 3.250\\ \\mathrm{m},\\ 3.250\\ \\mathrm{m},\\ 44.250\\ \\mathrm{m}] \\cdot 300.000\\ \\mathrm{mm} \\cdot 3.500\\ \\mathrm{m} \\cdot 23.560\\ \\mathrm{kN/m³} \\right) \\\\&= 6.685\\ \\mathrm{MN} \\cdot \\mathrm{m}  \\\\[10pt]\n",
       "\\\\[10pt]\n",
       "\\mathrm{An}_{SW_{Total}} &= \\Sigma \\left( \\mathrm{length} \\cdot \\mathrm{width} \\cdot \\mathrm{height} \\cdot \\gamma_{c} \\right) \\\\&= \\Sigma \\left( [6.000\\ \\mathrm{m},\\ 500.000\\ \\mathrm{mm},\\ 500.000\\ \\mathrm{mm},\\ 6.000\\ \\mathrm{m}] \\cdot 300.000\\ \\mathrm{mm} \\cdot 3.500\\ \\mathrm{m} \\cdot 23.560\\ \\mathrm{kN/m³} \\right) \\\\&= 321.594\\ \\mathrm{kN}  \\\\[10pt]\n",
       "\\\\[10pt]\n",
       "\\mathrm{RnDn}_{SW_{Total}} &= \\Sigma \\left( \\left( \\frac{ \\left( \\mathrm{length} \\right) ^{ 3 } \\cdot \\mathrm{width} }{ 12 } \\right) \\cdot \\mathrm{distance} \\right) \\\\&= \\Sigma \\left( \\left( \\frac{ \\left( [6.000\\ \\mathrm{m},\\ 500.000\\ \\mathrm{mm},\\ 500.000\\ \\mathrm{mm},\\ 6.000\\ \\mathrm{m}] \\right) ^{ 3 } \\cdot 300.000\\ \\mathrm{mm} }{ 12 } \\right) \\cdot [250.000\\ \\mathrm{mm},\\ 3.250\\ \\mathrm{m},\\ 3.250\\ \\mathrm{m},\\ 44.250\\ \\mathrm{m}] \\right) \\\\&= 240.320\\ \\mathrm{m}^{5}  \\\\[10pt]\n",
       "\\\\[10pt]\n",
       "\\mathrm{Rn}_{SW_{Total}} &= \\Sigma \\left( \\frac{ \\left( \\mathrm{length} \\right) ^{ 3 } \\cdot \\mathrm{width} }{ 12 } \\right) \\\\&= \\Sigma \\left( \\frac{ \\left( [6.000\\ \\mathrm{m},\\ 500.000\\ \\mathrm{mm},\\ 500.000\\ \\mathrm{mm},\\ 6.000\\ \\mathrm{m}] \\right) ^{ 3 } \\cdot 300.000\\ \\mathrm{mm} }{ 12 } \\right) \\\\&= 10.806\\ \\mathrm{m}^{4}  \\\\[10pt]\n",
       "\\end{aligned}\n",
       "\\]"
      ],
      "text/plain": [
       "<IPython.core.display.Latex object>"
      ]
     },
     "metadata": {},
     "output_type": "display_data"
    },
    {
     "data": {
      "text/latex": [
       "\\[\n",
       "\\begin{aligned}\n",
       "\\mathrm{AnDn}_{Slab_{Total}} &= \\Sigma \\left( \\mathrm{area} \\cdot \\mathrm{distance} \\cdot \\mathrm{height} \\cdot \\gamma_{c} \\right) \\\\&= \\Sigma \\left( [1936.000\\ \\mathrm{m}^{2},\\ -220.000\\ \\mathrm{m}^{2},\\ -132.000\\ \\mathrm{m}^{2}] \\cdot [22.000\\ \\mathrm{m},\\ 6.000\\ \\mathrm{m},\\ 39.000\\ \\mathrm{m}] \\cdot 130.000\\ \\mathrm{mm} \\cdot 23.560\\ \\mathrm{kN/m³} \\right) \\\\&= 110.641\\ \\mathrm{MN} \\cdot \\mathrm{m}  \\\\[10pt]\n",
       "\\\\[10pt]\n",
       "\\mathrm{An}_{Slab_{Total}} &= \\Sigma \\left( \\mathrm{area} \\cdot \\mathrm{height} \\cdot \\gamma_{c} \\right) \\\\&= \\Sigma \\left( [1936.000\\ \\mathrm{m}^{2},\\ -220.000\\ \\mathrm{m}^{2},\\ -132.000\\ \\mathrm{m}^{2}] \\cdot 130.000\\ \\mathrm{mm} \\cdot 23.560\\ \\mathrm{kN/m³} \\right) \\\\&= 4.851\\ \\mathrm{MN}  \\\\[10pt]\n",
       "\\end{aligned}\n",
       "\\]"
      ],
      "text/plain": [
       "<IPython.core.display.Latex object>"
      ]
     },
     "metadata": {},
     "output_type": "display_data"
    },
    {
     "data": {
      "text/latex": [
       "\\[\n",
       "\\begin{aligned}\n",
       "\\mathrm{AnDn}_{Wall_{Total}} &= \\Sigma \\left( \\mathrm{length} \\cdot \\mathrm{distance} \\cdot \\mathrm{width} \\cdot \\mathrm{height} \\cdot \\gamma_{c} \\cdot 0.7 \\right) \\\\&= \\Sigma \\left( [nan,\\ nan,\\ 5.000\\ \\mathrm{m},\\ 5.000\\ \\mathrm{m},\\ 5.000\\ \\mathrm{m},\\ 5.000\\ \\mathrm{m},\\ 5.000\\ \\mathrm{m},\\ 5.000\\ \\mathrm{m},\\ 5.000\\ \\mathrm{m},\\ 6.000\\ \\mathrm{m},\\ 6.000\\ \\mathrm{m},\\ 6.000\\ \\mathrm{m},\\ 6.000\\ \\mathrm{m},\\ 6.000\\ \\mathrm{m},\\ 6.000\\ \\mathrm{m},\\ 6.000\\ \\mathrm{m},\\ nan,\\ nan,\\ nan,\\ nan,\\ 5.000\\ \\mathrm{m},\\ 5.000\\ \\mathrm{m},\\ 5.000\\ \\mathrm{m},\\ 5.000\\ \\mathrm{m},\\ 5.000\\ \\mathrm{m},\\ 5.000\\ \\mathrm{m},\\ 5.000\\ \\mathrm{m}] \\cdot [nan,\\ nan,\\ nan,\\ nan,\\ 250.000\\ \\mathrm{mm},\\ 250.000\\ \\mathrm{mm},\\ 250.000\\ \\mathrm{mm},\\ 250.000\\ \\mathrm{mm},\\ 250.000\\ \\mathrm{mm},\\ 44.250\\ \\mathrm{m},\\ 44.250\\ \\mathrm{m},\\ 44.250\\ \\mathrm{m},\\ 44.250\\ \\mathrm{m},\\ 44.250\\ \\mathrm{m},\\ 44.250\\ \\mathrm{m},\\ 44.250\\ \\mathrm{m},\\ nan,\\ nan,\\ 11.250\\ \\mathrm{m},\\ 11.250\\ \\mathrm{m},\\ 11.250\\ \\mathrm{m},\\ 11.250\\ \\mathrm{m},\\ 11.250\\ \\mathrm{m},\\ 11.250\\ \\mathrm{m},\\ 11.250\\ \\mathrm{m},\\ 11.250\\ \\mathrm{m},\\ 11.250\\ \\mathrm{m}] \\cdot 150.000\\ \\mathrm{mm} \\cdot 3.500\\ \\mathrm{m} \\cdot 23.560\\ \\mathrm{kN/m³} \\cdot 0.7 \\right) \\\\&= 19.555\\ \\mathrm{MN} \\cdot \\mathrm{m}  \\\\[10pt]\n",
       "\\\\[10pt]\n",
       "\\mathrm{An}_{Wall_{Total}} &= \\Sigma \\left( \\mathrm{length} \\cdot \\mathrm{width} \\cdot \\mathrm{height} \\cdot \\gamma_{c} \\cdot 0.7 \\right) \\\\&= \\Sigma \\left( [nan,\\ nan,\\ 5.000\\ \\mathrm{m},\\ 5.000\\ \\mathrm{m},\\ 5.000\\ \\mathrm{m},\\ 5.000\\ \\mathrm{m},\\ 5.000\\ \\mathrm{m},\\ 5.000\\ \\mathrm{m},\\ 5.000\\ \\mathrm{m},\\ 6.000\\ \\mathrm{m},\\ 6.000\\ \\mathrm{m},\\ 6.000\\ \\mathrm{m},\\ 6.000\\ \\mathrm{m},\\ 6.000\\ \\mathrm{m},\\ 6.000\\ \\mathrm{m},\\ 6.000\\ \\mathrm{m},\\ nan,\\ nan,\\ nan,\\ nan,\\ 5.000\\ \\mathrm{m},\\ 5.000\\ \\mathrm{m},\\ 5.000\\ \\mathrm{m},\\ 5.000\\ \\mathrm{m},\\ 5.000\\ \\mathrm{m},\\ 5.000\\ \\mathrm{m},\\ 5.000\\ \\mathrm{m}] \\cdot 150.000\\ \\mathrm{mm} \\cdot 3.500\\ \\mathrm{m} \\cdot 23.560\\ \\mathrm{kN/m³} \\cdot 0.7 \\right) \\\\&= 969.730\\ \\mathrm{kN}  \\\\[10pt]\n",
       "\\end{aligned}\n",
       "\\]"
      ],
      "text/plain": [
       "<IPython.core.display.Latex object>"
      ]
     },
     "metadata": {},
     "output_type": "display_data"
    },
    {
     "data": {
      "text/latex": [
       "\\[\n",
       "\\begin{aligned}\n",
       "\\mathrm{AnDn}_{Col_{Total}} &= \\Sigma \\left( \\mathrm{AnDn}_{Col} \\right) \\\\&= \\Sigma \\left( [15.461\\ \\mathrm{kN} \\cdot \\mathrm{m},\\ 644.219\\ \\mathrm{kN} \\cdot \\mathrm{m},\\ 2.087\\ \\mathrm{MN} \\cdot \\mathrm{m},\\ 3.200\\ \\mathrm{MN} \\cdot \\mathrm{m},\\ 4.128\\ \\mathrm{MN} \\cdot \\mathrm{m},\\ 5.241\\ \\mathrm{MN} \\cdot \\mathrm{m},\\ 6.169\\ \\mathrm{MN} \\cdot \\mathrm{m},\\ 5.664\\ \\mathrm{MN} \\cdot \\mathrm{m},\\ 4.561\\ \\mathrm{MN} \\cdot \\mathrm{m}] \\right) \\\\&= 31.711\\ \\mathrm{MN} \\cdot \\mathrm{m}  \\\\[10pt]\n",
       "\\\\[10pt]\n",
       "\\mathrm{An}_{Col_{Total}} &= \\Sigma \\left( \\mathrm{An}_{Col} \\right) \\\\&= \\Sigma \\left( [61.845\\ \\mathrm{kN},\\ 103.075\\ \\mathrm{kN},\\ 185.535\\ \\mathrm{kN},\\ 185.535\\ \\mathrm{kN},\\ 185.535\\ \\mathrm{kN},\\ 185.535\\ \\mathrm{kN},\\ 185.535\\ \\mathrm{kN},\\ 144.305\\ \\mathrm{kN},\\ 103.075\\ \\mathrm{kN}] \\right) \\\\&= 1.340\\ \\mathrm{MN}  \\\\[10pt]\n",
       "\\\\[10pt]\n",
       "\\mathrm{RnDn}_{Col_{Total}} &= \\Sigma \\left( \\mathrm{RnDn}_{Col} \\right) \\\\&= \\Sigma \\left( [3906250000000.000\\ \\mathrm{mm}^{5},\\ 162760416666666.656\\ \\mathrm{mm}^{5},\\ 527343749999999.938\\ \\mathrm{mm}^{5},\\ 808593749999999.875\\ \\mathrm{mm}^{5},\\ 1.043\\ \\mathrm{m}^{5},\\ 1.324\\ \\mathrm{m}^{5},\\ 1.559\\ \\mathrm{m}^{5},\\ 1.431\\ \\mathrm{m}^{5},\\ 1.152\\ \\mathrm{m}^{5}] \\right) \\\\&= 8.012\\ \\mathrm{m}^{5}  \\\\[10pt]\n",
       "\\\\[10pt]\n",
       "\\mathrm{Rn}_{Col_{Total}} &= \\Sigma \\left( \\mathrm{Rn}_{Col} \\right) \\\\&= \\Sigma \\left( [15625000000.000\\ \\mathrm{mm}^{4},\\ 26041666666.667\\ \\mathrm{mm}^{4},\\ 46875000000.000\\ \\mathrm{mm}^{4},\\ 46875000000.000\\ \\mathrm{mm}^{4},\\ 46875000000.000\\ \\mathrm{mm}^{4},\\ 46875000000.000\\ \\mathrm{mm}^{4},\\ 46875000000.000\\ \\mathrm{mm}^{4},\\ 36458333333.333\\ \\mathrm{mm}^{4},\\ 26041666666.667\\ \\mathrm{mm}^{4}] \\right) \\\\&= 338541666666.667\\ \\mathrm{mm}^{4}  \\\\[10pt]\n",
       "\\\\[10pt]\n",
       "\\mathrm{AnDn}_{Beam_{Total}} &= \\Sigma \\left( \\mathrm{AnDn}_{Beam} \\right) \\\\&= \\Sigma \\left( [33.926\\ \\mathrm{kN} \\cdot \\mathrm{m},\\ 848.160\\ \\mathrm{kN} \\cdot \\mathrm{m},\\ 2.799\\ \\mathrm{MN} \\cdot \\mathrm{m},\\ 4.292\\ \\mathrm{MN} \\cdot \\mathrm{m},\\ 5.536\\ \\mathrm{MN} \\cdot \\mathrm{m},\\ 7.028\\ \\mathrm{MN} \\cdot \\mathrm{m},\\ 8.272\\ \\mathrm{MN} \\cdot \\mathrm{m},\\ 7.102\\ \\mathrm{MN} \\cdot \\mathrm{m},\\ 8.007\\ \\mathrm{MN} \\cdot \\mathrm{m}] \\right) \\\\&= 43.918\\ \\mathrm{MN} \\cdot \\mathrm{m}  \\\\[10pt]\n",
       "\\\\[10pt]\n",
       "\\mathrm{An}_{Beam_{Total}} &= \\Sigma \\left( \\mathrm{An}_{Beam} \\right) \\\\&= \\Sigma \\left( [135.706\\ \\mathrm{kN},\\ 135.706\\ \\mathrm{kN},\\ 248.794\\ \\mathrm{kN},\\ 248.794\\ \\mathrm{kN},\\ 248.794\\ \\mathrm{kN},\\ 248.794\\ \\mathrm{kN},\\ 248.794\\ \\mathrm{kN},\\ 180.941\\ \\mathrm{kN},\\ 180.941\\ \\mathrm{kN}] \\right) \\\\&= 1.877\\ \\mathrm{MN}  \\\\[10pt]\n",
       "\\\\[10pt]\n",
       "\\mathrm{AnDn}_{SW_{Total}} &= \\Sigma \\left( \\mathrm{AnDn}_{SW} \\right) \\\\&= \\Sigma \\left( [6.685\\ \\mathrm{MN} \\cdot \\mathrm{m}] \\right) \\\\&= 6.685\\ \\mathrm{MN} \\cdot \\mathrm{m}  \\\\[10pt]\n",
       "\\\\[10pt]\n",
       "\\mathrm{An}_{SW_{Total}} &= \\Sigma \\left( \\mathrm{An}_{SW} \\right) \\\\&= \\Sigma \\left( [321.594\\ \\mathrm{kN}] \\right) \\\\&= 321.594\\ \\mathrm{kN}  \\\\[10pt]\n",
       "\\\\[10pt]\n",
       "\\mathrm{RnDn}_{SW_{Total}} &= \\Sigma \\left( \\mathrm{RnDn}_{SW_{Total}} \\right) \\\\&= \\Sigma \\left( 240.320\\ \\mathrm{m}^{5} \\right) \\\\&= 240.320\\ \\mathrm{m}^{5}  \\\\[10pt]\n",
       "\\\\[10pt]\n",
       "\\mathrm{Rn}_{SW_{Total}} &= \\Sigma \\left( \\mathrm{Rn}_{SW} \\right) \\\\&= \\Sigma \\left( [10.806\\ \\mathrm{m}^{4}] \\right) \\\\&= 10.806\\ \\mathrm{m}^{4}  \\\\[10pt]\n",
       "\\\\[10pt]\n",
       "\\mathrm{AnDn}_{Slab_{Total}} &= \\Sigma \\left( \\mathrm{AnDn}_{Slab} \\right) \\\\&= \\Sigma \\left( [110.641\\ \\mathrm{MN} \\cdot \\mathrm{m}] \\right) \\\\&= 110.641\\ \\mathrm{MN} \\cdot \\mathrm{m}  \\\\[10pt]\n",
       "\\\\[10pt]\n",
       "\\mathrm{An}_{Slab_{Total}} &= \\Sigma \\left( \\mathrm{An}_{Slab} \\right) \\\\&= \\Sigma \\left( [4.851\\ \\mathrm{MN}] \\right) \\\\&= 4.851\\ \\mathrm{MN}  \\\\[10pt]\n",
       "\\\\[10pt]\n",
       "\\mathrm{AnDn}_{Wall_{Total}} &= \\Sigma \\left( \\mathrm{AnDn}_{Wall} \\right) \\\\&= \\Sigma \\left( [19.555\\ \\mathrm{MN} \\cdot \\mathrm{m}] \\right) \\\\&= 19.555\\ \\mathrm{MN} \\cdot \\mathrm{m}  \\\\[10pt]\n",
       "\\\\[10pt]\n",
       "\\mathrm{An}_{Wall_{Total}} &= \\Sigma \\left( \\mathrm{An}_{Wall} \\right) \\\\&= \\Sigma \\left( [969.730\\ \\mathrm{kN}] \\right) \\\\&= 969.730\\ \\mathrm{kN}  \\\\[10pt]\n",
       "\\end{aligned}\n",
       "\\]"
      ],
      "text/plain": [
       "<IPython.core.display.Latex object>"
      ]
     },
     "metadata": {},
     "output_type": "display_data"
    },
    {
     "data": {
      "text/latex": [
       "\\[\n",
       "\\begin{aligned}\n",
       "\\mathrm{AnDn} &= \\Sigma \\left( \\mathrm{AnDn}_{Col_{Total}} + \\mathrm{AnDn}_{SW_{Total}} + \\mathrm{AnDn}_{Slab_{Total}} + \\mathrm{AnDn}_{Wall_{Total}} + \\mathrm{AnDn}_{Beam_{Total}} \\right) \\\\&= \\Sigma \\left( 31.711\\ \\mathrm{MN} \\cdot \\mathrm{m} + 6.685\\ \\mathrm{MN} \\cdot \\mathrm{m} + 110.641\\ \\mathrm{MN} \\cdot \\mathrm{m} + 19.555\\ \\mathrm{MN} \\cdot \\mathrm{m} + 43.918\\ \\mathrm{MN} \\cdot \\mathrm{m} \\right) \\\\&= 212.510\\ \\mathrm{MN} \\cdot \\mathrm{m}  \\\\[10pt]\n",
       "\\\\[10pt]\n",
       "\\mathrm{An} &= \\Sigma \\left( \\mathrm{An}_{Col_{Total}} + \\mathrm{An}_{SW_{Total}} + \\mathrm{An}_{Slab_{Total}} + \\mathrm{An}_{Wall_{Total}} + \\mathrm{An}_{Beam_{Total}} \\right) \\\\&= \\Sigma \\left( 1.340\\ \\mathrm{MN} + 321.594\\ \\mathrm{kN} + 4.851\\ \\mathrm{MN} + 969.730\\ \\mathrm{kN} + 1.877\\ \\mathrm{MN} \\right) \\\\&= 9.360\\ \\mathrm{MN}  \\\\[10pt]\n",
       "\\\\[10pt]\n",
       "\\mathrm{RnDn} &= \\Sigma \\left( \\mathrm{RnDn}_{Col_{Total}} + \\mathrm{RnDn}_{SW_{Total}} \\right) \\\\&= \\Sigma \\left( 8.012\\ \\mathrm{m}^{5} + 240.320\\ \\mathrm{m}^{5} \\right) \\\\&= 248.332\\ \\mathrm{m}^{5}  \\\\[10pt]\n",
       "\\\\[10pt]\n",
       "\\mathrm{Rn} &= \\Sigma \\left( \\mathrm{Rn}_{Col_{Total}} + \\mathrm{Rn}_{SW_{Total}} \\right) \\\\&= \\Sigma \\left( 338541666666.667\\ \\mathrm{mm}^{4} + 10.806\\ \\mathrm{m}^{4} \\right) \\\\&= 11.145\\ \\mathrm{m}^{4}  \\\\[10pt]\n",
       "\\\\[10pt]\n",
       "C_{m} &= \\frac{ \\Sigma \\left( \\mathrm{AnDn} \\right) }{ \\Sigma \\left( \\mathrm{An} \\right) } \\\\&= \\frac{ \\Sigma \\left( 212.510\\ \\mathrm{MN} \\cdot \\mathrm{m} \\right) }{ \\Sigma \\left( 9.360\\ \\mathrm{MN} \\right) } \\\\&= 22.704\\ \\mathrm{m}  \\\\[10pt]\n",
       "\\\\[10pt]\n",
       "C_{r} &= \\frac{ \\Sigma \\left( \\mathrm{RnDn} \\right) }{ \\Sigma \\left( \\mathrm{Rn} \\right) } \\\\&= \\frac{ \\Sigma \\left( 248.332\\ \\mathrm{m}^{5} \\right) }{ \\Sigma \\left( 11.145\\ \\mathrm{m}^{4} \\right) } \\\\&= 22.282\\ \\mathrm{m}  \\\\[10pt]\n",
       "\\end{aligned}\n",
       "\\]"
      ],
      "text/plain": [
       "<IPython.core.display.Latex object>"
      ]
     },
     "metadata": {},
     "output_type": "display_data"
    },
    {
     "data": {
      "text/markdown": [
       "## FLOOR - 4 - X AXIS\n",
       "            "
      ],
      "text/plain": [
       "<IPython.core.display.Markdown object>"
      ]
     },
     "metadata": {},
     "output_type": "display_data"
    },
    {
     "data": {
      "text/latex": [
       "\\[\n",
       "\\begin{aligned}\n",
       "\\mathrm{Grid} &= 1 \\; \n",
       "\\\\[10pt]\n",
       "\\mathrm{AnDn}_{Col_{Total}} &= \\mathrm{Col}_{No} \\cdot \\mathrm{distance} \\cdot \\mathrm{length}_{col} \\cdot \\mathrm{width}_{col} \\cdot \\mathrm{height}_{col} \\cdot \\gamma_{c}  = 3.000 \\cdot 250.000\\ \\mathrm{mm} \\cdot 500.000\\ \\mathrm{mm} \\cdot 500.000\\ \\mathrm{mm} \\cdot 3.500\\ \\mathrm{m} \\cdot 23.560\\ \\mathrm{kN/m³} &= 15.461\\ \\mathrm{kN} \\cdot \\mathrm{m}  \n",
       "\\\\[10pt]\n",
       "\\mathrm{An}_{Col_{Total}} &= \\mathrm{Col}_{No} \\cdot \\mathrm{length}_{col} \\cdot \\mathrm{width}_{col} \\cdot \\mathrm{height}_{col} \\cdot \\gamma_{c}  = 3.000 \\cdot 500.000\\ \\mathrm{mm} \\cdot 500.000\\ \\mathrm{mm} \\cdot 3.500\\ \\mathrm{m} \\cdot 23.560\\ \\mathrm{kN/m³} &= 61.845\\ \\mathrm{kN}  \n",
       "\\\\[10pt]\n",
       "\\mathrm{RnDn}_{Col_{Total}} &= \\mathrm{Col}_{No} \\cdot \\left( \\frac{ \\left( \\mathrm{length}_{col} \\right) ^{ 4 } }{ 12 } \\right) \\cdot \\mathrm{distance}  = 3.000 \\cdot \\left( \\frac{ \\left( 500.000\\ \\mathrm{mm} \\right) ^{ 4 } }{ 12 } \\right) \\cdot 250.000\\ \\mathrm{mm} &= 3906250000000.000\\ \\mathrm{mm}^{5}  \n",
       "\\\\[10pt]\n",
       "\\mathrm{Rn}_{Col_{Total}} &= \\mathrm{Col}_{No} \\cdot \\frac{ \\left( \\mathrm{length}_{col} \\right) ^{ 4 } }{ 12 }  = 3.000 \\cdot \\frac{ \\left( 500.000\\ \\mathrm{mm} \\right) ^{ 4 } }{ 12 } &= 15625000000.000\\ \\mathrm{mm}^{4}  \n",
       "\\\\[10pt]\n",
       "\\mathrm{AnXn}_{Beam_{Total}} &= \\Sigma \\left( \\mathrm{length}_{girder} \\cdot \\mathrm{width}_{girder} \\cdot \\mathrm{height}_{girder} \\cdot \\gamma_{c} \\cdot \\mathrm{distance} \\right)  = \\Sigma \\left( [nan,\\ nan,\\ nan,\\ nan,\\ 6.000\\ \\mathrm{m},\\ 6.000\\ \\mathrm{m},\\ 6.000\\ \\mathrm{m},\\ 6.000\\ \\mathrm{m}] \\cdot 400.000\\ \\mathrm{mm} \\cdot 600.000\\ \\mathrm{mm} \\cdot 23.560\\ \\mathrm{kN/m³} \\cdot 250.000\\ \\mathrm{mm} \\right) &= 33.926\\ \\mathrm{kN} \\cdot \\mathrm{m}  \n",
       "\\\\[10pt]\n",
       "\\mathrm{An}_{Beam_{Total}} &= \\Sigma \\left( \\mathrm{length}_{girder} \\cdot \\mathrm{width}_{girder} \\cdot \\mathrm{height}_{girder} \\cdot \\gamma_{c} \\right)  = \\Sigma \\left( [nan,\\ nan,\\ nan,\\ nan,\\ 6.000\\ \\mathrm{m},\\ 6.000\\ \\mathrm{m},\\ 6.000\\ \\mathrm{m},\\ 6.000\\ \\mathrm{m}] \\cdot 400.000\\ \\mathrm{mm} \\cdot 600.000\\ \\mathrm{mm} \\cdot 23.560\\ \\mathrm{kN/m³} \\right) &= 135.706\\ \\mathrm{kN}  \n",
       "\\end{aligned}\n",
       "\\]"
      ],
      "text/plain": [
       "<IPython.core.display.Latex object>"
      ]
     },
     "metadata": {},
     "output_type": "display_data"
    },
    {
     "data": {
      "text/latex": [
       "\\[\n",
       "\\begin{aligned}\n",
       "\\mathrm{Grid} &= 2 \\; \n",
       "\\\\[10pt]\n",
       "\\mathrm{AnDn}_{Col_{Total}} &= \\mathrm{Col}_{No} \\cdot \\mathrm{distance} \\cdot \\mathrm{length}_{col} \\cdot \\mathrm{width}_{col} \\cdot \\mathrm{height}_{col} \\cdot \\gamma_{c}  = 5.000 \\cdot 6.250\\ \\mathrm{m} \\cdot 500.000\\ \\mathrm{mm} \\cdot 500.000\\ \\mathrm{mm} \\cdot 3.500\\ \\mathrm{m} \\cdot 23.560\\ \\mathrm{kN/m³} &= 644.219\\ \\mathrm{kN} \\cdot \\mathrm{m}  \n",
       "\\\\[10pt]\n",
       "\\mathrm{An}_{Col_{Total}} &= \\mathrm{Col}_{No} \\cdot \\mathrm{length}_{col} \\cdot \\mathrm{width}_{col} \\cdot \\mathrm{height}_{col} \\cdot \\gamma_{c}  = 5.000 \\cdot 500.000\\ \\mathrm{mm} \\cdot 500.000\\ \\mathrm{mm} \\cdot 3.500\\ \\mathrm{m} \\cdot 23.560\\ \\mathrm{kN/m³} &= 103.075\\ \\mathrm{kN}  \n",
       "\\\\[10pt]\n",
       "\\mathrm{RnDn}_{Col_{Total}} &= \\mathrm{Col}_{No} \\cdot \\left( \\frac{ \\left( \\mathrm{length}_{col} \\right) ^{ 4 } }{ 12 } \\right) \\cdot \\mathrm{distance}  = 5.000 \\cdot \\left( \\frac{ \\left( 500.000\\ \\mathrm{mm} \\right) ^{ 4 } }{ 12 } \\right) \\cdot 6.250\\ \\mathrm{m} &= 162760416666666.656\\ \\mathrm{mm}^{5}  \n",
       "\\\\[10pt]\n",
       "\\mathrm{Rn}_{Col_{Total}} &= \\mathrm{Col}_{No} \\cdot \\frac{ \\left( \\mathrm{length}_{col} \\right) ^{ 4 } }{ 12 }  = 5.000 \\cdot \\frac{ \\left( 500.000\\ \\mathrm{mm} \\right) ^{ 4 } }{ 12 } &= 26041666666.667\\ \\mathrm{mm}^{4}  \n",
       "\\\\[10pt]\n",
       "\\mathrm{AnXn}_{Beam_{Total}} &= \\Sigma \\left( \\mathrm{length}_{girder} \\cdot \\mathrm{width}_{girder} \\cdot \\mathrm{height}_{girder} \\cdot \\gamma_{c} \\cdot \\mathrm{distance} \\right)  = \\Sigma \\left( [nan,\\ nan,\\ nan,\\ nan,\\ 6.000\\ \\mathrm{m},\\ 6.000\\ \\mathrm{m},\\ 6.000\\ \\mathrm{m},\\ 6.000\\ \\mathrm{m}] \\cdot 400.000\\ \\mathrm{mm} \\cdot 600.000\\ \\mathrm{mm} \\cdot 23.560\\ \\mathrm{kN/m³} \\cdot 6.250\\ \\mathrm{m} \\right) &= 848.160\\ \\mathrm{kN} \\cdot \\mathrm{m}  \n",
       "\\\\[10pt]\n",
       "\\mathrm{An}_{Beam_{Total}} &= \\Sigma \\left( \\mathrm{length}_{girder} \\cdot \\mathrm{width}_{girder} \\cdot \\mathrm{height}_{girder} \\cdot \\gamma_{c} \\right)  = \\Sigma \\left( [nan,\\ nan,\\ nan,\\ nan,\\ 6.000\\ \\mathrm{m},\\ 6.000\\ \\mathrm{m},\\ 6.000\\ \\mathrm{m},\\ 6.000\\ \\mathrm{m}] \\cdot 400.000\\ \\mathrm{mm} \\cdot 600.000\\ \\mathrm{mm} \\cdot 23.560\\ \\mathrm{kN/m³} \\right) &= 135.706\\ \\mathrm{kN}  \n",
       "\\end{aligned}\n",
       "\\]"
      ],
      "text/plain": [
       "<IPython.core.display.Latex object>"
      ]
     },
     "metadata": {},
     "output_type": "display_data"
    },
    {
     "data": {
      "text/latex": [
       "\\[\n",
       "\\begin{aligned}\n",
       "\\mathrm{Grid} &= 3 \\; \n",
       "\\\\[10pt]\n",
       "\\mathrm{AnDn}_{Col_{Total}} &= \\mathrm{Col}_{No} \\cdot \\mathrm{distance} \\cdot \\mathrm{length}_{col} \\cdot \\mathrm{width}_{col} \\cdot \\mathrm{height}_{col} \\cdot \\gamma_{c}  = 9.000 \\cdot 11.250\\ \\mathrm{m} \\cdot 500.000\\ \\mathrm{mm} \\cdot 500.000\\ \\mathrm{mm} \\cdot 3.500\\ \\mathrm{m} \\cdot 23.560\\ \\mathrm{kN/m³} &= 2.087\\ \\mathrm{MN} \\cdot \\mathrm{m}  \n",
       "\\\\[10pt]\n",
       "\\mathrm{An}_{Col_{Total}} &= \\mathrm{Col}_{No} \\cdot \\mathrm{length}_{col} \\cdot \\mathrm{width}_{col} \\cdot \\mathrm{height}_{col} \\cdot \\gamma_{c}  = 9.000 \\cdot 500.000\\ \\mathrm{mm} \\cdot 500.000\\ \\mathrm{mm} \\cdot 3.500\\ \\mathrm{m} \\cdot 23.560\\ \\mathrm{kN/m³} &= 185.535\\ \\mathrm{kN}  \n",
       "\\\\[10pt]\n",
       "\\mathrm{RnDn}_{Col_{Total}} &= \\mathrm{Col}_{No} \\cdot \\left( \\frac{ \\left( \\mathrm{length}_{col} \\right) ^{ 4 } }{ 12 } \\right) \\cdot \\mathrm{distance}  = 9.000 \\cdot \\left( \\frac{ \\left( 500.000\\ \\mathrm{mm} \\right) ^{ 4 } }{ 12 } \\right) \\cdot 11.250\\ \\mathrm{m} &= 527343749999999.938\\ \\mathrm{mm}^{5}  \n",
       "\\\\[10pt]\n",
       "\\mathrm{Rn}_{Col_{Total}} &= \\mathrm{Col}_{No} \\cdot \\frac{ \\left( \\mathrm{length}_{col} \\right) ^{ 4 } }{ 12 }  = 9.000 \\cdot \\frac{ \\left( 500.000\\ \\mathrm{mm} \\right) ^{ 4 } }{ 12 } &= 46875000000.000\\ \\mathrm{mm}^{4}  \n",
       "\\\\[10pt]\n",
       "\\mathrm{AnXn}_{Beam_{Total}} &= \\Sigma \\left( \\mathrm{length}_{girder} \\cdot \\mathrm{width}_{girder} \\cdot \\mathrm{height}_{girder} \\cdot \\gamma_{c} \\cdot \\mathrm{distance} \\right)  = \\Sigma \\left( [5.000\\ \\mathrm{m},\\ 5.000\\ \\mathrm{m},\\ 5.000\\ \\mathrm{m},\\ 5.000\\ \\mathrm{m},\\ 6.000\\ \\mathrm{m},\\ 6.000\\ \\mathrm{m},\\ 6.000\\ \\mathrm{m},\\ 6.000\\ \\mathrm{m}] \\cdot 400.000\\ \\mathrm{mm} \\cdot 600.000\\ \\mathrm{mm} \\cdot 23.560\\ \\mathrm{kN/m³} \\cdot 11.250\\ \\mathrm{m} \\right) &= 2.799\\ \\mathrm{MN} \\cdot \\mathrm{m}  \n",
       "\\\\[10pt]\n",
       "\\mathrm{An}_{Beam_{Total}} &= \\Sigma \\left( \\mathrm{length}_{girder} \\cdot \\mathrm{width}_{girder} \\cdot \\mathrm{height}_{girder} \\cdot \\gamma_{c} \\right)  = \\Sigma \\left( [5.000\\ \\mathrm{m},\\ 5.000\\ \\mathrm{m},\\ 5.000\\ \\mathrm{m},\\ 5.000\\ \\mathrm{m},\\ 6.000\\ \\mathrm{m},\\ 6.000\\ \\mathrm{m},\\ 6.000\\ \\mathrm{m},\\ 6.000\\ \\mathrm{m}] \\cdot 400.000\\ \\mathrm{mm} \\cdot 600.000\\ \\mathrm{mm} \\cdot 23.560\\ \\mathrm{kN/m³} \\right) &= 248.794\\ \\mathrm{kN}  \n",
       "\\end{aligned}\n",
       "\\]"
      ],
      "text/plain": [
       "<IPython.core.display.Latex object>"
      ]
     },
     "metadata": {},
     "output_type": "display_data"
    },
    {
     "data": {
      "text/latex": [
       "\\[\n",
       "\\begin{aligned}\n",
       "\\mathrm{Grid} &= 4 \\; \n",
       "\\\\[10pt]\n",
       "\\mathrm{AnDn}_{Col_{Total}} &= \\mathrm{Col}_{No} \\cdot \\mathrm{distance} \\cdot \\mathrm{length}_{col} \\cdot \\mathrm{width}_{col} \\cdot \\mathrm{height}_{col} \\cdot \\gamma_{c}  = 9.000 \\cdot 17.250\\ \\mathrm{m} \\cdot 500.000\\ \\mathrm{mm} \\cdot 500.000\\ \\mathrm{mm} \\cdot 3.500\\ \\mathrm{m} \\cdot 23.560\\ \\mathrm{kN/m³} &= 3.200\\ \\mathrm{MN} \\cdot \\mathrm{m}  \n",
       "\\\\[10pt]\n",
       "\\mathrm{An}_{Col_{Total}} &= \\mathrm{Col}_{No} \\cdot \\mathrm{length}_{col} \\cdot \\mathrm{width}_{col} \\cdot \\mathrm{height}_{col} \\cdot \\gamma_{c}  = 9.000 \\cdot 500.000\\ \\mathrm{mm} \\cdot 500.000\\ \\mathrm{mm} \\cdot 3.500\\ \\mathrm{m} \\cdot 23.560\\ \\mathrm{kN/m³} &= 185.535\\ \\mathrm{kN}  \n",
       "\\\\[10pt]\n",
       "\\mathrm{RnDn}_{Col_{Total}} &= \\mathrm{Col}_{No} \\cdot \\left( \\frac{ \\left( \\mathrm{length}_{col} \\right) ^{ 4 } }{ 12 } \\right) \\cdot \\mathrm{distance}  = 9.000 \\cdot \\left( \\frac{ \\left( 500.000\\ \\mathrm{mm} \\right) ^{ 4 } }{ 12 } \\right) \\cdot 17.250\\ \\mathrm{m} &= 808593749999999.875\\ \\mathrm{mm}^{5}  \n",
       "\\\\[10pt]\n",
       "\\mathrm{Rn}_{Col_{Total}} &= \\mathrm{Col}_{No} \\cdot \\frac{ \\left( \\mathrm{length}_{col} \\right) ^{ 4 } }{ 12 }  = 9.000 \\cdot \\frac{ \\left( 500.000\\ \\mathrm{mm} \\right) ^{ 4 } }{ 12 } &= 46875000000.000\\ \\mathrm{mm}^{4}  \n",
       "\\\\[10pt]\n",
       "\\mathrm{AnXn}_{Beam_{Total}} &= \\Sigma \\left( \\mathrm{length}_{girder} \\cdot \\mathrm{width}_{girder} \\cdot \\mathrm{height}_{girder} \\cdot \\gamma_{c} \\cdot \\mathrm{distance} \\right)  = \\Sigma \\left( [5.000\\ \\mathrm{m},\\ 5.000\\ \\mathrm{m},\\ 5.000\\ \\mathrm{m},\\ 5.000\\ \\mathrm{m},\\ 6.000\\ \\mathrm{m},\\ 6.000\\ \\mathrm{m},\\ 6.000\\ \\mathrm{m},\\ 6.000\\ \\mathrm{m}] \\cdot 400.000\\ \\mathrm{mm} \\cdot 600.000\\ \\mathrm{mm} \\cdot 23.560\\ \\mathrm{kN/m³} \\cdot 17.250\\ \\mathrm{m} \\right) &= 4.292\\ \\mathrm{MN} \\cdot \\mathrm{m}  \n",
       "\\\\[10pt]\n",
       "\\mathrm{An}_{Beam_{Total}} &= \\Sigma \\left( \\mathrm{length}_{girder} \\cdot \\mathrm{width}_{girder} \\cdot \\mathrm{height}_{girder} \\cdot \\gamma_{c} \\right)  = \\Sigma \\left( [5.000\\ \\mathrm{m},\\ 5.000\\ \\mathrm{m},\\ 5.000\\ \\mathrm{m},\\ 5.000\\ \\mathrm{m},\\ 6.000\\ \\mathrm{m},\\ 6.000\\ \\mathrm{m},\\ 6.000\\ \\mathrm{m},\\ 6.000\\ \\mathrm{m}] \\cdot 400.000\\ \\mathrm{mm} \\cdot 600.000\\ \\mathrm{mm} \\cdot 23.560\\ \\mathrm{kN/m³} \\right) &= 248.794\\ \\mathrm{kN}  \n",
       "\\end{aligned}\n",
       "\\]"
      ],
      "text/plain": [
       "<IPython.core.display.Latex object>"
      ]
     },
     "metadata": {},
     "output_type": "display_data"
    },
    {
     "data": {
      "text/latex": [
       "\\[\n",
       "\\begin{aligned}\n",
       "\\mathrm{Grid} &= 5 \\; \n",
       "\\\\[10pt]\n",
       "\\mathrm{AnDn}_{Col_{Total}} &= \\mathrm{Col}_{No} \\cdot \\mathrm{distance} \\cdot \\mathrm{length}_{col} \\cdot \\mathrm{width}_{col} \\cdot \\mathrm{height}_{col} \\cdot \\gamma_{c}  = 9.000 \\cdot 22.250\\ \\mathrm{m} \\cdot 500.000\\ \\mathrm{mm} \\cdot 500.000\\ \\mathrm{mm} \\cdot 3.500\\ \\mathrm{m} \\cdot 23.560\\ \\mathrm{kN/m³} &= 4.128\\ \\mathrm{MN} \\cdot \\mathrm{m}  \n",
       "\\\\[10pt]\n",
       "\\mathrm{An}_{Col_{Total}} &= \\mathrm{Col}_{No} \\cdot \\mathrm{length}_{col} \\cdot \\mathrm{width}_{col} \\cdot \\mathrm{height}_{col} \\cdot \\gamma_{c}  = 9.000 \\cdot 500.000\\ \\mathrm{mm} \\cdot 500.000\\ \\mathrm{mm} \\cdot 3.500\\ \\mathrm{m} \\cdot 23.560\\ \\mathrm{kN/m³} &= 185.535\\ \\mathrm{kN}  \n",
       "\\\\[10pt]\n",
       "\\mathrm{RnDn}_{Col_{Total}} &= \\mathrm{Col}_{No} \\cdot \\left( \\frac{ \\left( \\mathrm{length}_{col} \\right) ^{ 4 } }{ 12 } \\right) \\cdot \\mathrm{distance}  = 9.000 \\cdot \\left( \\frac{ \\left( 500.000\\ \\mathrm{mm} \\right) ^{ 4 } }{ 12 } \\right) \\cdot 22.250\\ \\mathrm{m} &= 1.043\\ \\mathrm{m}^{5}  \n",
       "\\\\[10pt]\n",
       "\\mathrm{Rn}_{Col_{Total}} &= \\mathrm{Col}_{No} \\cdot \\frac{ \\left( \\mathrm{length}_{col} \\right) ^{ 4 } }{ 12 }  = 9.000 \\cdot \\frac{ \\left( 500.000\\ \\mathrm{mm} \\right) ^{ 4 } }{ 12 } &= 46875000000.000\\ \\mathrm{mm}^{4}  \n",
       "\\\\[10pt]\n",
       "\\mathrm{AnXn}_{Beam_{Total}} &= \\Sigma \\left( \\mathrm{length}_{girder} \\cdot \\mathrm{width}_{girder} \\cdot \\mathrm{height}_{girder} \\cdot \\gamma_{c} \\cdot \\mathrm{distance} \\right)  = \\Sigma \\left( [5.000\\ \\mathrm{m},\\ 5.000\\ \\mathrm{m},\\ 5.000\\ \\mathrm{m},\\ 5.000\\ \\mathrm{m},\\ 6.000\\ \\mathrm{m},\\ 6.000\\ \\mathrm{m},\\ 6.000\\ \\mathrm{m},\\ 6.000\\ \\mathrm{m}] \\cdot 400.000\\ \\mathrm{mm} \\cdot 600.000\\ \\mathrm{mm} \\cdot 23.560\\ \\mathrm{kN/m³} \\cdot 22.250\\ \\mathrm{m} \\right) &= 5.536\\ \\mathrm{MN} \\cdot \\mathrm{m}  \n",
       "\\\\[10pt]\n",
       "\\mathrm{An}_{Beam_{Total}} &= \\Sigma \\left( \\mathrm{length}_{girder} \\cdot \\mathrm{width}_{girder} \\cdot \\mathrm{height}_{girder} \\cdot \\gamma_{c} \\right)  = \\Sigma \\left( [5.000\\ \\mathrm{m},\\ 5.000\\ \\mathrm{m},\\ 5.000\\ \\mathrm{m},\\ 5.000\\ \\mathrm{m},\\ 6.000\\ \\mathrm{m},\\ 6.000\\ \\mathrm{m},\\ 6.000\\ \\mathrm{m},\\ 6.000\\ \\mathrm{m}] \\cdot 400.000\\ \\mathrm{mm} \\cdot 600.000\\ \\mathrm{mm} \\cdot 23.560\\ \\mathrm{kN/m³} \\right) &= 248.794\\ \\mathrm{kN}  \n",
       "\\end{aligned}\n",
       "\\]"
      ],
      "text/plain": [
       "<IPython.core.display.Latex object>"
      ]
     },
     "metadata": {},
     "output_type": "display_data"
    },
    {
     "data": {
      "text/latex": [
       "\\[\n",
       "\\begin{aligned}\n",
       "\\mathrm{Grid} &= 6 \\; \n",
       "\\\\[10pt]\n",
       "\\mathrm{AnDn}_{Col_{Total}} &= \\mathrm{Col}_{No} \\cdot \\mathrm{distance} \\cdot \\mathrm{length}_{col} \\cdot \\mathrm{width}_{col} \\cdot \\mathrm{height}_{col} \\cdot \\gamma_{c}  = 9.000 \\cdot 28.250\\ \\mathrm{m} \\cdot 500.000\\ \\mathrm{mm} \\cdot 500.000\\ \\mathrm{mm} \\cdot 3.500\\ \\mathrm{m} \\cdot 23.560\\ \\mathrm{kN/m³} &= 5.241\\ \\mathrm{MN} \\cdot \\mathrm{m}  \n",
       "\\\\[10pt]\n",
       "\\mathrm{An}_{Col_{Total}} &= \\mathrm{Col}_{No} \\cdot \\mathrm{length}_{col} \\cdot \\mathrm{width}_{col} \\cdot \\mathrm{height}_{col} \\cdot \\gamma_{c}  = 9.000 \\cdot 500.000\\ \\mathrm{mm} \\cdot 500.000\\ \\mathrm{mm} \\cdot 3.500\\ \\mathrm{m} \\cdot 23.560\\ \\mathrm{kN/m³} &= 185.535\\ \\mathrm{kN}  \n",
       "\\\\[10pt]\n",
       "\\mathrm{RnDn}_{Col_{Total}} &= \\mathrm{Col}_{No} \\cdot \\left( \\frac{ \\left( \\mathrm{length}_{col} \\right) ^{ 4 } }{ 12 } \\right) \\cdot \\mathrm{distance}  = 9.000 \\cdot \\left( \\frac{ \\left( 500.000\\ \\mathrm{mm} \\right) ^{ 4 } }{ 12 } \\right) \\cdot 28.250\\ \\mathrm{m} &= 1.324\\ \\mathrm{m}^{5}  \n",
       "\\\\[10pt]\n",
       "\\mathrm{Rn}_{Col_{Total}} &= \\mathrm{Col}_{No} \\cdot \\frac{ \\left( \\mathrm{length}_{col} \\right) ^{ 4 } }{ 12 }  = 9.000 \\cdot \\frac{ \\left( 500.000\\ \\mathrm{mm} \\right) ^{ 4 } }{ 12 } &= 46875000000.000\\ \\mathrm{mm}^{4}  \n",
       "\\\\[10pt]\n",
       "\\mathrm{AnXn}_{Beam_{Total}} &= \\Sigma \\left( \\mathrm{length}_{girder} \\cdot \\mathrm{width}_{girder} \\cdot \\mathrm{height}_{girder} \\cdot \\gamma_{c} \\cdot \\mathrm{distance} \\right)  = \\Sigma \\left( [5.000\\ \\mathrm{m},\\ 5.000\\ \\mathrm{m},\\ 5.000\\ \\mathrm{m},\\ 5.000\\ \\mathrm{m},\\ 6.000\\ \\mathrm{m},\\ 6.000\\ \\mathrm{m},\\ 6.000\\ \\mathrm{m},\\ 6.000\\ \\mathrm{m}] \\cdot 400.000\\ \\mathrm{mm} \\cdot 600.000\\ \\mathrm{mm} \\cdot 23.560\\ \\mathrm{kN/m³} \\cdot 28.250\\ \\mathrm{m} \\right) &= 7.028\\ \\mathrm{MN} \\cdot \\mathrm{m}  \n",
       "\\\\[10pt]\n",
       "\\mathrm{An}_{Beam_{Total}} &= \\Sigma \\left( \\mathrm{length}_{girder} \\cdot \\mathrm{width}_{girder} \\cdot \\mathrm{height}_{girder} \\cdot \\gamma_{c} \\right)  = \\Sigma \\left( [5.000\\ \\mathrm{m},\\ 5.000\\ \\mathrm{m},\\ 5.000\\ \\mathrm{m},\\ 5.000\\ \\mathrm{m},\\ 6.000\\ \\mathrm{m},\\ 6.000\\ \\mathrm{m},\\ 6.000\\ \\mathrm{m},\\ 6.000\\ \\mathrm{m}] \\cdot 400.000\\ \\mathrm{mm} \\cdot 600.000\\ \\mathrm{mm} \\cdot 23.560\\ \\mathrm{kN/m³} \\right) &= 248.794\\ \\mathrm{kN}  \n",
       "\\end{aligned}\n",
       "\\]"
      ],
      "text/plain": [
       "<IPython.core.display.Latex object>"
      ]
     },
     "metadata": {},
     "output_type": "display_data"
    },
    {
     "data": {
      "text/latex": [
       "\\[\n",
       "\\begin{aligned}\n",
       "\\mathrm{Grid} &= 7 \\; \n",
       "\\\\[10pt]\n",
       "\\mathrm{AnDn}_{Col_{Total}} &= \\mathrm{Col}_{No} \\cdot \\mathrm{distance} \\cdot \\mathrm{length}_{col} \\cdot \\mathrm{width}_{col} \\cdot \\mathrm{height}_{col} \\cdot \\gamma_{c}  = 9.000 \\cdot 33.250\\ \\mathrm{m} \\cdot 500.000\\ \\mathrm{mm} \\cdot 500.000\\ \\mathrm{mm} \\cdot 3.500\\ \\mathrm{m} \\cdot 23.560\\ \\mathrm{kN/m³} &= 6.169\\ \\mathrm{MN} \\cdot \\mathrm{m}  \n",
       "\\\\[10pt]\n",
       "\\mathrm{An}_{Col_{Total}} &= \\mathrm{Col}_{No} \\cdot \\mathrm{length}_{col} \\cdot \\mathrm{width}_{col} \\cdot \\mathrm{height}_{col} \\cdot \\gamma_{c}  = 9.000 \\cdot 500.000\\ \\mathrm{mm} \\cdot 500.000\\ \\mathrm{mm} \\cdot 3.500\\ \\mathrm{m} \\cdot 23.560\\ \\mathrm{kN/m³} &= 185.535\\ \\mathrm{kN}  \n",
       "\\\\[10pt]\n",
       "\\mathrm{RnDn}_{Col_{Total}} &= \\mathrm{Col}_{No} \\cdot \\left( \\frac{ \\left( \\mathrm{length}_{col} \\right) ^{ 4 } }{ 12 } \\right) \\cdot \\mathrm{distance}  = 9.000 \\cdot \\left( \\frac{ \\left( 500.000\\ \\mathrm{mm} \\right) ^{ 4 } }{ 12 } \\right) \\cdot 33.250\\ \\mathrm{m} &= 1.559\\ \\mathrm{m}^{5}  \n",
       "\\\\[10pt]\n",
       "\\mathrm{Rn}_{Col_{Total}} &= \\mathrm{Col}_{No} \\cdot \\frac{ \\left( \\mathrm{length}_{col} \\right) ^{ 4 } }{ 12 }  = 9.000 \\cdot \\frac{ \\left( 500.000\\ \\mathrm{mm} \\right) ^{ 4 } }{ 12 } &= 46875000000.000\\ \\mathrm{mm}^{4}  \n",
       "\\\\[10pt]\n",
       "\\mathrm{AnXn}_{Beam_{Total}} &= \\Sigma \\left( \\mathrm{length}_{girder} \\cdot \\mathrm{width}_{girder} \\cdot \\mathrm{height}_{girder} \\cdot \\gamma_{c} \\cdot \\mathrm{distance} \\right)  = \\Sigma \\left( [5.000\\ \\mathrm{m},\\ 5.000\\ \\mathrm{m},\\ 5.000\\ \\mathrm{m},\\ 5.000\\ \\mathrm{m},\\ 6.000\\ \\mathrm{m},\\ 6.000\\ \\mathrm{m},\\ 6.000\\ \\mathrm{m},\\ 6.000\\ \\mathrm{m}] \\cdot 400.000\\ \\mathrm{mm} \\cdot 600.000\\ \\mathrm{mm} \\cdot 23.560\\ \\mathrm{kN/m³} \\cdot 33.250\\ \\mathrm{m} \\right) &= 8.272\\ \\mathrm{MN} \\cdot \\mathrm{m}  \n",
       "\\\\[10pt]\n",
       "\\mathrm{An}_{Beam_{Total}} &= \\Sigma \\left( \\mathrm{length}_{girder} \\cdot \\mathrm{width}_{girder} \\cdot \\mathrm{height}_{girder} \\cdot \\gamma_{c} \\right)  = \\Sigma \\left( [5.000\\ \\mathrm{m},\\ 5.000\\ \\mathrm{m},\\ 5.000\\ \\mathrm{m},\\ 5.000\\ \\mathrm{m},\\ 6.000\\ \\mathrm{m},\\ 6.000\\ \\mathrm{m},\\ 6.000\\ \\mathrm{m},\\ 6.000\\ \\mathrm{m}] \\cdot 400.000\\ \\mathrm{mm} \\cdot 600.000\\ \\mathrm{mm} \\cdot 23.560\\ \\mathrm{kN/m³} \\right) &= 248.794\\ \\mathrm{kN}  \n",
       "\\end{aligned}\n",
       "\\]"
      ],
      "text/plain": [
       "<IPython.core.display.Latex object>"
      ]
     },
     "metadata": {},
     "output_type": "display_data"
    },
    {
     "data": {
      "text/latex": [
       "\\[\n",
       "\\begin{aligned}\n",
       "\\mathrm{Grid} &= 8 \\; \n",
       "\\\\[10pt]\n",
       "\\mathrm{AnDn}_{Col_{Total}} &= \\mathrm{Col}_{No} \\cdot \\mathrm{distance} \\cdot \\mathrm{length}_{col} \\cdot \\mathrm{width}_{col} \\cdot \\mathrm{height}_{col} \\cdot \\gamma_{c}  = 7.000 \\cdot 39.250\\ \\mathrm{m} \\cdot 500.000\\ \\mathrm{mm} \\cdot 500.000\\ \\mathrm{mm} \\cdot 3.500\\ \\mathrm{m} \\cdot 23.560\\ \\mathrm{kN/m³} &= 5.664\\ \\mathrm{MN} \\cdot \\mathrm{m}  \n",
       "\\\\[10pt]\n",
       "\\mathrm{An}_{Col_{Total}} &= \\mathrm{Col}_{No} \\cdot \\mathrm{length}_{col} \\cdot \\mathrm{width}_{col} \\cdot \\mathrm{height}_{col} \\cdot \\gamma_{c}  = 7.000 \\cdot 500.000\\ \\mathrm{mm} \\cdot 500.000\\ \\mathrm{mm} \\cdot 3.500\\ \\mathrm{m} \\cdot 23.560\\ \\mathrm{kN/m³} &= 144.305\\ \\mathrm{kN}  \n",
       "\\\\[10pt]\n",
       "\\mathrm{RnDn}_{Col_{Total}} &= \\mathrm{Col}_{No} \\cdot \\left( \\frac{ \\left( \\mathrm{length}_{col} \\right) ^{ 4 } }{ 12 } \\right) \\cdot \\mathrm{distance}  = 7.000 \\cdot \\left( \\frac{ \\left( 500.000\\ \\mathrm{mm} \\right) ^{ 4 } }{ 12 } \\right) \\cdot 39.250\\ \\mathrm{m} &= 1.431\\ \\mathrm{m}^{5}  \n",
       "\\\\[10pt]\n",
       "\\mathrm{Rn}_{Col_{Total}} &= \\mathrm{Col}_{No} \\cdot \\frac{ \\left( \\mathrm{length}_{col} \\right) ^{ 4 } }{ 12 }  = 7.000 \\cdot \\frac{ \\left( 500.000\\ \\mathrm{mm} \\right) ^{ 4 } }{ 12 } &= 36458333333.333\\ \\mathrm{mm}^{4}  \n",
       "\\\\[10pt]\n",
       "\\mathrm{AnXn}_{Beam_{Total}} &= \\Sigma \\left( \\mathrm{length}_{girder} \\cdot \\mathrm{width}_{girder} \\cdot \\mathrm{height}_{girder} \\cdot \\gamma_{c} \\cdot \\mathrm{distance} \\right)  = \\Sigma \\left( [5.000\\ \\mathrm{m},\\ 5.000\\ \\mathrm{m},\\ 5.000\\ \\mathrm{m},\\ 5.000\\ \\mathrm{m},\\ 6.000\\ \\mathrm{m},\\ 6.000\\ \\mathrm{m},\\ nan,\\ nan] \\cdot 400.000\\ \\mathrm{mm} \\cdot 600.000\\ \\mathrm{mm} \\cdot 23.560\\ \\mathrm{kN/m³} \\cdot 39.250\\ \\mathrm{m} \\right) &= 7.102\\ \\mathrm{MN} \\cdot \\mathrm{m}  \n",
       "\\\\[10pt]\n",
       "\\mathrm{An}_{Beam_{Total}} &= \\Sigma \\left( \\mathrm{length}_{girder} \\cdot \\mathrm{width}_{girder} \\cdot \\mathrm{height}_{girder} \\cdot \\gamma_{c} \\right)  = \\Sigma \\left( [5.000\\ \\mathrm{m},\\ 5.000\\ \\mathrm{m},\\ 5.000\\ \\mathrm{m},\\ 5.000\\ \\mathrm{m},\\ 6.000\\ \\mathrm{m},\\ 6.000\\ \\mathrm{m},\\ nan,\\ nan] \\cdot 400.000\\ \\mathrm{mm} \\cdot 600.000\\ \\mathrm{mm} \\cdot 23.560\\ \\mathrm{kN/m³} \\right) &= 180.941\\ \\mathrm{kN}  \n",
       "\\end{aligned}\n",
       "\\]"
      ],
      "text/plain": [
       "<IPython.core.display.Latex object>"
      ]
     },
     "metadata": {},
     "output_type": "display_data"
    },
    {
     "data": {
      "text/latex": [
       "\\[\n",
       "\\begin{aligned}\n",
       "\\mathrm{Grid} &= 9 \\; \n",
       "\\\\[10pt]\n",
       "\\mathrm{AnDn}_{Col_{Total}} &= \\mathrm{Col}_{No} \\cdot \\mathrm{distance} \\cdot \\mathrm{length}_{col} \\cdot \\mathrm{width}_{col} \\cdot \\mathrm{height}_{col} \\cdot \\gamma_{c}  = 5.000 \\cdot 44.250\\ \\mathrm{m} \\cdot 500.000\\ \\mathrm{mm} \\cdot 500.000\\ \\mathrm{mm} \\cdot 3.500\\ \\mathrm{m} \\cdot 23.560\\ \\mathrm{kN/m³} &= 4.561\\ \\mathrm{MN} \\cdot \\mathrm{m}  \n",
       "\\\\[10pt]\n",
       "\\mathrm{An}_{Col_{Total}} &= \\mathrm{Col}_{No} \\cdot \\mathrm{length}_{col} \\cdot \\mathrm{width}_{col} \\cdot \\mathrm{height}_{col} \\cdot \\gamma_{c}  = 5.000 \\cdot 500.000\\ \\mathrm{mm} \\cdot 500.000\\ \\mathrm{mm} \\cdot 3.500\\ \\mathrm{m} \\cdot 23.560\\ \\mathrm{kN/m³} &= 103.075\\ \\mathrm{kN}  \n",
       "\\\\[10pt]\n",
       "\\mathrm{RnDn}_{Col_{Total}} &= \\mathrm{Col}_{No} \\cdot \\left( \\frac{ \\left( \\mathrm{length}_{col} \\right) ^{ 4 } }{ 12 } \\right) \\cdot \\mathrm{distance}  = 5.000 \\cdot \\left( \\frac{ \\left( 500.000\\ \\mathrm{mm} \\right) ^{ 4 } }{ 12 } \\right) \\cdot 44.250\\ \\mathrm{m} &= 1.152\\ \\mathrm{m}^{5}  \n",
       "\\\\[10pt]\n",
       "\\mathrm{Rn}_{Col_{Total}} &= \\mathrm{Col}_{No} \\cdot \\frac{ \\left( \\mathrm{length}_{col} \\right) ^{ 4 } }{ 12 }  = 5.000 \\cdot \\frac{ \\left( 500.000\\ \\mathrm{mm} \\right) ^{ 4 } }{ 12 } &= 26041666666.667\\ \\mathrm{mm}^{4}  \n",
       "\\\\[10pt]\n",
       "\\mathrm{AnXn}_{Beam_{Total}} &= \\Sigma \\left( \\mathrm{length}_{girder} \\cdot \\mathrm{width}_{girder} \\cdot \\mathrm{height}_{girder} \\cdot \\gamma_{c} \\cdot \\mathrm{distance} \\right)  = \\Sigma \\left( [5.000\\ \\mathrm{m},\\ 5.000\\ \\mathrm{m},\\ 5.000\\ \\mathrm{m},\\ 5.000\\ \\mathrm{m},\\ 6.000\\ \\mathrm{m},\\ 6.000\\ \\mathrm{m},\\ nan,\\ nan] \\cdot 400.000\\ \\mathrm{mm} \\cdot 600.000\\ \\mathrm{mm} \\cdot 23.560\\ \\mathrm{kN/m³} \\cdot 44.250\\ \\mathrm{m} \\right) &= 8.007\\ \\mathrm{MN} \\cdot \\mathrm{m}  \n",
       "\\\\[10pt]\n",
       "\\mathrm{An}_{Beam_{Total}} &= \\Sigma \\left( \\mathrm{length}_{girder} \\cdot \\mathrm{width}_{girder} \\cdot \\mathrm{height}_{girder} \\cdot \\gamma_{c} \\right)  = \\Sigma \\left( [5.000\\ \\mathrm{m},\\ 5.000\\ \\mathrm{m},\\ 5.000\\ \\mathrm{m},\\ 5.000\\ \\mathrm{m},\\ 6.000\\ \\mathrm{m},\\ 6.000\\ \\mathrm{m},\\ nan,\\ nan] \\cdot 400.000\\ \\mathrm{mm} \\cdot 600.000\\ \\mathrm{mm} \\cdot 23.560\\ \\mathrm{kN/m³} \\right) &= 180.941\\ \\mathrm{kN}  \n",
       "\\end{aligned}\n",
       "\\]"
      ],
      "text/plain": [
       "<IPython.core.display.Latex object>"
      ]
     },
     "metadata": {},
     "output_type": "display_data"
    },
    {
     "data": {
      "text/latex": [
       "\\[\n",
       "\\begin{aligned}\n",
       "\\mathrm{AnDn}_{SW_{Total}} &= \\Sigma \\left( \\mathrm{length} \\cdot \\mathrm{distance} \\cdot \\mathrm{width} \\cdot \\mathrm{height} \\cdot \\gamma_{c} \\right) \\\\&= \\Sigma \\left( [6.000\\ \\mathrm{m},\\ 500.000\\ \\mathrm{mm},\\ 500.000\\ \\mathrm{mm},\\ 6.000\\ \\mathrm{m}] \\cdot [250.000\\ \\mathrm{mm},\\ 3.250\\ \\mathrm{m},\\ 3.250\\ \\mathrm{m},\\ 44.250\\ \\mathrm{m}] \\cdot 300.000\\ \\mathrm{mm} \\cdot 3.500\\ \\mathrm{m} \\cdot 23.560\\ \\mathrm{kN/m³} \\right) \\\\&= 6.685\\ \\mathrm{MN} \\cdot \\mathrm{m}  \\\\[10pt]\n",
       "\\\\[10pt]\n",
       "\\mathrm{An}_{SW_{Total}} &= \\Sigma \\left( \\mathrm{length} \\cdot \\mathrm{width} \\cdot \\mathrm{height} \\cdot \\gamma_{c} \\right) \\\\&= \\Sigma \\left( [6.000\\ \\mathrm{m},\\ 500.000\\ \\mathrm{mm},\\ 500.000\\ \\mathrm{mm},\\ 6.000\\ \\mathrm{m}] \\cdot 300.000\\ \\mathrm{mm} \\cdot 3.500\\ \\mathrm{m} \\cdot 23.560\\ \\mathrm{kN/m³} \\right) \\\\&= 321.594\\ \\mathrm{kN}  \\\\[10pt]\n",
       "\\\\[10pt]\n",
       "\\mathrm{RnDn}_{SW_{Total}} &= \\Sigma \\left( \\left( \\frac{ \\left( \\mathrm{length} \\right) ^{ 3 } \\cdot \\mathrm{width} }{ 12 } \\right) \\cdot \\mathrm{distance} \\right) \\\\&= \\Sigma \\left( \\left( \\frac{ \\left( [6.000\\ \\mathrm{m},\\ 500.000\\ \\mathrm{mm},\\ 500.000\\ \\mathrm{mm},\\ 6.000\\ \\mathrm{m}] \\right) ^{ 3 } \\cdot 300.000\\ \\mathrm{mm} }{ 12 } \\right) \\cdot [250.000\\ \\mathrm{mm},\\ 3.250\\ \\mathrm{m},\\ 3.250\\ \\mathrm{m},\\ 44.250\\ \\mathrm{m}] \\right) \\\\&= 240.320\\ \\mathrm{m}^{5}  \\\\[10pt]\n",
       "\\\\[10pt]\n",
       "\\mathrm{Rn}_{SW_{Total}} &= \\Sigma \\left( \\frac{ \\left( \\mathrm{length} \\right) ^{ 3 } \\cdot \\mathrm{width} }{ 12 } \\right) \\\\&= \\Sigma \\left( \\frac{ \\left( [6.000\\ \\mathrm{m},\\ 500.000\\ \\mathrm{mm},\\ 500.000\\ \\mathrm{mm},\\ 6.000\\ \\mathrm{m}] \\right) ^{ 3 } \\cdot 300.000\\ \\mathrm{mm} }{ 12 } \\right) \\\\&= 10.806\\ \\mathrm{m}^{4}  \\\\[10pt]\n",
       "\\end{aligned}\n",
       "\\]"
      ],
      "text/plain": [
       "<IPython.core.display.Latex object>"
      ]
     },
     "metadata": {},
     "output_type": "display_data"
    },
    {
     "data": {
      "text/latex": [
       "\\[\n",
       "\\begin{aligned}\n",
       "\\mathrm{AnDn}_{Slab_{Total}} &= \\Sigma \\left( \\mathrm{area} \\cdot \\mathrm{distance} \\cdot \\mathrm{height} \\cdot \\gamma_{c} \\right) \\\\&= \\Sigma \\left( [1936.000\\ \\mathrm{m}^{2},\\ -220.000\\ \\mathrm{m}^{2},\\ -132.000\\ \\mathrm{m}^{2}] \\cdot [22.000\\ \\mathrm{m},\\ 6.000\\ \\mathrm{m},\\ 39.000\\ \\mathrm{m}] \\cdot 130.000\\ \\mathrm{mm} \\cdot 23.560\\ \\mathrm{kN/m³} \\right) \\\\&= 110.641\\ \\mathrm{MN} \\cdot \\mathrm{m}  \\\\[10pt]\n",
       "\\\\[10pt]\n",
       "\\mathrm{An}_{Slab_{Total}} &= \\Sigma \\left( \\mathrm{area} \\cdot \\mathrm{height} \\cdot \\gamma_{c} \\right) \\\\&= \\Sigma \\left( [1936.000\\ \\mathrm{m}^{2},\\ -220.000\\ \\mathrm{m}^{2},\\ -132.000\\ \\mathrm{m}^{2}] \\cdot 130.000\\ \\mathrm{mm} \\cdot 23.560\\ \\mathrm{kN/m³} \\right) \\\\&= 4.851\\ \\mathrm{MN}  \\\\[10pt]\n",
       "\\end{aligned}\n",
       "\\]"
      ],
      "text/plain": [
       "<IPython.core.display.Latex object>"
      ]
     },
     "metadata": {},
     "output_type": "display_data"
    },
    {
     "data": {
      "text/latex": [
       "\\[\n",
       "\\begin{aligned}\n",
       "\\mathrm{AnDn}_{Wall_{Total}} &= \\Sigma \\left( \\mathrm{length} \\cdot \\mathrm{distance} \\cdot \\mathrm{width} \\cdot \\mathrm{height} \\cdot \\gamma_{c} \\cdot 0.7 \\right) \\\\&= \\Sigma \\left( [nan,\\ nan,\\ 5.000\\ \\mathrm{m},\\ 5.000\\ \\mathrm{m},\\ 5.000\\ \\mathrm{m},\\ 5.000\\ \\mathrm{m},\\ 5.000\\ \\mathrm{m},\\ 5.000\\ \\mathrm{m},\\ 5.000\\ \\mathrm{m},\\ 6.000\\ \\mathrm{m},\\ 6.000\\ \\mathrm{m},\\ 6.000\\ \\mathrm{m},\\ 6.000\\ \\mathrm{m},\\ 6.000\\ \\mathrm{m},\\ 6.000\\ \\mathrm{m},\\ 6.000\\ \\mathrm{m},\\ nan,\\ nan,\\ nan,\\ nan,\\ 5.000\\ \\mathrm{m},\\ 5.000\\ \\mathrm{m},\\ 5.000\\ \\mathrm{m},\\ 5.000\\ \\mathrm{m},\\ 5.000\\ \\mathrm{m},\\ 5.000\\ \\mathrm{m},\\ 5.000\\ \\mathrm{m}] \\cdot [nan,\\ nan,\\ nan,\\ nan,\\ 250.000\\ \\mathrm{mm},\\ 250.000\\ \\mathrm{mm},\\ 250.000\\ \\mathrm{mm},\\ 250.000\\ \\mathrm{mm},\\ 250.000\\ \\mathrm{mm},\\ 44.250\\ \\mathrm{m},\\ 44.250\\ \\mathrm{m},\\ 44.250\\ \\mathrm{m},\\ 44.250\\ \\mathrm{m},\\ 44.250\\ \\mathrm{m},\\ 44.250\\ \\mathrm{m},\\ 44.250\\ \\mathrm{m},\\ nan,\\ nan,\\ 11.250\\ \\mathrm{m},\\ 11.250\\ \\mathrm{m},\\ 11.250\\ \\mathrm{m},\\ 11.250\\ \\mathrm{m},\\ 11.250\\ \\mathrm{m},\\ 11.250\\ \\mathrm{m},\\ 11.250\\ \\mathrm{m},\\ 11.250\\ \\mathrm{m},\\ 11.250\\ \\mathrm{m}] \\cdot 150.000\\ \\mathrm{mm} \\cdot 3.500\\ \\mathrm{m} \\cdot 23.560\\ \\mathrm{kN/m³} \\cdot 0.7 \\right) \\\\&= 19.555\\ \\mathrm{MN} \\cdot \\mathrm{m}  \\\\[10pt]\n",
       "\\\\[10pt]\n",
       "\\mathrm{An}_{Wall_{Total}} &= \\Sigma \\left( \\mathrm{length} \\cdot \\mathrm{width} \\cdot \\mathrm{height} \\cdot \\gamma_{c} \\cdot 0.7 \\right) \\\\&= \\Sigma \\left( [nan,\\ nan,\\ 5.000\\ \\mathrm{m},\\ 5.000\\ \\mathrm{m},\\ 5.000\\ \\mathrm{m},\\ 5.000\\ \\mathrm{m},\\ 5.000\\ \\mathrm{m},\\ 5.000\\ \\mathrm{m},\\ 5.000\\ \\mathrm{m},\\ 6.000\\ \\mathrm{m},\\ 6.000\\ \\mathrm{m},\\ 6.000\\ \\mathrm{m},\\ 6.000\\ \\mathrm{m},\\ 6.000\\ \\mathrm{m},\\ 6.000\\ \\mathrm{m},\\ 6.000\\ \\mathrm{m},\\ nan,\\ nan,\\ nan,\\ nan,\\ 5.000\\ \\mathrm{m},\\ 5.000\\ \\mathrm{m},\\ 5.000\\ \\mathrm{m},\\ 5.000\\ \\mathrm{m},\\ 5.000\\ \\mathrm{m},\\ 5.000\\ \\mathrm{m},\\ 5.000\\ \\mathrm{m}] \\cdot 150.000\\ \\mathrm{mm} \\cdot 3.500\\ \\mathrm{m} \\cdot 23.560\\ \\mathrm{kN/m³} \\cdot 0.7 \\right) \\\\&= 969.730\\ \\mathrm{kN}  \\\\[10pt]\n",
       "\\end{aligned}\n",
       "\\]"
      ],
      "text/plain": [
       "<IPython.core.display.Latex object>"
      ]
     },
     "metadata": {},
     "output_type": "display_data"
    },
    {
     "data": {
      "text/latex": [
       "\\[\n",
       "\\begin{aligned}\n",
       "\\mathrm{AnDn}_{Col_{Total}} &= \\Sigma \\left( \\mathrm{AnDn}_{Col} \\right) \\\\&= \\Sigma \\left( [15.461\\ \\mathrm{kN} \\cdot \\mathrm{m},\\ 644.219\\ \\mathrm{kN} \\cdot \\mathrm{m},\\ 2.087\\ \\mathrm{MN} \\cdot \\mathrm{m},\\ 3.200\\ \\mathrm{MN} \\cdot \\mathrm{m},\\ 4.128\\ \\mathrm{MN} \\cdot \\mathrm{m},\\ 5.241\\ \\mathrm{MN} \\cdot \\mathrm{m},\\ 6.169\\ \\mathrm{MN} \\cdot \\mathrm{m},\\ 5.664\\ \\mathrm{MN} \\cdot \\mathrm{m},\\ 4.561\\ \\mathrm{MN} \\cdot \\mathrm{m}] \\right) \\\\&= 31.711\\ \\mathrm{MN} \\cdot \\mathrm{m}  \\\\[10pt]\n",
       "\\\\[10pt]\n",
       "\\mathrm{An}_{Col_{Total}} &= \\Sigma \\left( \\mathrm{An}_{Col} \\right) \\\\&= \\Sigma \\left( [61.845\\ \\mathrm{kN},\\ 103.075\\ \\mathrm{kN},\\ 185.535\\ \\mathrm{kN},\\ 185.535\\ \\mathrm{kN},\\ 185.535\\ \\mathrm{kN},\\ 185.535\\ \\mathrm{kN},\\ 185.535\\ \\mathrm{kN},\\ 144.305\\ \\mathrm{kN},\\ 103.075\\ \\mathrm{kN}] \\right) \\\\&= 1.340\\ \\mathrm{MN}  \\\\[10pt]\n",
       "\\\\[10pt]\n",
       "\\mathrm{RnDn}_{Col_{Total}} &= \\Sigma \\left( \\mathrm{RnDn}_{Col} \\right) \\\\&= \\Sigma \\left( [3906250000000.000\\ \\mathrm{mm}^{5},\\ 162760416666666.656\\ \\mathrm{mm}^{5},\\ 527343749999999.938\\ \\mathrm{mm}^{5},\\ 808593749999999.875\\ \\mathrm{mm}^{5},\\ 1.043\\ \\mathrm{m}^{5},\\ 1.324\\ \\mathrm{m}^{5},\\ 1.559\\ \\mathrm{m}^{5},\\ 1.431\\ \\mathrm{m}^{5},\\ 1.152\\ \\mathrm{m}^{5}] \\right) \\\\&= 8.012\\ \\mathrm{m}^{5}  \\\\[10pt]\n",
       "\\\\[10pt]\n",
       "\\mathrm{Rn}_{Col_{Total}} &= \\Sigma \\left( \\mathrm{Rn}_{Col} \\right) \\\\&= \\Sigma \\left( [15625000000.000\\ \\mathrm{mm}^{4},\\ 26041666666.667\\ \\mathrm{mm}^{4},\\ 46875000000.000\\ \\mathrm{mm}^{4},\\ 46875000000.000\\ \\mathrm{mm}^{4},\\ 46875000000.000\\ \\mathrm{mm}^{4},\\ 46875000000.000\\ \\mathrm{mm}^{4},\\ 46875000000.000\\ \\mathrm{mm}^{4},\\ 36458333333.333\\ \\mathrm{mm}^{4},\\ 26041666666.667\\ \\mathrm{mm}^{4}] \\right) \\\\&= 338541666666.667\\ \\mathrm{mm}^{4}  \\\\[10pt]\n",
       "\\\\[10pt]\n",
       "\\mathrm{AnDn}_{Beam_{Total}} &= \\Sigma \\left( \\mathrm{AnDn}_{Beam} \\right) \\\\&= \\Sigma \\left( [33.926\\ \\mathrm{kN} \\cdot \\mathrm{m},\\ 848.160\\ \\mathrm{kN} \\cdot \\mathrm{m},\\ 2.799\\ \\mathrm{MN} \\cdot \\mathrm{m},\\ 4.292\\ \\mathrm{MN} \\cdot \\mathrm{m},\\ 5.536\\ \\mathrm{MN} \\cdot \\mathrm{m},\\ 7.028\\ \\mathrm{MN} \\cdot \\mathrm{m},\\ 8.272\\ \\mathrm{MN} \\cdot \\mathrm{m},\\ 7.102\\ \\mathrm{MN} \\cdot \\mathrm{m},\\ 8.007\\ \\mathrm{MN} \\cdot \\mathrm{m}] \\right) \\\\&= 43.918\\ \\mathrm{MN} \\cdot \\mathrm{m}  \\\\[10pt]\n",
       "\\\\[10pt]\n",
       "\\mathrm{An}_{Beam_{Total}} &= \\Sigma \\left( \\mathrm{An}_{Beam} \\right) \\\\&= \\Sigma \\left( [135.706\\ \\mathrm{kN},\\ 135.706\\ \\mathrm{kN},\\ 248.794\\ \\mathrm{kN},\\ 248.794\\ \\mathrm{kN},\\ 248.794\\ \\mathrm{kN},\\ 248.794\\ \\mathrm{kN},\\ 248.794\\ \\mathrm{kN},\\ 180.941\\ \\mathrm{kN},\\ 180.941\\ \\mathrm{kN}] \\right) \\\\&= 1.877\\ \\mathrm{MN}  \\\\[10pt]\n",
       "\\\\[10pt]\n",
       "\\mathrm{AnDn}_{SW_{Total}} &= \\Sigma \\left( \\mathrm{AnDn}_{SW} \\right) \\\\&= \\Sigma \\left( [6.685\\ \\mathrm{MN} \\cdot \\mathrm{m}] \\right) \\\\&= 6.685\\ \\mathrm{MN} \\cdot \\mathrm{m}  \\\\[10pt]\n",
       "\\\\[10pt]\n",
       "\\mathrm{An}_{SW_{Total}} &= \\Sigma \\left( \\mathrm{An}_{SW} \\right) \\\\&= \\Sigma \\left( [321.594\\ \\mathrm{kN}] \\right) \\\\&= 321.594\\ \\mathrm{kN}  \\\\[10pt]\n",
       "\\\\[10pt]\n",
       "\\mathrm{RnDn}_{SW_{Total}} &= \\Sigma \\left( \\mathrm{RnDn}_{SW_{Total}} \\right) \\\\&= \\Sigma \\left( 240.320\\ \\mathrm{m}^{5} \\right) \\\\&= 240.320\\ \\mathrm{m}^{5}  \\\\[10pt]\n",
       "\\\\[10pt]\n",
       "\\mathrm{Rn}_{SW_{Total}} &= \\Sigma \\left( \\mathrm{Rn}_{SW} \\right) \\\\&= \\Sigma \\left( [10.806\\ \\mathrm{m}^{4}] \\right) \\\\&= 10.806\\ \\mathrm{m}^{4}  \\\\[10pt]\n",
       "\\\\[10pt]\n",
       "\\mathrm{AnDn}_{Slab_{Total}} &= \\Sigma \\left( \\mathrm{AnDn}_{Slab} \\right) \\\\&= \\Sigma \\left( [110.641\\ \\mathrm{MN} \\cdot \\mathrm{m}] \\right) \\\\&= 110.641\\ \\mathrm{MN} \\cdot \\mathrm{m}  \\\\[10pt]\n",
       "\\\\[10pt]\n",
       "\\mathrm{An}_{Slab_{Total}} &= \\Sigma \\left( \\mathrm{An}_{Slab} \\right) \\\\&= \\Sigma \\left( [4.851\\ \\mathrm{MN}] \\right) \\\\&= 4.851\\ \\mathrm{MN}  \\\\[10pt]\n",
       "\\\\[10pt]\n",
       "\\mathrm{AnDn}_{Wall_{Total}} &= \\Sigma \\left( \\mathrm{AnDn}_{Wall} \\right) \\\\&= \\Sigma \\left( [19.555\\ \\mathrm{MN} \\cdot \\mathrm{m}] \\right) \\\\&= 19.555\\ \\mathrm{MN} \\cdot \\mathrm{m}  \\\\[10pt]\n",
       "\\\\[10pt]\n",
       "\\mathrm{An}_{Wall_{Total}} &= \\Sigma \\left( \\mathrm{An}_{Wall} \\right) \\\\&= \\Sigma \\left( [969.730\\ \\mathrm{kN}] \\right) \\\\&= 969.730\\ \\mathrm{kN}  \\\\[10pt]\n",
       "\\end{aligned}\n",
       "\\]"
      ],
      "text/plain": [
       "<IPython.core.display.Latex object>"
      ]
     },
     "metadata": {},
     "output_type": "display_data"
    },
    {
     "data": {
      "text/latex": [
       "\\[\n",
       "\\begin{aligned}\n",
       "\\mathrm{AnDn} &= \\Sigma \\left( \\mathrm{AnDn}_{Col_{Total}} + \\mathrm{AnDn}_{SW_{Total}} + \\mathrm{AnDn}_{Slab_{Total}} + \\mathrm{AnDn}_{Wall_{Total}} + \\mathrm{AnDn}_{Beam_{Total}} \\right) \\\\&= \\Sigma \\left( 31.711\\ \\mathrm{MN} \\cdot \\mathrm{m} + 6.685\\ \\mathrm{MN} \\cdot \\mathrm{m} + 110.641\\ \\mathrm{MN} \\cdot \\mathrm{m} + 19.555\\ \\mathrm{MN} \\cdot \\mathrm{m} + 43.918\\ \\mathrm{MN} \\cdot \\mathrm{m} \\right) \\\\&= 212.510\\ \\mathrm{MN} \\cdot \\mathrm{m}  \\\\[10pt]\n",
       "\\\\[10pt]\n",
       "\\mathrm{An} &= \\Sigma \\left( \\mathrm{An}_{Col_{Total}} + \\mathrm{An}_{SW_{Total}} + \\mathrm{An}_{Slab_{Total}} + \\mathrm{An}_{Wall_{Total}} + \\mathrm{An}_{Beam_{Total}} \\right) \\\\&= \\Sigma \\left( 1.340\\ \\mathrm{MN} + 321.594\\ \\mathrm{kN} + 4.851\\ \\mathrm{MN} + 969.730\\ \\mathrm{kN} + 1.877\\ \\mathrm{MN} \\right) \\\\&= 9.360\\ \\mathrm{MN}  \\\\[10pt]\n",
       "\\\\[10pt]\n",
       "\\mathrm{RnDn} &= \\Sigma \\left( \\mathrm{RnDn}_{Col_{Total}} + \\mathrm{RnDn}_{SW_{Total}} \\right) \\\\&= \\Sigma \\left( 8.012\\ \\mathrm{m}^{5} + 240.320\\ \\mathrm{m}^{5} \\right) \\\\&= 248.332\\ \\mathrm{m}^{5}  \\\\[10pt]\n",
       "\\\\[10pt]\n",
       "\\mathrm{Rn} &= \\Sigma \\left( \\mathrm{Rn}_{Col_{Total}} + \\mathrm{Rn}_{SW_{Total}} \\right) \\\\&= \\Sigma \\left( 338541666666.667\\ \\mathrm{mm}^{4} + 10.806\\ \\mathrm{m}^{4} \\right) \\\\&= 11.145\\ \\mathrm{m}^{4}  \\\\[10pt]\n",
       "\\\\[10pt]\n",
       "C_{m} &= \\frac{ \\Sigma \\left( \\mathrm{AnDn} \\right) }{ \\Sigma \\left( \\mathrm{An} \\right) } \\\\&= \\frac{ \\Sigma \\left( 212.510\\ \\mathrm{MN} \\cdot \\mathrm{m} \\right) }{ \\Sigma \\left( 9.360\\ \\mathrm{MN} \\right) } \\\\&= 22.704\\ \\mathrm{m}  \\\\[10pt]\n",
       "\\\\[10pt]\n",
       "C_{r} &= \\frac{ \\Sigma \\left( \\mathrm{RnDn} \\right) }{ \\Sigma \\left( \\mathrm{Rn} \\right) } \\\\&= \\frac{ \\Sigma \\left( 248.332\\ \\mathrm{m}^{5} \\right) }{ \\Sigma \\left( 11.145\\ \\mathrm{m}^{4} \\right) } \\\\&= 22.282\\ \\mathrm{m}  \\\\[10pt]\n",
       "\\end{aligned}\n",
       "\\]"
      ],
      "text/plain": [
       "<IPython.core.display.Latex object>"
      ]
     },
     "metadata": {},
     "output_type": "display_data"
    },
    {
     "data": {
      "text/markdown": [
       "## FLOOR - Roof Deck - X AXIS\n",
       "            "
      ],
      "text/plain": [
       "<IPython.core.display.Markdown object>"
      ]
     },
     "metadata": {},
     "output_type": "display_data"
    },
    {
     "data": {
      "text/latex": [
       "\\[\n",
       "\\begin{aligned}\n",
       "\\mathrm{Grid} &= 1 \\; \n",
       "\\\\[10pt]\n",
       "\\mathrm{AnDn}_{Col_{Total}} &= \\mathrm{Col}_{No} \\cdot \\mathrm{distance} \\cdot \\mathrm{length}_{col} \\cdot \\mathrm{width}_{col} \\cdot \\mathrm{height}_{col} \\cdot \\gamma_{c}  = 3.000 \\cdot 250.000\\ \\mathrm{mm} \\cdot 500.000\\ \\mathrm{mm} \\cdot 500.000\\ \\mathrm{mm} \\cdot 1.750\\ \\mathrm{m} \\cdot 23.560\\ \\mathrm{kN/m³} &= 7.731\\ \\mathrm{kN} \\cdot \\mathrm{m}  \n",
       "\\\\[10pt]\n",
       "\\mathrm{An}_{Col_{Total}} &= \\mathrm{Col}_{No} \\cdot \\mathrm{length}_{col} \\cdot \\mathrm{width}_{col} \\cdot \\mathrm{height}_{col} \\cdot \\gamma_{c}  = 3.000 \\cdot 500.000\\ \\mathrm{mm} \\cdot 500.000\\ \\mathrm{mm} \\cdot 1.750\\ \\mathrm{m} \\cdot 23.560\\ \\mathrm{kN/m³} &= 30.922\\ \\mathrm{kN}  \n",
       "\\\\[10pt]\n",
       "\\mathrm{RnDn}_{Col_{Total}} &= \\mathrm{Col}_{No} \\cdot \\left( \\frac{ \\left( \\mathrm{length}_{col} \\right) ^{ 4 } }{ 12 } \\right) \\cdot \\mathrm{distance}  = 3.000 \\cdot \\left( \\frac{ \\left( 500.000\\ \\mathrm{mm} \\right) ^{ 4 } }{ 12 } \\right) \\cdot 250.000\\ \\mathrm{mm} &= 3906250000000.000\\ \\mathrm{mm}^{5}  \n",
       "\\\\[10pt]\n",
       "\\mathrm{Rn}_{Col_{Total}} &= \\mathrm{Col}_{No} \\cdot \\frac{ \\left( \\mathrm{length}_{col} \\right) ^{ 4 } }{ 12 }  = 3.000 \\cdot \\frac{ \\left( 500.000\\ \\mathrm{mm} \\right) ^{ 4 } }{ 12 } &= 15625000000.000\\ \\mathrm{mm}^{4}  \n",
       "\\\\[10pt]\n",
       "\\mathrm{AnXn}_{Beam_{Total}} &= \\Sigma \\left( \\mathrm{length}_{girder} \\cdot \\mathrm{width}_{girder} \\cdot \\mathrm{height}_{girder} \\cdot \\gamma_{c} \\cdot \\mathrm{distance} \\right)  = \\Sigma \\left( [nan,\\ nan,\\ nan,\\ nan,\\ 6.000\\ \\mathrm{m},\\ 6.000\\ \\mathrm{m},\\ 6.000\\ \\mathrm{m},\\ 6.000\\ \\mathrm{m}] \\cdot 400.000\\ \\mathrm{mm} \\cdot 600.000\\ \\mathrm{mm} \\cdot 23.560\\ \\mathrm{kN/m³} \\cdot 250.000\\ \\mathrm{mm} \\right) &= 33.926\\ \\mathrm{kN} \\cdot \\mathrm{m}  \n",
       "\\\\[10pt]\n",
       "\\mathrm{An}_{Beam_{Total}} &= \\Sigma \\left( \\mathrm{length}_{girder} \\cdot \\mathrm{width}_{girder} \\cdot \\mathrm{height}_{girder} \\cdot \\gamma_{c} \\right)  = \\Sigma \\left( [nan,\\ nan,\\ nan,\\ nan,\\ 6.000\\ \\mathrm{m},\\ 6.000\\ \\mathrm{m},\\ 6.000\\ \\mathrm{m},\\ 6.000\\ \\mathrm{m}] \\cdot 400.000\\ \\mathrm{mm} \\cdot 600.000\\ \\mathrm{mm} \\cdot 23.560\\ \\mathrm{kN/m³} \\right) &= 135.706\\ \\mathrm{kN}  \n",
       "\\end{aligned}\n",
       "\\]"
      ],
      "text/plain": [
       "<IPython.core.display.Latex object>"
      ]
     },
     "metadata": {},
     "output_type": "display_data"
    },
    {
     "data": {
      "text/latex": [
       "\\[\n",
       "\\begin{aligned}\n",
       "\\mathrm{Grid} &= 2 \\; \n",
       "\\\\[10pt]\n",
       "\\mathrm{AnDn}_{Col_{Total}} &= \\mathrm{Col}_{No} \\cdot \\mathrm{distance} \\cdot \\mathrm{length}_{col} \\cdot \\mathrm{width}_{col} \\cdot \\mathrm{height}_{col} \\cdot \\gamma_{c}  = 5.000 \\cdot 6.250\\ \\mathrm{m} \\cdot 500.000\\ \\mathrm{mm} \\cdot 500.000\\ \\mathrm{mm} \\cdot 1.750\\ \\mathrm{m} \\cdot 23.560\\ \\mathrm{kN/m³} &= 322.109\\ \\mathrm{kN} \\cdot \\mathrm{m}  \n",
       "\\\\[10pt]\n",
       "\\mathrm{An}_{Col_{Total}} &= \\mathrm{Col}_{No} \\cdot \\mathrm{length}_{col} \\cdot \\mathrm{width}_{col} \\cdot \\mathrm{height}_{col} \\cdot \\gamma_{c}  = 5.000 \\cdot 500.000\\ \\mathrm{mm} \\cdot 500.000\\ \\mathrm{mm} \\cdot 1.750\\ \\mathrm{m} \\cdot 23.560\\ \\mathrm{kN/m³} &= 51.538\\ \\mathrm{kN}  \n",
       "\\\\[10pt]\n",
       "\\mathrm{RnDn}_{Col_{Total}} &= \\mathrm{Col}_{No} \\cdot \\left( \\frac{ \\left( \\mathrm{length}_{col} \\right) ^{ 4 } }{ 12 } \\right) \\cdot \\mathrm{distance}  = 5.000 \\cdot \\left( \\frac{ \\left( 500.000\\ \\mathrm{mm} \\right) ^{ 4 } }{ 12 } \\right) \\cdot 6.250\\ \\mathrm{m} &= 162760416666666.656\\ \\mathrm{mm}^{5}  \n",
       "\\\\[10pt]\n",
       "\\mathrm{Rn}_{Col_{Total}} &= \\mathrm{Col}_{No} \\cdot \\frac{ \\left( \\mathrm{length}_{col} \\right) ^{ 4 } }{ 12 }  = 5.000 \\cdot \\frac{ \\left( 500.000\\ \\mathrm{mm} \\right) ^{ 4 } }{ 12 } &= 26041666666.667\\ \\mathrm{mm}^{4}  \n",
       "\\\\[10pt]\n",
       "\\mathrm{AnXn}_{Beam_{Total}} &= \\Sigma \\left( \\mathrm{length}_{girder} \\cdot \\mathrm{width}_{girder} \\cdot \\mathrm{height}_{girder} \\cdot \\gamma_{c} \\cdot \\mathrm{distance} \\right)  = \\Sigma \\left( [nan,\\ nan,\\ nan,\\ nan,\\ 6.000\\ \\mathrm{m},\\ 6.000\\ \\mathrm{m},\\ 6.000\\ \\mathrm{m},\\ 6.000\\ \\mathrm{m}] \\cdot 400.000\\ \\mathrm{mm} \\cdot 600.000\\ \\mathrm{mm} \\cdot 23.560\\ \\mathrm{kN/m³} \\cdot 6.250\\ \\mathrm{m} \\right) &= 848.160\\ \\mathrm{kN} \\cdot \\mathrm{m}  \n",
       "\\\\[10pt]\n",
       "\\mathrm{An}_{Beam_{Total}} &= \\Sigma \\left( \\mathrm{length}_{girder} \\cdot \\mathrm{width}_{girder} \\cdot \\mathrm{height}_{girder} \\cdot \\gamma_{c} \\right)  = \\Sigma \\left( [nan,\\ nan,\\ nan,\\ nan,\\ 6.000\\ \\mathrm{m},\\ 6.000\\ \\mathrm{m},\\ 6.000\\ \\mathrm{m},\\ 6.000\\ \\mathrm{m}] \\cdot 400.000\\ \\mathrm{mm} \\cdot 600.000\\ \\mathrm{mm} \\cdot 23.560\\ \\mathrm{kN/m³} \\right) &= 135.706\\ \\mathrm{kN}  \n",
       "\\end{aligned}\n",
       "\\]"
      ],
      "text/plain": [
       "<IPython.core.display.Latex object>"
      ]
     },
     "metadata": {},
     "output_type": "display_data"
    },
    {
     "data": {
      "text/latex": [
       "\\[\n",
       "\\begin{aligned}\n",
       "\\mathrm{Grid} &= 3 \\; \n",
       "\\\\[10pt]\n",
       "\\mathrm{AnDn}_{Col_{Total}} &= \\mathrm{Col}_{No} \\cdot \\mathrm{distance} \\cdot \\mathrm{length}_{col} \\cdot \\mathrm{width}_{col} \\cdot \\mathrm{height}_{col} \\cdot \\gamma_{c}  = 9.000 \\cdot 11.250\\ \\mathrm{m} \\cdot 500.000\\ \\mathrm{mm} \\cdot 500.000\\ \\mathrm{mm} \\cdot 1.750\\ \\mathrm{m} \\cdot 23.560\\ \\mathrm{kN/m³} &= 1.044\\ \\mathrm{MN} \\cdot \\mathrm{m}  \n",
       "\\\\[10pt]\n",
       "\\mathrm{An}_{Col_{Total}} &= \\mathrm{Col}_{No} \\cdot \\mathrm{length}_{col} \\cdot \\mathrm{width}_{col} \\cdot \\mathrm{height}_{col} \\cdot \\gamma_{c}  = 9.000 \\cdot 500.000\\ \\mathrm{mm} \\cdot 500.000\\ \\mathrm{mm} \\cdot 1.750\\ \\mathrm{m} \\cdot 23.560\\ \\mathrm{kN/m³} &= 92.767\\ \\mathrm{kN}  \n",
       "\\\\[10pt]\n",
       "\\mathrm{RnDn}_{Col_{Total}} &= \\mathrm{Col}_{No} \\cdot \\left( \\frac{ \\left( \\mathrm{length}_{col} \\right) ^{ 4 } }{ 12 } \\right) \\cdot \\mathrm{distance}  = 9.000 \\cdot \\left( \\frac{ \\left( 500.000\\ \\mathrm{mm} \\right) ^{ 4 } }{ 12 } \\right) \\cdot 11.250\\ \\mathrm{m} &= 527343749999999.938\\ \\mathrm{mm}^{5}  \n",
       "\\\\[10pt]\n",
       "\\mathrm{Rn}_{Col_{Total}} &= \\mathrm{Col}_{No} \\cdot \\frac{ \\left( \\mathrm{length}_{col} \\right) ^{ 4 } }{ 12 }  = 9.000 \\cdot \\frac{ \\left( 500.000\\ \\mathrm{mm} \\right) ^{ 4 } }{ 12 } &= 46875000000.000\\ \\mathrm{mm}^{4}  \n",
       "\\\\[10pt]\n",
       "\\mathrm{AnXn}_{Beam_{Total}} &= \\Sigma \\left( \\mathrm{length}_{girder} \\cdot \\mathrm{width}_{girder} \\cdot \\mathrm{height}_{girder} \\cdot \\gamma_{c} \\cdot \\mathrm{distance} \\right)  = \\Sigma \\left( [5.000\\ \\mathrm{m},\\ 5.000\\ \\mathrm{m},\\ 5.000\\ \\mathrm{m},\\ 5.000\\ \\mathrm{m},\\ 6.000\\ \\mathrm{m},\\ 6.000\\ \\mathrm{m},\\ 6.000\\ \\mathrm{m},\\ 6.000\\ \\mathrm{m}] \\cdot 400.000\\ \\mathrm{mm} \\cdot 600.000\\ \\mathrm{mm} \\cdot 23.560\\ \\mathrm{kN/m³} \\cdot 11.250\\ \\mathrm{m} \\right) &= 2.799\\ \\mathrm{MN} \\cdot \\mathrm{m}  \n",
       "\\\\[10pt]\n",
       "\\mathrm{An}_{Beam_{Total}} &= \\Sigma \\left( \\mathrm{length}_{girder} \\cdot \\mathrm{width}_{girder} \\cdot \\mathrm{height}_{girder} \\cdot \\gamma_{c} \\right)  = \\Sigma \\left( [5.000\\ \\mathrm{m},\\ 5.000\\ \\mathrm{m},\\ 5.000\\ \\mathrm{m},\\ 5.000\\ \\mathrm{m},\\ 6.000\\ \\mathrm{m},\\ 6.000\\ \\mathrm{m},\\ 6.000\\ \\mathrm{m},\\ 6.000\\ \\mathrm{m}] \\cdot 400.000\\ \\mathrm{mm} \\cdot 600.000\\ \\mathrm{mm} \\cdot 23.560\\ \\mathrm{kN/m³} \\right) &= 248.794\\ \\mathrm{kN}  \n",
       "\\end{aligned}\n",
       "\\]"
      ],
      "text/plain": [
       "<IPython.core.display.Latex object>"
      ]
     },
     "metadata": {},
     "output_type": "display_data"
    },
    {
     "data": {
      "text/latex": [
       "\\[\n",
       "\\begin{aligned}\n",
       "\\mathrm{Grid} &= 4 \\; \n",
       "\\\\[10pt]\n",
       "\\mathrm{AnDn}_{Col_{Total}} &= \\mathrm{Col}_{No} \\cdot \\mathrm{distance} \\cdot \\mathrm{length}_{col} \\cdot \\mathrm{width}_{col} \\cdot \\mathrm{height}_{col} \\cdot \\gamma_{c}  = 9.000 \\cdot 17.250\\ \\mathrm{m} \\cdot 500.000\\ \\mathrm{mm} \\cdot 500.000\\ \\mathrm{mm} \\cdot 1.750\\ \\mathrm{m} \\cdot 23.560\\ \\mathrm{kN/m³} &= 1.600\\ \\mathrm{MN} \\cdot \\mathrm{m}  \n",
       "\\\\[10pt]\n",
       "\\mathrm{An}_{Col_{Total}} &= \\mathrm{Col}_{No} \\cdot \\mathrm{length}_{col} \\cdot \\mathrm{width}_{col} \\cdot \\mathrm{height}_{col} \\cdot \\gamma_{c}  = 9.000 \\cdot 500.000\\ \\mathrm{mm} \\cdot 500.000\\ \\mathrm{mm} \\cdot 1.750\\ \\mathrm{m} \\cdot 23.560\\ \\mathrm{kN/m³} &= 92.767\\ \\mathrm{kN}  \n",
       "\\\\[10pt]\n",
       "\\mathrm{RnDn}_{Col_{Total}} &= \\mathrm{Col}_{No} \\cdot \\left( \\frac{ \\left( \\mathrm{length}_{col} \\right) ^{ 4 } }{ 12 } \\right) \\cdot \\mathrm{distance}  = 9.000 \\cdot \\left( \\frac{ \\left( 500.000\\ \\mathrm{mm} \\right) ^{ 4 } }{ 12 } \\right) \\cdot 17.250\\ \\mathrm{m} &= 808593749999999.875\\ \\mathrm{mm}^{5}  \n",
       "\\\\[10pt]\n",
       "\\mathrm{Rn}_{Col_{Total}} &= \\mathrm{Col}_{No} \\cdot \\frac{ \\left( \\mathrm{length}_{col} \\right) ^{ 4 } }{ 12 }  = 9.000 \\cdot \\frac{ \\left( 500.000\\ \\mathrm{mm} \\right) ^{ 4 } }{ 12 } &= 46875000000.000\\ \\mathrm{mm}^{4}  \n",
       "\\\\[10pt]\n",
       "\\mathrm{AnXn}_{Beam_{Total}} &= \\Sigma \\left( \\mathrm{length}_{girder} \\cdot \\mathrm{width}_{girder} \\cdot \\mathrm{height}_{girder} \\cdot \\gamma_{c} \\cdot \\mathrm{distance} \\right)  = \\Sigma \\left( [5.000\\ \\mathrm{m},\\ 5.000\\ \\mathrm{m},\\ 5.000\\ \\mathrm{m},\\ 5.000\\ \\mathrm{m},\\ 6.000\\ \\mathrm{m},\\ 6.000\\ \\mathrm{m},\\ 6.000\\ \\mathrm{m},\\ 6.000\\ \\mathrm{m}] \\cdot 400.000\\ \\mathrm{mm} \\cdot 600.000\\ \\mathrm{mm} \\cdot 23.560\\ \\mathrm{kN/m³} \\cdot 17.250\\ \\mathrm{m} \\right) &= 4.292\\ \\mathrm{MN} \\cdot \\mathrm{m}  \n",
       "\\\\[10pt]\n",
       "\\mathrm{An}_{Beam_{Total}} &= \\Sigma \\left( \\mathrm{length}_{girder} \\cdot \\mathrm{width}_{girder} \\cdot \\mathrm{height}_{girder} \\cdot \\gamma_{c} \\right)  = \\Sigma \\left( [5.000\\ \\mathrm{m},\\ 5.000\\ \\mathrm{m},\\ 5.000\\ \\mathrm{m},\\ 5.000\\ \\mathrm{m},\\ 6.000\\ \\mathrm{m},\\ 6.000\\ \\mathrm{m},\\ 6.000\\ \\mathrm{m},\\ 6.000\\ \\mathrm{m}] \\cdot 400.000\\ \\mathrm{mm} \\cdot 600.000\\ \\mathrm{mm} \\cdot 23.560\\ \\mathrm{kN/m³} \\right) &= 248.794\\ \\mathrm{kN}  \n",
       "\\end{aligned}\n",
       "\\]"
      ],
      "text/plain": [
       "<IPython.core.display.Latex object>"
      ]
     },
     "metadata": {},
     "output_type": "display_data"
    },
    {
     "data": {
      "text/latex": [
       "\\[\n",
       "\\begin{aligned}\n",
       "\\mathrm{Grid} &= 5 \\; \n",
       "\\\\[10pt]\n",
       "\\mathrm{AnDn}_{Col_{Total}} &= \\mathrm{Col}_{No} \\cdot \\mathrm{distance} \\cdot \\mathrm{length}_{col} \\cdot \\mathrm{width}_{col} \\cdot \\mathrm{height}_{col} \\cdot \\gamma_{c}  = 9.000 \\cdot 22.250\\ \\mathrm{m} \\cdot 500.000\\ \\mathrm{mm} \\cdot 500.000\\ \\mathrm{mm} \\cdot 1.750\\ \\mathrm{m} \\cdot 23.560\\ \\mathrm{kN/m³} &= 2.064\\ \\mathrm{MN} \\cdot \\mathrm{m}  \n",
       "\\\\[10pt]\n",
       "\\mathrm{An}_{Col_{Total}} &= \\mathrm{Col}_{No} \\cdot \\mathrm{length}_{col} \\cdot \\mathrm{width}_{col} \\cdot \\mathrm{height}_{col} \\cdot \\gamma_{c}  = 9.000 \\cdot 500.000\\ \\mathrm{mm} \\cdot 500.000\\ \\mathrm{mm} \\cdot 1.750\\ \\mathrm{m} \\cdot 23.560\\ \\mathrm{kN/m³} &= 92.767\\ \\mathrm{kN}  \n",
       "\\\\[10pt]\n",
       "\\mathrm{RnDn}_{Col_{Total}} &= \\mathrm{Col}_{No} \\cdot \\left( \\frac{ \\left( \\mathrm{length}_{col} \\right) ^{ 4 } }{ 12 } \\right) \\cdot \\mathrm{distance}  = 9.000 \\cdot \\left( \\frac{ \\left( 500.000\\ \\mathrm{mm} \\right) ^{ 4 } }{ 12 } \\right) \\cdot 22.250\\ \\mathrm{m} &= 1.043\\ \\mathrm{m}^{5}  \n",
       "\\\\[10pt]\n",
       "\\mathrm{Rn}_{Col_{Total}} &= \\mathrm{Col}_{No} \\cdot \\frac{ \\left( \\mathrm{length}_{col} \\right) ^{ 4 } }{ 12 }  = 9.000 \\cdot \\frac{ \\left( 500.000\\ \\mathrm{mm} \\right) ^{ 4 } }{ 12 } &= 46875000000.000\\ \\mathrm{mm}^{4}  \n",
       "\\\\[10pt]\n",
       "\\mathrm{AnXn}_{Beam_{Total}} &= \\Sigma \\left( \\mathrm{length}_{girder} \\cdot \\mathrm{width}_{girder} \\cdot \\mathrm{height}_{girder} \\cdot \\gamma_{c} \\cdot \\mathrm{distance} \\right)  = \\Sigma \\left( [5.000\\ \\mathrm{m},\\ 5.000\\ \\mathrm{m},\\ 5.000\\ \\mathrm{m},\\ 5.000\\ \\mathrm{m},\\ 6.000\\ \\mathrm{m},\\ 6.000\\ \\mathrm{m},\\ 6.000\\ \\mathrm{m},\\ 6.000\\ \\mathrm{m}] \\cdot 400.000\\ \\mathrm{mm} \\cdot 600.000\\ \\mathrm{mm} \\cdot 23.560\\ \\mathrm{kN/m³} \\cdot 22.250\\ \\mathrm{m} \\right) &= 5.536\\ \\mathrm{MN} \\cdot \\mathrm{m}  \n",
       "\\\\[10pt]\n",
       "\\mathrm{An}_{Beam_{Total}} &= \\Sigma \\left( \\mathrm{length}_{girder} \\cdot \\mathrm{width}_{girder} \\cdot \\mathrm{height}_{girder} \\cdot \\gamma_{c} \\right)  = \\Sigma \\left( [5.000\\ \\mathrm{m},\\ 5.000\\ \\mathrm{m},\\ 5.000\\ \\mathrm{m},\\ 5.000\\ \\mathrm{m},\\ 6.000\\ \\mathrm{m},\\ 6.000\\ \\mathrm{m},\\ 6.000\\ \\mathrm{m},\\ 6.000\\ \\mathrm{m}] \\cdot 400.000\\ \\mathrm{mm} \\cdot 600.000\\ \\mathrm{mm} \\cdot 23.560\\ \\mathrm{kN/m³} \\right) &= 248.794\\ \\mathrm{kN}  \n",
       "\\end{aligned}\n",
       "\\]"
      ],
      "text/plain": [
       "<IPython.core.display.Latex object>"
      ]
     },
     "metadata": {},
     "output_type": "display_data"
    },
    {
     "data": {
      "text/latex": [
       "\\[\n",
       "\\begin{aligned}\n",
       "\\mathrm{Grid} &= 6 \\; \n",
       "\\\\[10pt]\n",
       "\\mathrm{AnDn}_{Col_{Total}} &= \\mathrm{Col}_{No} \\cdot \\mathrm{distance} \\cdot \\mathrm{length}_{col} \\cdot \\mathrm{width}_{col} \\cdot \\mathrm{height}_{col} \\cdot \\gamma_{c}  = 9.000 \\cdot 28.250\\ \\mathrm{m} \\cdot 500.000\\ \\mathrm{mm} \\cdot 500.000\\ \\mathrm{mm} \\cdot 1.750\\ \\mathrm{m} \\cdot 23.560\\ \\mathrm{kN/m³} &= 2.621\\ \\mathrm{MN} \\cdot \\mathrm{m}  \n",
       "\\\\[10pt]\n",
       "\\mathrm{An}_{Col_{Total}} &= \\mathrm{Col}_{No} \\cdot \\mathrm{length}_{col} \\cdot \\mathrm{width}_{col} \\cdot \\mathrm{height}_{col} \\cdot \\gamma_{c}  = 9.000 \\cdot 500.000\\ \\mathrm{mm} \\cdot 500.000\\ \\mathrm{mm} \\cdot 1.750\\ \\mathrm{m} \\cdot 23.560\\ \\mathrm{kN/m³} &= 92.767\\ \\mathrm{kN}  \n",
       "\\\\[10pt]\n",
       "\\mathrm{RnDn}_{Col_{Total}} &= \\mathrm{Col}_{No} \\cdot \\left( \\frac{ \\left( \\mathrm{length}_{col} \\right) ^{ 4 } }{ 12 } \\right) \\cdot \\mathrm{distance}  = 9.000 \\cdot \\left( \\frac{ \\left( 500.000\\ \\mathrm{mm} \\right) ^{ 4 } }{ 12 } \\right) \\cdot 28.250\\ \\mathrm{m} &= 1.324\\ \\mathrm{m}^{5}  \n",
       "\\\\[10pt]\n",
       "\\mathrm{Rn}_{Col_{Total}} &= \\mathrm{Col}_{No} \\cdot \\frac{ \\left( \\mathrm{length}_{col} \\right) ^{ 4 } }{ 12 }  = 9.000 \\cdot \\frac{ \\left( 500.000\\ \\mathrm{mm} \\right) ^{ 4 } }{ 12 } &= 46875000000.000\\ \\mathrm{mm}^{4}  \n",
       "\\\\[10pt]\n",
       "\\mathrm{AnXn}_{Beam_{Total}} &= \\Sigma \\left( \\mathrm{length}_{girder} \\cdot \\mathrm{width}_{girder} \\cdot \\mathrm{height}_{girder} \\cdot \\gamma_{c} \\cdot \\mathrm{distance} \\right)  = \\Sigma \\left( [5.000\\ \\mathrm{m},\\ 5.000\\ \\mathrm{m},\\ 5.000\\ \\mathrm{m},\\ 5.000\\ \\mathrm{m},\\ 6.000\\ \\mathrm{m},\\ 6.000\\ \\mathrm{m},\\ 6.000\\ \\mathrm{m},\\ 6.000\\ \\mathrm{m}] \\cdot 400.000\\ \\mathrm{mm} \\cdot 600.000\\ \\mathrm{mm} \\cdot 23.560\\ \\mathrm{kN/m³} \\cdot 28.250\\ \\mathrm{m} \\right) &= 7.028\\ \\mathrm{MN} \\cdot \\mathrm{m}  \n",
       "\\\\[10pt]\n",
       "\\mathrm{An}_{Beam_{Total}} &= \\Sigma \\left( \\mathrm{length}_{girder} \\cdot \\mathrm{width}_{girder} \\cdot \\mathrm{height}_{girder} \\cdot \\gamma_{c} \\right)  = \\Sigma \\left( [5.000\\ \\mathrm{m},\\ 5.000\\ \\mathrm{m},\\ 5.000\\ \\mathrm{m},\\ 5.000\\ \\mathrm{m},\\ 6.000\\ \\mathrm{m},\\ 6.000\\ \\mathrm{m},\\ 6.000\\ \\mathrm{m},\\ 6.000\\ \\mathrm{m}] \\cdot 400.000\\ \\mathrm{mm} \\cdot 600.000\\ \\mathrm{mm} \\cdot 23.560\\ \\mathrm{kN/m³} \\right) &= 248.794\\ \\mathrm{kN}  \n",
       "\\end{aligned}\n",
       "\\]"
      ],
      "text/plain": [
       "<IPython.core.display.Latex object>"
      ]
     },
     "metadata": {},
     "output_type": "display_data"
    },
    {
     "data": {
      "text/latex": [
       "\\[\n",
       "\\begin{aligned}\n",
       "\\mathrm{Grid} &= 7 \\; \n",
       "\\\\[10pt]\n",
       "\\mathrm{AnDn}_{Col_{Total}} &= \\mathrm{Col}_{No} \\cdot \\mathrm{distance} \\cdot \\mathrm{length}_{col} \\cdot \\mathrm{width}_{col} \\cdot \\mathrm{height}_{col} \\cdot \\gamma_{c}  = 9.000 \\cdot 33.250\\ \\mathrm{m} \\cdot 500.000\\ \\mathrm{mm} \\cdot 500.000\\ \\mathrm{mm} \\cdot 1.750\\ \\mathrm{m} \\cdot 23.560\\ \\mathrm{kN/m³} &= 3.085\\ \\mathrm{MN} \\cdot \\mathrm{m}  \n",
       "\\\\[10pt]\n",
       "\\mathrm{An}_{Col_{Total}} &= \\mathrm{Col}_{No} \\cdot \\mathrm{length}_{col} \\cdot \\mathrm{width}_{col} \\cdot \\mathrm{height}_{col} \\cdot \\gamma_{c}  = 9.000 \\cdot 500.000\\ \\mathrm{mm} \\cdot 500.000\\ \\mathrm{mm} \\cdot 1.750\\ \\mathrm{m} \\cdot 23.560\\ \\mathrm{kN/m³} &= 92.767\\ \\mathrm{kN}  \n",
       "\\\\[10pt]\n",
       "\\mathrm{RnDn}_{Col_{Total}} &= \\mathrm{Col}_{No} \\cdot \\left( \\frac{ \\left( \\mathrm{length}_{col} \\right) ^{ 4 } }{ 12 } \\right) \\cdot \\mathrm{distance}  = 9.000 \\cdot \\left( \\frac{ \\left( 500.000\\ \\mathrm{mm} \\right) ^{ 4 } }{ 12 } \\right) \\cdot 33.250\\ \\mathrm{m} &= 1.559\\ \\mathrm{m}^{5}  \n",
       "\\\\[10pt]\n",
       "\\mathrm{Rn}_{Col_{Total}} &= \\mathrm{Col}_{No} \\cdot \\frac{ \\left( \\mathrm{length}_{col} \\right) ^{ 4 } }{ 12 }  = 9.000 \\cdot \\frac{ \\left( 500.000\\ \\mathrm{mm} \\right) ^{ 4 } }{ 12 } &= 46875000000.000\\ \\mathrm{mm}^{4}  \n",
       "\\\\[10pt]\n",
       "\\mathrm{AnXn}_{Beam_{Total}} &= \\Sigma \\left( \\mathrm{length}_{girder} \\cdot \\mathrm{width}_{girder} \\cdot \\mathrm{height}_{girder} \\cdot \\gamma_{c} \\cdot \\mathrm{distance} \\right)  = \\Sigma \\left( [5.000\\ \\mathrm{m},\\ 5.000\\ \\mathrm{m},\\ 5.000\\ \\mathrm{m},\\ 5.000\\ \\mathrm{m},\\ 6.000\\ \\mathrm{m},\\ 6.000\\ \\mathrm{m},\\ 6.000\\ \\mathrm{m},\\ 6.000\\ \\mathrm{m}] \\cdot 400.000\\ \\mathrm{mm} \\cdot 600.000\\ \\mathrm{mm} \\cdot 23.560\\ \\mathrm{kN/m³} \\cdot 33.250\\ \\mathrm{m} \\right) &= 8.272\\ \\mathrm{MN} \\cdot \\mathrm{m}  \n",
       "\\\\[10pt]\n",
       "\\mathrm{An}_{Beam_{Total}} &= \\Sigma \\left( \\mathrm{length}_{girder} \\cdot \\mathrm{width}_{girder} \\cdot \\mathrm{height}_{girder} \\cdot \\gamma_{c} \\right)  = \\Sigma \\left( [5.000\\ \\mathrm{m},\\ 5.000\\ \\mathrm{m},\\ 5.000\\ \\mathrm{m},\\ 5.000\\ \\mathrm{m},\\ 6.000\\ \\mathrm{m},\\ 6.000\\ \\mathrm{m},\\ 6.000\\ \\mathrm{m},\\ 6.000\\ \\mathrm{m}] \\cdot 400.000\\ \\mathrm{mm} \\cdot 600.000\\ \\mathrm{mm} \\cdot 23.560\\ \\mathrm{kN/m³} \\right) &= 248.794\\ \\mathrm{kN}  \n",
       "\\end{aligned}\n",
       "\\]"
      ],
      "text/plain": [
       "<IPython.core.display.Latex object>"
      ]
     },
     "metadata": {},
     "output_type": "display_data"
    },
    {
     "data": {
      "text/latex": [
       "\\[\n",
       "\\begin{aligned}\n",
       "\\mathrm{Grid} &= 8 \\; \n",
       "\\\\[10pt]\n",
       "\\mathrm{AnDn}_{Col_{Total}} &= \\mathrm{Col}_{No} \\cdot \\mathrm{distance} \\cdot \\mathrm{length}_{col} \\cdot \\mathrm{width}_{col} \\cdot \\mathrm{height}_{col} \\cdot \\gamma_{c}  = 7.000 \\cdot 39.250\\ \\mathrm{m} \\cdot 500.000\\ \\mathrm{mm} \\cdot 500.000\\ \\mathrm{mm} \\cdot 1.750\\ \\mathrm{m} \\cdot 23.560\\ \\mathrm{kN/m³} &= 2.832\\ \\mathrm{MN} \\cdot \\mathrm{m}  \n",
       "\\\\[10pt]\n",
       "\\mathrm{An}_{Col_{Total}} &= \\mathrm{Col}_{No} \\cdot \\mathrm{length}_{col} \\cdot \\mathrm{width}_{col} \\cdot \\mathrm{height}_{col} \\cdot \\gamma_{c}  = 7.000 \\cdot 500.000\\ \\mathrm{mm} \\cdot 500.000\\ \\mathrm{mm} \\cdot 1.750\\ \\mathrm{m} \\cdot 23.560\\ \\mathrm{kN/m³} &= 72.153\\ \\mathrm{kN}  \n",
       "\\\\[10pt]\n",
       "\\mathrm{RnDn}_{Col_{Total}} &= \\mathrm{Col}_{No} \\cdot \\left( \\frac{ \\left( \\mathrm{length}_{col} \\right) ^{ 4 } }{ 12 } \\right) \\cdot \\mathrm{distance}  = 7.000 \\cdot \\left( \\frac{ \\left( 500.000\\ \\mathrm{mm} \\right) ^{ 4 } }{ 12 } \\right) \\cdot 39.250\\ \\mathrm{m} &= 1.431\\ \\mathrm{m}^{5}  \n",
       "\\\\[10pt]\n",
       "\\mathrm{Rn}_{Col_{Total}} &= \\mathrm{Col}_{No} \\cdot \\frac{ \\left( \\mathrm{length}_{col} \\right) ^{ 4 } }{ 12 }  = 7.000 \\cdot \\frac{ \\left( 500.000\\ \\mathrm{mm} \\right) ^{ 4 } }{ 12 } &= 36458333333.333\\ \\mathrm{mm}^{4}  \n",
       "\\\\[10pt]\n",
       "\\mathrm{AnXn}_{Beam_{Total}} &= \\Sigma \\left( \\mathrm{length}_{girder} \\cdot \\mathrm{width}_{girder} \\cdot \\mathrm{height}_{girder} \\cdot \\gamma_{c} \\cdot \\mathrm{distance} \\right)  = \\Sigma \\left( [5.000\\ \\mathrm{m},\\ 5.000\\ \\mathrm{m},\\ 5.000\\ \\mathrm{m},\\ 5.000\\ \\mathrm{m},\\ 6.000\\ \\mathrm{m},\\ 6.000\\ \\mathrm{m},\\ nan,\\ nan] \\cdot 400.000\\ \\mathrm{mm} \\cdot 600.000\\ \\mathrm{mm} \\cdot 23.560\\ \\mathrm{kN/m³} \\cdot 39.250\\ \\mathrm{m} \\right) &= 7.102\\ \\mathrm{MN} \\cdot \\mathrm{m}  \n",
       "\\\\[10pt]\n",
       "\\mathrm{An}_{Beam_{Total}} &= \\Sigma \\left( \\mathrm{length}_{girder} \\cdot \\mathrm{width}_{girder} \\cdot \\mathrm{height}_{girder} \\cdot \\gamma_{c} \\right)  = \\Sigma \\left( [5.000\\ \\mathrm{m},\\ 5.000\\ \\mathrm{m},\\ 5.000\\ \\mathrm{m},\\ 5.000\\ \\mathrm{m},\\ 6.000\\ \\mathrm{m},\\ 6.000\\ \\mathrm{m},\\ nan,\\ nan] \\cdot 400.000\\ \\mathrm{mm} \\cdot 600.000\\ \\mathrm{mm} \\cdot 23.560\\ \\mathrm{kN/m³} \\right) &= 180.941\\ \\mathrm{kN}  \n",
       "\\end{aligned}\n",
       "\\]"
      ],
      "text/plain": [
       "<IPython.core.display.Latex object>"
      ]
     },
     "metadata": {},
     "output_type": "display_data"
    },
    {
     "data": {
      "text/latex": [
       "\\[\n",
       "\\begin{aligned}\n",
       "\\mathrm{Grid} &= 9 \\; \n",
       "\\\\[10pt]\n",
       "\\mathrm{AnDn}_{Col_{Total}} &= \\mathrm{Col}_{No} \\cdot \\mathrm{distance} \\cdot \\mathrm{length}_{col} \\cdot \\mathrm{width}_{col} \\cdot \\mathrm{height}_{col} \\cdot \\gamma_{c}  = 5.000 \\cdot 44.250\\ \\mathrm{m} \\cdot 500.000\\ \\mathrm{mm} \\cdot 500.000\\ \\mathrm{mm} \\cdot 1.750\\ \\mathrm{m} \\cdot 23.560\\ \\mathrm{kN/m³} &= 2.281\\ \\mathrm{MN} \\cdot \\mathrm{m}  \n",
       "\\\\[10pt]\n",
       "\\mathrm{An}_{Col_{Total}} &= \\mathrm{Col}_{No} \\cdot \\mathrm{length}_{col} \\cdot \\mathrm{width}_{col} \\cdot \\mathrm{height}_{col} \\cdot \\gamma_{c}  = 5.000 \\cdot 500.000\\ \\mathrm{mm} \\cdot 500.000\\ \\mathrm{mm} \\cdot 1.750\\ \\mathrm{m} \\cdot 23.560\\ \\mathrm{kN/m³} &= 51.538\\ \\mathrm{kN}  \n",
       "\\\\[10pt]\n",
       "\\mathrm{RnDn}_{Col_{Total}} &= \\mathrm{Col}_{No} \\cdot \\left( \\frac{ \\left( \\mathrm{length}_{col} \\right) ^{ 4 } }{ 12 } \\right) \\cdot \\mathrm{distance}  = 5.000 \\cdot \\left( \\frac{ \\left( 500.000\\ \\mathrm{mm} \\right) ^{ 4 } }{ 12 } \\right) \\cdot 44.250\\ \\mathrm{m} &= 1.152\\ \\mathrm{m}^{5}  \n",
       "\\\\[10pt]\n",
       "\\mathrm{Rn}_{Col_{Total}} &= \\mathrm{Col}_{No} \\cdot \\frac{ \\left( \\mathrm{length}_{col} \\right) ^{ 4 } }{ 12 }  = 5.000 \\cdot \\frac{ \\left( 500.000\\ \\mathrm{mm} \\right) ^{ 4 } }{ 12 } &= 26041666666.667\\ \\mathrm{mm}^{4}  \n",
       "\\\\[10pt]\n",
       "\\mathrm{AnXn}_{Beam_{Total}} &= \\Sigma \\left( \\mathrm{length}_{girder} \\cdot \\mathrm{width}_{girder} \\cdot \\mathrm{height}_{girder} \\cdot \\gamma_{c} \\cdot \\mathrm{distance} \\right)  = \\Sigma \\left( [5.000\\ \\mathrm{m},\\ 5.000\\ \\mathrm{m},\\ 5.000\\ \\mathrm{m},\\ 5.000\\ \\mathrm{m},\\ 6.000\\ \\mathrm{m},\\ 6.000\\ \\mathrm{m},\\ nan,\\ nan] \\cdot 400.000\\ \\mathrm{mm} \\cdot 600.000\\ \\mathrm{mm} \\cdot 23.560\\ \\mathrm{kN/m³} \\cdot 44.250\\ \\mathrm{m} \\right) &= 8.007\\ \\mathrm{MN} \\cdot \\mathrm{m}  \n",
       "\\\\[10pt]\n",
       "\\mathrm{An}_{Beam_{Total}} &= \\Sigma \\left( \\mathrm{length}_{girder} \\cdot \\mathrm{width}_{girder} \\cdot \\mathrm{height}_{girder} \\cdot \\gamma_{c} \\right)  = \\Sigma \\left( [5.000\\ \\mathrm{m},\\ 5.000\\ \\mathrm{m},\\ 5.000\\ \\mathrm{m},\\ 5.000\\ \\mathrm{m},\\ 6.000\\ \\mathrm{m},\\ 6.000\\ \\mathrm{m},\\ nan,\\ nan] \\cdot 400.000\\ \\mathrm{mm} \\cdot 600.000\\ \\mathrm{mm} \\cdot 23.560\\ \\mathrm{kN/m³} \\right) &= 180.941\\ \\mathrm{kN}  \n",
       "\\end{aligned}\n",
       "\\]"
      ],
      "text/plain": [
       "<IPython.core.display.Latex object>"
      ]
     },
     "metadata": {},
     "output_type": "display_data"
    },
    {
     "data": {
      "text/latex": [
       "\\[\n",
       "\\begin{aligned}\n",
       "\\mathrm{AnDn}_{SW_{Total}} &= \\Sigma \\left( \\mathrm{length} \\cdot \\mathrm{distance} \\cdot \\mathrm{width} \\cdot \\mathrm{height} \\cdot \\gamma_{c} \\right) \\\\&= \\Sigma \\left( [6.000\\ \\mathrm{m},\\ 500.000\\ \\mathrm{mm},\\ 500.000\\ \\mathrm{mm},\\ 6.000\\ \\mathrm{m}] \\cdot [250.000\\ \\mathrm{mm},\\ 3.250\\ \\mathrm{m},\\ 3.250\\ \\mathrm{m},\\ 44.250\\ \\mathrm{m}] \\cdot 300.000\\ \\mathrm{mm} \\cdot 1.750\\ \\mathrm{m} \\cdot 23.560\\ \\mathrm{kN/m³} \\right) \\\\&= 3.343\\ \\mathrm{MN} \\cdot \\mathrm{m}  \\\\[10pt]\n",
       "\\\\[10pt]\n",
       "\\mathrm{An}_{SW_{Total}} &= \\Sigma \\left( \\mathrm{length} \\cdot \\mathrm{width} \\cdot \\mathrm{height} \\cdot \\gamma_{c} \\right) \\\\&= \\Sigma \\left( [6.000\\ \\mathrm{m},\\ 500.000\\ \\mathrm{mm},\\ 500.000\\ \\mathrm{mm},\\ 6.000\\ \\mathrm{m}] \\cdot 300.000\\ \\mathrm{mm} \\cdot 1.750\\ \\mathrm{m} \\cdot 23.560\\ \\mathrm{kN/m³} \\right) \\\\&= 160.797\\ \\mathrm{kN}  \\\\[10pt]\n",
       "\\\\[10pt]\n",
       "\\mathrm{RnDn}_{SW_{Total}} &= \\Sigma \\left( \\left( \\frac{ \\left( \\mathrm{length} \\right) ^{ 3 } \\cdot \\mathrm{width} }{ 12 } \\right) \\cdot \\mathrm{distance} \\right) \\\\&= \\Sigma \\left( \\left( \\frac{ \\left( [6.000\\ \\mathrm{m},\\ 500.000\\ \\mathrm{mm},\\ 500.000\\ \\mathrm{mm},\\ 6.000\\ \\mathrm{m}] \\right) ^{ 3 } \\cdot 300.000\\ \\mathrm{mm} }{ 12 } \\right) \\cdot [250.000\\ \\mathrm{mm},\\ 3.250\\ \\mathrm{m},\\ 3.250\\ \\mathrm{m},\\ 44.250\\ \\mathrm{m}] \\right) \\\\&= 240.320\\ \\mathrm{m}^{5}  \\\\[10pt]\n",
       "\\\\[10pt]\n",
       "\\mathrm{Rn}_{SW_{Total}} &= \\Sigma \\left( \\frac{ \\left( \\mathrm{length} \\right) ^{ 3 } \\cdot \\mathrm{width} }{ 12 } \\right) \\\\&= \\Sigma \\left( \\frac{ \\left( [6.000\\ \\mathrm{m},\\ 500.000\\ \\mathrm{mm},\\ 500.000\\ \\mathrm{mm},\\ 6.000\\ \\mathrm{m}] \\right) ^{ 3 } \\cdot 300.000\\ \\mathrm{mm} }{ 12 } \\right) \\\\&= 10.806\\ \\mathrm{m}^{4}  \\\\[10pt]\n",
       "\\end{aligned}\n",
       "\\]"
      ],
      "text/plain": [
       "<IPython.core.display.Latex object>"
      ]
     },
     "metadata": {},
     "output_type": "display_data"
    },
    {
     "data": {
      "text/latex": [
       "\\[\n",
       "\\begin{aligned}\n",
       "\\mathrm{AnDn}_{Slab_{Total}} &= \\Sigma \\left( \\mathrm{area} \\cdot \\mathrm{distance} \\cdot \\mathrm{height} \\cdot \\gamma_{c} \\right) \\\\&= \\Sigma \\left( [1936.000\\ \\mathrm{m}^{2},\\ -220.000\\ \\mathrm{m}^{2},\\ -132.000\\ \\mathrm{m}^{2}] \\cdot [22.000\\ \\mathrm{m},\\ 6.000\\ \\mathrm{m},\\ 39.000\\ \\mathrm{m}] \\cdot 130.000\\ \\mathrm{mm} \\cdot 23.560\\ \\mathrm{kN/m³} \\right) \\\\&= 110.641\\ \\mathrm{MN} \\cdot \\mathrm{m}  \\\\[10pt]\n",
       "\\\\[10pt]\n",
       "\\mathrm{An}_{Slab_{Total}} &= \\Sigma \\left( \\mathrm{area} \\cdot \\mathrm{height} \\cdot \\gamma_{c} \\right) \\\\&= \\Sigma \\left( [1936.000\\ \\mathrm{m}^{2},\\ -220.000\\ \\mathrm{m}^{2},\\ -132.000\\ \\mathrm{m}^{2}] \\cdot 130.000\\ \\mathrm{mm} \\cdot 23.560\\ \\mathrm{kN/m³} \\right) \\\\&= 4.851\\ \\mathrm{MN}  \\\\[10pt]\n",
       "\\end{aligned}\n",
       "\\]"
      ],
      "text/plain": [
       "<IPython.core.display.Latex object>"
      ]
     },
     "metadata": {},
     "output_type": "display_data"
    },
    {
     "data": {
      "text/latex": [
       "\\[\n",
       "\\begin{aligned}\n",
       "\\mathrm{AnDn}_{Wall_{Total}} &= \\Sigma \\left( \\mathrm{length} \\cdot \\mathrm{distance} \\cdot \\mathrm{width} \\cdot \\mathrm{height} \\cdot \\gamma_{c} \\cdot 0.7 \\right) \\\\&= \\Sigma \\left( [nan,\\ nan,\\ 5.000\\ \\mathrm{m},\\ 5.000\\ \\mathrm{m},\\ 5.000\\ \\mathrm{m},\\ 5.000\\ \\mathrm{m},\\ 5.000\\ \\mathrm{m},\\ 5.000\\ \\mathrm{m},\\ 5.000\\ \\mathrm{m},\\ 6.000\\ \\mathrm{m},\\ 6.000\\ \\mathrm{m},\\ 6.000\\ \\mathrm{m},\\ 6.000\\ \\mathrm{m},\\ 6.000\\ \\mathrm{m},\\ 6.000\\ \\mathrm{m},\\ 6.000\\ \\mathrm{m},\\ nan,\\ nan,\\ nan,\\ nan,\\ 5.000\\ \\mathrm{m},\\ 5.000\\ \\mathrm{m},\\ 5.000\\ \\mathrm{m},\\ 5.000\\ \\mathrm{m},\\ 5.000\\ \\mathrm{m},\\ 5.000\\ \\mathrm{m},\\ 5.000\\ \\mathrm{m}] \\cdot [nan,\\ nan,\\ nan,\\ nan,\\ 250.000\\ \\mathrm{mm},\\ 250.000\\ \\mathrm{mm},\\ 250.000\\ \\mathrm{mm},\\ 250.000\\ \\mathrm{mm},\\ 250.000\\ \\mathrm{mm},\\ 44.250\\ \\mathrm{m},\\ 44.250\\ \\mathrm{m},\\ 44.250\\ \\mathrm{m},\\ 44.250\\ \\mathrm{m},\\ 44.250\\ \\mathrm{m},\\ 44.250\\ \\mathrm{m},\\ 44.250\\ \\mathrm{m},\\ nan,\\ nan,\\ 11.250\\ \\mathrm{m},\\ 11.250\\ \\mathrm{m},\\ 11.250\\ \\mathrm{m},\\ 11.250\\ \\mathrm{m},\\ 11.250\\ \\mathrm{m},\\ 11.250\\ \\mathrm{m},\\ 11.250\\ \\mathrm{m},\\ 11.250\\ \\mathrm{m},\\ 11.250\\ \\mathrm{m}] \\cdot 150.000\\ \\mathrm{mm} \\cdot 1.750\\ \\mathrm{m} \\cdot 23.560\\ \\mathrm{kN/m³} \\cdot 0.7 \\right) \\\\&= 9.777\\ \\mathrm{MN} \\cdot \\mathrm{m}  \\\\[10pt]\n",
       "\\\\[10pt]\n",
       "\\mathrm{An}_{Wall_{Total}} &= \\Sigma \\left( \\mathrm{length} \\cdot \\mathrm{width} \\cdot \\mathrm{height} \\cdot \\gamma_{c} \\cdot 0.7 \\right) \\\\&= \\Sigma \\left( [nan,\\ nan,\\ 5.000\\ \\mathrm{m},\\ 5.000\\ \\mathrm{m},\\ 5.000\\ \\mathrm{m},\\ 5.000\\ \\mathrm{m},\\ 5.000\\ \\mathrm{m},\\ 5.000\\ \\mathrm{m},\\ 5.000\\ \\mathrm{m},\\ 6.000\\ \\mathrm{m},\\ 6.000\\ \\mathrm{m},\\ 6.000\\ \\mathrm{m},\\ 6.000\\ \\mathrm{m},\\ 6.000\\ \\mathrm{m},\\ 6.000\\ \\mathrm{m},\\ 6.000\\ \\mathrm{m},\\ nan,\\ nan,\\ nan,\\ nan,\\ 5.000\\ \\mathrm{m},\\ 5.000\\ \\mathrm{m},\\ 5.000\\ \\mathrm{m},\\ 5.000\\ \\mathrm{m},\\ 5.000\\ \\mathrm{m},\\ 5.000\\ \\mathrm{m},\\ 5.000\\ \\mathrm{m}] \\cdot 150.000\\ \\mathrm{mm} \\cdot 1.750\\ \\mathrm{m} \\cdot 23.560\\ \\mathrm{kN/m³} \\cdot 0.7 \\right) \\\\&= 484.865\\ \\mathrm{kN}  \\\\[10pt]\n",
       "\\end{aligned}\n",
       "\\]"
      ],
      "text/plain": [
       "<IPython.core.display.Latex object>"
      ]
     },
     "metadata": {},
     "output_type": "display_data"
    },
    {
     "data": {
      "text/latex": [
       "\\[\n",
       "\\begin{aligned}\n",
       "\\mathrm{AnDn}_{Col_{Total}} &= \\Sigma \\left( \\mathrm{AnDn}_{Col} \\right) \\\\&= \\Sigma \\left( [7.731\\ \\mathrm{kN} \\cdot \\mathrm{m},\\ 322.109\\ \\mathrm{kN} \\cdot \\mathrm{m},\\ 1.044\\ \\mathrm{MN} \\cdot \\mathrm{m},\\ 1.600\\ \\mathrm{MN} \\cdot \\mathrm{m},\\ 2.064\\ \\mathrm{MN} \\cdot \\mathrm{m},\\ 2.621\\ \\mathrm{MN} \\cdot \\mathrm{m},\\ 3.085\\ \\mathrm{MN} \\cdot \\mathrm{m},\\ 2.832\\ \\mathrm{MN} \\cdot \\mathrm{m},\\ 2.281\\ \\mathrm{MN} \\cdot \\mathrm{m}] \\right) \\\\&= 15.856\\ \\mathrm{MN} \\cdot \\mathrm{m}  \\\\[10pt]\n",
       "\\\\[10pt]\n",
       "\\mathrm{An}_{Col_{Total}} &= \\Sigma \\left( \\mathrm{An}_{Col} \\right) \\\\&= \\Sigma \\left( [30.922\\ \\mathrm{kN},\\ 51.538\\ \\mathrm{kN},\\ 92.767\\ \\mathrm{kN},\\ 92.767\\ \\mathrm{kN},\\ 92.767\\ \\mathrm{kN},\\ 92.767\\ \\mathrm{kN},\\ 92.767\\ \\mathrm{kN},\\ 72.153\\ \\mathrm{kN},\\ 51.538\\ \\mathrm{kN}] \\right) \\\\&= 669.987\\ \\mathrm{kN}  \\\\[10pt]\n",
       "\\\\[10pt]\n",
       "\\mathrm{RnDn}_{Col_{Total}} &= \\Sigma \\left( \\mathrm{RnDn}_{Col} \\right) \\\\&= \\Sigma \\left( [3906250000000.000\\ \\mathrm{mm}^{5},\\ 162760416666666.656\\ \\mathrm{mm}^{5},\\ 527343749999999.938\\ \\mathrm{mm}^{5},\\ 808593749999999.875\\ \\mathrm{mm}^{5},\\ 1.043\\ \\mathrm{m}^{5},\\ 1.324\\ \\mathrm{m}^{5},\\ 1.559\\ \\mathrm{m}^{5},\\ 1.431\\ \\mathrm{m}^{5},\\ 1.152\\ \\mathrm{m}^{5}] \\right) \\\\&= 8.012\\ \\mathrm{m}^{5}  \\\\[10pt]\n",
       "\\\\[10pt]\n",
       "\\mathrm{Rn}_{Col_{Total}} &= \\Sigma \\left( \\mathrm{Rn}_{Col} \\right) \\\\&= \\Sigma \\left( [15625000000.000\\ \\mathrm{mm}^{4},\\ 26041666666.667\\ \\mathrm{mm}^{4},\\ 46875000000.000\\ \\mathrm{mm}^{4},\\ 46875000000.000\\ \\mathrm{mm}^{4},\\ 46875000000.000\\ \\mathrm{mm}^{4},\\ 46875000000.000\\ \\mathrm{mm}^{4},\\ 46875000000.000\\ \\mathrm{mm}^{4},\\ 36458333333.333\\ \\mathrm{mm}^{4},\\ 26041666666.667\\ \\mathrm{mm}^{4}] \\right) \\\\&= 338541666666.667\\ \\mathrm{mm}^{4}  \\\\[10pt]\n",
       "\\\\[10pt]\n",
       "\\mathrm{AnDn}_{Beam_{Total}} &= \\Sigma \\left( \\mathrm{AnDn}_{Beam} \\right) \\\\&= \\Sigma \\left( [33.926\\ \\mathrm{kN} \\cdot \\mathrm{m},\\ 848.160\\ \\mathrm{kN} \\cdot \\mathrm{m},\\ 2.799\\ \\mathrm{MN} \\cdot \\mathrm{m},\\ 4.292\\ \\mathrm{MN} \\cdot \\mathrm{m},\\ 5.536\\ \\mathrm{MN} \\cdot \\mathrm{m},\\ 7.028\\ \\mathrm{MN} \\cdot \\mathrm{m},\\ 8.272\\ \\mathrm{MN} \\cdot \\mathrm{m},\\ 7.102\\ \\mathrm{MN} \\cdot \\mathrm{m},\\ 8.007\\ \\mathrm{MN} \\cdot \\mathrm{m}] \\right) \\\\&= 43.918\\ \\mathrm{MN} \\cdot \\mathrm{m}  \\\\[10pt]\n",
       "\\\\[10pt]\n",
       "\\mathrm{An}_{Beam_{Total}} &= \\Sigma \\left( \\mathrm{An}_{Beam} \\right) \\\\&= \\Sigma \\left( [135.706\\ \\mathrm{kN},\\ 135.706\\ \\mathrm{kN},\\ 248.794\\ \\mathrm{kN},\\ 248.794\\ \\mathrm{kN},\\ 248.794\\ \\mathrm{kN},\\ 248.794\\ \\mathrm{kN},\\ 248.794\\ \\mathrm{kN},\\ 180.941\\ \\mathrm{kN},\\ 180.941\\ \\mathrm{kN}] \\right) \\\\&= 1.877\\ \\mathrm{MN}  \\\\[10pt]\n",
       "\\\\[10pt]\n",
       "\\mathrm{AnDn}_{SW_{Total}} &= \\Sigma \\left( \\mathrm{AnDn}_{SW} \\right) \\\\&= \\Sigma \\left( [3.343\\ \\mathrm{MN} \\cdot \\mathrm{m}] \\right) \\\\&= 3.343\\ \\mathrm{MN} \\cdot \\mathrm{m}  \\\\[10pt]\n",
       "\\\\[10pt]\n",
       "\\mathrm{An}_{SW_{Total}} &= \\Sigma \\left( \\mathrm{An}_{SW} \\right) \\\\&= \\Sigma \\left( [160.797\\ \\mathrm{kN}] \\right) \\\\&= 160.797\\ \\mathrm{kN}  \\\\[10pt]\n",
       "\\\\[10pt]\n",
       "\\mathrm{RnDn}_{SW_{Total}} &= \\Sigma \\left( \\mathrm{RnDn}_{SW_{Total}} \\right) \\\\&= \\Sigma \\left( 240.320\\ \\mathrm{m}^{5} \\right) \\\\&= 240.320\\ \\mathrm{m}^{5}  \\\\[10pt]\n",
       "\\\\[10pt]\n",
       "\\mathrm{Rn}_{SW_{Total}} &= \\Sigma \\left( \\mathrm{Rn}_{SW} \\right) \\\\&= \\Sigma \\left( [10.806\\ \\mathrm{m}^{4}] \\right) \\\\&= 10.806\\ \\mathrm{m}^{4}  \\\\[10pt]\n",
       "\\\\[10pt]\n",
       "\\mathrm{AnDn}_{Slab_{Total}} &= \\Sigma \\left( \\mathrm{AnDn}_{Slab} \\right) \\\\&= \\Sigma \\left( [110.641\\ \\mathrm{MN} \\cdot \\mathrm{m}] \\right) \\\\&= 110.641\\ \\mathrm{MN} \\cdot \\mathrm{m}  \\\\[10pt]\n",
       "\\\\[10pt]\n",
       "\\mathrm{An}_{Slab_{Total}} &= \\Sigma \\left( \\mathrm{An}_{Slab} \\right) \\\\&= \\Sigma \\left( [4.851\\ \\mathrm{MN}] \\right) \\\\&= 4.851\\ \\mathrm{MN}  \\\\[10pt]\n",
       "\\\\[10pt]\n",
       "\\mathrm{AnDn}_{Wall_{Total}} &= \\Sigma \\left( \\mathrm{AnDn}_{Wall} \\right) \\\\&= \\Sigma \\left( [9.777\\ \\mathrm{MN} \\cdot \\mathrm{m}] \\right) \\\\&= 9.777\\ \\mathrm{MN} \\cdot \\mathrm{m}  \\\\[10pt]\n",
       "\\\\[10pt]\n",
       "\\mathrm{An}_{Wall_{Total}} &= \\Sigma \\left( \\mathrm{An}_{Wall} \\right) \\\\&= \\Sigma \\left( [484.865\\ \\mathrm{kN}] \\right) \\\\&= 484.865\\ \\mathrm{kN}  \\\\[10pt]\n",
       "\\end{aligned}\n",
       "\\]"
      ],
      "text/plain": [
       "<IPython.core.display.Latex object>"
      ]
     },
     "metadata": {},
     "output_type": "display_data"
    },
    {
     "data": {
      "text/latex": [
       "\\[\n",
       "\\begin{aligned}\n",
       "\\mathrm{AnDn} &= \\Sigma \\left( \\mathrm{AnDn}_{Col_{Total}} + \\mathrm{AnDn}_{SW_{Total}} + \\mathrm{AnDn}_{Slab_{Total}} + \\mathrm{AnDn}_{Wall_{Total}} + \\mathrm{AnDn}_{Beam_{Total}} \\right) \\\\&= \\Sigma \\left( 15.856\\ \\mathrm{MN} \\cdot \\mathrm{m} + 3.343\\ \\mathrm{MN} \\cdot \\mathrm{m} + 110.641\\ \\mathrm{MN} \\cdot \\mathrm{m} + 9.777\\ \\mathrm{MN} \\cdot \\mathrm{m} + 43.918\\ \\mathrm{MN} \\cdot \\mathrm{m} \\right) \\\\&= 183.534\\ \\mathrm{MN} \\cdot \\mathrm{m}  \\\\[10pt]\n",
       "\\\\[10pt]\n",
       "\\mathrm{An} &= \\Sigma \\left( \\mathrm{An}_{Col_{Total}} + \\mathrm{An}_{SW_{Total}} + \\mathrm{An}_{Slab_{Total}} + \\mathrm{An}_{Wall_{Total}} + \\mathrm{An}_{Beam_{Total}} \\right) \\\\&= \\Sigma \\left( 669.987\\ \\mathrm{kN} + 160.797\\ \\mathrm{kN} + 4.851\\ \\mathrm{MN} + 484.865\\ \\mathrm{kN} + 1.877\\ \\mathrm{MN} \\right) \\\\&= 8.044\\ \\mathrm{MN}  \\\\[10pt]\n",
       "\\\\[10pt]\n",
       "\\mathrm{RnDn} &= \\Sigma \\left( \\mathrm{RnDn}_{Col_{Total}} + \\mathrm{RnDn}_{SW_{Total}} \\right) \\\\&= \\Sigma \\left( 8.012\\ \\mathrm{m}^{5} + 240.320\\ \\mathrm{m}^{5} \\right) \\\\&= 248.332\\ \\mathrm{m}^{5}  \\\\[10pt]\n",
       "\\\\[10pt]\n",
       "\\mathrm{Rn} &= \\Sigma \\left( \\mathrm{Rn}_{Col_{Total}} + \\mathrm{Rn}_{SW_{Total}} \\right) \\\\&= \\Sigma \\left( 338541666666.667\\ \\mathrm{mm}^{4} + 10.806\\ \\mathrm{m}^{4} \\right) \\\\&= 11.145\\ \\mathrm{m}^{4}  \\\\[10pt]\n",
       "\\\\[10pt]\n",
       "C_{m} &= \\frac{ \\Sigma \\left( \\mathrm{AnDn} \\right) }{ \\Sigma \\left( \\mathrm{An} \\right) } \\\\&= \\frac{ \\Sigma \\left( 183.534\\ \\mathrm{MN} \\cdot \\mathrm{m} \\right) }{ \\Sigma \\left( 8.044\\ \\mathrm{MN} \\right) } \\\\&= 22.815\\ \\mathrm{m}  \\\\[10pt]\n",
       "\\\\[10pt]\n",
       "C_{r} &= \\frac{ \\Sigma \\left( \\mathrm{RnDn} \\right) }{ \\Sigma \\left( \\mathrm{Rn} \\right) } \\\\&= \\frac{ \\Sigma \\left( 248.332\\ \\mathrm{m}^{5} \\right) }{ \\Sigma \\left( 11.145\\ \\mathrm{m}^{4} \\right) } \\\\&= 22.282\\ \\mathrm{m}  \\\\[10pt]\n",
       "\\end{aligned}\n",
       "\\]"
      ],
      "text/plain": [
       "<IPython.core.display.Latex object>"
      ]
     },
     "metadata": {},
     "output_type": "display_data"
    },
    {
     "data": {
      "text/markdown": [
       "## FLOOR - 2 - Y AXIS\n",
       "            "
      ],
      "text/plain": [
       "<IPython.core.display.Markdown object>"
      ]
     },
     "metadata": {},
     "output_type": "display_data"
    },
    {
     "data": {
      "text/latex": [
       "\\[\n",
       "\\begin{aligned}\n",
       "\\mathrm{Grid} &= A \\; \n",
       "\\\\[10pt]\n",
       "\\mathrm{AnDn}_{Col_{Total}} &= \\mathrm{Col}_{No} \\cdot \\mathrm{distance} \\cdot \\mathrm{length}_{col} \\cdot \\mathrm{width}_{col} \\cdot \\mathrm{height}_{col} \\cdot \\gamma_{c}  = 5.000 \\cdot 250.000\\ \\mathrm{mm} \\cdot 500.000\\ \\mathrm{mm} \\cdot 500.000\\ \\mathrm{mm} \\cdot 4.000\\ \\mathrm{m} \\cdot 23.560\\ \\mathrm{kN/m³} &= 29.450\\ \\mathrm{kN} \\cdot \\mathrm{m}  \n",
       "\\\\[10pt]\n",
       "\\mathrm{An}_{Col_{Total}} &= \\mathrm{Col}_{No} \\cdot \\mathrm{length}_{col} \\cdot \\mathrm{width}_{col} \\cdot \\mathrm{height}_{col} \\cdot \\gamma_{c}  = 5.000 \\cdot 500.000\\ \\mathrm{mm} \\cdot 500.000\\ \\mathrm{mm} \\cdot 4.000\\ \\mathrm{m} \\cdot 23.560\\ \\mathrm{kN/m³} &= 117.800\\ \\mathrm{kN}  \n",
       "\\\\[10pt]\n",
       "\\mathrm{RnDn}_{Col_{Total}} &= \\mathrm{Col}_{No} \\cdot \\left( \\frac{ \\left( \\mathrm{length}_{col} \\right) ^{ 4 } }{ 12 } \\right) \\cdot \\mathrm{distance}  = 5.000 \\cdot \\left( \\frac{ \\left( 500.000\\ \\mathrm{mm} \\right) ^{ 4 } }{ 12 } \\right) \\cdot 250.000\\ \\mathrm{mm} &= 6510416666666.666\\ \\mathrm{mm}^{5}  \n",
       "\\\\[10pt]\n",
       "\\mathrm{Rn}_{Col_{Total}} &= \\mathrm{Col}_{No} \\cdot \\frac{ \\left( \\mathrm{length}_{col} \\right) ^{ 4 } }{ 12 }  = 5.000 \\cdot \\frac{ \\left( 500.000\\ \\mathrm{mm} \\right) ^{ 4 } }{ 12 } &= 26041666666.667\\ \\mathrm{mm}^{4}  \n",
       "\\\\[10pt]\n",
       "\\mathrm{AnXn}_{Beam_{Total}} &= \\Sigma \\left( \\mathrm{length}_{girder} \\cdot \\mathrm{width}_{girder} \\cdot \\mathrm{height}_{girder} \\cdot \\gamma_{c} \\cdot \\mathrm{distance} \\right)  = \\Sigma \\left( [nan,\\ nan,\\ 6.000\\ \\mathrm{m},\\ 5.000\\ \\mathrm{m},\\ 6.000\\ \\mathrm{m},\\ 5.000\\ \\mathrm{m},\\ 6.000\\ \\mathrm{m},\\ 5.000\\ \\mathrm{m}] \\cdot 400.000\\ \\mathrm{mm} \\cdot 600.000\\ \\mathrm{mm} \\cdot 23.560\\ \\mathrm{kN/m³} \\cdot 250.000\\ \\mathrm{mm} \\right) &= 46.649\\ \\mathrm{kN} \\cdot \\mathrm{m}  \n",
       "\\\\[10pt]\n",
       "\\mathrm{An}_{Beam_{Total}} &= \\Sigma \\left( \\mathrm{length}_{girder} \\cdot \\mathrm{width}_{girder} \\cdot \\mathrm{height}_{girder} \\cdot \\gamma_{c} \\right)  = \\Sigma \\left( [nan,\\ nan,\\ 6.000\\ \\mathrm{m},\\ 5.000\\ \\mathrm{m},\\ 6.000\\ \\mathrm{m},\\ 5.000\\ \\mathrm{m},\\ 6.000\\ \\mathrm{m},\\ 5.000\\ \\mathrm{m}] \\cdot 400.000\\ \\mathrm{mm} \\cdot 600.000\\ \\mathrm{mm} \\cdot 23.560\\ \\mathrm{kN/m³} \\right) &= 186.595\\ \\mathrm{kN}  \n",
       "\\end{aligned}\n",
       "\\]"
      ],
      "text/plain": [
       "<IPython.core.display.Latex object>"
      ]
     },
     "metadata": {},
     "output_type": "display_data"
    },
    {
     "data": {
      "text/latex": [
       "\\[\n",
       "\\begin{aligned}\n",
       "\\mathrm{Grid} &= B \\; \n",
       "\\\\[10pt]\n",
       "\\mathrm{AnDn}_{Col_{Total}} &= \\mathrm{Col}_{No} \\cdot \\mathrm{distance} \\cdot \\mathrm{length}_{col} \\cdot \\mathrm{width}_{col} \\cdot \\mathrm{height}_{col} \\cdot \\gamma_{c}  = 7.000 \\cdot 5.250\\ \\mathrm{m} \\cdot 500.000\\ \\mathrm{mm} \\cdot 500.000\\ \\mathrm{mm} \\cdot 4.000\\ \\mathrm{m} \\cdot 23.560\\ \\mathrm{kN/m³} &= 865.830\\ \\mathrm{kN} \\cdot \\mathrm{m}  \n",
       "\\\\[10pt]\n",
       "\\mathrm{An}_{Col_{Total}} &= \\mathrm{Col}_{No} \\cdot \\mathrm{length}_{col} \\cdot \\mathrm{width}_{col} \\cdot \\mathrm{height}_{col} \\cdot \\gamma_{c}  = 7.000 \\cdot 500.000\\ \\mathrm{mm} \\cdot 500.000\\ \\mathrm{mm} \\cdot 4.000\\ \\mathrm{m} \\cdot 23.560\\ \\mathrm{kN/m³} &= 164.920\\ \\mathrm{kN}  \n",
       "\\\\[10pt]\n",
       "\\mathrm{RnDn}_{Col_{Total}} &= \\mathrm{Col}_{No} \\cdot \\left( \\frac{ \\left( \\mathrm{length}_{col} \\right) ^{ 4 } }{ 12 } \\right) \\cdot \\mathrm{distance}  = 7.000 \\cdot \\left( \\frac{ \\left( 500.000\\ \\mathrm{mm} \\right) ^{ 4 } }{ 12 } \\right) \\cdot 5.250\\ \\mathrm{m} &= 191406249999999.969\\ \\mathrm{mm}^{5}  \n",
       "\\\\[10pt]\n",
       "\\mathrm{Rn}_{Col_{Total}} &= \\mathrm{Col}_{No} \\cdot \\frac{ \\left( \\mathrm{length}_{col} \\right) ^{ 4 } }{ 12 }  = 7.000 \\cdot \\frac{ \\left( 500.000\\ \\mathrm{mm} \\right) ^{ 4 } }{ 12 } &= 36458333333.333\\ \\mathrm{mm}^{4}  \n",
       "\\\\[10pt]\n",
       "\\mathrm{AnXn}_{Beam_{Total}} &= \\Sigma \\left( \\mathrm{length}_{girder} \\cdot \\mathrm{width}_{girder} \\cdot \\mathrm{height}_{girder} \\cdot \\gamma_{c} \\cdot \\mathrm{distance} \\right)  = \\Sigma \\left( [nan,\\ nan,\\ 6.000\\ \\mathrm{m},\\ 5.000\\ \\mathrm{m},\\ 6.000\\ \\mathrm{m},\\ 5.000\\ \\mathrm{m},\\ 6.000\\ \\mathrm{m},\\ 5.000\\ \\mathrm{m}] \\cdot 400.000\\ \\mathrm{mm} \\cdot 600.000\\ \\mathrm{mm} \\cdot 23.560\\ \\mathrm{kN/m³} \\cdot 5.250\\ \\mathrm{m} \\right) &= 979.625\\ \\mathrm{kN} \\cdot \\mathrm{m}  \n",
       "\\\\[10pt]\n",
       "\\mathrm{An}_{Beam_{Total}} &= \\Sigma \\left( \\mathrm{length}_{girder} \\cdot \\mathrm{width}_{girder} \\cdot \\mathrm{height}_{girder} \\cdot \\gamma_{c} \\right)  = \\Sigma \\left( [nan,\\ nan,\\ 6.000\\ \\mathrm{m},\\ 5.000\\ \\mathrm{m},\\ 6.000\\ \\mathrm{m},\\ 5.000\\ \\mathrm{m},\\ 6.000\\ \\mathrm{m},\\ 5.000\\ \\mathrm{m}] \\cdot 400.000\\ \\mathrm{mm} \\cdot 600.000\\ \\mathrm{mm} \\cdot 23.560\\ \\mathrm{kN/m³} \\right) &= 186.595\\ \\mathrm{kN}  \n",
       "\\end{aligned}\n",
       "\\]"
      ],
      "text/plain": [
       "<IPython.core.display.Latex object>"
      ]
     },
     "metadata": {},
     "output_type": "display_data"
    },
    {
     "data": {
      "text/latex": [
       "\\[\n",
       "\\begin{aligned}\n",
       "\\mathrm{Grid} &= C \\; \n",
       "\\\\[10pt]\n",
       "\\mathrm{AnDn}_{Col_{Total}} &= \\mathrm{Col}_{No} \\cdot \\mathrm{distance} \\cdot \\mathrm{length}_{col} \\cdot \\mathrm{width}_{col} \\cdot \\mathrm{height}_{col} \\cdot \\gamma_{c}  = 7.000 \\cdot 10.250\\ \\mathrm{m} \\cdot 500.000\\ \\mathrm{mm} \\cdot 500.000\\ \\mathrm{mm} \\cdot 4.000\\ \\mathrm{m} \\cdot 23.560\\ \\mathrm{kN/m³} &= 1.690\\ \\mathrm{MN} \\cdot \\mathrm{m}  \n",
       "\\\\[10pt]\n",
       "\\mathrm{An}_{Col_{Total}} &= \\mathrm{Col}_{No} \\cdot \\mathrm{length}_{col} \\cdot \\mathrm{width}_{col} \\cdot \\mathrm{height}_{col} \\cdot \\gamma_{c}  = 7.000 \\cdot 500.000\\ \\mathrm{mm} \\cdot 500.000\\ \\mathrm{mm} \\cdot 4.000\\ \\mathrm{m} \\cdot 23.560\\ \\mathrm{kN/m³} &= 164.920\\ \\mathrm{kN}  \n",
       "\\\\[10pt]\n",
       "\\mathrm{RnDn}_{Col_{Total}} &= \\mathrm{Col}_{No} \\cdot \\left( \\frac{ \\left( \\mathrm{length}_{col} \\right) ^{ 4 } }{ 12 } \\right) \\cdot \\mathrm{distance}  = 7.000 \\cdot \\left( \\frac{ \\left( 500.000\\ \\mathrm{mm} \\right) ^{ 4 } }{ 12 } \\right) \\cdot 10.250\\ \\mathrm{m} &= 373697916666666.625\\ \\mathrm{mm}^{5}  \n",
       "\\\\[10pt]\n",
       "\\mathrm{Rn}_{Col_{Total}} &= \\mathrm{Col}_{No} \\cdot \\frac{ \\left( \\mathrm{length}_{col} \\right) ^{ 4 } }{ 12 }  = 7.000 \\cdot \\frac{ \\left( 500.000\\ \\mathrm{mm} \\right) ^{ 4 } }{ 12 } &= 36458333333.333\\ \\mathrm{mm}^{4}  \n",
       "\\\\[10pt]\n",
       "\\mathrm{AnXn}_{Beam_{Total}} &= \\Sigma \\left( \\mathrm{length}_{girder} \\cdot \\mathrm{width}_{girder} \\cdot \\mathrm{height}_{girder} \\cdot \\gamma_{c} \\cdot \\mathrm{distance} \\right)  = \\Sigma \\left( [nan,\\ nan,\\ 6.000\\ \\mathrm{m},\\ 5.000\\ \\mathrm{m},\\ 6.000\\ \\mathrm{m},\\ 5.000\\ \\mathrm{m},\\ 6.000\\ \\mathrm{m},\\ 5.000\\ \\mathrm{m}] \\cdot 400.000\\ \\mathrm{mm} \\cdot 600.000\\ \\mathrm{mm} \\cdot 23.560\\ \\mathrm{kN/m³} \\cdot 10.250\\ \\mathrm{m} \\right) &= 1.913\\ \\mathrm{MN} \\cdot \\mathrm{m}  \n",
       "\\\\[10pt]\n",
       "\\mathrm{An}_{Beam_{Total}} &= \\Sigma \\left( \\mathrm{length}_{girder} \\cdot \\mathrm{width}_{girder} \\cdot \\mathrm{height}_{girder} \\cdot \\gamma_{c} \\right)  = \\Sigma \\left( [nan,\\ nan,\\ 6.000\\ \\mathrm{m},\\ 5.000\\ \\mathrm{m},\\ 6.000\\ \\mathrm{m},\\ 5.000\\ \\mathrm{m},\\ 6.000\\ \\mathrm{m},\\ 5.000\\ \\mathrm{m}] \\cdot 400.000\\ \\mathrm{mm} \\cdot 600.000\\ \\mathrm{mm} \\cdot 23.560\\ \\mathrm{kN/m³} \\right) &= 186.595\\ \\mathrm{kN}  \n",
       "\\end{aligned}\n",
       "\\]"
      ],
      "text/plain": [
       "<IPython.core.display.Latex object>"
      ]
     },
     "metadata": {},
     "output_type": "display_data"
    },
    {
     "data": {
      "text/latex": [
       "\\[\n",
       "\\begin{aligned}\n",
       "\\mathrm{Grid} &= D \\; \n",
       "\\\\[10pt]\n",
       "\\mathrm{AnDn}_{Col_{Total}} &= \\mathrm{Col}_{No} \\cdot \\mathrm{distance} \\cdot \\mathrm{length}_{col} \\cdot \\mathrm{width}_{col} \\cdot \\mathrm{height}_{col} \\cdot \\gamma_{c}  = 7.000 \\cdot 15.250\\ \\mathrm{m} \\cdot 500.000\\ \\mathrm{mm} \\cdot 500.000\\ \\mathrm{mm} \\cdot 4.000\\ \\mathrm{m} \\cdot 23.560\\ \\mathrm{kN/m³} &= 2.515\\ \\mathrm{MN} \\cdot \\mathrm{m}  \n",
       "\\\\[10pt]\n",
       "\\mathrm{An}_{Col_{Total}} &= \\mathrm{Col}_{No} \\cdot \\mathrm{length}_{col} \\cdot \\mathrm{width}_{col} \\cdot \\mathrm{height}_{col} \\cdot \\gamma_{c}  = 7.000 \\cdot 500.000\\ \\mathrm{mm} \\cdot 500.000\\ \\mathrm{mm} \\cdot 4.000\\ \\mathrm{m} \\cdot 23.560\\ \\mathrm{kN/m³} &= 164.920\\ \\mathrm{kN}  \n",
       "\\\\[10pt]\n",
       "\\mathrm{RnDn}_{Col_{Total}} &= \\mathrm{Col}_{No} \\cdot \\left( \\frac{ \\left( \\mathrm{length}_{col} \\right) ^{ 4 } }{ 12 } \\right) \\cdot \\mathrm{distance}  = 7.000 \\cdot \\left( \\frac{ \\left( 500.000\\ \\mathrm{mm} \\right) ^{ 4 } }{ 12 } \\right) \\cdot 15.250\\ \\mathrm{m} &= 555989583333333.188\\ \\mathrm{mm}^{5}  \n",
       "\\\\[10pt]\n",
       "\\mathrm{Rn}_{Col_{Total}} &= \\mathrm{Col}_{No} \\cdot \\frac{ \\left( \\mathrm{length}_{col} \\right) ^{ 4 } }{ 12 }  = 7.000 \\cdot \\frac{ \\left( 500.000\\ \\mathrm{mm} \\right) ^{ 4 } }{ 12 } &= 36458333333.333\\ \\mathrm{mm}^{4}  \n",
       "\\\\[10pt]\n",
       "\\mathrm{AnXn}_{Beam_{Total}} &= \\Sigma \\left( \\mathrm{length}_{girder} \\cdot \\mathrm{width}_{girder} \\cdot \\mathrm{height}_{girder} \\cdot \\gamma_{c} \\cdot \\mathrm{distance} \\right)  = \\Sigma \\left( [nan,\\ nan,\\ 6.000\\ \\mathrm{m},\\ 5.000\\ \\mathrm{m},\\ 6.000\\ \\mathrm{m},\\ 5.000\\ \\mathrm{m},\\ 6.000\\ \\mathrm{m},\\ 5.000\\ \\mathrm{m}] \\cdot 400.000\\ \\mathrm{mm} \\cdot 600.000\\ \\mathrm{mm} \\cdot 23.560\\ \\mathrm{kN/m³} \\cdot 15.250\\ \\mathrm{m} \\right) &= 2.846\\ \\mathrm{MN} \\cdot \\mathrm{m}  \n",
       "\\\\[10pt]\n",
       "\\mathrm{An}_{Beam_{Total}} &= \\Sigma \\left( \\mathrm{length}_{girder} \\cdot \\mathrm{width}_{girder} \\cdot \\mathrm{height}_{girder} \\cdot \\gamma_{c} \\right)  = \\Sigma \\left( [nan,\\ nan,\\ 6.000\\ \\mathrm{m},\\ 5.000\\ \\mathrm{m},\\ 6.000\\ \\mathrm{m},\\ 5.000\\ \\mathrm{m},\\ 6.000\\ \\mathrm{m},\\ 5.000\\ \\mathrm{m}] \\cdot 400.000\\ \\mathrm{mm} \\cdot 600.000\\ \\mathrm{mm} \\cdot 23.560\\ \\mathrm{kN/m³} \\right) &= 186.595\\ \\mathrm{kN}  \n",
       "\\end{aligned}\n",
       "\\]"
      ],
      "text/plain": [
       "<IPython.core.display.Latex object>"
      ]
     },
     "metadata": {},
     "output_type": "display_data"
    },
    {
     "data": {
      "text/latex": [
       "\\[\n",
       "\\begin{aligned}\n",
       "\\mathrm{Grid} &= E \\; \n",
       "\\\\[10pt]\n",
       "\\mathrm{AnDn}_{Col_{Total}} &= \\mathrm{Col}_{No} \\cdot \\mathrm{distance} \\cdot \\mathrm{length}_{col} \\cdot \\mathrm{width}_{col} \\cdot \\mathrm{height}_{col} \\cdot \\gamma_{c}  = 9.000 \\cdot 20.250\\ \\mathrm{m} \\cdot 500.000\\ \\mathrm{mm} \\cdot 500.000\\ \\mathrm{mm} \\cdot 4.000\\ \\mathrm{m} \\cdot 23.560\\ \\mathrm{kN/m³} &= 4.294\\ \\mathrm{MN} \\cdot \\mathrm{m}  \n",
       "\\\\[10pt]\n",
       "\\mathrm{An}_{Col_{Total}} &= \\mathrm{Col}_{No} \\cdot \\mathrm{length}_{col} \\cdot \\mathrm{width}_{col} \\cdot \\mathrm{height}_{col} \\cdot \\gamma_{c}  = 9.000 \\cdot 500.000\\ \\mathrm{mm} \\cdot 500.000\\ \\mathrm{mm} \\cdot 4.000\\ \\mathrm{m} \\cdot 23.560\\ \\mathrm{kN/m³} &= 212.040\\ \\mathrm{kN}  \n",
       "\\\\[10pt]\n",
       "\\mathrm{RnDn}_{Col_{Total}} &= \\mathrm{Col}_{No} \\cdot \\left( \\frac{ \\left( \\mathrm{length}_{col} \\right) ^{ 4 } }{ 12 } \\right) \\cdot \\mathrm{distance}  = 9.000 \\cdot \\left( \\frac{ \\left( 500.000\\ \\mathrm{mm} \\right) ^{ 4 } }{ 12 } \\right) \\cdot 20.250\\ \\mathrm{m} &= 949218749999999.875\\ \\mathrm{mm}^{5}  \n",
       "\\\\[10pt]\n",
       "\\mathrm{Rn}_{Col_{Total}} &= \\mathrm{Col}_{No} \\cdot \\frac{ \\left( \\mathrm{length}_{col} \\right) ^{ 4 } }{ 12 }  = 9.000 \\cdot \\frac{ \\left( 500.000\\ \\mathrm{mm} \\right) ^{ 4 } }{ 12 } &= 46875000000.000\\ \\mathrm{mm}^{4}  \n",
       "\\\\[10pt]\n",
       "\\mathrm{AnXn}_{Beam_{Total}} &= \\Sigma \\left( \\mathrm{length}_{girder} \\cdot \\mathrm{width}_{girder} \\cdot \\mathrm{height}_{girder} \\cdot \\gamma_{c} \\cdot \\mathrm{distance} \\right)  = \\Sigma \\left( [6.000\\ \\mathrm{m},\\ 5.000\\ \\mathrm{m},\\ 6.000\\ \\mathrm{m},\\ 5.000\\ \\mathrm{m},\\ 6.000\\ \\mathrm{m},\\ 5.000\\ \\mathrm{m},\\ 6.000\\ \\mathrm{m},\\ 5.000\\ \\mathrm{m}] \\cdot 400.000\\ \\mathrm{mm} \\cdot 600.000\\ \\mathrm{mm} \\cdot 23.560\\ \\mathrm{kN/m³} \\cdot 20.250\\ \\mathrm{m} \\right) &= 5.038\\ \\mathrm{MN} \\cdot \\mathrm{m}  \n",
       "\\\\[10pt]\n",
       "\\mathrm{An}_{Beam_{Total}} &= \\Sigma \\left( \\mathrm{length}_{girder} \\cdot \\mathrm{width}_{girder} \\cdot \\mathrm{height}_{girder} \\cdot \\gamma_{c} \\right)  = \\Sigma \\left( [6.000\\ \\mathrm{m},\\ 5.000\\ \\mathrm{m},\\ 6.000\\ \\mathrm{m},\\ 5.000\\ \\mathrm{m},\\ 6.000\\ \\mathrm{m},\\ 5.000\\ \\mathrm{m},\\ 6.000\\ \\mathrm{m},\\ 5.000\\ \\mathrm{m}] \\cdot 400.000\\ \\mathrm{mm} \\cdot 600.000\\ \\mathrm{mm} \\cdot 23.560\\ \\mathrm{kN/m³} \\right) &= 248.794\\ \\mathrm{kN}  \n",
       "\\end{aligned}\n",
       "\\]"
      ],
      "text/plain": [
       "<IPython.core.display.Latex object>"
      ]
     },
     "metadata": {},
     "output_type": "display_data"
    },
    {
     "data": {
      "text/latex": [
       "\\[\n",
       "\\begin{aligned}\n",
       "\\mathrm{Grid} &= F \\; \n",
       "\\\\[10pt]\n",
       "\\mathrm{AnDn}_{Col_{Total}} &= \\mathrm{Col}_{No} \\cdot \\mathrm{distance} \\cdot \\mathrm{length}_{col} \\cdot \\mathrm{width}_{col} \\cdot \\mathrm{height}_{col} \\cdot \\gamma_{c}  = 9.000 \\cdot 26.250\\ \\mathrm{m} \\cdot 500.000\\ \\mathrm{mm} \\cdot 500.000\\ \\mathrm{mm} \\cdot 4.000\\ \\mathrm{m} \\cdot 23.560\\ \\mathrm{kN/m³} &= 5.566\\ \\mathrm{MN} \\cdot \\mathrm{m}  \n",
       "\\\\[10pt]\n",
       "\\mathrm{An}_{Col_{Total}} &= \\mathrm{Col}_{No} \\cdot \\mathrm{length}_{col} \\cdot \\mathrm{width}_{col} \\cdot \\mathrm{height}_{col} \\cdot \\gamma_{c}  = 9.000 \\cdot 500.000\\ \\mathrm{mm} \\cdot 500.000\\ \\mathrm{mm} \\cdot 4.000\\ \\mathrm{m} \\cdot 23.560\\ \\mathrm{kN/m³} &= 212.040\\ \\mathrm{kN}  \n",
       "\\\\[10pt]\n",
       "\\mathrm{RnDn}_{Col_{Total}} &= \\mathrm{Col}_{No} \\cdot \\left( \\frac{ \\left( \\mathrm{length}_{col} \\right) ^{ 4 } }{ 12 } \\right) \\cdot \\mathrm{distance}  = 9.000 \\cdot \\left( \\frac{ \\left( 500.000\\ \\mathrm{mm} \\right) ^{ 4 } }{ 12 } \\right) \\cdot 26.250\\ \\mathrm{m} &= 1.230\\ \\mathrm{m}^{5}  \n",
       "\\\\[10pt]\n",
       "\\mathrm{Rn}_{Col_{Total}} &= \\mathrm{Col}_{No} \\cdot \\frac{ \\left( \\mathrm{length}_{col} \\right) ^{ 4 } }{ 12 }  = 9.000 \\cdot \\frac{ \\left( 500.000\\ \\mathrm{mm} \\right) ^{ 4 } }{ 12 } &= 46875000000.000\\ \\mathrm{mm}^{4}  \n",
       "\\\\[10pt]\n",
       "\\mathrm{AnXn}_{Beam_{Total}} &= \\Sigma \\left( \\mathrm{length}_{girder} \\cdot \\mathrm{width}_{girder} \\cdot \\mathrm{height}_{girder} \\cdot \\gamma_{c} \\cdot \\mathrm{distance} \\right)  = \\Sigma \\left( [6.000\\ \\mathrm{m},\\ 5.000\\ \\mathrm{m},\\ 6.000\\ \\mathrm{m},\\ 5.000\\ \\mathrm{m},\\ 6.000\\ \\mathrm{m},\\ 5.000\\ \\mathrm{m},\\ 6.000\\ \\mathrm{m},\\ 5.000\\ \\mathrm{m}] \\cdot 400.000\\ \\mathrm{mm} \\cdot 600.000\\ \\mathrm{mm} \\cdot 23.560\\ \\mathrm{kN/m³} \\cdot 26.250\\ \\mathrm{m} \\right) &= 6.531\\ \\mathrm{MN} \\cdot \\mathrm{m}  \n",
       "\\\\[10pt]\n",
       "\\mathrm{An}_{Beam_{Total}} &= \\Sigma \\left( \\mathrm{length}_{girder} \\cdot \\mathrm{width}_{girder} \\cdot \\mathrm{height}_{girder} \\cdot \\gamma_{c} \\right)  = \\Sigma \\left( [6.000\\ \\mathrm{m},\\ 5.000\\ \\mathrm{m},\\ 6.000\\ \\mathrm{m},\\ 5.000\\ \\mathrm{m},\\ 6.000\\ \\mathrm{m},\\ 5.000\\ \\mathrm{m},\\ 6.000\\ \\mathrm{m},\\ 5.000\\ \\mathrm{m}] \\cdot 400.000\\ \\mathrm{mm} \\cdot 600.000\\ \\mathrm{mm} \\cdot 23.560\\ \\mathrm{kN/m³} \\right) &= 248.794\\ \\mathrm{kN}  \n",
       "\\end{aligned}\n",
       "\\]"
      ],
      "text/plain": [
       "<IPython.core.display.Latex object>"
      ]
     },
     "metadata": {},
     "output_type": "display_data"
    },
    {
     "data": {
      "text/latex": [
       "\\[\n",
       "\\begin{aligned}\n",
       "\\mathrm{Grid} &= G \\; \n",
       "\\\\[10pt]\n",
       "\\mathrm{AnDn}_{Col_{Total}} &= \\mathrm{Col}_{No} \\cdot \\mathrm{distance} \\cdot \\mathrm{length}_{col} \\cdot \\mathrm{width}_{col} \\cdot \\mathrm{height}_{col} \\cdot \\gamma_{c}  = 9.000 \\cdot 32.250\\ \\mathrm{m} \\cdot 500.000\\ \\mathrm{mm} \\cdot 500.000\\ \\mathrm{mm} \\cdot 4.000\\ \\mathrm{m} \\cdot 23.560\\ \\mathrm{kN/m³} &= 6.838\\ \\mathrm{MN} \\cdot \\mathrm{m}  \n",
       "\\\\[10pt]\n",
       "\\mathrm{An}_{Col_{Total}} &= \\mathrm{Col}_{No} \\cdot \\mathrm{length}_{col} \\cdot \\mathrm{width}_{col} \\cdot \\mathrm{height}_{col} \\cdot \\gamma_{c}  = 9.000 \\cdot 500.000\\ \\mathrm{mm} \\cdot 500.000\\ \\mathrm{mm} \\cdot 4.000\\ \\mathrm{m} \\cdot 23.560\\ \\mathrm{kN/m³} &= 212.040\\ \\mathrm{kN}  \n",
       "\\\\[10pt]\n",
       "\\mathrm{RnDn}_{Col_{Total}} &= \\mathrm{Col}_{No} \\cdot \\left( \\frac{ \\left( \\mathrm{length}_{col} \\right) ^{ 4 } }{ 12 } \\right) \\cdot \\mathrm{distance}  = 9.000 \\cdot \\left( \\frac{ \\left( 500.000\\ \\mathrm{mm} \\right) ^{ 4 } }{ 12 } \\right) \\cdot 32.250\\ \\mathrm{m} &= 1.512\\ \\mathrm{m}^{5}  \n",
       "\\\\[10pt]\n",
       "\\mathrm{Rn}_{Col_{Total}} &= \\mathrm{Col}_{No} \\cdot \\frac{ \\left( \\mathrm{length}_{col} \\right) ^{ 4 } }{ 12 }  = 9.000 \\cdot \\frac{ \\left( 500.000\\ \\mathrm{mm} \\right) ^{ 4 } }{ 12 } &= 46875000000.000\\ \\mathrm{mm}^{4}  \n",
       "\\\\[10pt]\n",
       "\\mathrm{AnXn}_{Beam_{Total}} &= \\Sigma \\left( \\mathrm{length}_{girder} \\cdot \\mathrm{width}_{girder} \\cdot \\mathrm{height}_{girder} \\cdot \\gamma_{c} \\cdot \\mathrm{distance} \\right)  = \\Sigma \\left( [6.000\\ \\mathrm{m},\\ 5.000\\ \\mathrm{m},\\ 6.000\\ \\mathrm{m},\\ 5.000\\ \\mathrm{m},\\ 6.000\\ \\mathrm{m},\\ 5.000\\ \\mathrm{m},\\ 6.000\\ \\mathrm{m},\\ 5.000\\ \\mathrm{m}] \\cdot 400.000\\ \\mathrm{mm} \\cdot 600.000\\ \\mathrm{mm} \\cdot 23.560\\ \\mathrm{kN/m³} \\cdot 32.250\\ \\mathrm{m} \\right) &= 8.024\\ \\mathrm{MN} \\cdot \\mathrm{m}  \n",
       "\\\\[10pt]\n",
       "\\mathrm{An}_{Beam_{Total}} &= \\Sigma \\left( \\mathrm{length}_{girder} \\cdot \\mathrm{width}_{girder} \\cdot \\mathrm{height}_{girder} \\cdot \\gamma_{c} \\right)  = \\Sigma \\left( [6.000\\ \\mathrm{m},\\ 5.000\\ \\mathrm{m},\\ 6.000\\ \\mathrm{m},\\ 5.000\\ \\mathrm{m},\\ 6.000\\ \\mathrm{m},\\ 5.000\\ \\mathrm{m},\\ 6.000\\ \\mathrm{m},\\ 5.000\\ \\mathrm{m}] \\cdot 400.000\\ \\mathrm{mm} \\cdot 600.000\\ \\mathrm{mm} \\cdot 23.560\\ \\mathrm{kN/m³} \\right) &= 248.794\\ \\mathrm{kN}  \n",
       "\\end{aligned}\n",
       "\\]"
      ],
      "text/plain": [
       "<IPython.core.display.Latex object>"
      ]
     },
     "metadata": {},
     "output_type": "display_data"
    },
    {
     "data": {
      "text/latex": [
       "\\[\n",
       "\\begin{aligned}\n",
       "\\mathrm{Grid} &= H \\; \n",
       "\\\\[10pt]\n",
       "\\mathrm{AnDn}_{Col_{Total}} &= \\mathrm{Col}_{No} \\cdot \\mathrm{distance} \\cdot \\mathrm{length}_{col} \\cdot \\mathrm{width}_{col} \\cdot \\mathrm{height}_{col} \\cdot \\gamma_{c}  = 7.000 \\cdot 38.250\\ \\mathrm{m} \\cdot 500.000\\ \\mathrm{mm} \\cdot 500.000\\ \\mathrm{mm} \\cdot 4.000\\ \\mathrm{m} \\cdot 23.560\\ \\mathrm{kN/m³} &= 6.308\\ \\mathrm{MN} \\cdot \\mathrm{m}  \n",
       "\\\\[10pt]\n",
       "\\mathrm{An}_{Col_{Total}} &= \\mathrm{Col}_{No} \\cdot \\mathrm{length}_{col} \\cdot \\mathrm{width}_{col} \\cdot \\mathrm{height}_{col} \\cdot \\gamma_{c}  = 7.000 \\cdot 500.000\\ \\mathrm{mm} \\cdot 500.000\\ \\mathrm{mm} \\cdot 4.000\\ \\mathrm{m} \\cdot 23.560\\ \\mathrm{kN/m³} &= 164.920\\ \\mathrm{kN}  \n",
       "\\\\[10pt]\n",
       "\\mathrm{RnDn}_{Col_{Total}} &= \\mathrm{Col}_{No} \\cdot \\left( \\frac{ \\left( \\mathrm{length}_{col} \\right) ^{ 4 } }{ 12 } \\right) \\cdot \\mathrm{distance}  = 7.000 \\cdot \\left( \\frac{ \\left( 500.000\\ \\mathrm{mm} \\right) ^{ 4 } }{ 12 } \\right) \\cdot 38.250\\ \\mathrm{m} &= 1.395\\ \\mathrm{m}^{5}  \n",
       "\\\\[10pt]\n",
       "\\mathrm{Rn}_{Col_{Total}} &= \\mathrm{Col}_{No} \\cdot \\frac{ \\left( \\mathrm{length}_{col} \\right) ^{ 4 } }{ 12 }  = 7.000 \\cdot \\frac{ \\left( 500.000\\ \\mathrm{mm} \\right) ^{ 4 } }{ 12 } &= 36458333333.333\\ \\mathrm{mm}^{4}  \n",
       "\\\\[10pt]\n",
       "\\mathrm{AnXn}_{Beam_{Total}} &= \\Sigma \\left( \\mathrm{length}_{girder} \\cdot \\mathrm{width}_{girder} \\cdot \\mathrm{height}_{girder} \\cdot \\gamma_{c} \\cdot \\mathrm{distance} \\right)  = \\Sigma \\left( [6.000\\ \\mathrm{m},\\ 5.000\\ \\mathrm{m},\\ 6.000\\ \\mathrm{m},\\ 5.000\\ \\mathrm{m},\\ 6.000\\ \\mathrm{m},\\ 5.000\\ \\mathrm{m},\\ nan,\\ nan] \\cdot 400.000\\ \\mathrm{mm} \\cdot 600.000\\ \\mathrm{mm} \\cdot 23.560\\ \\mathrm{kN/m³} \\cdot 38.250\\ \\mathrm{m} \\right) &= 7.137\\ \\mathrm{MN} \\cdot \\mathrm{m}  \n",
       "\\\\[10pt]\n",
       "\\mathrm{An}_{Beam_{Total}} &= \\Sigma \\left( \\mathrm{length}_{girder} \\cdot \\mathrm{width}_{girder} \\cdot \\mathrm{height}_{girder} \\cdot \\gamma_{c} \\right)  = \\Sigma \\left( [6.000\\ \\mathrm{m},\\ 5.000\\ \\mathrm{m},\\ 6.000\\ \\mathrm{m},\\ 5.000\\ \\mathrm{m},\\ 6.000\\ \\mathrm{m},\\ 5.000\\ \\mathrm{m},\\ nan,\\ nan] \\cdot 400.000\\ \\mathrm{mm} \\cdot 600.000\\ \\mathrm{mm} \\cdot 23.560\\ \\mathrm{kN/m³} \\right) &= 186.595\\ \\mathrm{kN}  \n",
       "\\end{aligned}\n",
       "\\]"
      ],
      "text/plain": [
       "<IPython.core.display.Latex object>"
      ]
     },
     "metadata": {},
     "output_type": "display_data"
    },
    {
     "data": {
      "text/latex": [
       "\\[\n",
       "\\begin{aligned}\n",
       "\\mathrm{Grid} &= I \\; \n",
       "\\\\[10pt]\n",
       "\\mathrm{AnDn}_{Col_{Total}} &= \\mathrm{Col}_{No} \\cdot \\mathrm{distance} \\cdot \\mathrm{length}_{col} \\cdot \\mathrm{width}_{col} \\cdot \\mathrm{height}_{col} \\cdot \\gamma_{c}  = 5.000 \\cdot 44.250\\ \\mathrm{m} \\cdot 500.000\\ \\mathrm{mm} \\cdot 500.000\\ \\mathrm{mm} \\cdot 4.000\\ \\mathrm{m} \\cdot 23.560\\ \\mathrm{kN/m³} &= 5.213\\ \\mathrm{MN} \\cdot \\mathrm{m}  \n",
       "\\\\[10pt]\n",
       "\\mathrm{An}_{Col_{Total}} &= \\mathrm{Col}_{No} \\cdot \\mathrm{length}_{col} \\cdot \\mathrm{width}_{col} \\cdot \\mathrm{height}_{col} \\cdot \\gamma_{c}  = 5.000 \\cdot 500.000\\ \\mathrm{mm} \\cdot 500.000\\ \\mathrm{mm} \\cdot 4.000\\ \\mathrm{m} \\cdot 23.560\\ \\mathrm{kN/m³} &= 117.800\\ \\mathrm{kN}  \n",
       "\\\\[10pt]\n",
       "\\mathrm{RnDn}_{Col_{Total}} &= \\mathrm{Col}_{No} \\cdot \\left( \\frac{ \\left( \\mathrm{length}_{col} \\right) ^{ 4 } }{ 12 } \\right) \\cdot \\mathrm{distance}  = 5.000 \\cdot \\left( \\frac{ \\left( 500.000\\ \\mathrm{mm} \\right) ^{ 4 } }{ 12 } \\right) \\cdot 44.250\\ \\mathrm{m} &= 1.152\\ \\mathrm{m}^{5}  \n",
       "\\\\[10pt]\n",
       "\\mathrm{Rn}_{Col_{Total}} &= \\mathrm{Col}_{No} \\cdot \\frac{ \\left( \\mathrm{length}_{col} \\right) ^{ 4 } }{ 12 }  = 5.000 \\cdot \\frac{ \\left( 500.000\\ \\mathrm{mm} \\right) ^{ 4 } }{ 12 } &= 26041666666.667\\ \\mathrm{mm}^{4}  \n",
       "\\\\[10pt]\n",
       "\\mathrm{AnXn}_{Beam_{Total}} &= \\Sigma \\left( \\mathrm{length}_{girder} \\cdot \\mathrm{width}_{girder} \\cdot \\mathrm{height}_{girder} \\cdot \\gamma_{c} \\cdot \\mathrm{distance} \\right)  = \\Sigma \\left( [6.000\\ \\mathrm{m},\\ 5.000\\ \\mathrm{m},\\ 6.000\\ \\mathrm{m},\\ 5.000\\ \\mathrm{m},\\ 6.000\\ \\mathrm{m},\\ 5.000\\ \\mathrm{m},\\ nan,\\ nan] \\cdot 400.000\\ \\mathrm{mm} \\cdot 600.000\\ \\mathrm{mm} \\cdot 23.560\\ \\mathrm{kN/m³} \\cdot 44.250\\ \\mathrm{m} \\right) &= 8.257\\ \\mathrm{MN} \\cdot \\mathrm{m}  \n",
       "\\\\[10pt]\n",
       "\\mathrm{An}_{Beam_{Total}} &= \\Sigma \\left( \\mathrm{length}_{girder} \\cdot \\mathrm{width}_{girder} \\cdot \\mathrm{height}_{girder} \\cdot \\gamma_{c} \\right)  = \\Sigma \\left( [6.000\\ \\mathrm{m},\\ 5.000\\ \\mathrm{m},\\ 6.000\\ \\mathrm{m},\\ 5.000\\ \\mathrm{m},\\ 6.000\\ \\mathrm{m},\\ 5.000\\ \\mathrm{m},\\ nan,\\ nan] \\cdot 400.000\\ \\mathrm{mm} \\cdot 600.000\\ \\mathrm{mm} \\cdot 23.560\\ \\mathrm{kN/m³} \\right) &= 186.595\\ \\mathrm{kN}  \n",
       "\\end{aligned}\n",
       "\\]"
      ],
      "text/plain": [
       "<IPython.core.display.Latex object>"
      ]
     },
     "metadata": {},
     "output_type": "display_data"
    },
    {
     "data": {
      "text/latex": [
       "\\[\n",
       "\\begin{aligned}\n",
       "\\mathrm{AnDn}_{SW_{Total}} &= \\Sigma \\left( \\mathrm{length} \\cdot \\mathrm{distance} \\cdot \\mathrm{width} \\cdot \\mathrm{height} \\cdot \\gamma_{c} \\right) \\\\&= \\Sigma \\left( [3.000\\ \\mathrm{m},\\ 3.000\\ \\mathrm{m}] \\cdot [20.250\\ \\mathrm{m},\\ 26.250\\ \\mathrm{m}] \\cdot 300.000\\ \\mathrm{mm} \\cdot 4.000\\ \\mathrm{m} \\cdot 23.560\\ \\mathrm{kN/m³} \\right) \\\\&= 3.944\\ \\mathrm{MN} \\cdot \\mathrm{m}  \\\\[10pt]\n",
       "\\\\[10pt]\n",
       "\\mathrm{An}_{SW_{Total}} &= \\Sigma \\left( \\mathrm{length} \\cdot \\mathrm{width} \\cdot \\mathrm{height} \\cdot \\gamma_{c} \\right) \\\\&= \\Sigma \\left( [3.000\\ \\mathrm{m},\\ 3.000\\ \\mathrm{m}] \\cdot 300.000\\ \\mathrm{mm} \\cdot 4.000\\ \\mathrm{m} \\cdot 23.560\\ \\mathrm{kN/m³} \\right) \\\\&= 169.632\\ \\mathrm{kN}  \\\\[10pt]\n",
       "\\\\[10pt]\n",
       "\\mathrm{RnDn}_{SW_{Total}} &= \\Sigma \\left( \\left( \\frac{ \\left( \\mathrm{length} \\right) ^{ 3 } \\cdot \\mathrm{width} }{ 12 } \\right) \\cdot \\mathrm{distance} \\right) \\\\&= \\Sigma \\left( \\left( \\frac{ \\left( [3.000\\ \\mathrm{m},\\ 3.000\\ \\mathrm{m}] \\right) ^{ 3 } \\cdot 300.000\\ \\mathrm{mm} }{ 12 } \\right) \\cdot [20.250\\ \\mathrm{m},\\ 26.250\\ \\mathrm{m}] \\right) \\\\&= 31.387\\ \\mathrm{m}^{5}  \\\\[10pt]\n",
       "\\\\[10pt]\n",
       "\\mathrm{Rn}_{SW_{Total}} &= \\Sigma \\left( \\frac{ \\left( \\mathrm{length} \\right) ^{ 3 } \\cdot \\mathrm{width} }{ 12 } \\right) \\\\&= \\Sigma \\left( \\frac{ \\left( [3.000\\ \\mathrm{m},\\ 3.000\\ \\mathrm{m}] \\right) ^{ 3 } \\cdot 300.000\\ \\mathrm{mm} }{ 12 } \\right) \\\\&= 1.350\\ \\mathrm{m}^{4}  \\\\[10pt]\n",
       "\\end{aligned}\n",
       "\\]"
      ],
      "text/plain": [
       "<IPython.core.display.Latex object>"
      ]
     },
     "metadata": {},
     "output_type": "display_data"
    },
    {
     "data": {
      "text/latex": [
       "\\[\n",
       "\\begin{aligned}\n",
       "\\mathrm{AnDn}_{Slab_{Total}} &= \\Sigma \\left( \\mathrm{area} \\cdot \\mathrm{distance} \\cdot \\mathrm{height} \\cdot \\gamma_{c} \\right) \\\\&= \\Sigma \\left( [1936.000\\ \\mathrm{m}^{2},\\ -220.000\\ \\mathrm{m}^{2},\\ -132.000\\ \\mathrm{m}^{2}] \\cdot [22.000\\ \\mathrm{m},\\ 10.000\\ \\mathrm{m},\\ 38.000\\ \\mathrm{m}] \\cdot 130.000\\ \\mathrm{mm} \\cdot 23.560\\ \\mathrm{kN/m³} \\right) \\\\&= 108.350\\ \\mathrm{MN} \\cdot \\mathrm{m}  \\\\[10pt]\n",
       "\\\\[10pt]\n",
       "\\mathrm{An}_{Slab_{Total}} &= \\Sigma \\left( \\mathrm{area} \\cdot \\mathrm{height} \\cdot \\gamma_{c} \\right) \\\\&= \\Sigma \\left( [1936.000\\ \\mathrm{m}^{2},\\ -220.000\\ \\mathrm{m}^{2},\\ -132.000\\ \\mathrm{m}^{2}] \\cdot 130.000\\ \\mathrm{mm} \\cdot 23.560\\ \\mathrm{kN/m³} \\right) \\\\&= 4.851\\ \\mathrm{MN}  \\\\[10pt]\n",
       "\\end{aligned}\n",
       "\\]"
      ],
      "text/plain": [
       "<IPython.core.display.Latex object>"
      ]
     },
     "metadata": {},
     "output_type": "display_data"
    },
    {
     "data": {
      "text/latex": [
       "\\[\n",
       "\\begin{aligned}\n",
       "\\mathrm{AnDn}_{Wall_{Total}} &= \\Sigma \\left( \\mathrm{length} \\cdot \\mathrm{distance} \\cdot \\mathrm{width} \\cdot \\mathrm{height} \\cdot \\gamma_{c} \\cdot 0.7 \\right) \\\\&= \\Sigma \\left( [nan,\\ nan,\\ 6.000\\ \\mathrm{m},\\ 5.000\\ \\mathrm{m},\\ 6.000\\ \\mathrm{m},\\ 5.000\\ \\mathrm{m},\\ 6.000\\ \\mathrm{m},\\ 5.000\\ \\mathrm{m},\\ 6.000\\ \\mathrm{m},\\ 5.000\\ \\mathrm{m},\\ 6.000\\ \\mathrm{m},\\ 5.000\\ \\mathrm{m},\\ 6.000\\ \\mathrm{m},\\ 5.000\\ \\mathrm{m},\\ nan,\\ nan,\\ nan,\\ nan,\\ 6.000\\ \\mathrm{m},\\ 5.000\\ \\mathrm{m},\\ 6.000\\ \\mathrm{m},\\ 5.000\\ \\mathrm{m},\\ 6.000\\ \\mathrm{m},\\ 5.000\\ \\mathrm{m},\\ 6.000\\ \\mathrm{m},\\ 5.000\\ \\mathrm{m},\\ 6.000\\ \\mathrm{m},\\ 5.000\\ \\mathrm{m},\\ 6.000\\ \\mathrm{m},\\ 5.000\\ \\mathrm{m},\\ nan,\\ nan] \\cdot [nan,\\ nan,\\ 250.000\\ \\mathrm{mm},\\ 250.000\\ \\mathrm{mm},\\ 250.000\\ \\mathrm{mm},\\ 250.000\\ \\mathrm{mm},\\ 250.000\\ \\mathrm{mm},\\ 250.000\\ \\mathrm{mm},\\ 44.250\\ \\mathrm{m},\\ 44.250\\ \\mathrm{m},\\ 44.250\\ \\mathrm{m},\\ 44.250\\ \\mathrm{m},\\ 44.250\\ \\mathrm{m},\\ 44.250\\ \\mathrm{m},\\ 44.250\\ \\mathrm{m},\\ nan,\\ nan,\\ nan,\\ 15.250\\ \\mathrm{m},\\ 15.250\\ \\mathrm{m},\\ 15.250\\ \\mathrm{m},\\ 15.250\\ \\mathrm{m},\\ 15.250\\ \\mathrm{m},\\ 15.250\\ \\mathrm{m},\\ 38.250\\ \\mathrm{m},\\ 38.250\\ \\mathrm{m},\\ 38.250\\ \\mathrm{m},\\ 38.250\\ \\mathrm{m},\\ 38.250\\ \\mathrm{m},\\ 38.250\\ \\mathrm{m},\\ 38.250\\ \\mathrm{m},\\ nan] \\cdot 150.000\\ \\mathrm{mm} \\cdot 4.000\\ \\mathrm{m} \\cdot 23.560\\ \\mathrm{kN/m³} \\cdot 0.7 \\right) \\\\&= 32.001\\ \\mathrm{MN} \\cdot \\mathrm{m}  \\\\[10pt]\n",
       "\\\\[10pt]\n",
       "\\mathrm{An}_{Wall_{Total}} &= \\Sigma \\left( \\mathrm{length} \\cdot \\mathrm{width} \\cdot \\mathrm{height} \\cdot \\gamma_{c} \\cdot 0.7 \\right) \\\\&= \\Sigma \\left( [nan,\\ nan,\\ 6.000\\ \\mathrm{m},\\ 5.000\\ \\mathrm{m},\\ 6.000\\ \\mathrm{m},\\ 5.000\\ \\mathrm{m},\\ 6.000\\ \\mathrm{m},\\ 5.000\\ \\mathrm{m},\\ 6.000\\ \\mathrm{m},\\ 5.000\\ \\mathrm{m},\\ 6.000\\ \\mathrm{m},\\ 5.000\\ \\mathrm{m},\\ 6.000\\ \\mathrm{m},\\ 5.000\\ \\mathrm{m},\\ nan,\\ nan,\\ nan,\\ nan,\\ 6.000\\ \\mathrm{m},\\ 5.000\\ \\mathrm{m},\\ 6.000\\ \\mathrm{m},\\ 5.000\\ \\mathrm{m},\\ 6.000\\ \\mathrm{m},\\ 5.000\\ \\mathrm{m},\\ 6.000\\ \\mathrm{m},\\ 5.000\\ \\mathrm{m},\\ 6.000\\ \\mathrm{m},\\ 5.000\\ \\mathrm{m},\\ 6.000\\ \\mathrm{m},\\ 5.000\\ \\mathrm{m},\\ nan,\\ nan] \\cdot 150.000\\ \\mathrm{mm} \\cdot 4.000\\ \\mathrm{m} \\cdot 23.560\\ \\mathrm{kN/m³} \\cdot 0.7 \\right) \\\\&= 1.306\\ \\mathrm{MN}  \\\\[10pt]\n",
       "\\end{aligned}\n",
       "\\]"
      ],
      "text/plain": [
       "<IPython.core.display.Latex object>"
      ]
     },
     "metadata": {},
     "output_type": "display_data"
    },
    {
     "data": {
      "text/latex": [
       "\\[\n",
       "\\begin{aligned}\n",
       "\\mathrm{AnDn}_{Col_{Total}} &= \\Sigma \\left( \\mathrm{AnDn}_{Col} \\right) \\\\&= \\Sigma \\left( [29.450\\ \\mathrm{kN} \\cdot \\mathrm{m},\\ 865.830\\ \\mathrm{kN} \\cdot \\mathrm{m},\\ 1.690\\ \\mathrm{MN} \\cdot \\mathrm{m},\\ 2.515\\ \\mathrm{MN} \\cdot \\mathrm{m},\\ 4.294\\ \\mathrm{MN} \\cdot \\mathrm{m},\\ 5.566\\ \\mathrm{MN} \\cdot \\mathrm{m},\\ 6.838\\ \\mathrm{MN} \\cdot \\mathrm{m},\\ 6.308\\ \\mathrm{MN} \\cdot \\mathrm{m},\\ 5.213\\ \\mathrm{MN} \\cdot \\mathrm{m}] \\right) \\\\&= 33.320\\ \\mathrm{MN} \\cdot \\mathrm{m}  \\\\[10pt]\n",
       "\\\\[10pt]\n",
       "\\mathrm{An}_{Col_{Total}} &= \\Sigma \\left( \\mathrm{An}_{Col} \\right) \\\\&= \\Sigma \\left( [117.800\\ \\mathrm{kN},\\ 164.920\\ \\mathrm{kN},\\ 164.920\\ \\mathrm{kN},\\ 164.920\\ \\mathrm{kN},\\ 212.040\\ \\mathrm{kN},\\ 212.040\\ \\mathrm{kN},\\ 212.040\\ \\mathrm{kN},\\ 164.920\\ \\mathrm{kN},\\ 117.800\\ \\mathrm{kN}] \\right) \\\\&= 1.531\\ \\mathrm{MN}  \\\\[10pt]\n",
       "\\\\[10pt]\n",
       "\\mathrm{RnDn}_{Col_{Total}} &= \\Sigma \\left( \\mathrm{RnDn}_{Col} \\right) \\\\&= \\Sigma \\left( [6510416666666.666\\ \\mathrm{mm}^{5},\\ 191406249999999.969\\ \\mathrm{mm}^{5},\\ 373697916666666.625\\ \\mathrm{mm}^{5},\\ 555989583333333.188\\ \\mathrm{mm}^{5},\\ 949218749999999.875\\ \\mathrm{mm}^{5},\\ 1.230\\ \\mathrm{m}^{5},\\ 1.512\\ \\mathrm{m}^{5},\\ 1.395\\ \\mathrm{m}^{5},\\ 1.152\\ \\mathrm{m}^{5}] \\right) \\\\&= 7.366\\ \\mathrm{m}^{5}  \\\\[10pt]\n",
       "\\\\[10pt]\n",
       "\\mathrm{Rn}_{Col_{Total}} &= \\Sigma \\left( \\mathrm{Rn}_{Col} \\right) \\\\&= \\Sigma \\left( [26041666666.667\\ \\mathrm{mm}^{4},\\ 36458333333.333\\ \\mathrm{mm}^{4},\\ 36458333333.333\\ \\mathrm{mm}^{4},\\ 36458333333.333\\ \\mathrm{mm}^{4},\\ 46875000000.000\\ \\mathrm{mm}^{4},\\ 46875000000.000\\ \\mathrm{mm}^{4},\\ 46875000000.000\\ \\mathrm{mm}^{4},\\ 36458333333.333\\ \\mathrm{mm}^{4},\\ 26041666666.667\\ \\mathrm{mm}^{4}] \\right) \\\\&= 338541666666.667\\ \\mathrm{mm}^{4}  \\\\[10pt]\n",
       "\\\\[10pt]\n",
       "\\mathrm{AnDn}_{Beam_{Total}} &= \\Sigma \\left( \\mathrm{AnDn}_{Beam} \\right) \\\\&= \\Sigma \\left( [46.649\\ \\mathrm{kN} \\cdot \\mathrm{m},\\ 979.625\\ \\mathrm{kN} \\cdot \\mathrm{m},\\ 1.913\\ \\mathrm{MN} \\cdot \\mathrm{m},\\ 2.846\\ \\mathrm{MN} \\cdot \\mathrm{m},\\ 5.038\\ \\mathrm{MN} \\cdot \\mathrm{m},\\ 6.531\\ \\mathrm{MN} \\cdot \\mathrm{m},\\ 8.024\\ \\mathrm{MN} \\cdot \\mathrm{m},\\ 7.137\\ \\mathrm{MN} \\cdot \\mathrm{m},\\ 8.257\\ \\mathrm{MN} \\cdot \\mathrm{m}] \\right) \\\\&= 40.771\\ \\mathrm{MN} \\cdot \\mathrm{m}  \\\\[10pt]\n",
       "\\\\[10pt]\n",
       "\\mathrm{An}_{Beam_{Total}} &= \\Sigma \\left( \\mathrm{An}_{Beam} \\right) \\\\&= \\Sigma \\left( [186.595\\ \\mathrm{kN},\\ 186.595\\ \\mathrm{kN},\\ 186.595\\ \\mathrm{kN},\\ 186.595\\ \\mathrm{kN},\\ 248.794\\ \\mathrm{kN},\\ 248.794\\ \\mathrm{kN},\\ 248.794\\ \\mathrm{kN},\\ 186.595\\ \\mathrm{kN},\\ 186.595\\ \\mathrm{kN}] \\right) \\\\&= 1.866\\ \\mathrm{MN}  \\\\[10pt]\n",
       "\\\\[10pt]\n",
       "\\mathrm{AnDn}_{SW_{Total}} &= \\Sigma \\left( \\mathrm{AnDn}_{SW} \\right) \\\\&= \\Sigma \\left( [3.944\\ \\mathrm{MN} \\cdot \\mathrm{m}] \\right) \\\\&= 3.944\\ \\mathrm{MN} \\cdot \\mathrm{m}  \\\\[10pt]\n",
       "\\\\[10pt]\n",
       "\\mathrm{An}_{SW_{Total}} &= \\Sigma \\left( \\mathrm{An}_{SW} \\right) \\\\&= \\Sigma \\left( [169.632\\ \\mathrm{kN}] \\right) \\\\&= 169.632\\ \\mathrm{kN}  \\\\[10pt]\n",
       "\\\\[10pt]\n",
       "\\mathrm{RnDn}_{SW_{Total}} &= \\Sigma \\left( \\mathrm{RnDn}_{SW_{Total}} \\right) \\\\&= \\Sigma \\left( 31.387\\ \\mathrm{m}^{5} \\right) \\\\&= 31.387\\ \\mathrm{m}^{5}  \\\\[10pt]\n",
       "\\\\[10pt]\n",
       "\\mathrm{Rn}_{SW_{Total}} &= \\Sigma \\left( \\mathrm{Rn}_{SW} \\right) \\\\&= \\Sigma \\left( [1.350\\ \\mathrm{m}^{4}] \\right) \\\\&= 1.350\\ \\mathrm{m}^{4}  \\\\[10pt]\n",
       "\\\\[10pt]\n",
       "\\mathrm{AnDn}_{Slab_{Total}} &= \\Sigma \\left( \\mathrm{AnDn}_{Slab} \\right) \\\\&= \\Sigma \\left( [108.350\\ \\mathrm{MN} \\cdot \\mathrm{m}] \\right) \\\\&= 108.350\\ \\mathrm{MN} \\cdot \\mathrm{m}  \\\\[10pt]\n",
       "\\\\[10pt]\n",
       "\\mathrm{An}_{Slab_{Total}} &= \\Sigma \\left( \\mathrm{An}_{Slab} \\right) \\\\&= \\Sigma \\left( [4.851\\ \\mathrm{MN}] \\right) \\\\&= 4.851\\ \\mathrm{MN}  \\\\[10pt]\n",
       "\\\\[10pt]\n",
       "\\mathrm{AnDn}_{Wall_{Total}} &= \\Sigma \\left( \\mathrm{AnDn}_{Wall} \\right) \\\\&= \\Sigma \\left( [32.001\\ \\mathrm{MN} \\cdot \\mathrm{m}] \\right) \\\\&= 32.001\\ \\mathrm{MN} \\cdot \\mathrm{m}  \\\\[10pt]\n",
       "\\\\[10pt]\n",
       "\\mathrm{An}_{Wall_{Total}} &= \\Sigma \\left( \\mathrm{An}_{Wall} \\right) \\\\&= \\Sigma \\left( [1.306\\ \\mathrm{MN}] \\right) \\\\&= 1.306\\ \\mathrm{MN}  \\\\[10pt]\n",
       "\\end{aligned}\n",
       "\\]"
      ],
      "text/plain": [
       "<IPython.core.display.Latex object>"
      ]
     },
     "metadata": {},
     "output_type": "display_data"
    },
    {
     "data": {
      "text/latex": [
       "\\[\n",
       "\\begin{aligned}\n",
       "\\mathrm{AnDn} &= \\Sigma \\left( \\mathrm{AnDn}_{Col_{Total}} + \\mathrm{AnDn}_{SW_{Total}} + \\mathrm{AnDn}_{Slab_{Total}} + \\mathrm{AnDn}_{Wall_{Total}} + \\mathrm{AnDn}_{Beam_{Total}} \\right) \\\\&= \\Sigma \\left( 33.320\\ \\mathrm{MN} \\cdot \\mathrm{m} + 3.944\\ \\mathrm{MN} \\cdot \\mathrm{m} + 108.350\\ \\mathrm{MN} \\cdot \\mathrm{m} + 32.001\\ \\mathrm{MN} \\cdot \\mathrm{m} + 40.771\\ \\mathrm{MN} \\cdot \\mathrm{m} \\right) \\\\&= 218.385\\ \\mathrm{MN} \\cdot \\mathrm{m}  \\\\[10pt]\n",
       "\\\\[10pt]\n",
       "\\mathrm{An} &= \\Sigma \\left( \\mathrm{An}_{Col_{Total}} + \\mathrm{An}_{SW_{Total}} + \\mathrm{An}_{Slab_{Total}} + \\mathrm{An}_{Wall_{Total}} + \\mathrm{An}_{Beam_{Total}} \\right) \\\\&= \\Sigma \\left( 1.531\\ \\mathrm{MN} + 169.632\\ \\mathrm{kN} + 4.851\\ \\mathrm{MN} + 1.306\\ \\mathrm{MN} + 1.866\\ \\mathrm{MN} \\right) \\\\&= 9.725\\ \\mathrm{MN}  \\\\[10pt]\n",
       "\\\\[10pt]\n",
       "\\mathrm{RnDn} &= \\Sigma \\left( \\mathrm{RnDn}_{Col_{Total}} + \\mathrm{RnDn}_{SW_{Total}} \\right) \\\\&= \\Sigma \\left( 7.366\\ \\mathrm{m}^{5} + 31.387\\ \\mathrm{m}^{5} \\right) \\\\&= 38.753\\ \\mathrm{m}^{5}  \\\\[10pt]\n",
       "\\\\[10pt]\n",
       "\\mathrm{Rn} &= \\Sigma \\left( \\mathrm{Rn}_{Col_{Total}} + \\mathrm{Rn}_{SW_{Total}} \\right) \\\\&= \\Sigma \\left( 338541666666.667\\ \\mathrm{mm}^{4} + 1.350\\ \\mathrm{m}^{4} \\right) \\\\&= 1.689\\ \\mathrm{m}^{4}  \\\\[10pt]\n",
       "\\\\[10pt]\n",
       "C_{m} &= \\frac{ \\Sigma \\left( \\mathrm{AnDn} \\right) }{ \\Sigma \\left( \\mathrm{An} \\right) } \\\\&= \\frac{ \\Sigma \\left( 218.385\\ \\mathrm{MN} \\cdot \\mathrm{m} \\right) }{ \\Sigma \\left( 9.725\\ \\mathrm{MN} \\right) } \\\\&= 22.457\\ \\mathrm{m}  \\\\[10pt]\n",
       "\\\\[10pt]\n",
       "C_{r} &= \\frac{ \\Sigma \\left( \\mathrm{RnDn} \\right) }{ \\Sigma \\left( \\mathrm{Rn} \\right) } \\\\&= \\frac{ \\Sigma \\left( 38.753\\ \\mathrm{m}^{5} \\right) }{ \\Sigma \\left( 1.689\\ \\mathrm{m}^{4} \\right) } \\\\&= 22.951\\ \\mathrm{m}  \\\\[10pt]\n",
       "\\end{aligned}\n",
       "\\]"
      ],
      "text/plain": [
       "<IPython.core.display.Latex object>"
      ]
     },
     "metadata": {},
     "output_type": "display_data"
    },
    {
     "data": {
      "text/markdown": [
       "## FLOOR - 3 - Y AXIS\n",
       "            "
      ],
      "text/plain": [
       "<IPython.core.display.Markdown object>"
      ]
     },
     "metadata": {},
     "output_type": "display_data"
    },
    {
     "data": {
      "text/latex": [
       "\\[\n",
       "\\begin{aligned}\n",
       "\\mathrm{Grid} &= A \\; \n",
       "\\\\[10pt]\n",
       "\\mathrm{AnDn}_{Col_{Total}} &= \\mathrm{Col}_{No} \\cdot \\mathrm{distance} \\cdot \\mathrm{length}_{col} \\cdot \\mathrm{width}_{col} \\cdot \\mathrm{height}_{col} \\cdot \\gamma_{c}  = 5.000 \\cdot 250.000\\ \\mathrm{mm} \\cdot 500.000\\ \\mathrm{mm} \\cdot 500.000\\ \\mathrm{mm} \\cdot 3.500\\ \\mathrm{m} \\cdot 23.560\\ \\mathrm{kN/m³} &= 25.769\\ \\mathrm{kN} \\cdot \\mathrm{m}  \n",
       "\\\\[10pt]\n",
       "\\mathrm{An}_{Col_{Total}} &= \\mathrm{Col}_{No} \\cdot \\mathrm{length}_{col} \\cdot \\mathrm{width}_{col} \\cdot \\mathrm{height}_{col} \\cdot \\gamma_{c}  = 5.000 \\cdot 500.000\\ \\mathrm{mm} \\cdot 500.000\\ \\mathrm{mm} \\cdot 3.500\\ \\mathrm{m} \\cdot 23.560\\ \\mathrm{kN/m³} &= 103.075\\ \\mathrm{kN}  \n",
       "\\\\[10pt]\n",
       "\\mathrm{RnDn}_{Col_{Total}} &= \\mathrm{Col}_{No} \\cdot \\left( \\frac{ \\left( \\mathrm{length}_{col} \\right) ^{ 4 } }{ 12 } \\right) \\cdot \\mathrm{distance}  = 5.000 \\cdot \\left( \\frac{ \\left( 500.000\\ \\mathrm{mm} \\right) ^{ 4 } }{ 12 } \\right) \\cdot 250.000\\ \\mathrm{mm} &= 6510416666666.666\\ \\mathrm{mm}^{5}  \n",
       "\\\\[10pt]\n",
       "\\mathrm{Rn}_{Col_{Total}} &= \\mathrm{Col}_{No} \\cdot \\frac{ \\left( \\mathrm{length}_{col} \\right) ^{ 4 } }{ 12 }  = 5.000 \\cdot \\frac{ \\left( 500.000\\ \\mathrm{mm} \\right) ^{ 4 } }{ 12 } &= 26041666666.667\\ \\mathrm{mm}^{4}  \n",
       "\\\\[10pt]\n",
       "\\mathrm{AnXn}_{Beam_{Total}} &= \\Sigma \\left( \\mathrm{length}_{girder} \\cdot \\mathrm{width}_{girder} \\cdot \\mathrm{height}_{girder} \\cdot \\gamma_{c} \\cdot \\mathrm{distance} \\right)  = \\Sigma \\left( [nan,\\ nan,\\ 6.000\\ \\mathrm{m},\\ 5.000\\ \\mathrm{m},\\ 6.000\\ \\mathrm{m},\\ 5.000\\ \\mathrm{m},\\ 6.000\\ \\mathrm{m},\\ 5.000\\ \\mathrm{m}] \\cdot 400.000\\ \\mathrm{mm} \\cdot 600.000\\ \\mathrm{mm} \\cdot 23.560\\ \\mathrm{kN/m³} \\cdot 250.000\\ \\mathrm{mm} \\right) &= 46.649\\ \\mathrm{kN} \\cdot \\mathrm{m}  \n",
       "\\\\[10pt]\n",
       "\\mathrm{An}_{Beam_{Total}} &= \\Sigma \\left( \\mathrm{length}_{girder} \\cdot \\mathrm{width}_{girder} \\cdot \\mathrm{height}_{girder} \\cdot \\gamma_{c} \\right)  = \\Sigma \\left( [nan,\\ nan,\\ 6.000\\ \\mathrm{m},\\ 5.000\\ \\mathrm{m},\\ 6.000\\ \\mathrm{m},\\ 5.000\\ \\mathrm{m},\\ 6.000\\ \\mathrm{m},\\ 5.000\\ \\mathrm{m}] \\cdot 400.000\\ \\mathrm{mm} \\cdot 600.000\\ \\mathrm{mm} \\cdot 23.560\\ \\mathrm{kN/m³} \\right) &= 186.595\\ \\mathrm{kN}  \n",
       "\\end{aligned}\n",
       "\\]"
      ],
      "text/plain": [
       "<IPython.core.display.Latex object>"
      ]
     },
     "metadata": {},
     "output_type": "display_data"
    },
    {
     "data": {
      "text/latex": [
       "\\[\n",
       "\\begin{aligned}\n",
       "\\mathrm{Grid} &= B \\; \n",
       "\\\\[10pt]\n",
       "\\mathrm{AnDn}_{Col_{Total}} &= \\mathrm{Col}_{No} \\cdot \\mathrm{distance} \\cdot \\mathrm{length}_{col} \\cdot \\mathrm{width}_{col} \\cdot \\mathrm{height}_{col} \\cdot \\gamma_{c}  = 7.000 \\cdot 5.250\\ \\mathrm{m} \\cdot 500.000\\ \\mathrm{mm} \\cdot 500.000\\ \\mathrm{mm} \\cdot 3.500\\ \\mathrm{m} \\cdot 23.560\\ \\mathrm{kN/m³} &= 757.601\\ \\mathrm{kN} \\cdot \\mathrm{m}  \n",
       "\\\\[10pt]\n",
       "\\mathrm{An}_{Col_{Total}} &= \\mathrm{Col}_{No} \\cdot \\mathrm{length}_{col} \\cdot \\mathrm{width}_{col} \\cdot \\mathrm{height}_{col} \\cdot \\gamma_{c}  = 7.000 \\cdot 500.000\\ \\mathrm{mm} \\cdot 500.000\\ \\mathrm{mm} \\cdot 3.500\\ \\mathrm{m} \\cdot 23.560\\ \\mathrm{kN/m³} &= 144.305\\ \\mathrm{kN}  \n",
       "\\\\[10pt]\n",
       "\\mathrm{RnDn}_{Col_{Total}} &= \\mathrm{Col}_{No} \\cdot \\left( \\frac{ \\left( \\mathrm{length}_{col} \\right) ^{ 4 } }{ 12 } \\right) \\cdot \\mathrm{distance}  = 7.000 \\cdot \\left( \\frac{ \\left( 500.000\\ \\mathrm{mm} \\right) ^{ 4 } }{ 12 } \\right) \\cdot 5.250\\ \\mathrm{m} &= 191406249999999.969\\ \\mathrm{mm}^{5}  \n",
       "\\\\[10pt]\n",
       "\\mathrm{Rn}_{Col_{Total}} &= \\mathrm{Col}_{No} \\cdot \\frac{ \\left( \\mathrm{length}_{col} \\right) ^{ 4 } }{ 12 }  = 7.000 \\cdot \\frac{ \\left( 500.000\\ \\mathrm{mm} \\right) ^{ 4 } }{ 12 } &= 36458333333.333\\ \\mathrm{mm}^{4}  \n",
       "\\\\[10pt]\n",
       "\\mathrm{AnXn}_{Beam_{Total}} &= \\Sigma \\left( \\mathrm{length}_{girder} \\cdot \\mathrm{width}_{girder} \\cdot \\mathrm{height}_{girder} \\cdot \\gamma_{c} \\cdot \\mathrm{distance} \\right)  = \\Sigma \\left( [nan,\\ nan,\\ 6.000\\ \\mathrm{m},\\ 5.000\\ \\mathrm{m},\\ 6.000\\ \\mathrm{m},\\ 5.000\\ \\mathrm{m},\\ 6.000\\ \\mathrm{m},\\ 5.000\\ \\mathrm{m}] \\cdot 400.000\\ \\mathrm{mm} \\cdot 600.000\\ \\mathrm{mm} \\cdot 23.560\\ \\mathrm{kN/m³} \\cdot 5.250\\ \\mathrm{m} \\right) &= 979.625\\ \\mathrm{kN} \\cdot \\mathrm{m}  \n",
       "\\\\[10pt]\n",
       "\\mathrm{An}_{Beam_{Total}} &= \\Sigma \\left( \\mathrm{length}_{girder} \\cdot \\mathrm{width}_{girder} \\cdot \\mathrm{height}_{girder} \\cdot \\gamma_{c} \\right)  = \\Sigma \\left( [nan,\\ nan,\\ 6.000\\ \\mathrm{m},\\ 5.000\\ \\mathrm{m},\\ 6.000\\ \\mathrm{m},\\ 5.000\\ \\mathrm{m},\\ 6.000\\ \\mathrm{m},\\ 5.000\\ \\mathrm{m}] \\cdot 400.000\\ \\mathrm{mm} \\cdot 600.000\\ \\mathrm{mm} \\cdot 23.560\\ \\mathrm{kN/m³} \\right) &= 186.595\\ \\mathrm{kN}  \n",
       "\\end{aligned}\n",
       "\\]"
      ],
      "text/plain": [
       "<IPython.core.display.Latex object>"
      ]
     },
     "metadata": {},
     "output_type": "display_data"
    },
    {
     "data": {
      "text/latex": [
       "\\[\n",
       "\\begin{aligned}\n",
       "\\mathrm{Grid} &= C \\; \n",
       "\\\\[10pt]\n",
       "\\mathrm{AnDn}_{Col_{Total}} &= \\mathrm{Col}_{No} \\cdot \\mathrm{distance} \\cdot \\mathrm{length}_{col} \\cdot \\mathrm{width}_{col} \\cdot \\mathrm{height}_{col} \\cdot \\gamma_{c}  = 7.000 \\cdot 10.250\\ \\mathrm{m} \\cdot 500.000\\ \\mathrm{mm} \\cdot 500.000\\ \\mathrm{mm} \\cdot 3.500\\ \\mathrm{m} \\cdot 23.560\\ \\mathrm{kN/m³} &= 1.479\\ \\mathrm{MN} \\cdot \\mathrm{m}  \n",
       "\\\\[10pt]\n",
       "\\mathrm{An}_{Col_{Total}} &= \\mathrm{Col}_{No} \\cdot \\mathrm{length}_{col} \\cdot \\mathrm{width}_{col} \\cdot \\mathrm{height}_{col} \\cdot \\gamma_{c}  = 7.000 \\cdot 500.000\\ \\mathrm{mm} \\cdot 500.000\\ \\mathrm{mm} \\cdot 3.500\\ \\mathrm{m} \\cdot 23.560\\ \\mathrm{kN/m³} &= 144.305\\ \\mathrm{kN}  \n",
       "\\\\[10pt]\n",
       "\\mathrm{RnDn}_{Col_{Total}} &= \\mathrm{Col}_{No} \\cdot \\left( \\frac{ \\left( \\mathrm{length}_{col} \\right) ^{ 4 } }{ 12 } \\right) \\cdot \\mathrm{distance}  = 7.000 \\cdot \\left( \\frac{ \\left( 500.000\\ \\mathrm{mm} \\right) ^{ 4 } }{ 12 } \\right) \\cdot 10.250\\ \\mathrm{m} &= 373697916666666.625\\ \\mathrm{mm}^{5}  \n",
       "\\\\[10pt]\n",
       "\\mathrm{Rn}_{Col_{Total}} &= \\mathrm{Col}_{No} \\cdot \\frac{ \\left( \\mathrm{length}_{col} \\right) ^{ 4 } }{ 12 }  = 7.000 \\cdot \\frac{ \\left( 500.000\\ \\mathrm{mm} \\right) ^{ 4 } }{ 12 } &= 36458333333.333\\ \\mathrm{mm}^{4}  \n",
       "\\\\[10pt]\n",
       "\\mathrm{AnXn}_{Beam_{Total}} &= \\Sigma \\left( \\mathrm{length}_{girder} \\cdot \\mathrm{width}_{girder} \\cdot \\mathrm{height}_{girder} \\cdot \\gamma_{c} \\cdot \\mathrm{distance} \\right)  = \\Sigma \\left( [nan,\\ nan,\\ 6.000\\ \\mathrm{m},\\ 5.000\\ \\mathrm{m},\\ 6.000\\ \\mathrm{m},\\ 5.000\\ \\mathrm{m},\\ 6.000\\ \\mathrm{m},\\ 5.000\\ \\mathrm{m}] \\cdot 400.000\\ \\mathrm{mm} \\cdot 600.000\\ \\mathrm{mm} \\cdot 23.560\\ \\mathrm{kN/m³} \\cdot 10.250\\ \\mathrm{m} \\right) &= 1.913\\ \\mathrm{MN} \\cdot \\mathrm{m}  \n",
       "\\\\[10pt]\n",
       "\\mathrm{An}_{Beam_{Total}} &= \\Sigma \\left( \\mathrm{length}_{girder} \\cdot \\mathrm{width}_{girder} \\cdot \\mathrm{height}_{girder} \\cdot \\gamma_{c} \\right)  = \\Sigma \\left( [nan,\\ nan,\\ 6.000\\ \\mathrm{m},\\ 5.000\\ \\mathrm{m},\\ 6.000\\ \\mathrm{m},\\ 5.000\\ \\mathrm{m},\\ 6.000\\ \\mathrm{m},\\ 5.000\\ \\mathrm{m}] \\cdot 400.000\\ \\mathrm{mm} \\cdot 600.000\\ \\mathrm{mm} \\cdot 23.560\\ \\mathrm{kN/m³} \\right) &= 186.595\\ \\mathrm{kN}  \n",
       "\\end{aligned}\n",
       "\\]"
      ],
      "text/plain": [
       "<IPython.core.display.Latex object>"
      ]
     },
     "metadata": {},
     "output_type": "display_data"
    },
    {
     "data": {
      "text/latex": [
       "\\[\n",
       "\\begin{aligned}\n",
       "\\mathrm{Grid} &= D \\; \n",
       "\\\\[10pt]\n",
       "\\mathrm{AnDn}_{Col_{Total}} &= \\mathrm{Col}_{No} \\cdot \\mathrm{distance} \\cdot \\mathrm{length}_{col} \\cdot \\mathrm{width}_{col} \\cdot \\mathrm{height}_{col} \\cdot \\gamma_{c}  = 7.000 \\cdot 15.250\\ \\mathrm{m} \\cdot 500.000\\ \\mathrm{mm} \\cdot 500.000\\ \\mathrm{mm} \\cdot 3.500\\ \\mathrm{m} \\cdot 23.560\\ \\mathrm{kN/m³} &= 2.201\\ \\mathrm{MN} \\cdot \\mathrm{m}  \n",
       "\\\\[10pt]\n",
       "\\mathrm{An}_{Col_{Total}} &= \\mathrm{Col}_{No} \\cdot \\mathrm{length}_{col} \\cdot \\mathrm{width}_{col} \\cdot \\mathrm{height}_{col} \\cdot \\gamma_{c}  = 7.000 \\cdot 500.000\\ \\mathrm{mm} \\cdot 500.000\\ \\mathrm{mm} \\cdot 3.500\\ \\mathrm{m} \\cdot 23.560\\ \\mathrm{kN/m³} &= 144.305\\ \\mathrm{kN}  \n",
       "\\\\[10pt]\n",
       "\\mathrm{RnDn}_{Col_{Total}} &= \\mathrm{Col}_{No} \\cdot \\left( \\frac{ \\left( \\mathrm{length}_{col} \\right) ^{ 4 } }{ 12 } \\right) \\cdot \\mathrm{distance}  = 7.000 \\cdot \\left( \\frac{ \\left( 500.000\\ \\mathrm{mm} \\right) ^{ 4 } }{ 12 } \\right) \\cdot 15.250\\ \\mathrm{m} &= 555989583333333.188\\ \\mathrm{mm}^{5}  \n",
       "\\\\[10pt]\n",
       "\\mathrm{Rn}_{Col_{Total}} &= \\mathrm{Col}_{No} \\cdot \\frac{ \\left( \\mathrm{length}_{col} \\right) ^{ 4 } }{ 12 }  = 7.000 \\cdot \\frac{ \\left( 500.000\\ \\mathrm{mm} \\right) ^{ 4 } }{ 12 } &= 36458333333.333\\ \\mathrm{mm}^{4}  \n",
       "\\\\[10pt]\n",
       "\\mathrm{AnXn}_{Beam_{Total}} &= \\Sigma \\left( \\mathrm{length}_{girder} \\cdot \\mathrm{width}_{girder} \\cdot \\mathrm{height}_{girder} \\cdot \\gamma_{c} \\cdot \\mathrm{distance} \\right)  = \\Sigma \\left( [nan,\\ nan,\\ 6.000\\ \\mathrm{m},\\ 5.000\\ \\mathrm{m},\\ 6.000\\ \\mathrm{m},\\ 5.000\\ \\mathrm{m},\\ 6.000\\ \\mathrm{m},\\ 5.000\\ \\mathrm{m}] \\cdot 400.000\\ \\mathrm{mm} \\cdot 600.000\\ \\mathrm{mm} \\cdot 23.560\\ \\mathrm{kN/m³} \\cdot 15.250\\ \\mathrm{m} \\right) &= 2.846\\ \\mathrm{MN} \\cdot \\mathrm{m}  \n",
       "\\\\[10pt]\n",
       "\\mathrm{An}_{Beam_{Total}} &= \\Sigma \\left( \\mathrm{length}_{girder} \\cdot \\mathrm{width}_{girder} \\cdot \\mathrm{height}_{girder} \\cdot \\gamma_{c} \\right)  = \\Sigma \\left( [nan,\\ nan,\\ 6.000\\ \\mathrm{m},\\ 5.000\\ \\mathrm{m},\\ 6.000\\ \\mathrm{m},\\ 5.000\\ \\mathrm{m},\\ 6.000\\ \\mathrm{m},\\ 5.000\\ \\mathrm{m}] \\cdot 400.000\\ \\mathrm{mm} \\cdot 600.000\\ \\mathrm{mm} \\cdot 23.560\\ \\mathrm{kN/m³} \\right) &= 186.595\\ \\mathrm{kN}  \n",
       "\\end{aligned}\n",
       "\\]"
      ],
      "text/plain": [
       "<IPython.core.display.Latex object>"
      ]
     },
     "metadata": {},
     "output_type": "display_data"
    },
    {
     "data": {
      "text/latex": [
       "\\[\n",
       "\\begin{aligned}\n",
       "\\mathrm{Grid} &= E \\; \n",
       "\\\\[10pt]\n",
       "\\mathrm{AnDn}_{Col_{Total}} &= \\mathrm{Col}_{No} \\cdot \\mathrm{distance} \\cdot \\mathrm{length}_{col} \\cdot \\mathrm{width}_{col} \\cdot \\mathrm{height}_{col} \\cdot \\gamma_{c}  = 9.000 \\cdot 20.250\\ \\mathrm{m} \\cdot 500.000\\ \\mathrm{mm} \\cdot 500.000\\ \\mathrm{mm} \\cdot 3.500\\ \\mathrm{m} \\cdot 23.560\\ \\mathrm{kN/m³} &= 3.757\\ \\mathrm{MN} \\cdot \\mathrm{m}  \n",
       "\\\\[10pt]\n",
       "\\mathrm{An}_{Col_{Total}} &= \\mathrm{Col}_{No} \\cdot \\mathrm{length}_{col} \\cdot \\mathrm{width}_{col} \\cdot \\mathrm{height}_{col} \\cdot \\gamma_{c}  = 9.000 \\cdot 500.000\\ \\mathrm{mm} \\cdot 500.000\\ \\mathrm{mm} \\cdot 3.500\\ \\mathrm{m} \\cdot 23.560\\ \\mathrm{kN/m³} &= 185.535\\ \\mathrm{kN}  \n",
       "\\\\[10pt]\n",
       "\\mathrm{RnDn}_{Col_{Total}} &= \\mathrm{Col}_{No} \\cdot \\left( \\frac{ \\left( \\mathrm{length}_{col} \\right) ^{ 4 } }{ 12 } \\right) \\cdot \\mathrm{distance}  = 9.000 \\cdot \\left( \\frac{ \\left( 500.000\\ \\mathrm{mm} \\right) ^{ 4 } }{ 12 } \\right) \\cdot 20.250\\ \\mathrm{m} &= 949218749999999.875\\ \\mathrm{mm}^{5}  \n",
       "\\\\[10pt]\n",
       "\\mathrm{Rn}_{Col_{Total}} &= \\mathrm{Col}_{No} \\cdot \\frac{ \\left( \\mathrm{length}_{col} \\right) ^{ 4 } }{ 12 }  = 9.000 \\cdot \\frac{ \\left( 500.000\\ \\mathrm{mm} \\right) ^{ 4 } }{ 12 } &= 46875000000.000\\ \\mathrm{mm}^{4}  \n",
       "\\\\[10pt]\n",
       "\\mathrm{AnXn}_{Beam_{Total}} &= \\Sigma \\left( \\mathrm{length}_{girder} \\cdot \\mathrm{width}_{girder} \\cdot \\mathrm{height}_{girder} \\cdot \\gamma_{c} \\cdot \\mathrm{distance} \\right)  = \\Sigma \\left( [6.000\\ \\mathrm{m},\\ 5.000\\ \\mathrm{m},\\ 6.000\\ \\mathrm{m},\\ 5.000\\ \\mathrm{m},\\ 6.000\\ \\mathrm{m},\\ 5.000\\ \\mathrm{m},\\ 6.000\\ \\mathrm{m},\\ 5.000\\ \\mathrm{m}] \\cdot 400.000\\ \\mathrm{mm} \\cdot 600.000\\ \\mathrm{mm} \\cdot 23.560\\ \\mathrm{kN/m³} \\cdot 20.250\\ \\mathrm{m} \\right) &= 5.038\\ \\mathrm{MN} \\cdot \\mathrm{m}  \n",
       "\\\\[10pt]\n",
       "\\mathrm{An}_{Beam_{Total}} &= \\Sigma \\left( \\mathrm{length}_{girder} \\cdot \\mathrm{width}_{girder} \\cdot \\mathrm{height}_{girder} \\cdot \\gamma_{c} \\right)  = \\Sigma \\left( [6.000\\ \\mathrm{m},\\ 5.000\\ \\mathrm{m},\\ 6.000\\ \\mathrm{m},\\ 5.000\\ \\mathrm{m},\\ 6.000\\ \\mathrm{m},\\ 5.000\\ \\mathrm{m},\\ 6.000\\ \\mathrm{m},\\ 5.000\\ \\mathrm{m}] \\cdot 400.000\\ \\mathrm{mm} \\cdot 600.000\\ \\mathrm{mm} \\cdot 23.560\\ \\mathrm{kN/m³} \\right) &= 248.794\\ \\mathrm{kN}  \n",
       "\\end{aligned}\n",
       "\\]"
      ],
      "text/plain": [
       "<IPython.core.display.Latex object>"
      ]
     },
     "metadata": {},
     "output_type": "display_data"
    },
    {
     "data": {
      "text/latex": [
       "\\[\n",
       "\\begin{aligned}\n",
       "\\mathrm{Grid} &= F \\; \n",
       "\\\\[10pt]\n",
       "\\mathrm{AnDn}_{Col_{Total}} &= \\mathrm{Col}_{No} \\cdot \\mathrm{distance} \\cdot \\mathrm{length}_{col} \\cdot \\mathrm{width}_{col} \\cdot \\mathrm{height}_{col} \\cdot \\gamma_{c}  = 9.000 \\cdot 26.250\\ \\mathrm{m} \\cdot 500.000\\ \\mathrm{mm} \\cdot 500.000\\ \\mathrm{mm} \\cdot 3.500\\ \\mathrm{m} \\cdot 23.560\\ \\mathrm{kN/m³} &= 4.870\\ \\mathrm{MN} \\cdot \\mathrm{m}  \n",
       "\\\\[10pt]\n",
       "\\mathrm{An}_{Col_{Total}} &= \\mathrm{Col}_{No} \\cdot \\mathrm{length}_{col} \\cdot \\mathrm{width}_{col} \\cdot \\mathrm{height}_{col} \\cdot \\gamma_{c}  = 9.000 \\cdot 500.000\\ \\mathrm{mm} \\cdot 500.000\\ \\mathrm{mm} \\cdot 3.500\\ \\mathrm{m} \\cdot 23.560\\ \\mathrm{kN/m³} &= 185.535\\ \\mathrm{kN}  \n",
       "\\\\[10pt]\n",
       "\\mathrm{RnDn}_{Col_{Total}} &= \\mathrm{Col}_{No} \\cdot \\left( \\frac{ \\left( \\mathrm{length}_{col} \\right) ^{ 4 } }{ 12 } \\right) \\cdot \\mathrm{distance}  = 9.000 \\cdot \\left( \\frac{ \\left( 500.000\\ \\mathrm{mm} \\right) ^{ 4 } }{ 12 } \\right) \\cdot 26.250\\ \\mathrm{m} &= 1.230\\ \\mathrm{m}^{5}  \n",
       "\\\\[10pt]\n",
       "\\mathrm{Rn}_{Col_{Total}} &= \\mathrm{Col}_{No} \\cdot \\frac{ \\left( \\mathrm{length}_{col} \\right) ^{ 4 } }{ 12 }  = 9.000 \\cdot \\frac{ \\left( 500.000\\ \\mathrm{mm} \\right) ^{ 4 } }{ 12 } &= 46875000000.000\\ \\mathrm{mm}^{4}  \n",
       "\\\\[10pt]\n",
       "\\mathrm{AnXn}_{Beam_{Total}} &= \\Sigma \\left( \\mathrm{length}_{girder} \\cdot \\mathrm{width}_{girder} \\cdot \\mathrm{height}_{girder} \\cdot \\gamma_{c} \\cdot \\mathrm{distance} \\right)  = \\Sigma \\left( [6.000\\ \\mathrm{m},\\ 5.000\\ \\mathrm{m},\\ 6.000\\ \\mathrm{m},\\ 5.000\\ \\mathrm{m},\\ 6.000\\ \\mathrm{m},\\ 5.000\\ \\mathrm{m},\\ 6.000\\ \\mathrm{m},\\ 5.000\\ \\mathrm{m}] \\cdot 400.000\\ \\mathrm{mm} \\cdot 600.000\\ \\mathrm{mm} \\cdot 23.560\\ \\mathrm{kN/m³} \\cdot 26.250\\ \\mathrm{m} \\right) &= 6.531\\ \\mathrm{MN} \\cdot \\mathrm{m}  \n",
       "\\\\[10pt]\n",
       "\\mathrm{An}_{Beam_{Total}} &= \\Sigma \\left( \\mathrm{length}_{girder} \\cdot \\mathrm{width}_{girder} \\cdot \\mathrm{height}_{girder} \\cdot \\gamma_{c} \\right)  = \\Sigma \\left( [6.000\\ \\mathrm{m},\\ 5.000\\ \\mathrm{m},\\ 6.000\\ \\mathrm{m},\\ 5.000\\ \\mathrm{m},\\ 6.000\\ \\mathrm{m},\\ 5.000\\ \\mathrm{m},\\ 6.000\\ \\mathrm{m},\\ 5.000\\ \\mathrm{m}] \\cdot 400.000\\ \\mathrm{mm} \\cdot 600.000\\ \\mathrm{mm} \\cdot 23.560\\ \\mathrm{kN/m³} \\right) &= 248.794\\ \\mathrm{kN}  \n",
       "\\end{aligned}\n",
       "\\]"
      ],
      "text/plain": [
       "<IPython.core.display.Latex object>"
      ]
     },
     "metadata": {},
     "output_type": "display_data"
    },
    {
     "data": {
      "text/latex": [
       "\\[\n",
       "\\begin{aligned}\n",
       "\\mathrm{Grid} &= G \\; \n",
       "\\\\[10pt]\n",
       "\\mathrm{AnDn}_{Col_{Total}} &= \\mathrm{Col}_{No} \\cdot \\mathrm{distance} \\cdot \\mathrm{length}_{col} \\cdot \\mathrm{width}_{col} \\cdot \\mathrm{height}_{col} \\cdot \\gamma_{c}  = 9.000 \\cdot 32.250\\ \\mathrm{m} \\cdot 500.000\\ \\mathrm{mm} \\cdot 500.000\\ \\mathrm{mm} \\cdot 3.500\\ \\mathrm{m} \\cdot 23.560\\ \\mathrm{kN/m³} &= 5.984\\ \\mathrm{MN} \\cdot \\mathrm{m}  \n",
       "\\\\[10pt]\n",
       "\\mathrm{An}_{Col_{Total}} &= \\mathrm{Col}_{No} \\cdot \\mathrm{length}_{col} \\cdot \\mathrm{width}_{col} \\cdot \\mathrm{height}_{col} \\cdot \\gamma_{c}  = 9.000 \\cdot 500.000\\ \\mathrm{mm} \\cdot 500.000\\ \\mathrm{mm} \\cdot 3.500\\ \\mathrm{m} \\cdot 23.560\\ \\mathrm{kN/m³} &= 185.535\\ \\mathrm{kN}  \n",
       "\\\\[10pt]\n",
       "\\mathrm{RnDn}_{Col_{Total}} &= \\mathrm{Col}_{No} \\cdot \\left( \\frac{ \\left( \\mathrm{length}_{col} \\right) ^{ 4 } }{ 12 } \\right) \\cdot \\mathrm{distance}  = 9.000 \\cdot \\left( \\frac{ \\left( 500.000\\ \\mathrm{mm} \\right) ^{ 4 } }{ 12 } \\right) \\cdot 32.250\\ \\mathrm{m} &= 1.512\\ \\mathrm{m}^{5}  \n",
       "\\\\[10pt]\n",
       "\\mathrm{Rn}_{Col_{Total}} &= \\mathrm{Col}_{No} \\cdot \\frac{ \\left( \\mathrm{length}_{col} \\right) ^{ 4 } }{ 12 }  = 9.000 \\cdot \\frac{ \\left( 500.000\\ \\mathrm{mm} \\right) ^{ 4 } }{ 12 } &= 46875000000.000\\ \\mathrm{mm}^{4}  \n",
       "\\\\[10pt]\n",
       "\\mathrm{AnXn}_{Beam_{Total}} &= \\Sigma \\left( \\mathrm{length}_{girder} \\cdot \\mathrm{width}_{girder} \\cdot \\mathrm{height}_{girder} \\cdot \\gamma_{c} \\cdot \\mathrm{distance} \\right)  = \\Sigma \\left( [6.000\\ \\mathrm{m},\\ 5.000\\ \\mathrm{m},\\ 6.000\\ \\mathrm{m},\\ 5.000\\ \\mathrm{m},\\ 6.000\\ \\mathrm{m},\\ 5.000\\ \\mathrm{m},\\ 6.000\\ \\mathrm{m},\\ 5.000\\ \\mathrm{m}] \\cdot 400.000\\ \\mathrm{mm} \\cdot 600.000\\ \\mathrm{mm} \\cdot 23.560\\ \\mathrm{kN/m³} \\cdot 32.250\\ \\mathrm{m} \\right) &= 8.024\\ \\mathrm{MN} \\cdot \\mathrm{m}  \n",
       "\\\\[10pt]\n",
       "\\mathrm{An}_{Beam_{Total}} &= \\Sigma \\left( \\mathrm{length}_{girder} \\cdot \\mathrm{width}_{girder} \\cdot \\mathrm{height}_{girder} \\cdot \\gamma_{c} \\right)  = \\Sigma \\left( [6.000\\ \\mathrm{m},\\ 5.000\\ \\mathrm{m},\\ 6.000\\ \\mathrm{m},\\ 5.000\\ \\mathrm{m},\\ 6.000\\ \\mathrm{m},\\ 5.000\\ \\mathrm{m},\\ 6.000\\ \\mathrm{m},\\ 5.000\\ \\mathrm{m}] \\cdot 400.000\\ \\mathrm{mm} \\cdot 600.000\\ \\mathrm{mm} \\cdot 23.560\\ \\mathrm{kN/m³} \\right) &= 248.794\\ \\mathrm{kN}  \n",
       "\\end{aligned}\n",
       "\\]"
      ],
      "text/plain": [
       "<IPython.core.display.Latex object>"
      ]
     },
     "metadata": {},
     "output_type": "display_data"
    },
    {
     "data": {
      "text/latex": [
       "\\[\n",
       "\\begin{aligned}\n",
       "\\mathrm{Grid} &= H \\; \n",
       "\\\\[10pt]\n",
       "\\mathrm{AnDn}_{Col_{Total}} &= \\mathrm{Col}_{No} \\cdot \\mathrm{distance} \\cdot \\mathrm{length}_{col} \\cdot \\mathrm{width}_{col} \\cdot \\mathrm{height}_{col} \\cdot \\gamma_{c}  = 7.000 \\cdot 38.250\\ \\mathrm{m} \\cdot 500.000\\ \\mathrm{mm} \\cdot 500.000\\ \\mathrm{mm} \\cdot 3.500\\ \\mathrm{m} \\cdot 23.560\\ \\mathrm{kN/m³} &= 5.520\\ \\mathrm{MN} \\cdot \\mathrm{m}  \n",
       "\\\\[10pt]\n",
       "\\mathrm{An}_{Col_{Total}} &= \\mathrm{Col}_{No} \\cdot \\mathrm{length}_{col} \\cdot \\mathrm{width}_{col} \\cdot \\mathrm{height}_{col} \\cdot \\gamma_{c}  = 7.000 \\cdot 500.000\\ \\mathrm{mm} \\cdot 500.000\\ \\mathrm{mm} \\cdot 3.500\\ \\mathrm{m} \\cdot 23.560\\ \\mathrm{kN/m³} &= 144.305\\ \\mathrm{kN}  \n",
       "\\\\[10pt]\n",
       "\\mathrm{RnDn}_{Col_{Total}} &= \\mathrm{Col}_{No} \\cdot \\left( \\frac{ \\left( \\mathrm{length}_{col} \\right) ^{ 4 } }{ 12 } \\right) \\cdot \\mathrm{distance}  = 7.000 \\cdot \\left( \\frac{ \\left( 500.000\\ \\mathrm{mm} \\right) ^{ 4 } }{ 12 } \\right) \\cdot 38.250\\ \\mathrm{m} &= 1.395\\ \\mathrm{m}^{5}  \n",
       "\\\\[10pt]\n",
       "\\mathrm{Rn}_{Col_{Total}} &= \\mathrm{Col}_{No} \\cdot \\frac{ \\left( \\mathrm{length}_{col} \\right) ^{ 4 } }{ 12 }  = 7.000 \\cdot \\frac{ \\left( 500.000\\ \\mathrm{mm} \\right) ^{ 4 } }{ 12 } &= 36458333333.333\\ \\mathrm{mm}^{4}  \n",
       "\\\\[10pt]\n",
       "\\mathrm{AnXn}_{Beam_{Total}} &= \\Sigma \\left( \\mathrm{length}_{girder} \\cdot \\mathrm{width}_{girder} \\cdot \\mathrm{height}_{girder} \\cdot \\gamma_{c} \\cdot \\mathrm{distance} \\right)  = \\Sigma \\left( [6.000\\ \\mathrm{m},\\ 5.000\\ \\mathrm{m},\\ 6.000\\ \\mathrm{m},\\ 5.000\\ \\mathrm{m},\\ 6.000\\ \\mathrm{m},\\ 5.000\\ \\mathrm{m},\\ nan,\\ nan] \\cdot 400.000\\ \\mathrm{mm} \\cdot 600.000\\ \\mathrm{mm} \\cdot 23.560\\ \\mathrm{kN/m³} \\cdot 38.250\\ \\mathrm{m} \\right) &= 7.137\\ \\mathrm{MN} \\cdot \\mathrm{m}  \n",
       "\\\\[10pt]\n",
       "\\mathrm{An}_{Beam_{Total}} &= \\Sigma \\left( \\mathrm{length}_{girder} \\cdot \\mathrm{width}_{girder} \\cdot \\mathrm{height}_{girder} \\cdot \\gamma_{c} \\right)  = \\Sigma \\left( [6.000\\ \\mathrm{m},\\ 5.000\\ \\mathrm{m},\\ 6.000\\ \\mathrm{m},\\ 5.000\\ \\mathrm{m},\\ 6.000\\ \\mathrm{m},\\ 5.000\\ \\mathrm{m},\\ nan,\\ nan] \\cdot 400.000\\ \\mathrm{mm} \\cdot 600.000\\ \\mathrm{mm} \\cdot 23.560\\ \\mathrm{kN/m³} \\right) &= 186.595\\ \\mathrm{kN}  \n",
       "\\end{aligned}\n",
       "\\]"
      ],
      "text/plain": [
       "<IPython.core.display.Latex object>"
      ]
     },
     "metadata": {},
     "output_type": "display_data"
    },
    {
     "data": {
      "text/latex": [
       "\\[\n",
       "\\begin{aligned}\n",
       "\\mathrm{Grid} &= I \\; \n",
       "\\\\[10pt]\n",
       "\\mathrm{AnDn}_{Col_{Total}} &= \\mathrm{Col}_{No} \\cdot \\mathrm{distance} \\cdot \\mathrm{length}_{col} \\cdot \\mathrm{width}_{col} \\cdot \\mathrm{height}_{col} \\cdot \\gamma_{c}  = 5.000 \\cdot 44.250\\ \\mathrm{m} \\cdot 500.000\\ \\mathrm{mm} \\cdot 500.000\\ \\mathrm{mm} \\cdot 3.500\\ \\mathrm{m} \\cdot 23.560\\ \\mathrm{kN/m³} &= 4.561\\ \\mathrm{MN} \\cdot \\mathrm{m}  \n",
       "\\\\[10pt]\n",
       "\\mathrm{An}_{Col_{Total}} &= \\mathrm{Col}_{No} \\cdot \\mathrm{length}_{col} \\cdot \\mathrm{width}_{col} \\cdot \\mathrm{height}_{col} \\cdot \\gamma_{c}  = 5.000 \\cdot 500.000\\ \\mathrm{mm} \\cdot 500.000\\ \\mathrm{mm} \\cdot 3.500\\ \\mathrm{m} \\cdot 23.560\\ \\mathrm{kN/m³} &= 103.075\\ \\mathrm{kN}  \n",
       "\\\\[10pt]\n",
       "\\mathrm{RnDn}_{Col_{Total}} &= \\mathrm{Col}_{No} \\cdot \\left( \\frac{ \\left( \\mathrm{length}_{col} \\right) ^{ 4 } }{ 12 } \\right) \\cdot \\mathrm{distance}  = 5.000 \\cdot \\left( \\frac{ \\left( 500.000\\ \\mathrm{mm} \\right) ^{ 4 } }{ 12 } \\right) \\cdot 44.250\\ \\mathrm{m} &= 1.152\\ \\mathrm{m}^{5}  \n",
       "\\\\[10pt]\n",
       "\\mathrm{Rn}_{Col_{Total}} &= \\mathrm{Col}_{No} \\cdot \\frac{ \\left( \\mathrm{length}_{col} \\right) ^{ 4 } }{ 12 }  = 5.000 \\cdot \\frac{ \\left( 500.000\\ \\mathrm{mm} \\right) ^{ 4 } }{ 12 } &= 26041666666.667\\ \\mathrm{mm}^{4}  \n",
       "\\\\[10pt]\n",
       "\\mathrm{AnXn}_{Beam_{Total}} &= \\Sigma \\left( \\mathrm{length}_{girder} \\cdot \\mathrm{width}_{girder} \\cdot \\mathrm{height}_{girder} \\cdot \\gamma_{c} \\cdot \\mathrm{distance} \\right)  = \\Sigma \\left( [6.000\\ \\mathrm{m},\\ 5.000\\ \\mathrm{m},\\ 6.000\\ \\mathrm{m},\\ 5.000\\ \\mathrm{m},\\ 6.000\\ \\mathrm{m},\\ 5.000\\ \\mathrm{m},\\ nan,\\ nan] \\cdot 400.000\\ \\mathrm{mm} \\cdot 600.000\\ \\mathrm{mm} \\cdot 23.560\\ \\mathrm{kN/m³} \\cdot 44.250\\ \\mathrm{m} \\right) &= 8.257\\ \\mathrm{MN} \\cdot \\mathrm{m}  \n",
       "\\\\[10pt]\n",
       "\\mathrm{An}_{Beam_{Total}} &= \\Sigma \\left( \\mathrm{length}_{girder} \\cdot \\mathrm{width}_{girder} \\cdot \\mathrm{height}_{girder} \\cdot \\gamma_{c} \\right)  = \\Sigma \\left( [6.000\\ \\mathrm{m},\\ 5.000\\ \\mathrm{m},\\ 6.000\\ \\mathrm{m},\\ 5.000\\ \\mathrm{m},\\ 6.000\\ \\mathrm{m},\\ 5.000\\ \\mathrm{m},\\ nan,\\ nan] \\cdot 400.000\\ \\mathrm{mm} \\cdot 600.000\\ \\mathrm{mm} \\cdot 23.560\\ \\mathrm{kN/m³} \\right) &= 186.595\\ \\mathrm{kN}  \n",
       "\\end{aligned}\n",
       "\\]"
      ],
      "text/plain": [
       "<IPython.core.display.Latex object>"
      ]
     },
     "metadata": {},
     "output_type": "display_data"
    },
    {
     "data": {
      "text/latex": [
       "\\[\n",
       "\\begin{aligned}\n",
       "\\mathrm{AnDn}_{SW_{Total}} &= \\Sigma \\left( \\mathrm{length} \\cdot \\mathrm{distance} \\cdot \\mathrm{width} \\cdot \\mathrm{height} \\cdot \\gamma_{c} \\right) \\\\&= \\Sigma \\left( [3.000\\ \\mathrm{m},\\ 3.000\\ \\mathrm{m}] \\cdot [20.250\\ \\mathrm{m},\\ 26.250\\ \\mathrm{m}] \\cdot 300.000\\ \\mathrm{mm} \\cdot 3.500\\ \\mathrm{m} \\cdot 23.560\\ \\mathrm{kN/m³} \\right) \\\\&= 3.451\\ \\mathrm{MN} \\cdot \\mathrm{m}  \\\\[10pt]\n",
       "\\\\[10pt]\n",
       "\\mathrm{An}_{SW_{Total}} &= \\Sigma \\left( \\mathrm{length} \\cdot \\mathrm{width} \\cdot \\mathrm{height} \\cdot \\gamma_{c} \\right) \\\\&= \\Sigma \\left( [3.000\\ \\mathrm{m},\\ 3.000\\ \\mathrm{m}] \\cdot 300.000\\ \\mathrm{mm} \\cdot 3.500\\ \\mathrm{m} \\cdot 23.560\\ \\mathrm{kN/m³} \\right) \\\\&= 148.428\\ \\mathrm{kN}  \\\\[10pt]\n",
       "\\\\[10pt]\n",
       "\\mathrm{RnDn}_{SW_{Total}} &= \\Sigma \\left( \\left( \\frac{ \\left( \\mathrm{length} \\right) ^{ 3 } \\cdot \\mathrm{width} }{ 12 } \\right) \\cdot \\mathrm{distance} \\right) \\\\&= \\Sigma \\left( \\left( \\frac{ \\left( [3.000\\ \\mathrm{m},\\ 3.000\\ \\mathrm{m}] \\right) ^{ 3 } \\cdot 300.000\\ \\mathrm{mm} }{ 12 } \\right) \\cdot [20.250\\ \\mathrm{m},\\ 26.250\\ \\mathrm{m}] \\right) \\\\&= 31.387\\ \\mathrm{m}^{5}  \\\\[10pt]\n",
       "\\\\[10pt]\n",
       "\\mathrm{Rn}_{SW_{Total}} &= \\Sigma \\left( \\frac{ \\left( \\mathrm{length} \\right) ^{ 3 } \\cdot \\mathrm{width} }{ 12 } \\right) \\\\&= \\Sigma \\left( \\frac{ \\left( [3.000\\ \\mathrm{m},\\ 3.000\\ \\mathrm{m}] \\right) ^{ 3 } \\cdot 300.000\\ \\mathrm{mm} }{ 12 } \\right) \\\\&= 1.350\\ \\mathrm{m}^{4}  \\\\[10pt]\n",
       "\\end{aligned}\n",
       "\\]"
      ],
      "text/plain": [
       "<IPython.core.display.Latex object>"
      ]
     },
     "metadata": {},
     "output_type": "display_data"
    },
    {
     "data": {
      "text/latex": [
       "\\[\n",
       "\\begin{aligned}\n",
       "\\mathrm{AnDn}_{Slab_{Total}} &= \\Sigma \\left( \\mathrm{area} \\cdot \\mathrm{distance} \\cdot \\mathrm{height} \\cdot \\gamma_{c} \\right) \\\\&= \\Sigma \\left( [1936.000\\ \\mathrm{m}^{2},\\ -220.000\\ \\mathrm{m}^{2},\\ -132.000\\ \\mathrm{m}^{2}] \\cdot [22.000\\ \\mathrm{m},\\ 10.000\\ \\mathrm{m},\\ 38.000\\ \\mathrm{m}] \\cdot 130.000\\ \\mathrm{mm} \\cdot 23.560\\ \\mathrm{kN/m³} \\right) \\\\&= 108.350\\ \\mathrm{MN} \\cdot \\mathrm{m}  \\\\[10pt]\n",
       "\\\\[10pt]\n",
       "\\mathrm{An}_{Slab_{Total}} &= \\Sigma \\left( \\mathrm{area} \\cdot \\mathrm{height} \\cdot \\gamma_{c} \\right) \\\\&= \\Sigma \\left( [1936.000\\ \\mathrm{m}^{2},\\ -220.000\\ \\mathrm{m}^{2},\\ -132.000\\ \\mathrm{m}^{2}] \\cdot 130.000\\ \\mathrm{mm} \\cdot 23.560\\ \\mathrm{kN/m³} \\right) \\\\&= 4.851\\ \\mathrm{MN}  \\\\[10pt]\n",
       "\\end{aligned}\n",
       "\\]"
      ],
      "text/plain": [
       "<IPython.core.display.Latex object>"
      ]
     },
     "metadata": {},
     "output_type": "display_data"
    },
    {
     "data": {
      "text/latex": [
       "\\[\n",
       "\\begin{aligned}\n",
       "\\mathrm{AnDn}_{Wall_{Total}} &= \\Sigma \\left( \\mathrm{length} \\cdot \\mathrm{distance} \\cdot \\mathrm{width} \\cdot \\mathrm{height} \\cdot \\gamma_{c} \\cdot 0.7 \\right) \\\\&= \\Sigma \\left( [nan,\\ nan,\\ 6.000\\ \\mathrm{m},\\ 5.000\\ \\mathrm{m},\\ 6.000\\ \\mathrm{m},\\ 5.000\\ \\mathrm{m},\\ 6.000\\ \\mathrm{m},\\ 5.000\\ \\mathrm{m},\\ 6.000\\ \\mathrm{m},\\ 5.000\\ \\mathrm{m},\\ 6.000\\ \\mathrm{m},\\ 5.000\\ \\mathrm{m},\\ 6.000\\ \\mathrm{m},\\ 5.000\\ \\mathrm{m},\\ nan,\\ nan,\\ nan,\\ nan,\\ 6.000\\ \\mathrm{m},\\ 5.000\\ \\mathrm{m},\\ 6.000\\ \\mathrm{m},\\ 5.000\\ \\mathrm{m},\\ 6.000\\ \\mathrm{m},\\ 5.000\\ \\mathrm{m},\\ 6.000\\ \\mathrm{m},\\ 5.000\\ \\mathrm{m},\\ 6.000\\ \\mathrm{m},\\ 5.000\\ \\mathrm{m},\\ 6.000\\ \\mathrm{m},\\ 5.000\\ \\mathrm{m},\\ nan,\\ nan] \\cdot [nan,\\ nan,\\ 250.000\\ \\mathrm{mm},\\ 250.000\\ \\mathrm{mm},\\ 250.000\\ \\mathrm{mm},\\ 250.000\\ \\mathrm{mm},\\ 250.000\\ \\mathrm{mm},\\ 250.000\\ \\mathrm{mm},\\ 44.250\\ \\mathrm{m},\\ 44.250\\ \\mathrm{m},\\ 44.250\\ \\mathrm{m},\\ 44.250\\ \\mathrm{m},\\ 44.250\\ \\mathrm{m},\\ 44.250\\ \\mathrm{m},\\ 44.250\\ \\mathrm{m},\\ nan,\\ nan,\\ nan,\\ 15.250\\ \\mathrm{m},\\ 15.250\\ \\mathrm{m},\\ 15.250\\ \\mathrm{m},\\ 15.250\\ \\mathrm{m},\\ 15.250\\ \\mathrm{m},\\ 15.250\\ \\mathrm{m},\\ 38.250\\ \\mathrm{m},\\ 38.250\\ \\mathrm{m},\\ 38.250\\ \\mathrm{m},\\ 38.250\\ \\mathrm{m},\\ 38.250\\ \\mathrm{m},\\ 38.250\\ \\mathrm{m},\\ 38.250\\ \\mathrm{m},\\ nan] \\cdot 150.000\\ \\mathrm{mm} \\cdot 3.500\\ \\mathrm{m} \\cdot 23.560\\ \\mathrm{kN/m³} \\cdot 0.7 \\right) \\\\&= 28.001\\ \\mathrm{MN} \\cdot \\mathrm{m}  \\\\[10pt]\n",
       "\\\\[10pt]\n",
       "\\mathrm{An}_{Wall_{Total}} &= \\Sigma \\left( \\mathrm{length} \\cdot \\mathrm{width} \\cdot \\mathrm{height} \\cdot \\gamma_{c} \\cdot 0.7 \\right) \\\\&= \\Sigma \\left( [nan,\\ nan,\\ 6.000\\ \\mathrm{m},\\ 5.000\\ \\mathrm{m},\\ 6.000\\ \\mathrm{m},\\ 5.000\\ \\mathrm{m},\\ 6.000\\ \\mathrm{m},\\ 5.000\\ \\mathrm{m},\\ 6.000\\ \\mathrm{m},\\ 5.000\\ \\mathrm{m},\\ 6.000\\ \\mathrm{m},\\ 5.000\\ \\mathrm{m},\\ 6.000\\ \\mathrm{m},\\ 5.000\\ \\mathrm{m},\\ nan,\\ nan,\\ nan,\\ nan,\\ 6.000\\ \\mathrm{m},\\ 5.000\\ \\mathrm{m},\\ 6.000\\ \\mathrm{m},\\ 5.000\\ \\mathrm{m},\\ 6.000\\ \\mathrm{m},\\ 5.000\\ \\mathrm{m},\\ 6.000\\ \\mathrm{m},\\ 5.000\\ \\mathrm{m},\\ 6.000\\ \\mathrm{m},\\ 5.000\\ \\mathrm{m},\\ 6.000\\ \\mathrm{m},\\ 5.000\\ \\mathrm{m},\\ nan,\\ nan] \\cdot 150.000\\ \\mathrm{mm} \\cdot 3.500\\ \\mathrm{m} \\cdot 23.560\\ \\mathrm{kN/m³} \\cdot 0.7 \\right) \\\\&= 1.143\\ \\mathrm{MN}  \\\\[10pt]\n",
       "\\end{aligned}\n",
       "\\]"
      ],
      "text/plain": [
       "<IPython.core.display.Latex object>"
      ]
     },
     "metadata": {},
     "output_type": "display_data"
    },
    {
     "data": {
      "text/latex": [
       "\\[\n",
       "\\begin{aligned}\n",
       "\\mathrm{AnDn}_{Col_{Total}} &= \\Sigma \\left( \\mathrm{AnDn}_{Col} \\right) \\\\&= \\Sigma \\left( [25.769\\ \\mathrm{kN} \\cdot \\mathrm{m},\\ 757.601\\ \\mathrm{kN} \\cdot \\mathrm{m},\\ 1.479\\ \\mathrm{MN} \\cdot \\mathrm{m},\\ 2.201\\ \\mathrm{MN} \\cdot \\mathrm{m},\\ 3.757\\ \\mathrm{MN} \\cdot \\mathrm{m},\\ 4.870\\ \\mathrm{MN} \\cdot \\mathrm{m},\\ 5.984\\ \\mathrm{MN} \\cdot \\mathrm{m},\\ 5.520\\ \\mathrm{MN} \\cdot \\mathrm{m},\\ 4.561\\ \\mathrm{MN} \\cdot \\mathrm{m}] \\right) \\\\&= 29.155\\ \\mathrm{MN} \\cdot \\mathrm{m}  \\\\[10pt]\n",
       "\\\\[10pt]\n",
       "\\mathrm{An}_{Col_{Total}} &= \\Sigma \\left( \\mathrm{An}_{Col} \\right) \\\\&= \\Sigma \\left( [103.075\\ \\mathrm{kN},\\ 144.305\\ \\mathrm{kN},\\ 144.305\\ \\mathrm{kN},\\ 144.305\\ \\mathrm{kN},\\ 185.535\\ \\mathrm{kN},\\ 185.535\\ \\mathrm{kN},\\ 185.535\\ \\mathrm{kN},\\ 144.305\\ \\mathrm{kN},\\ 103.075\\ \\mathrm{kN}] \\right) \\\\&= 1.340\\ \\mathrm{MN}  \\\\[10pt]\n",
       "\\\\[10pt]\n",
       "\\mathrm{RnDn}_{Col_{Total}} &= \\Sigma \\left( \\mathrm{RnDn}_{Col} \\right) \\\\&= \\Sigma \\left( [6510416666666.666\\ \\mathrm{mm}^{5},\\ 191406249999999.969\\ \\mathrm{mm}^{5},\\ 373697916666666.625\\ \\mathrm{mm}^{5},\\ 555989583333333.188\\ \\mathrm{mm}^{5},\\ 949218749999999.875\\ \\mathrm{mm}^{5},\\ 1.230\\ \\mathrm{m}^{5},\\ 1.512\\ \\mathrm{m}^{5},\\ 1.395\\ \\mathrm{m}^{5},\\ 1.152\\ \\mathrm{m}^{5}] \\right) \\\\&= 7.366\\ \\mathrm{m}^{5}  \\\\[10pt]\n",
       "\\\\[10pt]\n",
       "\\mathrm{Rn}_{Col_{Total}} &= \\Sigma \\left( \\mathrm{Rn}_{Col} \\right) \\\\&= \\Sigma \\left( [26041666666.667\\ \\mathrm{mm}^{4},\\ 36458333333.333\\ \\mathrm{mm}^{4},\\ 36458333333.333\\ \\mathrm{mm}^{4},\\ 36458333333.333\\ \\mathrm{mm}^{4},\\ 46875000000.000\\ \\mathrm{mm}^{4},\\ 46875000000.000\\ \\mathrm{mm}^{4},\\ 46875000000.000\\ \\mathrm{mm}^{4},\\ 36458333333.333\\ \\mathrm{mm}^{4},\\ 26041666666.667\\ \\mathrm{mm}^{4}] \\right) \\\\&= 338541666666.667\\ \\mathrm{mm}^{4}  \\\\[10pt]\n",
       "\\\\[10pt]\n",
       "\\mathrm{AnDn}_{Beam_{Total}} &= \\Sigma \\left( \\mathrm{AnDn}_{Beam} \\right) \\\\&= \\Sigma \\left( [46.649\\ \\mathrm{kN} \\cdot \\mathrm{m},\\ 979.625\\ \\mathrm{kN} \\cdot \\mathrm{m},\\ 1.913\\ \\mathrm{MN} \\cdot \\mathrm{m},\\ 2.846\\ \\mathrm{MN} \\cdot \\mathrm{m},\\ 5.038\\ \\mathrm{MN} \\cdot \\mathrm{m},\\ 6.531\\ \\mathrm{MN} \\cdot \\mathrm{m},\\ 8.024\\ \\mathrm{MN} \\cdot \\mathrm{m},\\ 7.137\\ \\mathrm{MN} \\cdot \\mathrm{m},\\ 8.257\\ \\mathrm{MN} \\cdot \\mathrm{m}] \\right) \\\\&= 40.771\\ \\mathrm{MN} \\cdot \\mathrm{m}  \\\\[10pt]\n",
       "\\\\[10pt]\n",
       "\\mathrm{An}_{Beam_{Total}} &= \\Sigma \\left( \\mathrm{An}_{Beam} \\right) \\\\&= \\Sigma \\left( [186.595\\ \\mathrm{kN},\\ 186.595\\ \\mathrm{kN},\\ 186.595\\ \\mathrm{kN},\\ 186.595\\ \\mathrm{kN},\\ 248.794\\ \\mathrm{kN},\\ 248.794\\ \\mathrm{kN},\\ 248.794\\ \\mathrm{kN},\\ 186.595\\ \\mathrm{kN},\\ 186.595\\ \\mathrm{kN}] \\right) \\\\&= 1.866\\ \\mathrm{MN}  \\\\[10pt]\n",
       "\\\\[10pt]\n",
       "\\mathrm{AnDn}_{SW_{Total}} &= \\Sigma \\left( \\mathrm{AnDn}_{SW} \\right) \\\\&= \\Sigma \\left( [3.451\\ \\mathrm{MN} \\cdot \\mathrm{m}] \\right) \\\\&= 3.451\\ \\mathrm{MN} \\cdot \\mathrm{m}  \\\\[10pt]\n",
       "\\\\[10pt]\n",
       "\\mathrm{An}_{SW_{Total}} &= \\Sigma \\left( \\mathrm{An}_{SW} \\right) \\\\&= \\Sigma \\left( [148.428\\ \\mathrm{kN}] \\right) \\\\&= 148.428\\ \\mathrm{kN}  \\\\[10pt]\n",
       "\\\\[10pt]\n",
       "\\mathrm{RnDn}_{SW_{Total}} &= \\Sigma \\left( \\mathrm{RnDn}_{SW_{Total}} \\right) \\\\&= \\Sigma \\left( 31.387\\ \\mathrm{m}^{5} \\right) \\\\&= 31.387\\ \\mathrm{m}^{5}  \\\\[10pt]\n",
       "\\\\[10pt]\n",
       "\\mathrm{Rn}_{SW_{Total}} &= \\Sigma \\left( \\mathrm{Rn}_{SW} \\right) \\\\&= \\Sigma \\left( [1.350\\ \\mathrm{m}^{4}] \\right) \\\\&= 1.350\\ \\mathrm{m}^{4}  \\\\[10pt]\n",
       "\\\\[10pt]\n",
       "\\mathrm{AnDn}_{Slab_{Total}} &= \\Sigma \\left( \\mathrm{AnDn}_{Slab} \\right) \\\\&= \\Sigma \\left( [108.350\\ \\mathrm{MN} \\cdot \\mathrm{m}] \\right) \\\\&= 108.350\\ \\mathrm{MN} \\cdot \\mathrm{m}  \\\\[10pt]\n",
       "\\\\[10pt]\n",
       "\\mathrm{An}_{Slab_{Total}} &= \\Sigma \\left( \\mathrm{An}_{Slab} \\right) \\\\&= \\Sigma \\left( [4.851\\ \\mathrm{MN}] \\right) \\\\&= 4.851\\ \\mathrm{MN}  \\\\[10pt]\n",
       "\\\\[10pt]\n",
       "\\mathrm{AnDn}_{Wall_{Total}} &= \\Sigma \\left( \\mathrm{AnDn}_{Wall} \\right) \\\\&= \\Sigma \\left( [28.001\\ \\mathrm{MN} \\cdot \\mathrm{m}] \\right) \\\\&= 28.001\\ \\mathrm{MN} \\cdot \\mathrm{m}  \\\\[10pt]\n",
       "\\\\[10pt]\n",
       "\\mathrm{An}_{Wall_{Total}} &= \\Sigma \\left( \\mathrm{An}_{Wall} \\right) \\\\&= \\Sigma \\left( [1.143\\ \\mathrm{MN}] \\right) \\\\&= 1.143\\ \\mathrm{MN}  \\\\[10pt]\n",
       "\\end{aligned}\n",
       "\\]"
      ],
      "text/plain": [
       "<IPython.core.display.Latex object>"
      ]
     },
     "metadata": {},
     "output_type": "display_data"
    },
    {
     "data": {
      "text/latex": [
       "\\[\n",
       "\\begin{aligned}\n",
       "\\mathrm{AnDn} &= \\Sigma \\left( \\mathrm{AnDn}_{Col_{Total}} + \\mathrm{AnDn}_{SW_{Total}} + \\mathrm{AnDn}_{Slab_{Total}} + \\mathrm{AnDn}_{Wall_{Total}} + \\mathrm{AnDn}_{Beam_{Total}} \\right) \\\\&= \\Sigma \\left( 29.155\\ \\mathrm{MN} \\cdot \\mathrm{m} + 3.451\\ \\mathrm{MN} \\cdot \\mathrm{m} + 108.350\\ \\mathrm{MN} \\cdot \\mathrm{m} + 28.001\\ \\mathrm{MN} \\cdot \\mathrm{m} + 40.771\\ \\mathrm{MN} \\cdot \\mathrm{m} \\right) \\\\&= 209.727\\ \\mathrm{MN} \\cdot \\mathrm{m}  \\\\[10pt]\n",
       "\\\\[10pt]\n",
       "\\mathrm{An} &= \\Sigma \\left( \\mathrm{An}_{Col_{Total}} + \\mathrm{An}_{SW_{Total}} + \\mathrm{An}_{Slab_{Total}} + \\mathrm{An}_{Wall_{Total}} + \\mathrm{An}_{Beam_{Total}} \\right) \\\\&= \\Sigma \\left( 1.340\\ \\mathrm{MN} + 148.428\\ \\mathrm{kN} + 4.851\\ \\mathrm{MN} + 1.143\\ \\mathrm{MN} + 1.866\\ \\mathrm{MN} \\right) \\\\&= 9.349\\ \\mathrm{MN}  \\\\[10pt]\n",
       "\\\\[10pt]\n",
       "\\mathrm{RnDn} &= \\Sigma \\left( \\mathrm{RnDn}_{Col_{Total}} + \\mathrm{RnDn}_{SW_{Total}} \\right) \\\\&= \\Sigma \\left( 7.366\\ \\mathrm{m}^{5} + 31.387\\ \\mathrm{m}^{5} \\right) \\\\&= 38.753\\ \\mathrm{m}^{5}  \\\\[10pt]\n",
       "\\\\[10pt]\n",
       "\\mathrm{Rn} &= \\Sigma \\left( \\mathrm{Rn}_{Col_{Total}} + \\mathrm{Rn}_{SW_{Total}} \\right) \\\\&= \\Sigma \\left( 338541666666.667\\ \\mathrm{mm}^{4} + 1.350\\ \\mathrm{m}^{4} \\right) \\\\&= 1.689\\ \\mathrm{m}^{4}  \\\\[10pt]\n",
       "\\\\[10pt]\n",
       "C_{m} &= \\frac{ \\Sigma \\left( \\mathrm{AnDn} \\right) }{ \\Sigma \\left( \\mathrm{An} \\right) } \\\\&= \\frac{ \\Sigma \\left( 209.727\\ \\mathrm{MN} \\cdot \\mathrm{m} \\right) }{ \\Sigma \\left( 9.349\\ \\mathrm{MN} \\right) } \\\\&= 22.434\\ \\mathrm{m}  \\\\[10pt]\n",
       "\\\\[10pt]\n",
       "C_{r} &= \\frac{ \\Sigma \\left( \\mathrm{RnDn} \\right) }{ \\Sigma \\left( \\mathrm{Rn} \\right) } \\\\&= \\frac{ \\Sigma \\left( 38.753\\ \\mathrm{m}^{5} \\right) }{ \\Sigma \\left( 1.689\\ \\mathrm{m}^{4} \\right) } \\\\&= 22.951\\ \\mathrm{m}  \\\\[10pt]\n",
       "\\end{aligned}\n",
       "\\]"
      ],
      "text/plain": [
       "<IPython.core.display.Latex object>"
      ]
     },
     "metadata": {},
     "output_type": "display_data"
    },
    {
     "data": {
      "text/markdown": [
       "## FLOOR - 4 - Y AXIS\n",
       "            "
      ],
      "text/plain": [
       "<IPython.core.display.Markdown object>"
      ]
     },
     "metadata": {},
     "output_type": "display_data"
    },
    {
     "data": {
      "text/latex": [
       "\\[\n",
       "\\begin{aligned}\n",
       "\\mathrm{Grid} &= A \\; \n",
       "\\\\[10pt]\n",
       "\\mathrm{AnDn}_{Col_{Total}} &= \\mathrm{Col}_{No} \\cdot \\mathrm{distance} \\cdot \\mathrm{length}_{col} \\cdot \\mathrm{width}_{col} \\cdot \\mathrm{height}_{col} \\cdot \\gamma_{c}  = 5.000 \\cdot 250.000\\ \\mathrm{mm} \\cdot 500.000\\ \\mathrm{mm} \\cdot 500.000\\ \\mathrm{mm} \\cdot 3.500\\ \\mathrm{m} \\cdot 23.560\\ \\mathrm{kN/m³} &= 25.769\\ \\mathrm{kN} \\cdot \\mathrm{m}  \n",
       "\\\\[10pt]\n",
       "\\mathrm{An}_{Col_{Total}} &= \\mathrm{Col}_{No} \\cdot \\mathrm{length}_{col} \\cdot \\mathrm{width}_{col} \\cdot \\mathrm{height}_{col} \\cdot \\gamma_{c}  = 5.000 \\cdot 500.000\\ \\mathrm{mm} \\cdot 500.000\\ \\mathrm{mm} \\cdot 3.500\\ \\mathrm{m} \\cdot 23.560\\ \\mathrm{kN/m³} &= 103.075\\ \\mathrm{kN}  \n",
       "\\\\[10pt]\n",
       "\\mathrm{RnDn}_{Col_{Total}} &= \\mathrm{Col}_{No} \\cdot \\left( \\frac{ \\left( \\mathrm{length}_{col} \\right) ^{ 4 } }{ 12 } \\right) \\cdot \\mathrm{distance}  = 5.000 \\cdot \\left( \\frac{ \\left( 500.000\\ \\mathrm{mm} \\right) ^{ 4 } }{ 12 } \\right) \\cdot 250.000\\ \\mathrm{mm} &= 6510416666666.666\\ \\mathrm{mm}^{5}  \n",
       "\\\\[10pt]\n",
       "\\mathrm{Rn}_{Col_{Total}} &= \\mathrm{Col}_{No} \\cdot \\frac{ \\left( \\mathrm{length}_{col} \\right) ^{ 4 } }{ 12 }  = 5.000 \\cdot \\frac{ \\left( 500.000\\ \\mathrm{mm} \\right) ^{ 4 } }{ 12 } &= 26041666666.667\\ \\mathrm{mm}^{4}  \n",
       "\\\\[10pt]\n",
       "\\mathrm{AnXn}_{Beam_{Total}} &= \\Sigma \\left( \\mathrm{length}_{girder} \\cdot \\mathrm{width}_{girder} \\cdot \\mathrm{height}_{girder} \\cdot \\gamma_{c} \\cdot \\mathrm{distance} \\right)  = \\Sigma \\left( [nan,\\ nan,\\ 6.000\\ \\mathrm{m},\\ 5.000\\ \\mathrm{m},\\ 6.000\\ \\mathrm{m},\\ 5.000\\ \\mathrm{m},\\ 6.000\\ \\mathrm{m},\\ 5.000\\ \\mathrm{m}] \\cdot 400.000\\ \\mathrm{mm} \\cdot 600.000\\ \\mathrm{mm} \\cdot 23.560\\ \\mathrm{kN/m³} \\cdot 250.000\\ \\mathrm{mm} \\right) &= 46.649\\ \\mathrm{kN} \\cdot \\mathrm{m}  \n",
       "\\\\[10pt]\n",
       "\\mathrm{An}_{Beam_{Total}} &= \\Sigma \\left( \\mathrm{length}_{girder} \\cdot \\mathrm{width}_{girder} \\cdot \\mathrm{height}_{girder} \\cdot \\gamma_{c} \\right)  = \\Sigma \\left( [nan,\\ nan,\\ 6.000\\ \\mathrm{m},\\ 5.000\\ \\mathrm{m},\\ 6.000\\ \\mathrm{m},\\ 5.000\\ \\mathrm{m},\\ 6.000\\ \\mathrm{m},\\ 5.000\\ \\mathrm{m}] \\cdot 400.000\\ \\mathrm{mm} \\cdot 600.000\\ \\mathrm{mm} \\cdot 23.560\\ \\mathrm{kN/m³} \\right) &= 186.595\\ \\mathrm{kN}  \n",
       "\\end{aligned}\n",
       "\\]"
      ],
      "text/plain": [
       "<IPython.core.display.Latex object>"
      ]
     },
     "metadata": {},
     "output_type": "display_data"
    },
    {
     "data": {
      "text/latex": [
       "\\[\n",
       "\\begin{aligned}\n",
       "\\mathrm{Grid} &= B \\; \n",
       "\\\\[10pt]\n",
       "\\mathrm{AnDn}_{Col_{Total}} &= \\mathrm{Col}_{No} \\cdot \\mathrm{distance} \\cdot \\mathrm{length}_{col} \\cdot \\mathrm{width}_{col} \\cdot \\mathrm{height}_{col} \\cdot \\gamma_{c}  = 7.000 \\cdot 5.250\\ \\mathrm{m} \\cdot 500.000\\ \\mathrm{mm} \\cdot 500.000\\ \\mathrm{mm} \\cdot 3.500\\ \\mathrm{m} \\cdot 23.560\\ \\mathrm{kN/m³} &= 757.601\\ \\mathrm{kN} \\cdot \\mathrm{m}  \n",
       "\\\\[10pt]\n",
       "\\mathrm{An}_{Col_{Total}} &= \\mathrm{Col}_{No} \\cdot \\mathrm{length}_{col} \\cdot \\mathrm{width}_{col} \\cdot \\mathrm{height}_{col} \\cdot \\gamma_{c}  = 7.000 \\cdot 500.000\\ \\mathrm{mm} \\cdot 500.000\\ \\mathrm{mm} \\cdot 3.500\\ \\mathrm{m} \\cdot 23.560\\ \\mathrm{kN/m³} &= 144.305\\ \\mathrm{kN}  \n",
       "\\\\[10pt]\n",
       "\\mathrm{RnDn}_{Col_{Total}} &= \\mathrm{Col}_{No} \\cdot \\left( \\frac{ \\left( \\mathrm{length}_{col} \\right) ^{ 4 } }{ 12 } \\right) \\cdot \\mathrm{distance}  = 7.000 \\cdot \\left( \\frac{ \\left( 500.000\\ \\mathrm{mm} \\right) ^{ 4 } }{ 12 } \\right) \\cdot 5.250\\ \\mathrm{m} &= 191406249999999.969\\ \\mathrm{mm}^{5}  \n",
       "\\\\[10pt]\n",
       "\\mathrm{Rn}_{Col_{Total}} &= \\mathrm{Col}_{No} \\cdot \\frac{ \\left( \\mathrm{length}_{col} \\right) ^{ 4 } }{ 12 }  = 7.000 \\cdot \\frac{ \\left( 500.000\\ \\mathrm{mm} \\right) ^{ 4 } }{ 12 } &= 36458333333.333\\ \\mathrm{mm}^{4}  \n",
       "\\\\[10pt]\n",
       "\\mathrm{AnXn}_{Beam_{Total}} &= \\Sigma \\left( \\mathrm{length}_{girder} \\cdot \\mathrm{width}_{girder} \\cdot \\mathrm{height}_{girder} \\cdot \\gamma_{c} \\cdot \\mathrm{distance} \\right)  = \\Sigma \\left( [nan,\\ nan,\\ 6.000\\ \\mathrm{m},\\ 5.000\\ \\mathrm{m},\\ 6.000\\ \\mathrm{m},\\ 5.000\\ \\mathrm{m},\\ 6.000\\ \\mathrm{m},\\ 5.000\\ \\mathrm{m}] \\cdot 400.000\\ \\mathrm{mm} \\cdot 600.000\\ \\mathrm{mm} \\cdot 23.560\\ \\mathrm{kN/m³} \\cdot 5.250\\ \\mathrm{m} \\right) &= 979.625\\ \\mathrm{kN} \\cdot \\mathrm{m}  \n",
       "\\\\[10pt]\n",
       "\\mathrm{An}_{Beam_{Total}} &= \\Sigma \\left( \\mathrm{length}_{girder} \\cdot \\mathrm{width}_{girder} \\cdot \\mathrm{height}_{girder} \\cdot \\gamma_{c} \\right)  = \\Sigma \\left( [nan,\\ nan,\\ 6.000\\ \\mathrm{m},\\ 5.000\\ \\mathrm{m},\\ 6.000\\ \\mathrm{m},\\ 5.000\\ \\mathrm{m},\\ 6.000\\ \\mathrm{m},\\ 5.000\\ \\mathrm{m}] \\cdot 400.000\\ \\mathrm{mm} \\cdot 600.000\\ \\mathrm{mm} \\cdot 23.560\\ \\mathrm{kN/m³} \\right) &= 186.595\\ \\mathrm{kN}  \n",
       "\\end{aligned}\n",
       "\\]"
      ],
      "text/plain": [
       "<IPython.core.display.Latex object>"
      ]
     },
     "metadata": {},
     "output_type": "display_data"
    },
    {
     "data": {
      "text/latex": [
       "\\[\n",
       "\\begin{aligned}\n",
       "\\mathrm{Grid} &= C \\; \n",
       "\\\\[10pt]\n",
       "\\mathrm{AnDn}_{Col_{Total}} &= \\mathrm{Col}_{No} \\cdot \\mathrm{distance} \\cdot \\mathrm{length}_{col} \\cdot \\mathrm{width}_{col} \\cdot \\mathrm{height}_{col} \\cdot \\gamma_{c}  = 7.000 \\cdot 10.250\\ \\mathrm{m} \\cdot 500.000\\ \\mathrm{mm} \\cdot 500.000\\ \\mathrm{mm} \\cdot 3.500\\ \\mathrm{m} \\cdot 23.560\\ \\mathrm{kN/m³} &= 1.479\\ \\mathrm{MN} \\cdot \\mathrm{m}  \n",
       "\\\\[10pt]\n",
       "\\mathrm{An}_{Col_{Total}} &= \\mathrm{Col}_{No} \\cdot \\mathrm{length}_{col} \\cdot \\mathrm{width}_{col} \\cdot \\mathrm{height}_{col} \\cdot \\gamma_{c}  = 7.000 \\cdot 500.000\\ \\mathrm{mm} \\cdot 500.000\\ \\mathrm{mm} \\cdot 3.500\\ \\mathrm{m} \\cdot 23.560\\ \\mathrm{kN/m³} &= 144.305\\ \\mathrm{kN}  \n",
       "\\\\[10pt]\n",
       "\\mathrm{RnDn}_{Col_{Total}} &= \\mathrm{Col}_{No} \\cdot \\left( \\frac{ \\left( \\mathrm{length}_{col} \\right) ^{ 4 } }{ 12 } \\right) \\cdot \\mathrm{distance}  = 7.000 \\cdot \\left( \\frac{ \\left( 500.000\\ \\mathrm{mm} \\right) ^{ 4 } }{ 12 } \\right) \\cdot 10.250\\ \\mathrm{m} &= 373697916666666.625\\ \\mathrm{mm}^{5}  \n",
       "\\\\[10pt]\n",
       "\\mathrm{Rn}_{Col_{Total}} &= \\mathrm{Col}_{No} \\cdot \\frac{ \\left( \\mathrm{length}_{col} \\right) ^{ 4 } }{ 12 }  = 7.000 \\cdot \\frac{ \\left( 500.000\\ \\mathrm{mm} \\right) ^{ 4 } }{ 12 } &= 36458333333.333\\ \\mathrm{mm}^{4}  \n",
       "\\\\[10pt]\n",
       "\\mathrm{AnXn}_{Beam_{Total}} &= \\Sigma \\left( \\mathrm{length}_{girder} \\cdot \\mathrm{width}_{girder} \\cdot \\mathrm{height}_{girder} \\cdot \\gamma_{c} \\cdot \\mathrm{distance} \\right)  = \\Sigma \\left( [nan,\\ nan,\\ 6.000\\ \\mathrm{m},\\ 5.000\\ \\mathrm{m},\\ 6.000\\ \\mathrm{m},\\ 5.000\\ \\mathrm{m},\\ 6.000\\ \\mathrm{m},\\ 5.000\\ \\mathrm{m}] \\cdot 400.000\\ \\mathrm{mm} \\cdot 600.000\\ \\mathrm{mm} \\cdot 23.560\\ \\mathrm{kN/m³} \\cdot 10.250\\ \\mathrm{m} \\right) &= 1.913\\ \\mathrm{MN} \\cdot \\mathrm{m}  \n",
       "\\\\[10pt]\n",
       "\\mathrm{An}_{Beam_{Total}} &= \\Sigma \\left( \\mathrm{length}_{girder} \\cdot \\mathrm{width}_{girder} \\cdot \\mathrm{height}_{girder} \\cdot \\gamma_{c} \\right)  = \\Sigma \\left( [nan,\\ nan,\\ 6.000\\ \\mathrm{m},\\ 5.000\\ \\mathrm{m},\\ 6.000\\ \\mathrm{m},\\ 5.000\\ \\mathrm{m},\\ 6.000\\ \\mathrm{m},\\ 5.000\\ \\mathrm{m}] \\cdot 400.000\\ \\mathrm{mm} \\cdot 600.000\\ \\mathrm{mm} \\cdot 23.560\\ \\mathrm{kN/m³} \\right) &= 186.595\\ \\mathrm{kN}  \n",
       "\\end{aligned}\n",
       "\\]"
      ],
      "text/plain": [
       "<IPython.core.display.Latex object>"
      ]
     },
     "metadata": {},
     "output_type": "display_data"
    },
    {
     "data": {
      "text/latex": [
       "\\[\n",
       "\\begin{aligned}\n",
       "\\mathrm{Grid} &= D \\; \n",
       "\\\\[10pt]\n",
       "\\mathrm{AnDn}_{Col_{Total}} &= \\mathrm{Col}_{No} \\cdot \\mathrm{distance} \\cdot \\mathrm{length}_{col} \\cdot \\mathrm{width}_{col} \\cdot \\mathrm{height}_{col} \\cdot \\gamma_{c}  = 7.000 \\cdot 15.250\\ \\mathrm{m} \\cdot 500.000\\ \\mathrm{mm} \\cdot 500.000\\ \\mathrm{mm} \\cdot 3.500\\ \\mathrm{m} \\cdot 23.560\\ \\mathrm{kN/m³} &= 2.201\\ \\mathrm{MN} \\cdot \\mathrm{m}  \n",
       "\\\\[10pt]\n",
       "\\mathrm{An}_{Col_{Total}} &= \\mathrm{Col}_{No} \\cdot \\mathrm{length}_{col} \\cdot \\mathrm{width}_{col} \\cdot \\mathrm{height}_{col} \\cdot \\gamma_{c}  = 7.000 \\cdot 500.000\\ \\mathrm{mm} \\cdot 500.000\\ \\mathrm{mm} \\cdot 3.500\\ \\mathrm{m} \\cdot 23.560\\ \\mathrm{kN/m³} &= 144.305\\ \\mathrm{kN}  \n",
       "\\\\[10pt]\n",
       "\\mathrm{RnDn}_{Col_{Total}} &= \\mathrm{Col}_{No} \\cdot \\left( \\frac{ \\left( \\mathrm{length}_{col} \\right) ^{ 4 } }{ 12 } \\right) \\cdot \\mathrm{distance}  = 7.000 \\cdot \\left( \\frac{ \\left( 500.000\\ \\mathrm{mm} \\right) ^{ 4 } }{ 12 } \\right) \\cdot 15.250\\ \\mathrm{m} &= 555989583333333.188\\ \\mathrm{mm}^{5}  \n",
       "\\\\[10pt]\n",
       "\\mathrm{Rn}_{Col_{Total}} &= \\mathrm{Col}_{No} \\cdot \\frac{ \\left( \\mathrm{length}_{col} \\right) ^{ 4 } }{ 12 }  = 7.000 \\cdot \\frac{ \\left( 500.000\\ \\mathrm{mm} \\right) ^{ 4 } }{ 12 } &= 36458333333.333\\ \\mathrm{mm}^{4}  \n",
       "\\\\[10pt]\n",
       "\\mathrm{AnXn}_{Beam_{Total}} &= \\Sigma \\left( \\mathrm{length}_{girder} \\cdot \\mathrm{width}_{girder} \\cdot \\mathrm{height}_{girder} \\cdot \\gamma_{c} \\cdot \\mathrm{distance} \\right)  = \\Sigma \\left( [nan,\\ nan,\\ 6.000\\ \\mathrm{m},\\ 5.000\\ \\mathrm{m},\\ 6.000\\ \\mathrm{m},\\ 5.000\\ \\mathrm{m},\\ 6.000\\ \\mathrm{m},\\ 5.000\\ \\mathrm{m}] \\cdot 400.000\\ \\mathrm{mm} \\cdot 600.000\\ \\mathrm{mm} \\cdot 23.560\\ \\mathrm{kN/m³} \\cdot 15.250\\ \\mathrm{m} \\right) &= 2.846\\ \\mathrm{MN} \\cdot \\mathrm{m}  \n",
       "\\\\[10pt]\n",
       "\\mathrm{An}_{Beam_{Total}} &= \\Sigma \\left( \\mathrm{length}_{girder} \\cdot \\mathrm{width}_{girder} \\cdot \\mathrm{height}_{girder} \\cdot \\gamma_{c} \\right)  = \\Sigma \\left( [nan,\\ nan,\\ 6.000\\ \\mathrm{m},\\ 5.000\\ \\mathrm{m},\\ 6.000\\ \\mathrm{m},\\ 5.000\\ \\mathrm{m},\\ 6.000\\ \\mathrm{m},\\ 5.000\\ \\mathrm{m}] \\cdot 400.000\\ \\mathrm{mm} \\cdot 600.000\\ \\mathrm{mm} \\cdot 23.560\\ \\mathrm{kN/m³} \\right) &= 186.595\\ \\mathrm{kN}  \n",
       "\\end{aligned}\n",
       "\\]"
      ],
      "text/plain": [
       "<IPython.core.display.Latex object>"
      ]
     },
     "metadata": {},
     "output_type": "display_data"
    },
    {
     "data": {
      "text/latex": [
       "\\[\n",
       "\\begin{aligned}\n",
       "\\mathrm{Grid} &= E \\; \n",
       "\\\\[10pt]\n",
       "\\mathrm{AnDn}_{Col_{Total}} &= \\mathrm{Col}_{No} \\cdot \\mathrm{distance} \\cdot \\mathrm{length}_{col} \\cdot \\mathrm{width}_{col} \\cdot \\mathrm{height}_{col} \\cdot \\gamma_{c}  = 9.000 \\cdot 20.250\\ \\mathrm{m} \\cdot 500.000\\ \\mathrm{mm} \\cdot 500.000\\ \\mathrm{mm} \\cdot 3.500\\ \\mathrm{m} \\cdot 23.560\\ \\mathrm{kN/m³} &= 3.757\\ \\mathrm{MN} \\cdot \\mathrm{m}  \n",
       "\\\\[10pt]\n",
       "\\mathrm{An}_{Col_{Total}} &= \\mathrm{Col}_{No} \\cdot \\mathrm{length}_{col} \\cdot \\mathrm{width}_{col} \\cdot \\mathrm{height}_{col} \\cdot \\gamma_{c}  = 9.000 \\cdot 500.000\\ \\mathrm{mm} \\cdot 500.000\\ \\mathrm{mm} \\cdot 3.500\\ \\mathrm{m} \\cdot 23.560\\ \\mathrm{kN/m³} &= 185.535\\ \\mathrm{kN}  \n",
       "\\\\[10pt]\n",
       "\\mathrm{RnDn}_{Col_{Total}} &= \\mathrm{Col}_{No} \\cdot \\left( \\frac{ \\left( \\mathrm{length}_{col} \\right) ^{ 4 } }{ 12 } \\right) \\cdot \\mathrm{distance}  = 9.000 \\cdot \\left( \\frac{ \\left( 500.000\\ \\mathrm{mm} \\right) ^{ 4 } }{ 12 } \\right) \\cdot 20.250\\ \\mathrm{m} &= 949218749999999.875\\ \\mathrm{mm}^{5}  \n",
       "\\\\[10pt]\n",
       "\\mathrm{Rn}_{Col_{Total}} &= \\mathrm{Col}_{No} \\cdot \\frac{ \\left( \\mathrm{length}_{col} \\right) ^{ 4 } }{ 12 }  = 9.000 \\cdot \\frac{ \\left( 500.000\\ \\mathrm{mm} \\right) ^{ 4 } }{ 12 } &= 46875000000.000\\ \\mathrm{mm}^{4}  \n",
       "\\\\[10pt]\n",
       "\\mathrm{AnXn}_{Beam_{Total}} &= \\Sigma \\left( \\mathrm{length}_{girder} \\cdot \\mathrm{width}_{girder} \\cdot \\mathrm{height}_{girder} \\cdot \\gamma_{c} \\cdot \\mathrm{distance} \\right)  = \\Sigma \\left( [6.000\\ \\mathrm{m},\\ 5.000\\ \\mathrm{m},\\ 6.000\\ \\mathrm{m},\\ 5.000\\ \\mathrm{m},\\ 6.000\\ \\mathrm{m},\\ 5.000\\ \\mathrm{m},\\ 6.000\\ \\mathrm{m},\\ 5.000\\ \\mathrm{m}] \\cdot 400.000\\ \\mathrm{mm} \\cdot 600.000\\ \\mathrm{mm} \\cdot 23.560\\ \\mathrm{kN/m³} \\cdot 20.250\\ \\mathrm{m} \\right) &= 5.038\\ \\mathrm{MN} \\cdot \\mathrm{m}  \n",
       "\\\\[10pt]\n",
       "\\mathrm{An}_{Beam_{Total}} &= \\Sigma \\left( \\mathrm{length}_{girder} \\cdot \\mathrm{width}_{girder} \\cdot \\mathrm{height}_{girder} \\cdot \\gamma_{c} \\right)  = \\Sigma \\left( [6.000\\ \\mathrm{m},\\ 5.000\\ \\mathrm{m},\\ 6.000\\ \\mathrm{m},\\ 5.000\\ \\mathrm{m},\\ 6.000\\ \\mathrm{m},\\ 5.000\\ \\mathrm{m},\\ 6.000\\ \\mathrm{m},\\ 5.000\\ \\mathrm{m}] \\cdot 400.000\\ \\mathrm{mm} \\cdot 600.000\\ \\mathrm{mm} \\cdot 23.560\\ \\mathrm{kN/m³} \\right) &= 248.794\\ \\mathrm{kN}  \n",
       "\\end{aligned}\n",
       "\\]"
      ],
      "text/plain": [
       "<IPython.core.display.Latex object>"
      ]
     },
     "metadata": {},
     "output_type": "display_data"
    },
    {
     "data": {
      "text/latex": [
       "\\[\n",
       "\\begin{aligned}\n",
       "\\mathrm{Grid} &= F \\; \n",
       "\\\\[10pt]\n",
       "\\mathrm{AnDn}_{Col_{Total}} &= \\mathrm{Col}_{No} \\cdot \\mathrm{distance} \\cdot \\mathrm{length}_{col} \\cdot \\mathrm{width}_{col} \\cdot \\mathrm{height}_{col} \\cdot \\gamma_{c}  = 9.000 \\cdot 26.250\\ \\mathrm{m} \\cdot 500.000\\ \\mathrm{mm} \\cdot 500.000\\ \\mathrm{mm} \\cdot 3.500\\ \\mathrm{m} \\cdot 23.560\\ \\mathrm{kN/m³} &= 4.870\\ \\mathrm{MN} \\cdot \\mathrm{m}  \n",
       "\\\\[10pt]\n",
       "\\mathrm{An}_{Col_{Total}} &= \\mathrm{Col}_{No} \\cdot \\mathrm{length}_{col} \\cdot \\mathrm{width}_{col} \\cdot \\mathrm{height}_{col} \\cdot \\gamma_{c}  = 9.000 \\cdot 500.000\\ \\mathrm{mm} \\cdot 500.000\\ \\mathrm{mm} \\cdot 3.500\\ \\mathrm{m} \\cdot 23.560\\ \\mathrm{kN/m³} &= 185.535\\ \\mathrm{kN}  \n",
       "\\\\[10pt]\n",
       "\\mathrm{RnDn}_{Col_{Total}} &= \\mathrm{Col}_{No} \\cdot \\left( \\frac{ \\left( \\mathrm{length}_{col} \\right) ^{ 4 } }{ 12 } \\right) \\cdot \\mathrm{distance}  = 9.000 \\cdot \\left( \\frac{ \\left( 500.000\\ \\mathrm{mm} \\right) ^{ 4 } }{ 12 } \\right) \\cdot 26.250\\ \\mathrm{m} &= 1.230\\ \\mathrm{m}^{5}  \n",
       "\\\\[10pt]\n",
       "\\mathrm{Rn}_{Col_{Total}} &= \\mathrm{Col}_{No} \\cdot \\frac{ \\left( \\mathrm{length}_{col} \\right) ^{ 4 } }{ 12 }  = 9.000 \\cdot \\frac{ \\left( 500.000\\ \\mathrm{mm} \\right) ^{ 4 } }{ 12 } &= 46875000000.000\\ \\mathrm{mm}^{4}  \n",
       "\\\\[10pt]\n",
       "\\mathrm{AnXn}_{Beam_{Total}} &= \\Sigma \\left( \\mathrm{length}_{girder} \\cdot \\mathrm{width}_{girder} \\cdot \\mathrm{height}_{girder} \\cdot \\gamma_{c} \\cdot \\mathrm{distance} \\right)  = \\Sigma \\left( [6.000\\ \\mathrm{m},\\ 5.000\\ \\mathrm{m},\\ 6.000\\ \\mathrm{m},\\ 5.000\\ \\mathrm{m},\\ 6.000\\ \\mathrm{m},\\ 5.000\\ \\mathrm{m},\\ 6.000\\ \\mathrm{m},\\ 5.000\\ \\mathrm{m}] \\cdot 400.000\\ \\mathrm{mm} \\cdot 600.000\\ \\mathrm{mm} \\cdot 23.560\\ \\mathrm{kN/m³} \\cdot 26.250\\ \\mathrm{m} \\right) &= 6.531\\ \\mathrm{MN} \\cdot \\mathrm{m}  \n",
       "\\\\[10pt]\n",
       "\\mathrm{An}_{Beam_{Total}} &= \\Sigma \\left( \\mathrm{length}_{girder} \\cdot \\mathrm{width}_{girder} \\cdot \\mathrm{height}_{girder} \\cdot \\gamma_{c} \\right)  = \\Sigma \\left( [6.000\\ \\mathrm{m},\\ 5.000\\ \\mathrm{m},\\ 6.000\\ \\mathrm{m},\\ 5.000\\ \\mathrm{m},\\ 6.000\\ \\mathrm{m},\\ 5.000\\ \\mathrm{m},\\ 6.000\\ \\mathrm{m},\\ 5.000\\ \\mathrm{m}] \\cdot 400.000\\ \\mathrm{mm} \\cdot 600.000\\ \\mathrm{mm} \\cdot 23.560\\ \\mathrm{kN/m³} \\right) &= 248.794\\ \\mathrm{kN}  \n",
       "\\end{aligned}\n",
       "\\]"
      ],
      "text/plain": [
       "<IPython.core.display.Latex object>"
      ]
     },
     "metadata": {},
     "output_type": "display_data"
    },
    {
     "data": {
      "text/latex": [
       "\\[\n",
       "\\begin{aligned}\n",
       "\\mathrm{Grid} &= G \\; \n",
       "\\\\[10pt]\n",
       "\\mathrm{AnDn}_{Col_{Total}} &= \\mathrm{Col}_{No} \\cdot \\mathrm{distance} \\cdot \\mathrm{length}_{col} \\cdot \\mathrm{width}_{col} \\cdot \\mathrm{height}_{col} \\cdot \\gamma_{c}  = 9.000 \\cdot 32.250\\ \\mathrm{m} \\cdot 500.000\\ \\mathrm{mm} \\cdot 500.000\\ \\mathrm{mm} \\cdot 3.500\\ \\mathrm{m} \\cdot 23.560\\ \\mathrm{kN/m³} &= 5.984\\ \\mathrm{MN} \\cdot \\mathrm{m}  \n",
       "\\\\[10pt]\n",
       "\\mathrm{An}_{Col_{Total}} &= \\mathrm{Col}_{No} \\cdot \\mathrm{length}_{col} \\cdot \\mathrm{width}_{col} \\cdot \\mathrm{height}_{col} \\cdot \\gamma_{c}  = 9.000 \\cdot 500.000\\ \\mathrm{mm} \\cdot 500.000\\ \\mathrm{mm} \\cdot 3.500\\ \\mathrm{m} \\cdot 23.560\\ \\mathrm{kN/m³} &= 185.535\\ \\mathrm{kN}  \n",
       "\\\\[10pt]\n",
       "\\mathrm{RnDn}_{Col_{Total}} &= \\mathrm{Col}_{No} \\cdot \\left( \\frac{ \\left( \\mathrm{length}_{col} \\right) ^{ 4 } }{ 12 } \\right) \\cdot \\mathrm{distance}  = 9.000 \\cdot \\left( \\frac{ \\left( 500.000\\ \\mathrm{mm} \\right) ^{ 4 } }{ 12 } \\right) \\cdot 32.250\\ \\mathrm{m} &= 1.512\\ \\mathrm{m}^{5}  \n",
       "\\\\[10pt]\n",
       "\\mathrm{Rn}_{Col_{Total}} &= \\mathrm{Col}_{No} \\cdot \\frac{ \\left( \\mathrm{length}_{col} \\right) ^{ 4 } }{ 12 }  = 9.000 \\cdot \\frac{ \\left( 500.000\\ \\mathrm{mm} \\right) ^{ 4 } }{ 12 } &= 46875000000.000\\ \\mathrm{mm}^{4}  \n",
       "\\\\[10pt]\n",
       "\\mathrm{AnXn}_{Beam_{Total}} &= \\Sigma \\left( \\mathrm{length}_{girder} \\cdot \\mathrm{width}_{girder} \\cdot \\mathrm{height}_{girder} \\cdot \\gamma_{c} \\cdot \\mathrm{distance} \\right)  = \\Sigma \\left( [6.000\\ \\mathrm{m},\\ 5.000\\ \\mathrm{m},\\ 6.000\\ \\mathrm{m},\\ 5.000\\ \\mathrm{m},\\ 6.000\\ \\mathrm{m},\\ 5.000\\ \\mathrm{m},\\ 6.000\\ \\mathrm{m},\\ 5.000\\ \\mathrm{m}] \\cdot 400.000\\ \\mathrm{mm} \\cdot 600.000\\ \\mathrm{mm} \\cdot 23.560\\ \\mathrm{kN/m³} \\cdot 32.250\\ \\mathrm{m} \\right) &= 8.024\\ \\mathrm{MN} \\cdot \\mathrm{m}  \n",
       "\\\\[10pt]\n",
       "\\mathrm{An}_{Beam_{Total}} &= \\Sigma \\left( \\mathrm{length}_{girder} \\cdot \\mathrm{width}_{girder} \\cdot \\mathrm{height}_{girder} \\cdot \\gamma_{c} \\right)  = \\Sigma \\left( [6.000\\ \\mathrm{m},\\ 5.000\\ \\mathrm{m},\\ 6.000\\ \\mathrm{m},\\ 5.000\\ \\mathrm{m},\\ 6.000\\ \\mathrm{m},\\ 5.000\\ \\mathrm{m},\\ 6.000\\ \\mathrm{m},\\ 5.000\\ \\mathrm{m}] \\cdot 400.000\\ \\mathrm{mm} \\cdot 600.000\\ \\mathrm{mm} \\cdot 23.560\\ \\mathrm{kN/m³} \\right) &= 248.794\\ \\mathrm{kN}  \n",
       "\\end{aligned}\n",
       "\\]"
      ],
      "text/plain": [
       "<IPython.core.display.Latex object>"
      ]
     },
     "metadata": {},
     "output_type": "display_data"
    },
    {
     "data": {
      "text/latex": [
       "\\[\n",
       "\\begin{aligned}\n",
       "\\mathrm{Grid} &= H \\; \n",
       "\\\\[10pt]\n",
       "\\mathrm{AnDn}_{Col_{Total}} &= \\mathrm{Col}_{No} \\cdot \\mathrm{distance} \\cdot \\mathrm{length}_{col} \\cdot \\mathrm{width}_{col} \\cdot \\mathrm{height}_{col} \\cdot \\gamma_{c}  = 7.000 \\cdot 38.250\\ \\mathrm{m} \\cdot 500.000\\ \\mathrm{mm} \\cdot 500.000\\ \\mathrm{mm} \\cdot 3.500\\ \\mathrm{m} \\cdot 23.560\\ \\mathrm{kN/m³} &= 5.520\\ \\mathrm{MN} \\cdot \\mathrm{m}  \n",
       "\\\\[10pt]\n",
       "\\mathrm{An}_{Col_{Total}} &= \\mathrm{Col}_{No} \\cdot \\mathrm{length}_{col} \\cdot \\mathrm{width}_{col} \\cdot \\mathrm{height}_{col} \\cdot \\gamma_{c}  = 7.000 \\cdot 500.000\\ \\mathrm{mm} \\cdot 500.000\\ \\mathrm{mm} \\cdot 3.500\\ \\mathrm{m} \\cdot 23.560\\ \\mathrm{kN/m³} &= 144.305\\ \\mathrm{kN}  \n",
       "\\\\[10pt]\n",
       "\\mathrm{RnDn}_{Col_{Total}} &= \\mathrm{Col}_{No} \\cdot \\left( \\frac{ \\left( \\mathrm{length}_{col} \\right) ^{ 4 } }{ 12 } \\right) \\cdot \\mathrm{distance}  = 7.000 \\cdot \\left( \\frac{ \\left( 500.000\\ \\mathrm{mm} \\right) ^{ 4 } }{ 12 } \\right) \\cdot 38.250\\ \\mathrm{m} &= 1.395\\ \\mathrm{m}^{5}  \n",
       "\\\\[10pt]\n",
       "\\mathrm{Rn}_{Col_{Total}} &= \\mathrm{Col}_{No} \\cdot \\frac{ \\left( \\mathrm{length}_{col} \\right) ^{ 4 } }{ 12 }  = 7.000 \\cdot \\frac{ \\left( 500.000\\ \\mathrm{mm} \\right) ^{ 4 } }{ 12 } &= 36458333333.333\\ \\mathrm{mm}^{4}  \n",
       "\\\\[10pt]\n",
       "\\mathrm{AnXn}_{Beam_{Total}} &= \\Sigma \\left( \\mathrm{length}_{girder} \\cdot \\mathrm{width}_{girder} \\cdot \\mathrm{height}_{girder} \\cdot \\gamma_{c} \\cdot \\mathrm{distance} \\right)  = \\Sigma \\left( [6.000\\ \\mathrm{m},\\ 5.000\\ \\mathrm{m},\\ 6.000\\ \\mathrm{m},\\ 5.000\\ \\mathrm{m},\\ 6.000\\ \\mathrm{m},\\ 5.000\\ \\mathrm{m},\\ nan,\\ nan] \\cdot 400.000\\ \\mathrm{mm} \\cdot 600.000\\ \\mathrm{mm} \\cdot 23.560\\ \\mathrm{kN/m³} \\cdot 38.250\\ \\mathrm{m} \\right) &= 7.137\\ \\mathrm{MN} \\cdot \\mathrm{m}  \n",
       "\\\\[10pt]\n",
       "\\mathrm{An}_{Beam_{Total}} &= \\Sigma \\left( \\mathrm{length}_{girder} \\cdot \\mathrm{width}_{girder} \\cdot \\mathrm{height}_{girder} \\cdot \\gamma_{c} \\right)  = \\Sigma \\left( [6.000\\ \\mathrm{m},\\ 5.000\\ \\mathrm{m},\\ 6.000\\ \\mathrm{m},\\ 5.000\\ \\mathrm{m},\\ 6.000\\ \\mathrm{m},\\ 5.000\\ \\mathrm{m},\\ nan,\\ nan] \\cdot 400.000\\ \\mathrm{mm} \\cdot 600.000\\ \\mathrm{mm} \\cdot 23.560\\ \\mathrm{kN/m³} \\right) &= 186.595\\ \\mathrm{kN}  \n",
       "\\end{aligned}\n",
       "\\]"
      ],
      "text/plain": [
       "<IPython.core.display.Latex object>"
      ]
     },
     "metadata": {},
     "output_type": "display_data"
    },
    {
     "data": {
      "text/latex": [
       "\\[\n",
       "\\begin{aligned}\n",
       "\\mathrm{Grid} &= I \\; \n",
       "\\\\[10pt]\n",
       "\\mathrm{AnDn}_{Col_{Total}} &= \\mathrm{Col}_{No} \\cdot \\mathrm{distance} \\cdot \\mathrm{length}_{col} \\cdot \\mathrm{width}_{col} \\cdot \\mathrm{height}_{col} \\cdot \\gamma_{c}  = 5.000 \\cdot 44.250\\ \\mathrm{m} \\cdot 500.000\\ \\mathrm{mm} \\cdot 500.000\\ \\mathrm{mm} \\cdot 3.500\\ \\mathrm{m} \\cdot 23.560\\ \\mathrm{kN/m³} &= 4.561\\ \\mathrm{MN} \\cdot \\mathrm{m}  \n",
       "\\\\[10pt]\n",
       "\\mathrm{An}_{Col_{Total}} &= \\mathrm{Col}_{No} \\cdot \\mathrm{length}_{col} \\cdot \\mathrm{width}_{col} \\cdot \\mathrm{height}_{col} \\cdot \\gamma_{c}  = 5.000 \\cdot 500.000\\ \\mathrm{mm} \\cdot 500.000\\ \\mathrm{mm} \\cdot 3.500\\ \\mathrm{m} \\cdot 23.560\\ \\mathrm{kN/m³} &= 103.075\\ \\mathrm{kN}  \n",
       "\\\\[10pt]\n",
       "\\mathrm{RnDn}_{Col_{Total}} &= \\mathrm{Col}_{No} \\cdot \\left( \\frac{ \\left( \\mathrm{length}_{col} \\right) ^{ 4 } }{ 12 } \\right) \\cdot \\mathrm{distance}  = 5.000 \\cdot \\left( \\frac{ \\left( 500.000\\ \\mathrm{mm} \\right) ^{ 4 } }{ 12 } \\right) \\cdot 44.250\\ \\mathrm{m} &= 1.152\\ \\mathrm{m}^{5}  \n",
       "\\\\[10pt]\n",
       "\\mathrm{Rn}_{Col_{Total}} &= \\mathrm{Col}_{No} \\cdot \\frac{ \\left( \\mathrm{length}_{col} \\right) ^{ 4 } }{ 12 }  = 5.000 \\cdot \\frac{ \\left( 500.000\\ \\mathrm{mm} \\right) ^{ 4 } }{ 12 } &= 26041666666.667\\ \\mathrm{mm}^{4}  \n",
       "\\\\[10pt]\n",
       "\\mathrm{AnXn}_{Beam_{Total}} &= \\Sigma \\left( \\mathrm{length}_{girder} \\cdot \\mathrm{width}_{girder} \\cdot \\mathrm{height}_{girder} \\cdot \\gamma_{c} \\cdot \\mathrm{distance} \\right)  = \\Sigma \\left( [6.000\\ \\mathrm{m},\\ 5.000\\ \\mathrm{m},\\ 6.000\\ \\mathrm{m},\\ 5.000\\ \\mathrm{m},\\ 6.000\\ \\mathrm{m},\\ 5.000\\ \\mathrm{m},\\ nan,\\ nan] \\cdot 400.000\\ \\mathrm{mm} \\cdot 600.000\\ \\mathrm{mm} \\cdot 23.560\\ \\mathrm{kN/m³} \\cdot 44.250\\ \\mathrm{m} \\right) &= 8.257\\ \\mathrm{MN} \\cdot \\mathrm{m}  \n",
       "\\\\[10pt]\n",
       "\\mathrm{An}_{Beam_{Total}} &= \\Sigma \\left( \\mathrm{length}_{girder} \\cdot \\mathrm{width}_{girder} \\cdot \\mathrm{height}_{girder} \\cdot \\gamma_{c} \\right)  = \\Sigma \\left( [6.000\\ \\mathrm{m},\\ 5.000\\ \\mathrm{m},\\ 6.000\\ \\mathrm{m},\\ 5.000\\ \\mathrm{m},\\ 6.000\\ \\mathrm{m},\\ 5.000\\ \\mathrm{m},\\ nan,\\ nan] \\cdot 400.000\\ \\mathrm{mm} \\cdot 600.000\\ \\mathrm{mm} \\cdot 23.560\\ \\mathrm{kN/m³} \\right) &= 186.595\\ \\mathrm{kN}  \n",
       "\\end{aligned}\n",
       "\\]"
      ],
      "text/plain": [
       "<IPython.core.display.Latex object>"
      ]
     },
     "metadata": {},
     "output_type": "display_data"
    },
    {
     "data": {
      "text/latex": [
       "\\[\n",
       "\\begin{aligned}\n",
       "\\mathrm{AnDn}_{SW_{Total}} &= \\Sigma \\left( \\mathrm{length} \\cdot \\mathrm{distance} \\cdot \\mathrm{width} \\cdot \\mathrm{height} \\cdot \\gamma_{c} \\right) \\\\&= \\Sigma \\left( [3.000\\ \\mathrm{m},\\ 3.000\\ \\mathrm{m}] \\cdot [20.250\\ \\mathrm{m},\\ 26.250\\ \\mathrm{m}] \\cdot 300.000\\ \\mathrm{mm} \\cdot 3.500\\ \\mathrm{m} \\cdot 23.560\\ \\mathrm{kN/m³} \\right) \\\\&= 3.451\\ \\mathrm{MN} \\cdot \\mathrm{m}  \\\\[10pt]\n",
       "\\\\[10pt]\n",
       "\\mathrm{An}_{SW_{Total}} &= \\Sigma \\left( \\mathrm{length} \\cdot \\mathrm{width} \\cdot \\mathrm{height} \\cdot \\gamma_{c} \\right) \\\\&= \\Sigma \\left( [3.000\\ \\mathrm{m},\\ 3.000\\ \\mathrm{m}] \\cdot 300.000\\ \\mathrm{mm} \\cdot 3.500\\ \\mathrm{m} \\cdot 23.560\\ \\mathrm{kN/m³} \\right) \\\\&= 148.428\\ \\mathrm{kN}  \\\\[10pt]\n",
       "\\\\[10pt]\n",
       "\\mathrm{RnDn}_{SW_{Total}} &= \\Sigma \\left( \\left( \\frac{ \\left( \\mathrm{length} \\right) ^{ 3 } \\cdot \\mathrm{width} }{ 12 } \\right) \\cdot \\mathrm{distance} \\right) \\\\&= \\Sigma \\left( \\left( \\frac{ \\left( [3.000\\ \\mathrm{m},\\ 3.000\\ \\mathrm{m}] \\right) ^{ 3 } \\cdot 300.000\\ \\mathrm{mm} }{ 12 } \\right) \\cdot [20.250\\ \\mathrm{m},\\ 26.250\\ \\mathrm{m}] \\right) \\\\&= 31.387\\ \\mathrm{m}^{5}  \\\\[10pt]\n",
       "\\\\[10pt]\n",
       "\\mathrm{Rn}_{SW_{Total}} &= \\Sigma \\left( \\frac{ \\left( \\mathrm{length} \\right) ^{ 3 } \\cdot \\mathrm{width} }{ 12 } \\right) \\\\&= \\Sigma \\left( \\frac{ \\left( [3.000\\ \\mathrm{m},\\ 3.000\\ \\mathrm{m}] \\right) ^{ 3 } \\cdot 300.000\\ \\mathrm{mm} }{ 12 } \\right) \\\\&= 1.350\\ \\mathrm{m}^{4}  \\\\[10pt]\n",
       "\\end{aligned}\n",
       "\\]"
      ],
      "text/plain": [
       "<IPython.core.display.Latex object>"
      ]
     },
     "metadata": {},
     "output_type": "display_data"
    },
    {
     "data": {
      "text/latex": [
       "\\[\n",
       "\\begin{aligned}\n",
       "\\mathrm{AnDn}_{Slab_{Total}} &= \\Sigma \\left( \\mathrm{area} \\cdot \\mathrm{distance} \\cdot \\mathrm{height} \\cdot \\gamma_{c} \\right) \\\\&= \\Sigma \\left( [1936.000\\ \\mathrm{m}^{2},\\ -220.000\\ \\mathrm{m}^{2},\\ -132.000\\ \\mathrm{m}^{2}] \\cdot [22.000\\ \\mathrm{m},\\ 10.000\\ \\mathrm{m},\\ 38.000\\ \\mathrm{m}] \\cdot 130.000\\ \\mathrm{mm} \\cdot 23.560\\ \\mathrm{kN/m³} \\right) \\\\&= 108.350\\ \\mathrm{MN} \\cdot \\mathrm{m}  \\\\[10pt]\n",
       "\\\\[10pt]\n",
       "\\mathrm{An}_{Slab_{Total}} &= \\Sigma \\left( \\mathrm{area} \\cdot \\mathrm{height} \\cdot \\gamma_{c} \\right) \\\\&= \\Sigma \\left( [1936.000\\ \\mathrm{m}^{2},\\ -220.000\\ \\mathrm{m}^{2},\\ -132.000\\ \\mathrm{m}^{2}] \\cdot 130.000\\ \\mathrm{mm} \\cdot 23.560\\ \\mathrm{kN/m³} \\right) \\\\&= 4.851\\ \\mathrm{MN}  \\\\[10pt]\n",
       "\\end{aligned}\n",
       "\\]"
      ],
      "text/plain": [
       "<IPython.core.display.Latex object>"
      ]
     },
     "metadata": {},
     "output_type": "display_data"
    },
    {
     "data": {
      "text/latex": [
       "\\[\n",
       "\\begin{aligned}\n",
       "\\mathrm{AnDn}_{Wall_{Total}} &= \\Sigma \\left( \\mathrm{length} \\cdot \\mathrm{distance} \\cdot \\mathrm{width} \\cdot \\mathrm{height} \\cdot \\gamma_{c} \\cdot 0.7 \\right) \\\\&= \\Sigma \\left( [nan,\\ nan,\\ 6.000\\ \\mathrm{m},\\ 5.000\\ \\mathrm{m},\\ 6.000\\ \\mathrm{m},\\ 5.000\\ \\mathrm{m},\\ 6.000\\ \\mathrm{m},\\ 5.000\\ \\mathrm{m},\\ 6.000\\ \\mathrm{m},\\ 5.000\\ \\mathrm{m},\\ 6.000\\ \\mathrm{m},\\ 5.000\\ \\mathrm{m},\\ 6.000\\ \\mathrm{m},\\ 5.000\\ \\mathrm{m},\\ nan,\\ nan,\\ nan,\\ nan,\\ 6.000\\ \\mathrm{m},\\ 5.000\\ \\mathrm{m},\\ 6.000\\ \\mathrm{m},\\ 5.000\\ \\mathrm{m},\\ 6.000\\ \\mathrm{m},\\ 5.000\\ \\mathrm{m},\\ 6.000\\ \\mathrm{m},\\ 5.000\\ \\mathrm{m},\\ 6.000\\ \\mathrm{m},\\ 5.000\\ \\mathrm{m},\\ 6.000\\ \\mathrm{m},\\ 5.000\\ \\mathrm{m},\\ nan,\\ nan] \\cdot [nan,\\ nan,\\ 250.000\\ \\mathrm{mm},\\ 250.000\\ \\mathrm{mm},\\ 250.000\\ \\mathrm{mm},\\ 250.000\\ \\mathrm{mm},\\ 250.000\\ \\mathrm{mm},\\ 250.000\\ \\mathrm{mm},\\ 44.250\\ \\mathrm{m},\\ 44.250\\ \\mathrm{m},\\ 44.250\\ \\mathrm{m},\\ 44.250\\ \\mathrm{m},\\ 44.250\\ \\mathrm{m},\\ 44.250\\ \\mathrm{m},\\ 44.250\\ \\mathrm{m},\\ nan,\\ nan,\\ nan,\\ 15.250\\ \\mathrm{m},\\ 15.250\\ \\mathrm{m},\\ 15.250\\ \\mathrm{m},\\ 15.250\\ \\mathrm{m},\\ 15.250\\ \\mathrm{m},\\ 15.250\\ \\mathrm{m},\\ 38.250\\ \\mathrm{m},\\ 38.250\\ \\mathrm{m},\\ 38.250\\ \\mathrm{m},\\ 38.250\\ \\mathrm{m},\\ 38.250\\ \\mathrm{m},\\ 38.250\\ \\mathrm{m},\\ 38.250\\ \\mathrm{m},\\ nan] \\cdot 150.000\\ \\mathrm{mm} \\cdot 3.500\\ \\mathrm{m} \\cdot 23.560\\ \\mathrm{kN/m³} \\cdot 0.7 \\right) \\\\&= 28.001\\ \\mathrm{MN} \\cdot \\mathrm{m}  \\\\[10pt]\n",
       "\\\\[10pt]\n",
       "\\mathrm{An}_{Wall_{Total}} &= \\Sigma \\left( \\mathrm{length} \\cdot \\mathrm{width} \\cdot \\mathrm{height} \\cdot \\gamma_{c} \\cdot 0.7 \\right) \\\\&= \\Sigma \\left( [nan,\\ nan,\\ 6.000\\ \\mathrm{m},\\ 5.000\\ \\mathrm{m},\\ 6.000\\ \\mathrm{m},\\ 5.000\\ \\mathrm{m},\\ 6.000\\ \\mathrm{m},\\ 5.000\\ \\mathrm{m},\\ 6.000\\ \\mathrm{m},\\ 5.000\\ \\mathrm{m},\\ 6.000\\ \\mathrm{m},\\ 5.000\\ \\mathrm{m},\\ 6.000\\ \\mathrm{m},\\ 5.000\\ \\mathrm{m},\\ nan,\\ nan,\\ nan,\\ nan,\\ 6.000\\ \\mathrm{m},\\ 5.000\\ \\mathrm{m},\\ 6.000\\ \\mathrm{m},\\ 5.000\\ \\mathrm{m},\\ 6.000\\ \\mathrm{m},\\ 5.000\\ \\mathrm{m},\\ 6.000\\ \\mathrm{m},\\ 5.000\\ \\mathrm{m},\\ 6.000\\ \\mathrm{m},\\ 5.000\\ \\mathrm{m},\\ 6.000\\ \\mathrm{m},\\ 5.000\\ \\mathrm{m},\\ nan,\\ nan] \\cdot 150.000\\ \\mathrm{mm} \\cdot 3.500\\ \\mathrm{m} \\cdot 23.560\\ \\mathrm{kN/m³} \\cdot 0.7 \\right) \\\\&= 1.143\\ \\mathrm{MN}  \\\\[10pt]\n",
       "\\end{aligned}\n",
       "\\]"
      ],
      "text/plain": [
       "<IPython.core.display.Latex object>"
      ]
     },
     "metadata": {},
     "output_type": "display_data"
    },
    {
     "data": {
      "text/latex": [
       "\\[\n",
       "\\begin{aligned}\n",
       "\\mathrm{AnDn}_{Col_{Total}} &= \\Sigma \\left( \\mathrm{AnDn}_{Col} \\right) \\\\&= \\Sigma \\left( [25.769\\ \\mathrm{kN} \\cdot \\mathrm{m},\\ 757.601\\ \\mathrm{kN} \\cdot \\mathrm{m},\\ 1.479\\ \\mathrm{MN} \\cdot \\mathrm{m},\\ 2.201\\ \\mathrm{MN} \\cdot \\mathrm{m},\\ 3.757\\ \\mathrm{MN} \\cdot \\mathrm{m},\\ 4.870\\ \\mathrm{MN} \\cdot \\mathrm{m},\\ 5.984\\ \\mathrm{MN} \\cdot \\mathrm{m},\\ 5.520\\ \\mathrm{MN} \\cdot \\mathrm{m},\\ 4.561\\ \\mathrm{MN} \\cdot \\mathrm{m}] \\right) \\\\&= 29.155\\ \\mathrm{MN} \\cdot \\mathrm{m}  \\\\[10pt]\n",
       "\\\\[10pt]\n",
       "\\mathrm{An}_{Col_{Total}} &= \\Sigma \\left( \\mathrm{An}_{Col} \\right) \\\\&= \\Sigma \\left( [103.075\\ \\mathrm{kN},\\ 144.305\\ \\mathrm{kN},\\ 144.305\\ \\mathrm{kN},\\ 144.305\\ \\mathrm{kN},\\ 185.535\\ \\mathrm{kN},\\ 185.535\\ \\mathrm{kN},\\ 185.535\\ \\mathrm{kN},\\ 144.305\\ \\mathrm{kN},\\ 103.075\\ \\mathrm{kN}] \\right) \\\\&= 1.340\\ \\mathrm{MN}  \\\\[10pt]\n",
       "\\\\[10pt]\n",
       "\\mathrm{RnDn}_{Col_{Total}} &= \\Sigma \\left( \\mathrm{RnDn}_{Col} \\right) \\\\&= \\Sigma \\left( [6510416666666.666\\ \\mathrm{mm}^{5},\\ 191406249999999.969\\ \\mathrm{mm}^{5},\\ 373697916666666.625\\ \\mathrm{mm}^{5},\\ 555989583333333.188\\ \\mathrm{mm}^{5},\\ 949218749999999.875\\ \\mathrm{mm}^{5},\\ 1.230\\ \\mathrm{m}^{5},\\ 1.512\\ \\mathrm{m}^{5},\\ 1.395\\ \\mathrm{m}^{5},\\ 1.152\\ \\mathrm{m}^{5}] \\right) \\\\&= 7.366\\ \\mathrm{m}^{5}  \\\\[10pt]\n",
       "\\\\[10pt]\n",
       "\\mathrm{Rn}_{Col_{Total}} &= \\Sigma \\left( \\mathrm{Rn}_{Col} \\right) \\\\&= \\Sigma \\left( [26041666666.667\\ \\mathrm{mm}^{4},\\ 36458333333.333\\ \\mathrm{mm}^{4},\\ 36458333333.333\\ \\mathrm{mm}^{4},\\ 36458333333.333\\ \\mathrm{mm}^{4},\\ 46875000000.000\\ \\mathrm{mm}^{4},\\ 46875000000.000\\ \\mathrm{mm}^{4},\\ 46875000000.000\\ \\mathrm{mm}^{4},\\ 36458333333.333\\ \\mathrm{mm}^{4},\\ 26041666666.667\\ \\mathrm{mm}^{4}] \\right) \\\\&= 338541666666.667\\ \\mathrm{mm}^{4}  \\\\[10pt]\n",
       "\\\\[10pt]\n",
       "\\mathrm{AnDn}_{Beam_{Total}} &= \\Sigma \\left( \\mathrm{AnDn}_{Beam} \\right) \\\\&= \\Sigma \\left( [46.649\\ \\mathrm{kN} \\cdot \\mathrm{m},\\ 979.625\\ \\mathrm{kN} \\cdot \\mathrm{m},\\ 1.913\\ \\mathrm{MN} \\cdot \\mathrm{m},\\ 2.846\\ \\mathrm{MN} \\cdot \\mathrm{m},\\ 5.038\\ \\mathrm{MN} \\cdot \\mathrm{m},\\ 6.531\\ \\mathrm{MN} \\cdot \\mathrm{m},\\ 8.024\\ \\mathrm{MN} \\cdot \\mathrm{m},\\ 7.137\\ \\mathrm{MN} \\cdot \\mathrm{m},\\ 8.257\\ \\mathrm{MN} \\cdot \\mathrm{m}] \\right) \\\\&= 40.771\\ \\mathrm{MN} \\cdot \\mathrm{m}  \\\\[10pt]\n",
       "\\\\[10pt]\n",
       "\\mathrm{An}_{Beam_{Total}} &= \\Sigma \\left( \\mathrm{An}_{Beam} \\right) \\\\&= \\Sigma \\left( [186.595\\ \\mathrm{kN},\\ 186.595\\ \\mathrm{kN},\\ 186.595\\ \\mathrm{kN},\\ 186.595\\ \\mathrm{kN},\\ 248.794\\ \\mathrm{kN},\\ 248.794\\ \\mathrm{kN},\\ 248.794\\ \\mathrm{kN},\\ 186.595\\ \\mathrm{kN},\\ 186.595\\ \\mathrm{kN}] \\right) \\\\&= 1.866\\ \\mathrm{MN}  \\\\[10pt]\n",
       "\\\\[10pt]\n",
       "\\mathrm{AnDn}_{SW_{Total}} &= \\Sigma \\left( \\mathrm{AnDn}_{SW} \\right) \\\\&= \\Sigma \\left( [3.451\\ \\mathrm{MN} \\cdot \\mathrm{m}] \\right) \\\\&= 3.451\\ \\mathrm{MN} \\cdot \\mathrm{m}  \\\\[10pt]\n",
       "\\\\[10pt]\n",
       "\\mathrm{An}_{SW_{Total}} &= \\Sigma \\left( \\mathrm{An}_{SW} \\right) \\\\&= \\Sigma \\left( [148.428\\ \\mathrm{kN}] \\right) \\\\&= 148.428\\ \\mathrm{kN}  \\\\[10pt]\n",
       "\\\\[10pt]\n",
       "\\mathrm{RnDn}_{SW_{Total}} &= \\Sigma \\left( \\mathrm{RnDn}_{SW_{Total}} \\right) \\\\&= \\Sigma \\left( 31.387\\ \\mathrm{m}^{5} \\right) \\\\&= 31.387\\ \\mathrm{m}^{5}  \\\\[10pt]\n",
       "\\\\[10pt]\n",
       "\\mathrm{Rn}_{SW_{Total}} &= \\Sigma \\left( \\mathrm{Rn}_{SW} \\right) \\\\&= \\Sigma \\left( [1.350\\ \\mathrm{m}^{4}] \\right) \\\\&= 1.350\\ \\mathrm{m}^{4}  \\\\[10pt]\n",
       "\\\\[10pt]\n",
       "\\mathrm{AnDn}_{Slab_{Total}} &= \\Sigma \\left( \\mathrm{AnDn}_{Slab} \\right) \\\\&= \\Sigma \\left( [108.350\\ \\mathrm{MN} \\cdot \\mathrm{m}] \\right) \\\\&= 108.350\\ \\mathrm{MN} \\cdot \\mathrm{m}  \\\\[10pt]\n",
       "\\\\[10pt]\n",
       "\\mathrm{An}_{Slab_{Total}} &= \\Sigma \\left( \\mathrm{An}_{Slab} \\right) \\\\&= \\Sigma \\left( [4.851\\ \\mathrm{MN}] \\right) \\\\&= 4.851\\ \\mathrm{MN}  \\\\[10pt]\n",
       "\\\\[10pt]\n",
       "\\mathrm{AnDn}_{Wall_{Total}} &= \\Sigma \\left( \\mathrm{AnDn}_{Wall} \\right) \\\\&= \\Sigma \\left( [28.001\\ \\mathrm{MN} \\cdot \\mathrm{m}] \\right) \\\\&= 28.001\\ \\mathrm{MN} \\cdot \\mathrm{m}  \\\\[10pt]\n",
       "\\\\[10pt]\n",
       "\\mathrm{An}_{Wall_{Total}} &= \\Sigma \\left( \\mathrm{An}_{Wall} \\right) \\\\&= \\Sigma \\left( [1.143\\ \\mathrm{MN}] \\right) \\\\&= 1.143\\ \\mathrm{MN}  \\\\[10pt]\n",
       "\\end{aligned}\n",
       "\\]"
      ],
      "text/plain": [
       "<IPython.core.display.Latex object>"
      ]
     },
     "metadata": {},
     "output_type": "display_data"
    },
    {
     "data": {
      "text/latex": [
       "\\[\n",
       "\\begin{aligned}\n",
       "\\mathrm{AnDn} &= \\Sigma \\left( \\mathrm{AnDn}_{Col_{Total}} + \\mathrm{AnDn}_{SW_{Total}} + \\mathrm{AnDn}_{Slab_{Total}} + \\mathrm{AnDn}_{Wall_{Total}} + \\mathrm{AnDn}_{Beam_{Total}} \\right) \\\\&= \\Sigma \\left( 29.155\\ \\mathrm{MN} \\cdot \\mathrm{m} + 3.451\\ \\mathrm{MN} \\cdot \\mathrm{m} + 108.350\\ \\mathrm{MN} \\cdot \\mathrm{m} + 28.001\\ \\mathrm{MN} \\cdot \\mathrm{m} + 40.771\\ \\mathrm{MN} \\cdot \\mathrm{m} \\right) \\\\&= 209.727\\ \\mathrm{MN} \\cdot \\mathrm{m}  \\\\[10pt]\n",
       "\\\\[10pt]\n",
       "\\mathrm{An} &= \\Sigma \\left( \\mathrm{An}_{Col_{Total}} + \\mathrm{An}_{SW_{Total}} + \\mathrm{An}_{Slab_{Total}} + \\mathrm{An}_{Wall_{Total}} + \\mathrm{An}_{Beam_{Total}} \\right) \\\\&= \\Sigma \\left( 1.340\\ \\mathrm{MN} + 148.428\\ \\mathrm{kN} + 4.851\\ \\mathrm{MN} + 1.143\\ \\mathrm{MN} + 1.866\\ \\mathrm{MN} \\right) \\\\&= 9.349\\ \\mathrm{MN}  \\\\[10pt]\n",
       "\\\\[10pt]\n",
       "\\mathrm{RnDn} &= \\Sigma \\left( \\mathrm{RnDn}_{Col_{Total}} + \\mathrm{RnDn}_{SW_{Total}} \\right) \\\\&= \\Sigma \\left( 7.366\\ \\mathrm{m}^{5} + 31.387\\ \\mathrm{m}^{5} \\right) \\\\&= 38.753\\ \\mathrm{m}^{5}  \\\\[10pt]\n",
       "\\\\[10pt]\n",
       "\\mathrm{Rn} &= \\Sigma \\left( \\mathrm{Rn}_{Col_{Total}} + \\mathrm{Rn}_{SW_{Total}} \\right) \\\\&= \\Sigma \\left( 338541666666.667\\ \\mathrm{mm}^{4} + 1.350\\ \\mathrm{m}^{4} \\right) \\\\&= 1.689\\ \\mathrm{m}^{4}  \\\\[10pt]\n",
       "\\\\[10pt]\n",
       "C_{m} &= \\frac{ \\Sigma \\left( \\mathrm{AnDn} \\right) }{ \\Sigma \\left( \\mathrm{An} \\right) } \\\\&= \\frac{ \\Sigma \\left( 209.727\\ \\mathrm{MN} \\cdot \\mathrm{m} \\right) }{ \\Sigma \\left( 9.349\\ \\mathrm{MN} \\right) } \\\\&= 22.434\\ \\mathrm{m}  \\\\[10pt]\n",
       "\\\\[10pt]\n",
       "C_{r} &= \\frac{ \\Sigma \\left( \\mathrm{RnDn} \\right) }{ \\Sigma \\left( \\mathrm{Rn} \\right) } \\\\&= \\frac{ \\Sigma \\left( 38.753\\ \\mathrm{m}^{5} \\right) }{ \\Sigma \\left( 1.689\\ \\mathrm{m}^{4} \\right) } \\\\&= 22.951\\ \\mathrm{m}  \\\\[10pt]\n",
       "\\end{aligned}\n",
       "\\]"
      ],
      "text/plain": [
       "<IPython.core.display.Latex object>"
      ]
     },
     "metadata": {},
     "output_type": "display_data"
    },
    {
     "data": {
      "text/markdown": [
       "## FLOOR - Roof Deck - Y AXIS\n",
       "            "
      ],
      "text/plain": [
       "<IPython.core.display.Markdown object>"
      ]
     },
     "metadata": {},
     "output_type": "display_data"
    },
    {
     "data": {
      "text/latex": [
       "\\[\n",
       "\\begin{aligned}\n",
       "\\mathrm{Grid} &= A \\; \n",
       "\\\\[10pt]\n",
       "\\mathrm{AnDn}_{Col_{Total}} &= \\mathrm{Col}_{No} \\cdot \\mathrm{distance} \\cdot \\mathrm{length}_{col} \\cdot \\mathrm{width}_{col} \\cdot \\mathrm{height}_{col} \\cdot \\gamma_{c}  = 5.000 \\cdot 250.000\\ \\mathrm{mm} \\cdot 500.000\\ \\mathrm{mm} \\cdot 500.000\\ \\mathrm{mm} \\cdot 1.750\\ \\mathrm{m} \\cdot 23.560\\ \\mathrm{kN/m³} &= 12.884\\ \\mathrm{kN} \\cdot \\mathrm{m}  \n",
       "\\\\[10pt]\n",
       "\\mathrm{An}_{Col_{Total}} &= \\mathrm{Col}_{No} \\cdot \\mathrm{length}_{col} \\cdot \\mathrm{width}_{col} \\cdot \\mathrm{height}_{col} \\cdot \\gamma_{c}  = 5.000 \\cdot 500.000\\ \\mathrm{mm} \\cdot 500.000\\ \\mathrm{mm} \\cdot 1.750\\ \\mathrm{m} \\cdot 23.560\\ \\mathrm{kN/m³} &= 51.538\\ \\mathrm{kN}  \n",
       "\\\\[10pt]\n",
       "\\mathrm{RnDn}_{Col_{Total}} &= \\mathrm{Col}_{No} \\cdot \\left( \\frac{ \\left( \\mathrm{length}_{col} \\right) ^{ 4 } }{ 12 } \\right) \\cdot \\mathrm{distance}  = 5.000 \\cdot \\left( \\frac{ \\left( 500.000\\ \\mathrm{mm} \\right) ^{ 4 } }{ 12 } \\right) \\cdot 250.000\\ \\mathrm{mm} &= 6510416666666.666\\ \\mathrm{mm}^{5}  \n",
       "\\\\[10pt]\n",
       "\\mathrm{Rn}_{Col_{Total}} &= \\mathrm{Col}_{No} \\cdot \\frac{ \\left( \\mathrm{length}_{col} \\right) ^{ 4 } }{ 12 }  = 5.000 \\cdot \\frac{ \\left( 500.000\\ \\mathrm{mm} \\right) ^{ 4 } }{ 12 } &= 26041666666.667\\ \\mathrm{mm}^{4}  \n",
       "\\\\[10pt]\n",
       "\\mathrm{AnXn}_{Beam_{Total}} &= \\Sigma \\left( \\mathrm{length}_{girder} \\cdot \\mathrm{width}_{girder} \\cdot \\mathrm{height}_{girder} \\cdot \\gamma_{c} \\cdot \\mathrm{distance} \\right)  = \\Sigma \\left( [nan,\\ nan,\\ 6.000\\ \\mathrm{m},\\ 5.000\\ \\mathrm{m},\\ 6.000\\ \\mathrm{m},\\ 5.000\\ \\mathrm{m},\\ 6.000\\ \\mathrm{m},\\ 5.000\\ \\mathrm{m}] \\cdot 400.000\\ \\mathrm{mm} \\cdot 600.000\\ \\mathrm{mm} \\cdot 23.560\\ \\mathrm{kN/m³} \\cdot 250.000\\ \\mathrm{mm} \\right) &= 46.649\\ \\mathrm{kN} \\cdot \\mathrm{m}  \n",
       "\\\\[10pt]\n",
       "\\mathrm{An}_{Beam_{Total}} &= \\Sigma \\left( \\mathrm{length}_{girder} \\cdot \\mathrm{width}_{girder} \\cdot \\mathrm{height}_{girder} \\cdot \\gamma_{c} \\right)  = \\Sigma \\left( [nan,\\ nan,\\ 6.000\\ \\mathrm{m},\\ 5.000\\ \\mathrm{m},\\ 6.000\\ \\mathrm{m},\\ 5.000\\ \\mathrm{m},\\ 6.000\\ \\mathrm{m},\\ 5.000\\ \\mathrm{m}] \\cdot 400.000\\ \\mathrm{mm} \\cdot 600.000\\ \\mathrm{mm} \\cdot 23.560\\ \\mathrm{kN/m³} \\right) &= 186.595\\ \\mathrm{kN}  \n",
       "\\end{aligned}\n",
       "\\]"
      ],
      "text/plain": [
       "<IPython.core.display.Latex object>"
      ]
     },
     "metadata": {},
     "output_type": "display_data"
    },
    {
     "data": {
      "text/latex": [
       "\\[\n",
       "\\begin{aligned}\n",
       "\\mathrm{Grid} &= B \\; \n",
       "\\\\[10pt]\n",
       "\\mathrm{AnDn}_{Col_{Total}} &= \\mathrm{Col}_{No} \\cdot \\mathrm{distance} \\cdot \\mathrm{length}_{col} \\cdot \\mathrm{width}_{col} \\cdot \\mathrm{height}_{col} \\cdot \\gamma_{c}  = 7.000 \\cdot 5.250\\ \\mathrm{m} \\cdot 500.000\\ \\mathrm{mm} \\cdot 500.000\\ \\mathrm{mm} \\cdot 1.750\\ \\mathrm{m} \\cdot 23.560\\ \\mathrm{kN/m³} &= 378.801\\ \\mathrm{kN} \\cdot \\mathrm{m}  \n",
       "\\\\[10pt]\n",
       "\\mathrm{An}_{Col_{Total}} &= \\mathrm{Col}_{No} \\cdot \\mathrm{length}_{col} \\cdot \\mathrm{width}_{col} \\cdot \\mathrm{height}_{col} \\cdot \\gamma_{c}  = 7.000 \\cdot 500.000\\ \\mathrm{mm} \\cdot 500.000\\ \\mathrm{mm} \\cdot 1.750\\ \\mathrm{m} \\cdot 23.560\\ \\mathrm{kN/m³} &= 72.153\\ \\mathrm{kN}  \n",
       "\\\\[10pt]\n",
       "\\mathrm{RnDn}_{Col_{Total}} &= \\mathrm{Col}_{No} \\cdot \\left( \\frac{ \\left( \\mathrm{length}_{col} \\right) ^{ 4 } }{ 12 } \\right) \\cdot \\mathrm{distance}  = 7.000 \\cdot \\left( \\frac{ \\left( 500.000\\ \\mathrm{mm} \\right) ^{ 4 } }{ 12 } \\right) \\cdot 5.250\\ \\mathrm{m} &= 191406249999999.969\\ \\mathrm{mm}^{5}  \n",
       "\\\\[10pt]\n",
       "\\mathrm{Rn}_{Col_{Total}} &= \\mathrm{Col}_{No} \\cdot \\frac{ \\left( \\mathrm{length}_{col} \\right) ^{ 4 } }{ 12 }  = 7.000 \\cdot \\frac{ \\left( 500.000\\ \\mathrm{mm} \\right) ^{ 4 } }{ 12 } &= 36458333333.333\\ \\mathrm{mm}^{4}  \n",
       "\\\\[10pt]\n",
       "\\mathrm{AnXn}_{Beam_{Total}} &= \\Sigma \\left( \\mathrm{length}_{girder} \\cdot \\mathrm{width}_{girder} \\cdot \\mathrm{height}_{girder} \\cdot \\gamma_{c} \\cdot \\mathrm{distance} \\right)  = \\Sigma \\left( [nan,\\ nan,\\ 6.000\\ \\mathrm{m},\\ 5.000\\ \\mathrm{m},\\ 6.000\\ \\mathrm{m},\\ 5.000\\ \\mathrm{m},\\ 6.000\\ \\mathrm{m},\\ 5.000\\ \\mathrm{m}] \\cdot 400.000\\ \\mathrm{mm} \\cdot 600.000\\ \\mathrm{mm} \\cdot 23.560\\ \\mathrm{kN/m³} \\cdot 5.250\\ \\mathrm{m} \\right) &= 979.625\\ \\mathrm{kN} \\cdot \\mathrm{m}  \n",
       "\\\\[10pt]\n",
       "\\mathrm{An}_{Beam_{Total}} &= \\Sigma \\left( \\mathrm{length}_{girder} \\cdot \\mathrm{width}_{girder} \\cdot \\mathrm{height}_{girder} \\cdot \\gamma_{c} \\right)  = \\Sigma \\left( [nan,\\ nan,\\ 6.000\\ \\mathrm{m},\\ 5.000\\ \\mathrm{m},\\ 6.000\\ \\mathrm{m},\\ 5.000\\ \\mathrm{m},\\ 6.000\\ \\mathrm{m},\\ 5.000\\ \\mathrm{m}] \\cdot 400.000\\ \\mathrm{mm} \\cdot 600.000\\ \\mathrm{mm} \\cdot 23.560\\ \\mathrm{kN/m³} \\right) &= 186.595\\ \\mathrm{kN}  \n",
       "\\end{aligned}\n",
       "\\]"
      ],
      "text/plain": [
       "<IPython.core.display.Latex object>"
      ]
     },
     "metadata": {},
     "output_type": "display_data"
    },
    {
     "data": {
      "text/latex": [
       "\\[\n",
       "\\begin{aligned}\n",
       "\\mathrm{Grid} &= C \\; \n",
       "\\\\[10pt]\n",
       "\\mathrm{AnDn}_{Col_{Total}} &= \\mathrm{Col}_{No} \\cdot \\mathrm{distance} \\cdot \\mathrm{length}_{col} \\cdot \\mathrm{width}_{col} \\cdot \\mathrm{height}_{col} \\cdot \\gamma_{c}  = 7.000 \\cdot 10.250\\ \\mathrm{m} \\cdot 500.000\\ \\mathrm{mm} \\cdot 500.000\\ \\mathrm{mm} \\cdot 1.750\\ \\mathrm{m} \\cdot 23.560\\ \\mathrm{kN/m³} &= 739.563\\ \\mathrm{kN} \\cdot \\mathrm{m}  \n",
       "\\\\[10pt]\n",
       "\\mathrm{An}_{Col_{Total}} &= \\mathrm{Col}_{No} \\cdot \\mathrm{length}_{col} \\cdot \\mathrm{width}_{col} \\cdot \\mathrm{height}_{col} \\cdot \\gamma_{c}  = 7.000 \\cdot 500.000\\ \\mathrm{mm} \\cdot 500.000\\ \\mathrm{mm} \\cdot 1.750\\ \\mathrm{m} \\cdot 23.560\\ \\mathrm{kN/m³} &= 72.153\\ \\mathrm{kN}  \n",
       "\\\\[10pt]\n",
       "\\mathrm{RnDn}_{Col_{Total}} &= \\mathrm{Col}_{No} \\cdot \\left( \\frac{ \\left( \\mathrm{length}_{col} \\right) ^{ 4 } }{ 12 } \\right) \\cdot \\mathrm{distance}  = 7.000 \\cdot \\left( \\frac{ \\left( 500.000\\ \\mathrm{mm} \\right) ^{ 4 } }{ 12 } \\right) \\cdot 10.250\\ \\mathrm{m} &= 373697916666666.625\\ \\mathrm{mm}^{5}  \n",
       "\\\\[10pt]\n",
       "\\mathrm{Rn}_{Col_{Total}} &= \\mathrm{Col}_{No} \\cdot \\frac{ \\left( \\mathrm{length}_{col} \\right) ^{ 4 } }{ 12 }  = 7.000 \\cdot \\frac{ \\left( 500.000\\ \\mathrm{mm} \\right) ^{ 4 } }{ 12 } &= 36458333333.333\\ \\mathrm{mm}^{4}  \n",
       "\\\\[10pt]\n",
       "\\mathrm{AnXn}_{Beam_{Total}} &= \\Sigma \\left( \\mathrm{length}_{girder} \\cdot \\mathrm{width}_{girder} \\cdot \\mathrm{height}_{girder} \\cdot \\gamma_{c} \\cdot \\mathrm{distance} \\right)  = \\Sigma \\left( [nan,\\ nan,\\ 6.000\\ \\mathrm{m},\\ 5.000\\ \\mathrm{m},\\ 6.000\\ \\mathrm{m},\\ 5.000\\ \\mathrm{m},\\ 6.000\\ \\mathrm{m},\\ 5.000\\ \\mathrm{m}] \\cdot 400.000\\ \\mathrm{mm} \\cdot 600.000\\ \\mathrm{mm} \\cdot 23.560\\ \\mathrm{kN/m³} \\cdot 10.250\\ \\mathrm{m} \\right) &= 1.913\\ \\mathrm{MN} \\cdot \\mathrm{m}  \n",
       "\\\\[10pt]\n",
       "\\mathrm{An}_{Beam_{Total}} &= \\Sigma \\left( \\mathrm{length}_{girder} \\cdot \\mathrm{width}_{girder} \\cdot \\mathrm{height}_{girder} \\cdot \\gamma_{c} \\right)  = \\Sigma \\left( [nan,\\ nan,\\ 6.000\\ \\mathrm{m},\\ 5.000\\ \\mathrm{m},\\ 6.000\\ \\mathrm{m},\\ 5.000\\ \\mathrm{m},\\ 6.000\\ \\mathrm{m},\\ 5.000\\ \\mathrm{m}] \\cdot 400.000\\ \\mathrm{mm} \\cdot 600.000\\ \\mathrm{mm} \\cdot 23.560\\ \\mathrm{kN/m³} \\right) &= 186.595\\ \\mathrm{kN}  \n",
       "\\end{aligned}\n",
       "\\]"
      ],
      "text/plain": [
       "<IPython.core.display.Latex object>"
      ]
     },
     "metadata": {},
     "output_type": "display_data"
    },
    {
     "data": {
      "text/latex": [
       "\\[\n",
       "\\begin{aligned}\n",
       "\\mathrm{Grid} &= D \\; \n",
       "\\\\[10pt]\n",
       "\\mathrm{AnDn}_{Col_{Total}} &= \\mathrm{Col}_{No} \\cdot \\mathrm{distance} \\cdot \\mathrm{length}_{col} \\cdot \\mathrm{width}_{col} \\cdot \\mathrm{height}_{col} \\cdot \\gamma_{c}  = 7.000 \\cdot 15.250\\ \\mathrm{m} \\cdot 500.000\\ \\mathrm{mm} \\cdot 500.000\\ \\mathrm{mm} \\cdot 1.750\\ \\mathrm{m} \\cdot 23.560\\ \\mathrm{kN/m³} &= 1.100\\ \\mathrm{MN} \\cdot \\mathrm{m}  \n",
       "\\\\[10pt]\n",
       "\\mathrm{An}_{Col_{Total}} &= \\mathrm{Col}_{No} \\cdot \\mathrm{length}_{col} \\cdot \\mathrm{width}_{col} \\cdot \\mathrm{height}_{col} \\cdot \\gamma_{c}  = 7.000 \\cdot 500.000\\ \\mathrm{mm} \\cdot 500.000\\ \\mathrm{mm} \\cdot 1.750\\ \\mathrm{m} \\cdot 23.560\\ \\mathrm{kN/m³} &= 72.153\\ \\mathrm{kN}  \n",
       "\\\\[10pt]\n",
       "\\mathrm{RnDn}_{Col_{Total}} &= \\mathrm{Col}_{No} \\cdot \\left( \\frac{ \\left( \\mathrm{length}_{col} \\right) ^{ 4 } }{ 12 } \\right) \\cdot \\mathrm{distance}  = 7.000 \\cdot \\left( \\frac{ \\left( 500.000\\ \\mathrm{mm} \\right) ^{ 4 } }{ 12 } \\right) \\cdot 15.250\\ \\mathrm{m} &= 555989583333333.188\\ \\mathrm{mm}^{5}  \n",
       "\\\\[10pt]\n",
       "\\mathrm{Rn}_{Col_{Total}} &= \\mathrm{Col}_{No} \\cdot \\frac{ \\left( \\mathrm{length}_{col} \\right) ^{ 4 } }{ 12 }  = 7.000 \\cdot \\frac{ \\left( 500.000\\ \\mathrm{mm} \\right) ^{ 4 } }{ 12 } &= 36458333333.333\\ \\mathrm{mm}^{4}  \n",
       "\\\\[10pt]\n",
       "\\mathrm{AnXn}_{Beam_{Total}} &= \\Sigma \\left( \\mathrm{length}_{girder} \\cdot \\mathrm{width}_{girder} \\cdot \\mathrm{height}_{girder} \\cdot \\gamma_{c} \\cdot \\mathrm{distance} \\right)  = \\Sigma \\left( [nan,\\ nan,\\ 6.000\\ \\mathrm{m},\\ 5.000\\ \\mathrm{m},\\ 6.000\\ \\mathrm{m},\\ 5.000\\ \\mathrm{m},\\ 6.000\\ \\mathrm{m},\\ 5.000\\ \\mathrm{m}] \\cdot 400.000\\ \\mathrm{mm} \\cdot 600.000\\ \\mathrm{mm} \\cdot 23.560\\ \\mathrm{kN/m³} \\cdot 15.250\\ \\mathrm{m} \\right) &= 2.846\\ \\mathrm{MN} \\cdot \\mathrm{m}  \n",
       "\\\\[10pt]\n",
       "\\mathrm{An}_{Beam_{Total}} &= \\Sigma \\left( \\mathrm{length}_{girder} \\cdot \\mathrm{width}_{girder} \\cdot \\mathrm{height}_{girder} \\cdot \\gamma_{c} \\right)  = \\Sigma \\left( [nan,\\ nan,\\ 6.000\\ \\mathrm{m},\\ 5.000\\ \\mathrm{m},\\ 6.000\\ \\mathrm{m},\\ 5.000\\ \\mathrm{m},\\ 6.000\\ \\mathrm{m},\\ 5.000\\ \\mathrm{m}] \\cdot 400.000\\ \\mathrm{mm} \\cdot 600.000\\ \\mathrm{mm} \\cdot 23.560\\ \\mathrm{kN/m³} \\right) &= 186.595\\ \\mathrm{kN}  \n",
       "\\end{aligned}\n",
       "\\]"
      ],
      "text/plain": [
       "<IPython.core.display.Latex object>"
      ]
     },
     "metadata": {},
     "output_type": "display_data"
    },
    {
     "data": {
      "text/latex": [
       "\\[\n",
       "\\begin{aligned}\n",
       "\\mathrm{Grid} &= E \\; \n",
       "\\\\[10pt]\n",
       "\\mathrm{AnDn}_{Col_{Total}} &= \\mathrm{Col}_{No} \\cdot \\mathrm{distance} \\cdot \\mathrm{length}_{col} \\cdot \\mathrm{width}_{col} \\cdot \\mathrm{height}_{col} \\cdot \\gamma_{c}  = 9.000 \\cdot 20.250\\ \\mathrm{m} \\cdot 500.000\\ \\mathrm{mm} \\cdot 500.000\\ \\mathrm{mm} \\cdot 1.750\\ \\mathrm{m} \\cdot 23.560\\ \\mathrm{kN/m³} &= 1.879\\ \\mathrm{MN} \\cdot \\mathrm{m}  \n",
       "\\\\[10pt]\n",
       "\\mathrm{An}_{Col_{Total}} &= \\mathrm{Col}_{No} \\cdot \\mathrm{length}_{col} \\cdot \\mathrm{width}_{col} \\cdot \\mathrm{height}_{col} \\cdot \\gamma_{c}  = 9.000 \\cdot 500.000\\ \\mathrm{mm} \\cdot 500.000\\ \\mathrm{mm} \\cdot 1.750\\ \\mathrm{m} \\cdot 23.560\\ \\mathrm{kN/m³} &= 92.767\\ \\mathrm{kN}  \n",
       "\\\\[10pt]\n",
       "\\mathrm{RnDn}_{Col_{Total}} &= \\mathrm{Col}_{No} \\cdot \\left( \\frac{ \\left( \\mathrm{length}_{col} \\right) ^{ 4 } }{ 12 } \\right) \\cdot \\mathrm{distance}  = 9.000 \\cdot \\left( \\frac{ \\left( 500.000\\ \\mathrm{mm} \\right) ^{ 4 } }{ 12 } \\right) \\cdot 20.250\\ \\mathrm{m} &= 949218749999999.875\\ \\mathrm{mm}^{5}  \n",
       "\\\\[10pt]\n",
       "\\mathrm{Rn}_{Col_{Total}} &= \\mathrm{Col}_{No} \\cdot \\frac{ \\left( \\mathrm{length}_{col} \\right) ^{ 4 } }{ 12 }  = 9.000 \\cdot \\frac{ \\left( 500.000\\ \\mathrm{mm} \\right) ^{ 4 } }{ 12 } &= 46875000000.000\\ \\mathrm{mm}^{4}  \n",
       "\\\\[10pt]\n",
       "\\mathrm{AnXn}_{Beam_{Total}} &= \\Sigma \\left( \\mathrm{length}_{girder} \\cdot \\mathrm{width}_{girder} \\cdot \\mathrm{height}_{girder} \\cdot \\gamma_{c} \\cdot \\mathrm{distance} \\right)  = \\Sigma \\left( [6.000\\ \\mathrm{m},\\ 5.000\\ \\mathrm{m},\\ 6.000\\ \\mathrm{m},\\ 5.000\\ \\mathrm{m},\\ 6.000\\ \\mathrm{m},\\ 5.000\\ \\mathrm{m},\\ 6.000\\ \\mathrm{m},\\ 5.000\\ \\mathrm{m}] \\cdot 400.000\\ \\mathrm{mm} \\cdot 600.000\\ \\mathrm{mm} \\cdot 23.560\\ \\mathrm{kN/m³} \\cdot 20.250\\ \\mathrm{m} \\right) &= 5.038\\ \\mathrm{MN} \\cdot \\mathrm{m}  \n",
       "\\\\[10pt]\n",
       "\\mathrm{An}_{Beam_{Total}} &= \\Sigma \\left( \\mathrm{length}_{girder} \\cdot \\mathrm{width}_{girder} \\cdot \\mathrm{height}_{girder} \\cdot \\gamma_{c} \\right)  = \\Sigma \\left( [6.000\\ \\mathrm{m},\\ 5.000\\ \\mathrm{m},\\ 6.000\\ \\mathrm{m},\\ 5.000\\ \\mathrm{m},\\ 6.000\\ \\mathrm{m},\\ 5.000\\ \\mathrm{m},\\ 6.000\\ \\mathrm{m},\\ 5.000\\ \\mathrm{m}] \\cdot 400.000\\ \\mathrm{mm} \\cdot 600.000\\ \\mathrm{mm} \\cdot 23.560\\ \\mathrm{kN/m³} \\right) &= 248.794\\ \\mathrm{kN}  \n",
       "\\end{aligned}\n",
       "\\]"
      ],
      "text/plain": [
       "<IPython.core.display.Latex object>"
      ]
     },
     "metadata": {},
     "output_type": "display_data"
    },
    {
     "data": {
      "text/latex": [
       "\\[\n",
       "\\begin{aligned}\n",
       "\\mathrm{Grid} &= F \\; \n",
       "\\\\[10pt]\n",
       "\\mathrm{AnDn}_{Col_{Total}} &= \\mathrm{Col}_{No} \\cdot \\mathrm{distance} \\cdot \\mathrm{length}_{col} \\cdot \\mathrm{width}_{col} \\cdot \\mathrm{height}_{col} \\cdot \\gamma_{c}  = 9.000 \\cdot 26.250\\ \\mathrm{m} \\cdot 500.000\\ \\mathrm{mm} \\cdot 500.000\\ \\mathrm{mm} \\cdot 1.750\\ \\mathrm{m} \\cdot 23.560\\ \\mathrm{kN/m³} &= 2.435\\ \\mathrm{MN} \\cdot \\mathrm{m}  \n",
       "\\\\[10pt]\n",
       "\\mathrm{An}_{Col_{Total}} &= \\mathrm{Col}_{No} \\cdot \\mathrm{length}_{col} \\cdot \\mathrm{width}_{col} \\cdot \\mathrm{height}_{col} \\cdot \\gamma_{c}  = 9.000 \\cdot 500.000\\ \\mathrm{mm} \\cdot 500.000\\ \\mathrm{mm} \\cdot 1.750\\ \\mathrm{m} \\cdot 23.560\\ \\mathrm{kN/m³} &= 92.767\\ \\mathrm{kN}  \n",
       "\\\\[10pt]\n",
       "\\mathrm{RnDn}_{Col_{Total}} &= \\mathrm{Col}_{No} \\cdot \\left( \\frac{ \\left( \\mathrm{length}_{col} \\right) ^{ 4 } }{ 12 } \\right) \\cdot \\mathrm{distance}  = 9.000 \\cdot \\left( \\frac{ \\left( 500.000\\ \\mathrm{mm} \\right) ^{ 4 } }{ 12 } \\right) \\cdot 26.250\\ \\mathrm{m} &= 1.230\\ \\mathrm{m}^{5}  \n",
       "\\\\[10pt]\n",
       "\\mathrm{Rn}_{Col_{Total}} &= \\mathrm{Col}_{No} \\cdot \\frac{ \\left( \\mathrm{length}_{col} \\right) ^{ 4 } }{ 12 }  = 9.000 \\cdot \\frac{ \\left( 500.000\\ \\mathrm{mm} \\right) ^{ 4 } }{ 12 } &= 46875000000.000\\ \\mathrm{mm}^{4}  \n",
       "\\\\[10pt]\n",
       "\\mathrm{AnXn}_{Beam_{Total}} &= \\Sigma \\left( \\mathrm{length}_{girder} \\cdot \\mathrm{width}_{girder} \\cdot \\mathrm{height}_{girder} \\cdot \\gamma_{c} \\cdot \\mathrm{distance} \\right)  = \\Sigma \\left( [6.000\\ \\mathrm{m},\\ 5.000\\ \\mathrm{m},\\ 6.000\\ \\mathrm{m},\\ 5.000\\ \\mathrm{m},\\ 6.000\\ \\mathrm{m},\\ 5.000\\ \\mathrm{m},\\ 6.000\\ \\mathrm{m},\\ 5.000\\ \\mathrm{m}] \\cdot 400.000\\ \\mathrm{mm} \\cdot 600.000\\ \\mathrm{mm} \\cdot 23.560\\ \\mathrm{kN/m³} \\cdot 26.250\\ \\mathrm{m} \\right) &= 6.531\\ \\mathrm{MN} \\cdot \\mathrm{m}  \n",
       "\\\\[10pt]\n",
       "\\mathrm{An}_{Beam_{Total}} &= \\Sigma \\left( \\mathrm{length}_{girder} \\cdot \\mathrm{width}_{girder} \\cdot \\mathrm{height}_{girder} \\cdot \\gamma_{c} \\right)  = \\Sigma \\left( [6.000\\ \\mathrm{m},\\ 5.000\\ \\mathrm{m},\\ 6.000\\ \\mathrm{m},\\ 5.000\\ \\mathrm{m},\\ 6.000\\ \\mathrm{m},\\ 5.000\\ \\mathrm{m},\\ 6.000\\ \\mathrm{m},\\ 5.000\\ \\mathrm{m}] \\cdot 400.000\\ \\mathrm{mm} \\cdot 600.000\\ \\mathrm{mm} \\cdot 23.560\\ \\mathrm{kN/m³} \\right) &= 248.794\\ \\mathrm{kN}  \n",
       "\\end{aligned}\n",
       "\\]"
      ],
      "text/plain": [
       "<IPython.core.display.Latex object>"
      ]
     },
     "metadata": {},
     "output_type": "display_data"
    },
    {
     "data": {
      "text/latex": [
       "\\[\n",
       "\\begin{aligned}\n",
       "\\mathrm{Grid} &= G \\; \n",
       "\\\\[10pt]\n",
       "\\mathrm{AnDn}_{Col_{Total}} &= \\mathrm{Col}_{No} \\cdot \\mathrm{distance} \\cdot \\mathrm{length}_{col} \\cdot \\mathrm{width}_{col} \\cdot \\mathrm{height}_{col} \\cdot \\gamma_{c}  = 9.000 \\cdot 32.250\\ \\mathrm{m} \\cdot 500.000\\ \\mathrm{mm} \\cdot 500.000\\ \\mathrm{mm} \\cdot 1.750\\ \\mathrm{m} \\cdot 23.560\\ \\mathrm{kN/m³} &= 2.992\\ \\mathrm{MN} \\cdot \\mathrm{m}  \n",
       "\\\\[10pt]\n",
       "\\mathrm{An}_{Col_{Total}} &= \\mathrm{Col}_{No} \\cdot \\mathrm{length}_{col} \\cdot \\mathrm{width}_{col} \\cdot \\mathrm{height}_{col} \\cdot \\gamma_{c}  = 9.000 \\cdot 500.000\\ \\mathrm{mm} \\cdot 500.000\\ \\mathrm{mm} \\cdot 1.750\\ \\mathrm{m} \\cdot 23.560\\ \\mathrm{kN/m³} &= 92.767\\ \\mathrm{kN}  \n",
       "\\\\[10pt]\n",
       "\\mathrm{RnDn}_{Col_{Total}} &= \\mathrm{Col}_{No} \\cdot \\left( \\frac{ \\left( \\mathrm{length}_{col} \\right) ^{ 4 } }{ 12 } \\right) \\cdot \\mathrm{distance}  = 9.000 \\cdot \\left( \\frac{ \\left( 500.000\\ \\mathrm{mm} \\right) ^{ 4 } }{ 12 } \\right) \\cdot 32.250\\ \\mathrm{m} &= 1.512\\ \\mathrm{m}^{5}  \n",
       "\\\\[10pt]\n",
       "\\mathrm{Rn}_{Col_{Total}} &= \\mathrm{Col}_{No} \\cdot \\frac{ \\left( \\mathrm{length}_{col} \\right) ^{ 4 } }{ 12 }  = 9.000 \\cdot \\frac{ \\left( 500.000\\ \\mathrm{mm} \\right) ^{ 4 } }{ 12 } &= 46875000000.000\\ \\mathrm{mm}^{4}  \n",
       "\\\\[10pt]\n",
       "\\mathrm{AnXn}_{Beam_{Total}} &= \\Sigma \\left( \\mathrm{length}_{girder} \\cdot \\mathrm{width}_{girder} \\cdot \\mathrm{height}_{girder} \\cdot \\gamma_{c} \\cdot \\mathrm{distance} \\right)  = \\Sigma \\left( [6.000\\ \\mathrm{m},\\ 5.000\\ \\mathrm{m},\\ 6.000\\ \\mathrm{m},\\ 5.000\\ \\mathrm{m},\\ 6.000\\ \\mathrm{m},\\ 5.000\\ \\mathrm{m},\\ 6.000\\ \\mathrm{m},\\ 5.000\\ \\mathrm{m}] \\cdot 400.000\\ \\mathrm{mm} \\cdot 600.000\\ \\mathrm{mm} \\cdot 23.560\\ \\mathrm{kN/m³} \\cdot 32.250\\ \\mathrm{m} \\right) &= 8.024\\ \\mathrm{MN} \\cdot \\mathrm{m}  \n",
       "\\\\[10pt]\n",
       "\\mathrm{An}_{Beam_{Total}} &= \\Sigma \\left( \\mathrm{length}_{girder} \\cdot \\mathrm{width}_{girder} \\cdot \\mathrm{height}_{girder} \\cdot \\gamma_{c} \\right)  = \\Sigma \\left( [6.000\\ \\mathrm{m},\\ 5.000\\ \\mathrm{m},\\ 6.000\\ \\mathrm{m},\\ 5.000\\ \\mathrm{m},\\ 6.000\\ \\mathrm{m},\\ 5.000\\ \\mathrm{m},\\ 6.000\\ \\mathrm{m},\\ 5.000\\ \\mathrm{m}] \\cdot 400.000\\ \\mathrm{mm} \\cdot 600.000\\ \\mathrm{mm} \\cdot 23.560\\ \\mathrm{kN/m³} \\right) &= 248.794\\ \\mathrm{kN}  \n",
       "\\end{aligned}\n",
       "\\]"
      ],
      "text/plain": [
       "<IPython.core.display.Latex object>"
      ]
     },
     "metadata": {},
     "output_type": "display_data"
    },
    {
     "data": {
      "text/latex": [
       "\\[\n",
       "\\begin{aligned}\n",
       "\\mathrm{Grid} &= H \\; \n",
       "\\\\[10pt]\n",
       "\\mathrm{AnDn}_{Col_{Total}} &= \\mathrm{Col}_{No} \\cdot \\mathrm{distance} \\cdot \\mathrm{length}_{col} \\cdot \\mathrm{width}_{col} \\cdot \\mathrm{height}_{col} \\cdot \\gamma_{c}  = 7.000 \\cdot 38.250\\ \\mathrm{m} \\cdot 500.000\\ \\mathrm{mm} \\cdot 500.000\\ \\mathrm{mm} \\cdot 1.750\\ \\mathrm{m} \\cdot 23.560\\ \\mathrm{kN/m³} &= 2.760\\ \\mathrm{MN} \\cdot \\mathrm{m}  \n",
       "\\\\[10pt]\n",
       "\\mathrm{An}_{Col_{Total}} &= \\mathrm{Col}_{No} \\cdot \\mathrm{length}_{col} \\cdot \\mathrm{width}_{col} \\cdot \\mathrm{height}_{col} \\cdot \\gamma_{c}  = 7.000 \\cdot 500.000\\ \\mathrm{mm} \\cdot 500.000\\ \\mathrm{mm} \\cdot 1.750\\ \\mathrm{m} \\cdot 23.560\\ \\mathrm{kN/m³} &= 72.153\\ \\mathrm{kN}  \n",
       "\\\\[10pt]\n",
       "\\mathrm{RnDn}_{Col_{Total}} &= \\mathrm{Col}_{No} \\cdot \\left( \\frac{ \\left( \\mathrm{length}_{col} \\right) ^{ 4 } }{ 12 } \\right) \\cdot \\mathrm{distance}  = 7.000 \\cdot \\left( \\frac{ \\left( 500.000\\ \\mathrm{mm} \\right) ^{ 4 } }{ 12 } \\right) \\cdot 38.250\\ \\mathrm{m} &= 1.395\\ \\mathrm{m}^{5}  \n",
       "\\\\[10pt]\n",
       "\\mathrm{Rn}_{Col_{Total}} &= \\mathrm{Col}_{No} \\cdot \\frac{ \\left( \\mathrm{length}_{col} \\right) ^{ 4 } }{ 12 }  = 7.000 \\cdot \\frac{ \\left( 500.000\\ \\mathrm{mm} \\right) ^{ 4 } }{ 12 } &= 36458333333.333\\ \\mathrm{mm}^{4}  \n",
       "\\\\[10pt]\n",
       "\\mathrm{AnXn}_{Beam_{Total}} &= \\Sigma \\left( \\mathrm{length}_{girder} \\cdot \\mathrm{width}_{girder} \\cdot \\mathrm{height}_{girder} \\cdot \\gamma_{c} \\cdot \\mathrm{distance} \\right)  = \\Sigma \\left( [6.000\\ \\mathrm{m},\\ 5.000\\ \\mathrm{m},\\ 6.000\\ \\mathrm{m},\\ 5.000\\ \\mathrm{m},\\ 6.000\\ \\mathrm{m},\\ 5.000\\ \\mathrm{m},\\ nan,\\ nan] \\cdot 400.000\\ \\mathrm{mm} \\cdot 600.000\\ \\mathrm{mm} \\cdot 23.560\\ \\mathrm{kN/m³} \\cdot 38.250\\ \\mathrm{m} \\right) &= 7.137\\ \\mathrm{MN} \\cdot \\mathrm{m}  \n",
       "\\\\[10pt]\n",
       "\\mathrm{An}_{Beam_{Total}} &= \\Sigma \\left( \\mathrm{length}_{girder} \\cdot \\mathrm{width}_{girder} \\cdot \\mathrm{height}_{girder} \\cdot \\gamma_{c} \\right)  = \\Sigma \\left( [6.000\\ \\mathrm{m},\\ 5.000\\ \\mathrm{m},\\ 6.000\\ \\mathrm{m},\\ 5.000\\ \\mathrm{m},\\ 6.000\\ \\mathrm{m},\\ 5.000\\ \\mathrm{m},\\ nan,\\ nan] \\cdot 400.000\\ \\mathrm{mm} \\cdot 600.000\\ \\mathrm{mm} \\cdot 23.560\\ \\mathrm{kN/m³} \\right) &= 186.595\\ \\mathrm{kN}  \n",
       "\\end{aligned}\n",
       "\\]"
      ],
      "text/plain": [
       "<IPython.core.display.Latex object>"
      ]
     },
     "metadata": {},
     "output_type": "display_data"
    },
    {
     "data": {
      "text/latex": [
       "\\[\n",
       "\\begin{aligned}\n",
       "\\mathrm{Grid} &= I \\; \n",
       "\\\\[10pt]\n",
       "\\mathrm{AnDn}_{Col_{Total}} &= \\mathrm{Col}_{No} \\cdot \\mathrm{distance} \\cdot \\mathrm{length}_{col} \\cdot \\mathrm{width}_{col} \\cdot \\mathrm{height}_{col} \\cdot \\gamma_{c}  = 5.000 \\cdot 44.250\\ \\mathrm{m} \\cdot 500.000\\ \\mathrm{mm} \\cdot 500.000\\ \\mathrm{mm} \\cdot 1.750\\ \\mathrm{m} \\cdot 23.560\\ \\mathrm{kN/m³} &= 2.281\\ \\mathrm{MN} \\cdot \\mathrm{m}  \n",
       "\\\\[10pt]\n",
       "\\mathrm{An}_{Col_{Total}} &= \\mathrm{Col}_{No} \\cdot \\mathrm{length}_{col} \\cdot \\mathrm{width}_{col} \\cdot \\mathrm{height}_{col} \\cdot \\gamma_{c}  = 5.000 \\cdot 500.000\\ \\mathrm{mm} \\cdot 500.000\\ \\mathrm{mm} \\cdot 1.750\\ \\mathrm{m} \\cdot 23.560\\ \\mathrm{kN/m³} &= 51.538\\ \\mathrm{kN}  \n",
       "\\\\[10pt]\n",
       "\\mathrm{RnDn}_{Col_{Total}} &= \\mathrm{Col}_{No} \\cdot \\left( \\frac{ \\left( \\mathrm{length}_{col} \\right) ^{ 4 } }{ 12 } \\right) \\cdot \\mathrm{distance}  = 5.000 \\cdot \\left( \\frac{ \\left( 500.000\\ \\mathrm{mm} \\right) ^{ 4 } }{ 12 } \\right) \\cdot 44.250\\ \\mathrm{m} &= 1.152\\ \\mathrm{m}^{5}  \n",
       "\\\\[10pt]\n",
       "\\mathrm{Rn}_{Col_{Total}} &= \\mathrm{Col}_{No} \\cdot \\frac{ \\left( \\mathrm{length}_{col} \\right) ^{ 4 } }{ 12 }  = 5.000 \\cdot \\frac{ \\left( 500.000\\ \\mathrm{mm} \\right) ^{ 4 } }{ 12 } &= 26041666666.667\\ \\mathrm{mm}^{4}  \n",
       "\\\\[10pt]\n",
       "\\mathrm{AnXn}_{Beam_{Total}} &= \\Sigma \\left( \\mathrm{length}_{girder} \\cdot \\mathrm{width}_{girder} \\cdot \\mathrm{height}_{girder} \\cdot \\gamma_{c} \\cdot \\mathrm{distance} \\right)  = \\Sigma \\left( [6.000\\ \\mathrm{m},\\ 5.000\\ \\mathrm{m},\\ 6.000\\ \\mathrm{m},\\ 5.000\\ \\mathrm{m},\\ 6.000\\ \\mathrm{m},\\ 5.000\\ \\mathrm{m},\\ nan,\\ nan] \\cdot 400.000\\ \\mathrm{mm} \\cdot 600.000\\ \\mathrm{mm} \\cdot 23.560\\ \\mathrm{kN/m³} \\cdot 44.250\\ \\mathrm{m} \\right) &= 8.257\\ \\mathrm{MN} \\cdot \\mathrm{m}  \n",
       "\\\\[10pt]\n",
       "\\mathrm{An}_{Beam_{Total}} &= \\Sigma \\left( \\mathrm{length}_{girder} \\cdot \\mathrm{width}_{girder} \\cdot \\mathrm{height}_{girder} \\cdot \\gamma_{c} \\right)  = \\Sigma \\left( [6.000\\ \\mathrm{m},\\ 5.000\\ \\mathrm{m},\\ 6.000\\ \\mathrm{m},\\ 5.000\\ \\mathrm{m},\\ 6.000\\ \\mathrm{m},\\ 5.000\\ \\mathrm{m},\\ nan,\\ nan] \\cdot 400.000\\ \\mathrm{mm} \\cdot 600.000\\ \\mathrm{mm} \\cdot 23.560\\ \\mathrm{kN/m³} \\right) &= 186.595\\ \\mathrm{kN}  \n",
       "\\end{aligned}\n",
       "\\]"
      ],
      "text/plain": [
       "<IPython.core.display.Latex object>"
      ]
     },
     "metadata": {},
     "output_type": "display_data"
    },
    {
     "data": {
      "text/latex": [
       "\\[\n",
       "\\begin{aligned}\n",
       "\\mathrm{AnDn}_{SW_{Total}} &= \\Sigma \\left( \\mathrm{length} \\cdot \\mathrm{distance} \\cdot \\mathrm{width} \\cdot \\mathrm{height} \\cdot \\gamma_{c} \\right) \\\\&= \\Sigma \\left( [3.000\\ \\mathrm{m},\\ 3.000\\ \\mathrm{m}] \\cdot [20.250\\ \\mathrm{m},\\ 26.250\\ \\mathrm{m}] \\cdot 300.000\\ \\mathrm{mm} \\cdot 1.750\\ \\mathrm{m} \\cdot 23.560\\ \\mathrm{kN/m³} \\right) \\\\&= 1.725\\ \\mathrm{MN} \\cdot \\mathrm{m}  \\\\[10pt]\n",
       "\\\\[10pt]\n",
       "\\mathrm{An}_{SW_{Total}} &= \\Sigma \\left( \\mathrm{length} \\cdot \\mathrm{width} \\cdot \\mathrm{height} \\cdot \\gamma_{c} \\right) \\\\&= \\Sigma \\left( [3.000\\ \\mathrm{m},\\ 3.000\\ \\mathrm{m}] \\cdot 300.000\\ \\mathrm{mm} \\cdot 1.750\\ \\mathrm{m} \\cdot 23.560\\ \\mathrm{kN/m³} \\right) \\\\&= 74.214\\ \\mathrm{kN}  \\\\[10pt]\n",
       "\\\\[10pt]\n",
       "\\mathrm{RnDn}_{SW_{Total}} &= \\Sigma \\left( \\left( \\frac{ \\left( \\mathrm{length} \\right) ^{ 3 } \\cdot \\mathrm{width} }{ 12 } \\right) \\cdot \\mathrm{distance} \\right) \\\\&= \\Sigma \\left( \\left( \\frac{ \\left( [3.000\\ \\mathrm{m},\\ 3.000\\ \\mathrm{m}] \\right) ^{ 3 } \\cdot 300.000\\ \\mathrm{mm} }{ 12 } \\right) \\cdot [20.250\\ \\mathrm{m},\\ 26.250\\ \\mathrm{m}] \\right) \\\\&= 31.387\\ \\mathrm{m}^{5}  \\\\[10pt]\n",
       "\\\\[10pt]\n",
       "\\mathrm{Rn}_{SW_{Total}} &= \\Sigma \\left( \\frac{ \\left( \\mathrm{length} \\right) ^{ 3 } \\cdot \\mathrm{width} }{ 12 } \\right) \\\\&= \\Sigma \\left( \\frac{ \\left( [3.000\\ \\mathrm{m},\\ 3.000\\ \\mathrm{m}] \\right) ^{ 3 } \\cdot 300.000\\ \\mathrm{mm} }{ 12 } \\right) \\\\&= 1.350\\ \\mathrm{m}^{4}  \\\\[10pt]\n",
       "\\end{aligned}\n",
       "\\]"
      ],
      "text/plain": [
       "<IPython.core.display.Latex object>"
      ]
     },
     "metadata": {},
     "output_type": "display_data"
    },
    {
     "data": {
      "text/latex": [
       "\\[\n",
       "\\begin{aligned}\n",
       "\\mathrm{AnDn}_{Slab_{Total}} &= \\Sigma \\left( \\mathrm{area} \\cdot \\mathrm{distance} \\cdot \\mathrm{height} \\cdot \\gamma_{c} \\right) \\\\&= \\Sigma \\left( [1936.000\\ \\mathrm{m}^{2},\\ -220.000\\ \\mathrm{m}^{2},\\ -132.000\\ \\mathrm{m}^{2}] \\cdot [22.000\\ \\mathrm{m},\\ 10.000\\ \\mathrm{m},\\ 38.000\\ \\mathrm{m}] \\cdot 130.000\\ \\mathrm{mm} \\cdot 23.560\\ \\mathrm{kN/m³} \\right) \\\\&= 108.350\\ \\mathrm{MN} \\cdot \\mathrm{m}  \\\\[10pt]\n",
       "\\\\[10pt]\n",
       "\\mathrm{An}_{Slab_{Total}} &= \\Sigma \\left( \\mathrm{area} \\cdot \\mathrm{height} \\cdot \\gamma_{c} \\right) \\\\&= \\Sigma \\left( [1936.000\\ \\mathrm{m}^{2},\\ -220.000\\ \\mathrm{m}^{2},\\ -132.000\\ \\mathrm{m}^{2}] \\cdot 130.000\\ \\mathrm{mm} \\cdot 23.560\\ \\mathrm{kN/m³} \\right) \\\\&= 4.851\\ \\mathrm{MN}  \\\\[10pt]\n",
       "\\end{aligned}\n",
       "\\]"
      ],
      "text/plain": [
       "<IPython.core.display.Latex object>"
      ]
     },
     "metadata": {},
     "output_type": "display_data"
    },
    {
     "data": {
      "text/latex": [
       "\\[\n",
       "\\begin{aligned}\n",
       "\\mathrm{AnDn}_{Wall_{Total}} &= \\Sigma \\left( \\mathrm{length} \\cdot \\mathrm{distance} \\cdot \\mathrm{width} \\cdot \\mathrm{height} \\cdot \\gamma_{c} \\cdot 0.7 \\right) \\\\&= \\Sigma \\left( [nan,\\ nan,\\ 6.000\\ \\mathrm{m},\\ 5.000\\ \\mathrm{m},\\ 6.000\\ \\mathrm{m},\\ 5.000\\ \\mathrm{m},\\ 6.000\\ \\mathrm{m},\\ 5.000\\ \\mathrm{m},\\ 6.000\\ \\mathrm{m},\\ 5.000\\ \\mathrm{m},\\ 6.000\\ \\mathrm{m},\\ 5.000\\ \\mathrm{m},\\ 6.000\\ \\mathrm{m},\\ 5.000\\ \\mathrm{m},\\ nan,\\ nan,\\ nan,\\ nan,\\ 6.000\\ \\mathrm{m},\\ 5.000\\ \\mathrm{m},\\ 6.000\\ \\mathrm{m},\\ 5.000\\ \\mathrm{m},\\ 6.000\\ \\mathrm{m},\\ 5.000\\ \\mathrm{m},\\ 6.000\\ \\mathrm{m},\\ 5.000\\ \\mathrm{m},\\ 6.000\\ \\mathrm{m},\\ 5.000\\ \\mathrm{m},\\ 6.000\\ \\mathrm{m},\\ 5.000\\ \\mathrm{m},\\ nan,\\ nan] \\cdot [nan,\\ nan,\\ 250.000\\ \\mathrm{mm},\\ 250.000\\ \\mathrm{mm},\\ 250.000\\ \\mathrm{mm},\\ 250.000\\ \\mathrm{mm},\\ 250.000\\ \\mathrm{mm},\\ 250.000\\ \\mathrm{mm},\\ 44.250\\ \\mathrm{m},\\ 44.250\\ \\mathrm{m},\\ 44.250\\ \\mathrm{m},\\ 44.250\\ \\mathrm{m},\\ 44.250\\ \\mathrm{m},\\ 44.250\\ \\mathrm{m},\\ 44.250\\ \\mathrm{m},\\ nan,\\ nan,\\ nan,\\ 15.250\\ \\mathrm{m},\\ 15.250\\ \\mathrm{m},\\ 15.250\\ \\mathrm{m},\\ 15.250\\ \\mathrm{m},\\ 15.250\\ \\mathrm{m},\\ 15.250\\ \\mathrm{m},\\ 38.250\\ \\mathrm{m},\\ 38.250\\ \\mathrm{m},\\ 38.250\\ \\mathrm{m},\\ 38.250\\ \\mathrm{m},\\ 38.250\\ \\mathrm{m},\\ 38.250\\ \\mathrm{m},\\ 38.250\\ \\mathrm{m},\\ nan] \\cdot 150.000\\ \\mathrm{mm} \\cdot 1.750\\ \\mathrm{m} \\cdot 23.560\\ \\mathrm{kN/m³} \\cdot 0.7 \\right) \\\\&= 14.000\\ \\mathrm{MN} \\cdot \\mathrm{m}  \\\\[10pt]\n",
       "\\\\[10pt]\n",
       "\\mathrm{An}_{Wall_{Total}} &= \\Sigma \\left( \\mathrm{length} \\cdot \\mathrm{width} \\cdot \\mathrm{height} \\cdot \\gamma_{c} \\cdot 0.7 \\right) \\\\&= \\Sigma \\left( [nan,\\ nan,\\ 6.000\\ \\mathrm{m},\\ 5.000\\ \\mathrm{m},\\ 6.000\\ \\mathrm{m},\\ 5.000\\ \\mathrm{m},\\ 6.000\\ \\mathrm{m},\\ 5.000\\ \\mathrm{m},\\ 6.000\\ \\mathrm{m},\\ 5.000\\ \\mathrm{m},\\ 6.000\\ \\mathrm{m},\\ 5.000\\ \\mathrm{m},\\ 6.000\\ \\mathrm{m},\\ 5.000\\ \\mathrm{m},\\ nan,\\ nan,\\ nan,\\ nan,\\ 6.000\\ \\mathrm{m},\\ 5.000\\ \\mathrm{m},\\ 6.000\\ \\mathrm{m},\\ 5.000\\ \\mathrm{m},\\ 6.000\\ \\mathrm{m},\\ 5.000\\ \\mathrm{m},\\ 6.000\\ \\mathrm{m},\\ 5.000\\ \\mathrm{m},\\ 6.000\\ \\mathrm{m},\\ 5.000\\ \\mathrm{m},\\ 6.000\\ \\mathrm{m},\\ 5.000\\ \\mathrm{m},\\ nan,\\ nan] \\cdot 150.000\\ \\mathrm{mm} \\cdot 1.750\\ \\mathrm{m} \\cdot 23.560\\ \\mathrm{kN/m³} \\cdot 0.7 \\right) \\\\&= 571.448\\ \\mathrm{kN}  \\\\[10pt]\n",
       "\\end{aligned}\n",
       "\\]"
      ],
      "text/plain": [
       "<IPython.core.display.Latex object>"
      ]
     },
     "metadata": {},
     "output_type": "display_data"
    },
    {
     "data": {
      "text/latex": [
       "\\[\n",
       "\\begin{aligned}\n",
       "\\mathrm{AnDn}_{Col_{Total}} &= \\Sigma \\left( \\mathrm{AnDn}_{Col} \\right) \\\\&= \\Sigma \\left( [12.884\\ \\mathrm{kN} \\cdot \\mathrm{m},\\ 378.801\\ \\mathrm{kN} \\cdot \\mathrm{m},\\ 739.563\\ \\mathrm{kN} \\cdot \\mathrm{m},\\ 1.100\\ \\mathrm{MN} \\cdot \\mathrm{m},\\ 1.879\\ \\mathrm{MN} \\cdot \\mathrm{m},\\ 2.435\\ \\mathrm{MN} \\cdot \\mathrm{m},\\ 2.992\\ \\mathrm{MN} \\cdot \\mathrm{m},\\ 2.760\\ \\mathrm{MN} \\cdot \\mathrm{m},\\ 2.281\\ \\mathrm{MN} \\cdot \\mathrm{m}] \\right) \\\\&= 14.577\\ \\mathrm{MN} \\cdot \\mathrm{m}  \\\\[10pt]\n",
       "\\\\[10pt]\n",
       "\\mathrm{An}_{Col_{Total}} &= \\Sigma \\left( \\mathrm{An}_{Col} \\right) \\\\&= \\Sigma \\left( [51.538\\ \\mathrm{kN},\\ 72.153\\ \\mathrm{kN},\\ 72.153\\ \\mathrm{kN},\\ 72.153\\ \\mathrm{kN},\\ 92.767\\ \\mathrm{kN},\\ 92.767\\ \\mathrm{kN},\\ 92.767\\ \\mathrm{kN},\\ 72.153\\ \\mathrm{kN},\\ 51.538\\ \\mathrm{kN}] \\right) \\\\&= 669.987\\ \\mathrm{kN}  \\\\[10pt]\n",
       "\\\\[10pt]\n",
       "\\mathrm{RnDn}_{Col_{Total}} &= \\Sigma \\left( \\mathrm{RnDn}_{Col} \\right) \\\\&= \\Sigma \\left( [6510416666666.666\\ \\mathrm{mm}^{5},\\ 191406249999999.969\\ \\mathrm{mm}^{5},\\ 373697916666666.625\\ \\mathrm{mm}^{5},\\ 555989583333333.188\\ \\mathrm{mm}^{5},\\ 949218749999999.875\\ \\mathrm{mm}^{5},\\ 1.230\\ \\mathrm{m}^{5},\\ 1.512\\ \\mathrm{m}^{5},\\ 1.395\\ \\mathrm{m}^{5},\\ 1.152\\ \\mathrm{m}^{5}] \\right) \\\\&= 7.366\\ \\mathrm{m}^{5}  \\\\[10pt]\n",
       "\\\\[10pt]\n",
       "\\mathrm{Rn}_{Col_{Total}} &= \\Sigma \\left( \\mathrm{Rn}_{Col} \\right) \\\\&= \\Sigma \\left( [26041666666.667\\ \\mathrm{mm}^{4},\\ 36458333333.333\\ \\mathrm{mm}^{4},\\ 36458333333.333\\ \\mathrm{mm}^{4},\\ 36458333333.333\\ \\mathrm{mm}^{4},\\ 46875000000.000\\ \\mathrm{mm}^{4},\\ 46875000000.000\\ \\mathrm{mm}^{4},\\ 46875000000.000\\ \\mathrm{mm}^{4},\\ 36458333333.333\\ \\mathrm{mm}^{4},\\ 26041666666.667\\ \\mathrm{mm}^{4}] \\right) \\\\&= 338541666666.667\\ \\mathrm{mm}^{4}  \\\\[10pt]\n",
       "\\\\[10pt]\n",
       "\\mathrm{AnDn}_{Beam_{Total}} &= \\Sigma \\left( \\mathrm{AnDn}_{Beam} \\right) \\\\&= \\Sigma \\left( [46.649\\ \\mathrm{kN} \\cdot \\mathrm{m},\\ 979.625\\ \\mathrm{kN} \\cdot \\mathrm{m},\\ 1.913\\ \\mathrm{MN} \\cdot \\mathrm{m},\\ 2.846\\ \\mathrm{MN} \\cdot \\mathrm{m},\\ 5.038\\ \\mathrm{MN} \\cdot \\mathrm{m},\\ 6.531\\ \\mathrm{MN} \\cdot \\mathrm{m},\\ 8.024\\ \\mathrm{MN} \\cdot \\mathrm{m},\\ 7.137\\ \\mathrm{MN} \\cdot \\mathrm{m},\\ 8.257\\ \\mathrm{MN} \\cdot \\mathrm{m}] \\right) \\\\&= 40.771\\ \\mathrm{MN} \\cdot \\mathrm{m}  \\\\[10pt]\n",
       "\\\\[10pt]\n",
       "\\mathrm{An}_{Beam_{Total}} &= \\Sigma \\left( \\mathrm{An}_{Beam} \\right) \\\\&= \\Sigma \\left( [186.595\\ \\mathrm{kN},\\ 186.595\\ \\mathrm{kN},\\ 186.595\\ \\mathrm{kN},\\ 186.595\\ \\mathrm{kN},\\ 248.794\\ \\mathrm{kN},\\ 248.794\\ \\mathrm{kN},\\ 248.794\\ \\mathrm{kN},\\ 186.595\\ \\mathrm{kN},\\ 186.595\\ \\mathrm{kN}] \\right) \\\\&= 1.866\\ \\mathrm{MN}  \\\\[10pt]\n",
       "\\\\[10pt]\n",
       "\\mathrm{AnDn}_{SW_{Total}} &= \\Sigma \\left( \\mathrm{AnDn}_{SW} \\right) \\\\&= \\Sigma \\left( [1.725\\ \\mathrm{MN} \\cdot \\mathrm{m}] \\right) \\\\&= 1.725\\ \\mathrm{MN} \\cdot \\mathrm{m}  \\\\[10pt]\n",
       "\\\\[10pt]\n",
       "\\mathrm{An}_{SW_{Total}} &= \\Sigma \\left( \\mathrm{An}_{SW} \\right) \\\\&= \\Sigma \\left( [74.214\\ \\mathrm{kN}] \\right) \\\\&= 74.214\\ \\mathrm{kN}  \\\\[10pt]\n",
       "\\\\[10pt]\n",
       "\\mathrm{RnDn}_{SW_{Total}} &= \\Sigma \\left( \\mathrm{RnDn}_{SW_{Total}} \\right) \\\\&= \\Sigma \\left( 31.387\\ \\mathrm{m}^{5} \\right) \\\\&= 31.387\\ \\mathrm{m}^{5}  \\\\[10pt]\n",
       "\\\\[10pt]\n",
       "\\mathrm{Rn}_{SW_{Total}} &= \\Sigma \\left( \\mathrm{Rn}_{SW} \\right) \\\\&= \\Sigma \\left( [1.350\\ \\mathrm{m}^{4}] \\right) \\\\&= 1.350\\ \\mathrm{m}^{4}  \\\\[10pt]\n",
       "\\\\[10pt]\n",
       "\\mathrm{AnDn}_{Slab_{Total}} &= \\Sigma \\left( \\mathrm{AnDn}_{Slab} \\right) \\\\&= \\Sigma \\left( [108.350\\ \\mathrm{MN} \\cdot \\mathrm{m}] \\right) \\\\&= 108.350\\ \\mathrm{MN} \\cdot \\mathrm{m}  \\\\[10pt]\n",
       "\\\\[10pt]\n",
       "\\mathrm{An}_{Slab_{Total}} &= \\Sigma \\left( \\mathrm{An}_{Slab} \\right) \\\\&= \\Sigma \\left( [4.851\\ \\mathrm{MN}] \\right) \\\\&= 4.851\\ \\mathrm{MN}  \\\\[10pt]\n",
       "\\\\[10pt]\n",
       "\\mathrm{AnDn}_{Wall_{Total}} &= \\Sigma \\left( \\mathrm{AnDn}_{Wall} \\right) \\\\&= \\Sigma \\left( [14.000\\ \\mathrm{MN} \\cdot \\mathrm{m}] \\right) \\\\&= 14.000\\ \\mathrm{MN} \\cdot \\mathrm{m}  \\\\[10pt]\n",
       "\\\\[10pt]\n",
       "\\mathrm{An}_{Wall_{Total}} &= \\Sigma \\left( \\mathrm{An}_{Wall} \\right) \\\\&= \\Sigma \\left( [571.448\\ \\mathrm{kN}] \\right) \\\\&= 571.448\\ \\mathrm{kN}  \\\\[10pt]\n",
       "\\end{aligned}\n",
       "\\]"
      ],
      "text/plain": [
       "<IPython.core.display.Latex object>"
      ]
     },
     "metadata": {},
     "output_type": "display_data"
    },
    {
     "data": {
      "text/latex": [
       "\\[\n",
       "\\begin{aligned}\n",
       "\\mathrm{AnDn} &= \\Sigma \\left( \\mathrm{AnDn}_{Col_{Total}} + \\mathrm{AnDn}_{SW_{Total}} + \\mathrm{AnDn}_{Slab_{Total}} + \\mathrm{AnDn}_{Wall_{Total}} + \\mathrm{AnDn}_{Beam_{Total}} \\right) \\\\&= \\Sigma \\left( 14.577\\ \\mathrm{MN} \\cdot \\mathrm{m} + 1.725\\ \\mathrm{MN} \\cdot \\mathrm{m} + 108.350\\ \\mathrm{MN} \\cdot \\mathrm{m} + 14.000\\ \\mathrm{MN} \\cdot \\mathrm{m} + 40.771\\ \\mathrm{MN} \\cdot \\mathrm{m} \\right) \\\\&= 179.424\\ \\mathrm{MN} \\cdot \\mathrm{m}  \\\\[10pt]\n",
       "\\\\[10pt]\n",
       "\\mathrm{An} &= \\Sigma \\left( \\mathrm{An}_{Col_{Total}} + \\mathrm{An}_{SW_{Total}} + \\mathrm{An}_{Slab_{Total}} + \\mathrm{An}_{Wall_{Total}} + \\mathrm{An}_{Beam_{Total}} \\right) \\\\&= \\Sigma \\left( 669.987\\ \\mathrm{kN} + 74.214\\ \\mathrm{kN} + 4.851\\ \\mathrm{MN} + 571.448\\ \\mathrm{kN} + 1.866\\ \\mathrm{MN} \\right) \\\\&= 8.033\\ \\mathrm{MN}  \\\\[10pt]\n",
       "\\\\[10pt]\n",
       "\\mathrm{RnDn} &= \\Sigma \\left( \\mathrm{RnDn}_{Col_{Total}} + \\mathrm{RnDn}_{SW_{Total}} \\right) \\\\&= \\Sigma \\left( 7.366\\ \\mathrm{m}^{5} + 31.387\\ \\mathrm{m}^{5} \\right) \\\\&= 38.753\\ \\mathrm{m}^{5}  \\\\[10pt]\n",
       "\\\\[10pt]\n",
       "\\mathrm{Rn} &= \\Sigma \\left( \\mathrm{Rn}_{Col_{Total}} + \\mathrm{Rn}_{SW_{Total}} \\right) \\\\&= \\Sigma \\left( 338541666666.667\\ \\mathrm{mm}^{4} + 1.350\\ \\mathrm{m}^{4} \\right) \\\\&= 1.689\\ \\mathrm{m}^{4}  \\\\[10pt]\n",
       "\\\\[10pt]\n",
       "C_{m} &= \\frac{ \\Sigma \\left( \\mathrm{AnDn} \\right) }{ \\Sigma \\left( \\mathrm{An} \\right) } \\\\&= \\frac{ \\Sigma \\left( 179.424\\ \\mathrm{MN} \\cdot \\mathrm{m} \\right) }{ \\Sigma \\left( 8.033\\ \\mathrm{MN} \\right) } \\\\&= 22.336\\ \\mathrm{m}  \\\\[10pt]\n",
       "\\\\[10pt]\n",
       "C_{r} &= \\frac{ \\Sigma \\left( \\mathrm{RnDn} \\right) }{ \\Sigma \\left( \\mathrm{Rn} \\right) } \\\\&= \\frac{ \\Sigma \\left( 38.753\\ \\mathrm{m}^{5} \\right) }{ \\Sigma \\left( 1.689\\ \\mathrm{m}^{4} \\right) } \\\\&= 22.951\\ \\mathrm{m}  \\\\[10pt]\n",
       "\\end{aligned}\n",
       "\\]"
      ],
      "text/plain": [
       "<IPython.core.display.Latex object>"
      ]
     },
     "metadata": {},
     "output_type": "display_data"
    }
   ],
   "source": [
    "import string\n",
    "letter = string.ascii_uppercase\n",
    "path_an_andn = UTIL.create_folder(\"An AnDn Rn RnDn\")\n",
    "path_cr_cm = UTIL.create_folder(\"Cr Cm\")\n",
    "floor_dict_baseshear = {} \n",
    "def style_dataframe(df):\n",
    "    # Material-UI-like style\n",
    "    styles = [\n",
    "        dict(selector=\"th\", props=[(\"font-size\", \"16px\"), \n",
    "                                   (\"text-align\", \"center\"),\n",
    "                                   (\"font-weight\", \"bold\"),\n",
    "                                   (\"color\", \"#FFFFFF\"),\n",
    "                                   (\"background-color\", \"#3f51b5\")]),\n",
    "        dict(selector=\"td\", props=[(\"font-size\", \"14px\"),\n",
    "                                   (\"text-align\", \"center\"),\n",
    "                                   (\"color\", \"#000000\"),\n",
    "                                   (\"background-color\", \"#f1f1f1\")]),\n",
    "        dict(selector=\"tr:hover\", props=[(\"background-color\", \"#ff4081\")]),\n",
    "        dict(selector=\"tr:last-child\", props=[(\"background-color\", \"#4caf50\"),\n",
    "                                               (\"color\", \"#FFFFFF\"),\n",
    "                                               (\"font-weight\", \"bold\")])\n",
    "    ]\n",
    "    \n",
    "    # Apply the styles\n",
    "    df_styled = df.style.set_table_styles(styles)\n",
    "    return df_styled\n",
    "@handcalc(override = \"short\",jupyter_display=True)\n",
    "def CenterOfMass_1(distance = 0,gamma_c= 0 ,Col_No = 0,Beam_No = 0,length_col= 0,width_col= 0,height_col= 0,length_girder= 0,width_girder= 0,height_girder= 0,i= 0):\n",
    "    Grid = i\n",
    "    AnDn_Col_Total = Col_No * distance * length_col * width_col * height_col * gamma_c\n",
    "    An_Col_Total = Col_No* length_col * width_col * height_col * gamma_c\n",
    "    RnDn_Col_Total = Col_No * ((length_col**4)/12) * distance \n",
    "    Rn_Col_Total = Col_No * (length_col**4)/12\n",
    "\n",
    "    AnXn_Beam_Total = sum(length_girder * width_girder * height_girder * gamma_c * distance  )\n",
    "    An_Beam_Total = sum(length_girder * width_girder * height_girder * gamma_c)\n",
    "    \n",
    "    return An_Col_Total,AnDn_Col_Total,Rn_Col_Total,RnDn_Col_Total,An_Beam_Total,AnXn_Beam_Total\n",
    "\n",
    "@handcalc(override = \"long\",jupyter_display=True)\n",
    "def CenterOfMass_ShearWall(distance,gamma_c,length,width,height,i):\n",
    "    AnDn_SW_Total = sum( length* distance * width *height * gamma_c)\n",
    "    An_SW_Total = sum(length * width *height * gamma_c)\n",
    "    RnDn_SW_Total = sum((((length**3)*(width))/12) * distance)\n",
    "    Rn_SW_Total = sum(((length**3)*(width))/12)\n",
    "    return An_SW_Total,AnDn_SW_Total,Rn_SW_Total,RnDn_SW_Total\n",
    "\n",
    "@handcalc(override = \"long\",jupyter_display=True)\n",
    "def CenterOfMass_Slab(distance,gamma_c,area,height,i):\n",
    "    AnDn_Slab_Total = sum( area* distance  *height * gamma_c)\n",
    "    An_Slab_Total = sum(area *height * gamma_c)\n",
    "    return AnDn_Slab_Total,An_Slab_Total\n",
    "\n",
    "@handcalc(override = \"long\",jupyter_display=True)\n",
    "def CenterOfMass_Wall(distance,gamma_c,length,width,height,i):\n",
    "    AnDn_Wall_Total = (sum( length* distance * width *height * gamma_c * 0.7))\n",
    "    An_Wall_Total = (sum(length * width *height * gamma_c * 0.7))\n",
    "    return AnDn_Wall_Total,An_Wall_Total\n",
    "@handcalc(override = \"long\",jupyter_display=True)\n",
    "def pre_CenterOfMass_2(AnDn_Col,An_Col,RnDn_Col,Rn_Col,AnDn_SW,An_SW,RnDn_SW_Total,Rn_SW,AnDn_Slab,An_Slab,AnDn_Wall,An_Wall,An_Beam,AnDn_Beam):\n",
    "    AnDn_Col_Total = (sum(AnDn_Col))\n",
    "    An_Col_Total = (sum(An_Col))\n",
    "    RnDn_Col_Total = (sum(RnDn_Col))\n",
    "    Rn_Col_Total = (sum(Rn_Col))\n",
    "    AnDn_Beam_Total = (sum(AnDn_Beam))\n",
    "    An_Beam_Total = (sum(An_Beam))\n",
    "    AnDn_SW_Total = (sum(AnDn_SW))\n",
    "    An_SW_Total = (sum(An_SW))\n",
    "    RnDn_SW_Total = (sum(RnDn_SW_Total))\n",
    "    Rn_SW_Total = (sum(Rn_SW))\n",
    "    AnDn_Slab_Total = (sum(AnDn_Slab))\n",
    "    An_Slab_Total = (sum(An_Slab))\n",
    "    AnDn_Wall_Total = (sum(AnDn_Wall))\n",
    "    An_Wall_Total = (sum(An_Wall))\n",
    "    return AnDn_Col_Total,An_Col_Total,RnDn_Col_Total,Rn_Col_Total,AnDn_Beam_Total,An_Beam_Total,AnDn_SW_Total,An_SW_Total,RnDn_SW_Total,Rn_SW_Total,AnDn_Slab_Total,An_Slab_Total,AnDn_Wall_Total,An_Wall_Total\n",
    "\n",
    "@handcalc(override = \"long\",jupyter_display=True)\n",
    "def CenterOfMass_2(AnDn_Col_Total,An_Col_Total,RnDn_Col_Total,Rn_Col_Total,AnDn_Beam_Total,An_Beam_Total,AnDn_SW_Total,An_SW_Total,RnDn_SW_Total,Rn_SW_Total,AnDn_Slab_Total,An_Slab_Total,AnDn_Wall_Total,An_Wall_Total):\n",
    "\n",
    "    AnDn = sum(AnDn_Col_Total + AnDn_SW_Total + AnDn_Slab_Total + AnDn_Wall_Total + AnDn_Beam_Total)\n",
    "    An = sum(An_Col_Total + An_SW_Total + An_Slab_Total + An_Wall_Total + An_Beam_Total)\n",
    "    RnDn = sum(RnDn_Col_Total + RnDn_SW_Total)\n",
    "    Rn = sum(Rn_Col_Total + Rn_SW_Total)\n",
    "    C_m = sum(AnDn)/sum(An)\n",
    "    C_r = sum(RnDn)/sum(Rn)\n",
    "    return C_m,C_r,AnDn,An,RnDn,Rn,AnDn_Col_Total,An_Col_Total,RnDn_Col_Total,Rn_Col_Total,AnDn_Beam_Total,An_Beam_Total,AnDn_SW_Total,An_SW_Total,RnDn_SW_Total,Rn_SW_Total,AnDn_Slab_Total,An_Slab_Total,AnDn_Wall_Total,An_Wall_Total\n",
    "\n",
    "\n",
    "def perline(span_array,girder_span,height_list,shearwall_length = None,shearwall_width = None,shearwall_distance = None,slab_area = None,slab_distance = None,slab_height = None,wall_length = None,wall_width = None,wall_distance = None,x = True):\n",
    "    empty_pd = pd.DataFrame()\n",
    "    floor_dict_cmcr = {}\n",
    "    for i2,floor_height in enumerate(height_list):\n",
    "        col_An = []\n",
    "        col_AnXn = []\n",
    "        col_Rn = []\n",
    "        col_RnXn = []\n",
    "        beam_An = []\n",
    "        beam_AnXn = []\n",
    "        Sw_An = []\n",
    "        Sw_AnXn = []\n",
    "        Sw_Rn = []\n",
    "        Sw_RnXn = []\n",
    "        Slab_An = []\n",
    "        Slab_AnXn = []\n",
    "        Wall_An = []\n",
    "        Wall_AnXn = []\n",
    "        if x:\n",
    "            Axis = \"X\"\n",
    "        else:\n",
    "            Axis = \"Y\"\n",
    "        floor_name = f\"\"\"FLOOR - {i2 + 2 if i2 < 3 else \"Roof Deck\"} - {Axis} AXIS\n",
    "            \"\"\"\n",
    "        display(Markdown(f\"\"\"## FLOOR - {i2 + 2 if i2 < 3 else \"Roof Deck\"} - {Axis} AXIS\n",
    "            \"\"\"))\n",
    "        for i,j in enumerate(span_array):\n",
    "            span_ = j * m \n",
    "            length_X = length_array_X[i]\n",
    "            width_Y = width_array_Y[i]\n",
    "            if x:\n",
    "                i_ = i+1\n",
    "            else:\n",
    "                i_ = letter[i]\n",
    "            distance = stats.mode(span_,keepdims = True)[0][0] \n",
    "\n",
    "            col_number = stats.mode(j,keepdims = True)[1][0]\n",
    "            if i == 0 or i == len(span_array) -1:\n",
    "                col_number = stats.mode(j,keepdims = True)[1][0] - 2\n",
    "            length_col = stats.mode(length_X,keepdims = True)[0][0]\n",
    "            width_col = stats.mode(width_Y,keepdims = True)[0][0]\n",
    "            \n",
    "            length_girder = girder_span[i]\n",
    "            width_girder = stats.mode(width_girder_array[i],keepdims = True)[0][0]\n",
    "            height_girder = stats.mode(depth_girder_array[i],keepdims = True)[0][0]\n",
    "\n",
    "            distance_shearwall = shearwall_distance\n",
    "            asd = CenterOfMass_1(distance,concrete_density,col_number,0,length_col,width_col,floor_height,length_girder,width_girder,height_girder,i_)\n",
    "            An,AnXn,Rn,RnXn,An_beam,AnXn_beam = asd\n",
    "            col_An.append(An)\n",
    "            col_AnXn.append(AnXn)\n",
    "            col_Rn.append(Rn)\n",
    "            col_RnXn.append(RnXn)\n",
    "            beam_An.append(An_beam)\n",
    "            beam_AnXn.append(AnXn_beam)\n",
    "            \n",
    "        if shearwall_distance_X is not None or shearwall_distance_Y is not None   :\n",
    "            asd1 = CenterOfMass_ShearWall(shearwall_distance,concrete_density,shearwall_length,shearwall_width,floor_height,i)\n",
    "            An_SW_Total,AnXn_SW_Total,Rn_SW_Total,RnXn_SW_Total = asd1\n",
    "            Sw_An.append(An_SW_Total)\n",
    "            Sw_AnXn.append(AnXn_SW_Total)\n",
    "            Sw_Rn.append(Rn_SW_Total)\n",
    "            Sw_RnXn.append(RnXn_SW_Total)\n",
    "\n",
    "\n",
    "        if slab_area is not None:\n",
    "            asd = CenterOfMass_Slab(slab_distance,concrete_density,slab_area,slab_height,i)\n",
    "            AnXn_Slab_Total,An_Slab_Total = asd\n",
    "            Slab_An.append(An_Slab_Total)\n",
    "            Slab_AnXn.append(AnXn_Slab_Total)\n",
    "\n",
    "        if wall_length is not None:\n",
    "            asd = CenterOfMass_Wall(wall_distance,concrete_density,wall_length,wall_width,floor_height,i)\n",
    "            AnXn_Wall_Total,An_Wall_Total = asd\n",
    "            Wall_An.append(An_Wall_Total)\n",
    "            Wall_AnXn.append(AnXn_Wall_Total)\n",
    "\n",
    "        # save floor_dict_pd as image\n",
    "        \n",
    "        asd = pre_CenterOfMass_2(col_AnXn,col_An,col_RnXn,col_Rn,Sw_AnXn,Sw_An,Sw_RnXn,Sw_Rn,Slab_AnXn,Slab_An,Wall_AnXn,Wall_An,beam_An,beam_AnXn)\n",
    "        AnDn_Col_Total,An_Col_Total,RnDn_Col_Total,Rn_Col_Total,AnDn_Beam_Total,An_Beam_Total,AnDn_SW_Total,An_SW_Total,RnDn_SW_Total,Rn_SW_Total,AnDn_Slab_Total,An_Slab_Total,AnDn_Wall_Total,An_Wall_Total = asd\n",
    "        asd = CenterOfMass_2(AnDn_Col_Total,An_Col_Total,RnDn_Col_Total,Rn_Col_Total,AnDn_Beam_Total,An_Beam_Total,AnDn_SW_Total,An_SW_Total,RnDn_SW_Total,Rn_SW_Total,AnDn_Slab_Total,An_Slab_Total,AnDn_Wall_Total,An_Wall_Total)\n",
    "        C_m,C_r,AnDn,An,RnDn,Rn,AnDn_Col_Total,An_Col_Total,RnDn_Col_Total,Rn_Col_Total,AnDn_Beam_Total,An_Beam_Total,AnDn_SW_Total,An_SW_Total,RnDn_SW_Total,Rn_SW_Total,AnDn_Slab_Total,An_Slab_Total,AnDn_Wall_Total,An_Wall_Total = asd\n",
    "        floor_dict_cmcr.update({floor_name:{\"Center of Mass\":C_m,\"Center of Rigidity\":C_r}})\n",
    "        floor_dict = {\"Weight\": {\"Column\":An_Col_Total,\"Beam\":An_Beam_Total,\"Slab\":An_Slab_Total,\"Shear Wall\":An_SW_Total,\"Wall\":An_Wall_Total,\"Total\":An},\"Moment of Inertia\": {\"Column\":Rn_Col_Total,\"Beam\":np.nan,\"Slab\":np.nan,\"Shear Wall\":Rn_SW_Total,\"Wall\":np.nan,\"Total\":Rn},\"WxD\": {\"Column\":AnDn_Col_Total,\"Beam\":AnDn_Beam_Total,\"Slab\":AnDn_Slab_Total,\"Shear Wall\":AnDn_SW_Total,\"Wall\":AnDn_Wall_Total,\"Total\":AnDn},\"IxD\": {\"Column\":RnDn_Col_Total,\"Beam\":np.nan,\"Slab\":np.nan,\"Shear Wall\":RnDn_SW_Total,\"Wall\":np.nan,\"Total\":RnDn}}\n",
    "\n",
    "        floor_dict_pd = pd.DataFrame(floor_dict)\n",
    "        empty_pd = empty_pd.append(floor_dict_pd[\"Weight\"])\n",
    "        floor_dict_pd1= style_dataframe(floor_dict_pd)\n",
    "        dfi.export(floor_dict_pd1,f\"{path_an_andn}\\\\Floor {i2 + 2 if i2 < 3 else 'Roof Deck'} {Axis} Axis.png\")\n",
    "    floor_dict_cmcr_pd = pd.DataFrame(floor_dict_cmcr).T\n",
    "    floor_dict_cmcr_pd = style_dataframe(floor_dict_cmcr_pd)\n",
    "    dfi.export(floor_dict_cmcr_pd,f\"{path_cr_cm}\\\\{Axis} Axis.png\")\n",
    "        # dfi.export(floor_dict_pd,f\"Floor {i2 + 2 if i2 < 3 else 'Roof Deck'} {Axis} Axis.png\")\n",
    "    return empty_pd\n",
    "\n",
    "\n",
    "floor_pd = perline(span_array_X.T,girder_span_X,height_list,shearwall_length = shearwall_length_X,shearwall_width = shearwall_width,shearwall_distance = shearwall_distance_X,slab_area = slab_array,slab_distance = slab_distance_X,slab_height = slab_thickness,wall_length = wall_length_X,wall_width = wall_width,wall_distance = wall_distance_X,x = True)\n",
    "floor_pd1 = perline(span_array_Y,girder_span_Y,height_list,shearwall_length = shearwall_length_Y,shearwall_width = shearwall_width,shearwall_distance = shearwall_distance_Y,slab_area = slab_array,slab_distance = slab_distance_Y,slab_height = slab_thickness,wall_length = wall_length_Y,wall_width = wall_width,wall_distance = wall_distance_Y,x = False)\n",
    "\n",
    "\n"
   ]
  },
  {
   "cell_type": "code",
   "execution_count": 43,
   "metadata": {},
   "outputs": [
    {
     "data": {
      "text/html": [
       "<div>\n",
       "<style scoped>\n",
       "    .dataframe tbody tr th:only-of-type {\n",
       "        vertical-align: middle;\n",
       "    }\n",
       "\n",
       "    .dataframe tbody tr th {\n",
       "        vertical-align: top;\n",
       "    }\n",
       "\n",
       "    .dataframe thead th {\n",
       "        text-align: right;\n",
       "    }\n",
       "</style>\n",
       "<table border=\"1\" class=\"dataframe\">\n",
       "  <thead>\n",
       "    <tr style=\"text-align: right;\">\n",
       "      <th></th>\n",
       "      <th>Column</th>\n",
       "      <th>Beam</th>\n",
       "      <th>Slab</th>\n",
       "      <th>Shear Wall</th>\n",
       "      <th>Wall</th>\n",
       "      <th>Total</th>\n",
       "    </tr>\n",
       "  </thead>\n",
       "  <tbody>\n",
       "    <tr>\n",
       "      <th>Weight</th>\n",
       "      <td>1.531 MN</td>\n",
       "      <td>1.877 MN</td>\n",
       "      <td>4.851 MN</td>\n",
       "      <td>367.536 kN</td>\n",
       "      <td>1.108 MN</td>\n",
       "      <td>9.736 MN</td>\n",
       "    </tr>\n",
       "    <tr>\n",
       "      <th>Weight</th>\n",
       "      <td>1.340 MN</td>\n",
       "      <td>1.877 MN</td>\n",
       "      <td>4.851 MN</td>\n",
       "      <td>321.594 kN</td>\n",
       "      <td>969.730 kN</td>\n",
       "      <td>9.360 MN</td>\n",
       "    </tr>\n",
       "    <tr>\n",
       "      <th>Weight</th>\n",
       "      <td>1.340 MN</td>\n",
       "      <td>1.877 MN</td>\n",
       "      <td>4.851 MN</td>\n",
       "      <td>321.594 kN</td>\n",
       "      <td>969.730 kN</td>\n",
       "      <td>9.360 MN</td>\n",
       "    </tr>\n",
       "    <tr>\n",
       "      <th>Weight</th>\n",
       "      <td>669.987 kN</td>\n",
       "      <td>1.877 MN</td>\n",
       "      <td>4.851 MN</td>\n",
       "      <td>160.797 kN</td>\n",
       "      <td>484.865 kN</td>\n",
       "      <td>8.044 MN</td>\n",
       "    </tr>\n",
       "  </tbody>\n",
       "</table>\n",
       "</div>"
      ],
      "text/plain": [
       "            Column      Beam      Slab  Shear Wall        Wall     Total\n",
       "Weight    1.531 MN  1.877 MN  4.851 MN  367.536 kN    1.108 MN  9.736 MN\n",
       "Weight    1.340 MN  1.877 MN  4.851 MN  321.594 kN  969.730 kN  9.360 MN\n",
       "Weight    1.340 MN  1.877 MN  4.851 MN  321.594 kN  969.730 kN  9.360 MN\n",
       "Weight  669.987 kN  1.877 MN  4.851 MN  160.797 kN  484.865 kN  8.044 MN"
      ]
     },
     "metadata": {},
     "output_type": "display_data"
    },
    {
     "data": {
      "text/html": [
       "<div>\n",
       "<style scoped>\n",
       "    .dataframe tbody tr th:only-of-type {\n",
       "        vertical-align: middle;\n",
       "    }\n",
       "\n",
       "    .dataframe tbody tr th {\n",
       "        vertical-align: top;\n",
       "    }\n",
       "\n",
       "    .dataframe thead th {\n",
       "        text-align: right;\n",
       "    }\n",
       "</style>\n",
       "<table border=\"1\" class=\"dataframe\">\n",
       "  <thead>\n",
       "    <tr style=\"text-align: right;\">\n",
       "      <th></th>\n",
       "      <th>Column</th>\n",
       "      <th>Beam</th>\n",
       "      <th>Slab</th>\n",
       "      <th>Shear Wall</th>\n",
       "      <th>Wall</th>\n",
       "      <th>Total</th>\n",
       "    </tr>\n",
       "  </thead>\n",
       "  <tbody>\n",
       "    <tr>\n",
       "      <th>Weight</th>\n",
       "      <td>1.531 MN</td>\n",
       "      <td>1.866 MN</td>\n",
       "      <td>4.851 MN</td>\n",
       "      <td>169.632 kN</td>\n",
       "      <td>1.306 MN</td>\n",
       "      <td>9.725 MN</td>\n",
       "    </tr>\n",
       "    <tr>\n",
       "      <th>Weight</th>\n",
       "      <td>1.340 MN</td>\n",
       "      <td>1.866 MN</td>\n",
       "      <td>4.851 MN</td>\n",
       "      <td>148.428 kN</td>\n",
       "      <td>1.143 MN</td>\n",
       "      <td>9.349 MN</td>\n",
       "    </tr>\n",
       "    <tr>\n",
       "      <th>Weight</th>\n",
       "      <td>1.340 MN</td>\n",
       "      <td>1.866 MN</td>\n",
       "      <td>4.851 MN</td>\n",
       "      <td>148.428 kN</td>\n",
       "      <td>1.143 MN</td>\n",
       "      <td>9.349 MN</td>\n",
       "    </tr>\n",
       "    <tr>\n",
       "      <th>Weight</th>\n",
       "      <td>669.987 kN</td>\n",
       "      <td>1.866 MN</td>\n",
       "      <td>4.851 MN</td>\n",
       "      <td>74.214 kN</td>\n",
       "      <td>571.448 kN</td>\n",
       "      <td>8.033 MN</td>\n",
       "    </tr>\n",
       "  </tbody>\n",
       "</table>\n",
       "</div>"
      ],
      "text/plain": [
       "            Column      Beam      Slab  Shear Wall        Wall     Total\n",
       "Weight    1.531 MN  1.866 MN  4.851 MN  169.632 kN    1.306 MN  9.725 MN\n",
       "Weight    1.340 MN  1.866 MN  4.851 MN  148.428 kN    1.143 MN  9.349 MN\n",
       "Weight    1.340 MN  1.866 MN  4.851 MN  148.428 kN    1.143 MN  9.349 MN\n",
       "Weight  669.987 kN  1.866 MN  4.851 MN   74.214 kN  571.448 kN  8.033 MN"
      ]
     },
     "metadata": {},
     "output_type": "display_data"
    },
    {
     "data": {
      "text/html": [
       "<div>\n",
       "<style scoped>\n",
       "    .dataframe tbody tr th:only-of-type {\n",
       "        vertical-align: middle;\n",
       "    }\n",
       "\n",
       "    .dataframe tbody tr th {\n",
       "        vertical-align: top;\n",
       "    }\n",
       "\n",
       "    .dataframe thead th {\n",
       "        text-align: right;\n",
       "    }\n",
       "</style>\n",
       "<table border=\"1\" class=\"dataframe\">\n",
       "  <thead>\n",
       "    <tr style=\"text-align: right;\">\n",
       "      <th></th>\n",
       "      <th>Column</th>\n",
       "      <th>Beam</th>\n",
       "      <th>Slab</th>\n",
       "      <th>Shear Wall</th>\n",
       "      <th>Wall</th>\n",
       "      <th>Total</th>\n",
       "    </tr>\n",
       "  </thead>\n",
       "  <tbody>\n",
       "    <tr>\n",
       "      <th>Roof Deck</th>\n",
       "      <td>669.987 kN</td>\n",
       "      <td>3.755 MN</td>\n",
       "      <td>4.851 MN</td>\n",
       "      <td>321.594 kN</td>\n",
       "      <td>969.730 kN</td>\n",
       "      <td>10.567308</td>\n",
       "    </tr>\n",
       "    <tr>\n",
       "      <th>Floor 3</th>\n",
       "      <td>1.340 MN</td>\n",
       "      <td>3.755 MN</td>\n",
       "      <td>4.851 MN</td>\n",
       "      <td>643.188 kN</td>\n",
       "      <td>1.939 MN</td>\n",
       "      <td>12.528619</td>\n",
       "    </tr>\n",
       "    <tr>\n",
       "      <th>Floor 2</th>\n",
       "      <td>1.340 MN</td>\n",
       "      <td>3.755 MN</td>\n",
       "      <td>4.851 MN</td>\n",
       "      <td>643.188 kN</td>\n",
       "      <td>1.939 MN</td>\n",
       "      <td>12.528619</td>\n",
       "    </tr>\n",
       "    <tr>\n",
       "      <th>Floor 1</th>\n",
       "      <td>1.531 MN</td>\n",
       "      <td>3.755 MN</td>\n",
       "      <td>4.851 MN</td>\n",
       "      <td>735.072 kN</td>\n",
       "      <td>2.217 MN</td>\n",
       "      <td>13.088994</td>\n",
       "    </tr>\n",
       "  </tbody>\n",
       "</table>\n",
       "</div>"
      ],
      "text/plain": [
       "               Column      Beam      Slab  Shear Wall        Wall      Total\n",
       "Roof Deck  669.987 kN  3.755 MN  4.851 MN  321.594 kN  969.730 kN  10.567308\n",
       "Floor 3      1.340 MN  3.755 MN  4.851 MN  643.188 kN    1.939 MN  12.528619\n",
       "Floor 2      1.340 MN  3.755 MN  4.851 MN  643.188 kN    1.939 MN  12.528619\n",
       "Floor 1      1.531 MN  3.755 MN  4.851 MN  735.072 kN    2.217 MN  13.088994"
      ]
     },
     "metadata": {},
     "output_type": "display_data"
    }
   ],
   "source": [
    "# Assuming df1 and df2 are your dataframes\n",
    "# result_df = floor_pd.copy()  # Copy df1 to our result\n",
    "display(floor_pd)\n",
    "display(floor_pd1)\n",
    "# Loop through each column\n",
    "\n",
    "result_df = pd.DataFrame(np.where(floor_pd != floor_pd1, floor_pd + floor_pd, floor_pd))\n",
    "result_df.columns = floor_pd.columns\n",
    "result_df.index = [f\"Floor {i + 1}\" if i < result_df.shape[0] -1 else \"Roof Deck\"  for i in range((result_df.shape[0]))]\n",
    "# # display(floor_pd)\n",
    "# # display(floor_pd1)\n",
    "# result_df[\"Total\"] = result_df.sum(axis = 1)\n",
    "# delete column total\n",
    "result_df = result_df.drop(columns = [\"Total\"])\n",
    "result_df[\"Total\"] = result_df.sum(axis = 1)  \n",
    "result_df = result_df.iloc[::-1]\n",
    "display(result_df)\n"
   ]
  },
  {
   "cell_type": "code",
   "execution_count": 44,
   "metadata": {},
   "outputs": [
    {
     "data": {
      "text/html": [
       "<div>\n",
       "<style scoped>\n",
       "    .dataframe tbody tr th:only-of-type {\n",
       "        vertical-align: middle;\n",
       "    }\n",
       "\n",
       "    .dataframe tbody tr th {\n",
       "        vertical-align: top;\n",
       "    }\n",
       "\n",
       "    .dataframe thead th {\n",
       "        text-align: right;\n",
       "    }\n",
       "</style>\n",
       "<table border=\"1\" class=\"dataframe\">\n",
       "  <thead>\n",
       "    <tr style=\"text-align: right;\">\n",
       "      <th></th>\n",
       "      <th>W</th>\n",
       "      <th>H</th>\n",
       "      <th>H_n</th>\n",
       "      <th>WxH</th>\n",
       "    </tr>\n",
       "  </thead>\n",
       "  <tbody>\n",
       "    <tr>\n",
       "      <th>Roof</th>\n",
       "      <td>13.088994</td>\n",
       "      <td>4.00</td>\n",
       "      <td>12.75</td>\n",
       "      <td>166.885 MN</td>\n",
       "    </tr>\n",
       "    <tr>\n",
       "      <th>Floor 4</th>\n",
       "      <td>12.528619</td>\n",
       "      <td>3.50</td>\n",
       "      <td>8.75</td>\n",
       "      <td>109.625 MN</td>\n",
       "    </tr>\n",
       "    <tr>\n",
       "      <th>Floor 3</th>\n",
       "      <td>12.528619</td>\n",
       "      <td>3.50</td>\n",
       "      <td>5.25</td>\n",
       "      <td>65.775 MN</td>\n",
       "    </tr>\n",
       "    <tr>\n",
       "      <th>Floor 2</th>\n",
       "      <td>10.567308</td>\n",
       "      <td>1.75</td>\n",
       "      <td>1.75</td>\n",
       "      <td>18.493 MN</td>\n",
       "    </tr>\n",
       "  </tbody>\n",
       "</table>\n",
       "</div>"
      ],
      "text/plain": [
       "                 W     H    H_n         WxH\n",
       "Roof     13.088994  4.00  12.75  166.885 MN\n",
       "Floor 4  12.528619  3.50   8.75  109.625 MN\n",
       "Floor 3  12.528619  3.50   5.25   65.775 MN\n",
       "Floor 2  10.567308  1.75   1.75   18.493 MN"
      ]
     },
     "execution_count": 44,
     "metadata": {},
     "output_type": "execute_result"
    }
   ],
   "source": [
    "W_list = result_df[\"Total\"].tolist()[::-1] \n",
    "\n",
    "\n",
    "\n",
    "H_n = height_list/m\n",
    "\n",
    "H_n_ = [j  for j in H_n]\n",
    "\n",
    "\n",
    "index =  [f\"Floor {i + 1}\" if i != len(H_n_) else \"Roof\" for i,j in enumerate(H_n_,1)][::-1]\n",
    "\n",
    "WH = pd.DataFrame([W_list,H_n_])\n",
    "WH = WH.T.set_index([index])\n",
    "WH[3] =   WH.loc[::-1, 1].cumsum()[::-1]\n",
    "WH[4] =   WH[0]*WH[3] *10**3* kN\n",
    "WH.columns = [\"W\",\"H\",\"H_n\",\"WxH\"]\n",
    "WH"
   ]
  },
  {
   "cell_type": "code",
   "execution_count": 45,
   "metadata": {},
   "outputs": [
    {
     "data": {
      "text/markdown": [
       "## C_t\n",
       "            "
      ],
      "text/plain": [
       "<IPython.core.display.Markdown object>"
      ]
     },
     "metadata": {},
     "output_type": "display_data"
    },
    {
     "data": {
      "text/latex": [
       "\\[\n",
       "\\begin{aligned}\n",
       "A_{e} &= 0.3 \\cdot 6 &= 1.80000  \n",
       "\\\\[10pt]\n",
       "A_{c} &= \\Sigma \\left( A_{e} \\cdot \\left( 0.2 + \\left( \\frac{ D_{e} }{ \\left( \\Sigma \\left( H_{n_{}} \\right) \\right) ^{ 2 } } \\right) \\right) \\right) \\\\&= \\Sigma \\left( 1.80000 \\cdot \\left( 0.2 + \\left( \\frac{ [5.50000,\\ 5.50000] }{ \\left( \\Sigma \\left( [4.50000,\\ 3.50000,\\ 3.50000,\\ 3.50000] \\right) \\right) ^{ 2 } } \\right) \\right) \\right) \\\\&= 0.80800  \\\\[10pt]\n",
       "\\\\[10pt]\n",
       "C_{t} &= 0.0743 \\cdot \\sqrt { A_{c} } \\\\&= 0.0743 \\cdot \\sqrt { 0.80800 } \\\\&= 0.06679  \\\\[10pt]\n",
       "\\end{aligned}\n",
       "\\]"
      ],
      "text/plain": [
       "<IPython.core.display.Latex object>"
      ]
     },
     "metadata": {},
     "output_type": "display_data"
    },
    {
     "data": {
      "text/markdown": [
       "## Parameters\n",
       "            "
      ],
      "text/plain": [
       "<IPython.core.display.Markdown object>"
      ]
     },
     "metadata": {},
     "output_type": "display_data"
    },
    {
     "data": {
      "text/latex": [
       "\\[\n",
       "\\begin{aligned}\n",
       "\\mathrm{Zone} &= 0.40000 \\; \n",
       " &\\mathrm{SeismicSource} &= A \\; \n",
       " &\\mathrm{Soil} &= \\mathrm{SD} \\; \n",
       "\\\\[10pt]\n",
       " I &= 1 \\; \n",
       " &R &= 8.50000 \\; \n",
       " &\\mathrm{Distance} &= 5.00000\\ \\mathrm{km} \\; \n",
       "\\\\[10pt]\n",
       " H_{n} &= 12.75000 \\; \n",
       " &C_{t} &= 0.06679 \\; \n",
       " &W &= 48.71354\\ \\mathrm{MN} \\; \n",
       "\\\\[10pt]\n",
       "\\end{aligned}\n",
       "\\]"
      ],
      "text/plain": [
       "<IPython.core.display.Latex object>"
      ]
     },
     "metadata": {},
     "output_type": "display_data"
    },
    {
     "data": {
      "text/markdown": [
       "## Nv,Na,Cv,Ca,T\n",
       "            "
      ],
      "text/plain": [
       "<IPython.core.display.Markdown object>"
      ]
     },
     "metadata": {},
     "output_type": "display_data"
    },
    {
     "data": {
      "text/latex": [
       "\\[\n",
       "\\begin{aligned}\n",
       "&\\text{Since, } \\mathrm{Distance} \\geq 5 \\rightarrow \\left( 5 \\geq 5 \\right) : \\; \\;\\textrm{(Table 208-6)} \\\\[10pt]\n",
       "\\mathrm{Na} &= 1.2 - \\left( \\left( \\frac{ \\mathrm{Distance} - 5 }{ 5 } \\right) \\cdot \\left( 1.2 - 1 \\right) \\right) \\\\&= 1.2 - \\left( \\left( \\frac{ 5 - 5 }{ 5 } \\right) \\cdot \\left( 1.2 - 1 \\right) \\right) \\\\&= 1.20000  \\\\[10pt]\n",
       "\\end{aligned}\n",
       "\\]"
      ],
      "text/plain": [
       "<IPython.core.display.Latex object>"
      ]
     },
     "metadata": {},
     "output_type": "display_data"
    },
    {
     "data": {
      "text/latex": [
       "\\[\n",
       "\\begin{aligned}\n",
       "&\\text{Since, } \\mathrm{Distance} \\geq 5 \\rightarrow \\left( 5 \\geq 5 \\right) : \\; \\;\\textrm{(Table 208-5)} \\\\[10pt]\n",
       "\\mathrm{Nv} &= 1.6 - \\left( \\left( \\frac{ \\mathrm{Distance} - 5 }{ 5 } \\right) \\cdot \\left( 1.6 - 1.2 \\right) \\right) \\\\&= 1.6 - \\left( \\left( \\frac{ 5 - 5 }{ 5 } \\right) \\cdot \\left( 1.6 - 1.2 \\right) \\right) \\\\&= 1.60000  \\\\[10pt]\n",
       "\\end{aligned}\n",
       "\\]"
      ],
      "text/plain": [
       "<IPython.core.display.Latex object>"
      ]
     },
     "metadata": {},
     "output_type": "display_data"
    },
    {
     "data": {
      "text/latex": [
       "\\[\n",
       "\\begin{aligned}\n",
       "&\\text{Since, } \\mathrm{Soil}_{Profile} \\rightarrow \\left( \\textrm{SD} \\right) : \\; \\;\\textrm{(Table 208-7)} \\\\[10pt]\n",
       "\\mathrm{Ca} &= 0.44 \\cdot \\mathrm{na} \\\\&= 0.44 \\cdot 1.20000 \\\\&= 0.52800  \\\\[10pt]\n",
       "\\end{aligned}\n",
       "\\]"
      ],
      "text/plain": [
       "<IPython.core.display.Latex object>"
      ]
     },
     "metadata": {},
     "output_type": "display_data"
    },
    {
     "data": {
      "text/latex": [
       "\\[\n",
       "\\begin{aligned}\n",
       "&\\text{Since, } \\mathrm{Soil}_{Profile} \\rightarrow \\left( \\textrm{SD} \\right) : \\; \\;\\textrm{(Table 208-8)} \\\\[10pt]\n",
       "\\mathrm{Cv} &= 0.64 \\cdot \\mathrm{nv} \\\\&= 0.64 \\cdot 1.60000 \\\\&= 1.02400  \\\\[10pt]\n",
       "\\end{aligned}\n",
       "\\]"
      ],
      "text/plain": [
       "<IPython.core.display.Latex object>"
      ]
     },
     "metadata": {},
     "output_type": "display_data"
    },
    {
     "data": {
      "text/latex": [
       "\\[\n",
       "\\begin{aligned}\n",
       "T &= C_{t} \\cdot \\left( \\Sigma \\left( H_{n} \\right) \\right) ^{ \\left( \\frac{ 3 }{ 4 } \\right) } \\\\&= 0.06679 \\cdot \\left( \\Sigma \\left( [4.00000,\\ 3.50000,\\ 3.50000,\\ 1.75000] \\right) \\right) ^{ \\left( \\frac{ 3 }{ 4 } \\right) } \\\\&= 0.45064 \\; \\;\\textrm{(Equation 208-12)}\\\\[10pt]\n",
       "\\end{aligned}\n",
       "\\]"
      ],
      "text/plain": [
       "<IPython.core.display.Latex object>"
      ]
     },
     "metadata": {},
     "output_type": "display_data"
    },
    {
     "data": {
      "text/markdown": [
       "## Base Shear\n",
       "            "
      ],
      "text/plain": [
       "<IPython.core.display.Markdown object>"
      ]
     },
     "metadata": {},
     "output_type": "display_data"
    },
    {
     "data": {
      "text/latex": [
       "\\[\n",
       "\\begin{aligned}\n",
       "V &= \\left( \\frac{ \\mathrm{cv} \\cdot I }{ r \\cdot t } \\right) \\cdot w \\\\&= \\left( \\frac{ 1.02400 \\cdot 1 }{ 8.50000 \\cdot 0.45064 } \\right) \\cdot 48.71354\\ \\mathrm{MN} \\\\&= 13.02278\\ \\mathrm{MN} \\; \\;\\textrm{(Equation 208-8)}\\\\[10pt]\n",
       "\\end{aligned}\n",
       "\\]"
      ],
      "text/plain": [
       "<IPython.core.display.Latex object>"
      ]
     },
     "metadata": {},
     "output_type": "display_data"
    },
    {
     "data": {
      "text/latex": [
       "\\[\n",
       "\\begin{aligned}\n",
       "V &= \\left( \\frac{ 2.5 \\cdot \\mathrm{ca} \\cdot I }{ r } \\right) \\cdot w \\\\&= \\left( \\frac{ 2.5 \\cdot 0.52800 \\cdot 1 }{ 8.50000 } \\right) \\cdot 48.71354\\ \\mathrm{MN} \\\\&= 7.56493\\ \\mathrm{MN} \\; \\;\\textrm{(Equation 208-9)}\\\\[10pt]\n",
       "\\end{aligned}\n",
       "\\]"
      ],
      "text/plain": [
       "<IPython.core.display.Latex object>"
      ]
     },
     "metadata": {},
     "output_type": "display_data"
    },
    {
     "data": {
      "text/latex": [
       "\\[\n",
       "\\begin{aligned}\n",
       "V &= 0.11 \\cdot \\mathrm{ca} \\cdot I \\cdot w \\\\&= 0.11 \\cdot 0.52800 \\cdot 1 \\cdot 48.71354\\ \\mathrm{MN} \\\\&= 2.82928\\ \\mathrm{MN} \\; \\;\\textrm{(Equation 208-10)}\\\\[10pt]\n",
       "\\end{aligned}\n",
       "\\]"
      ],
      "text/plain": [
       "<IPython.core.display.Latex object>"
      ]
     },
     "metadata": {},
     "output_type": "display_data"
    },
    {
     "data": {
      "text/latex": [
       "\\[\n",
       "\\begin{aligned}\n",
       "V &= \\left( \\frac{ 0.8 \\cdot z \\cdot \\mathrm{nv} \\cdot I }{ r } \\right) \\cdot w \\\\&= \\left( \\frac{ 0.8 \\cdot 0.40000 \\cdot 1.60000 \\cdot 1 }{ 8.50000 } \\right) \\cdot 48.71354\\ \\mathrm{MN} \\\\&= 2.93427\\ \\mathrm{MN} \\; \\;\\textrm{(Equation 208-11)}\\\\[10pt]\n",
       "\\end{aligned}\n",
       "\\]"
      ],
      "text/plain": [
       "<IPython.core.display.Latex object>"
      ]
     },
     "metadata": {},
     "output_type": "display_data"
    },
    {
     "data": {
      "text/latex": [
       "\\[\n",
       "\\begin{aligned}\n",
       "&\\text{Since, } v \\gt \\mathrm{vmax} \\rightarrow \\left( 13.02278\\ \\mathrm{MN} \\gt 7.56493\\ \\mathrm{MN} \\right) :   \\\\[10pt]\n",
       "\\mathrm{BaseShear} &= 7.56493\\ \\mathrm{MN} \\; \n",
       "\\end{aligned}\n",
       "\\]"
      ],
      "text/plain": [
       "<IPython.core.display.Latex object>"
      ]
     },
     "metadata": {},
     "output_type": "display_data"
    },
    {
     "data": {
      "text/latex": [
       "\\[\n",
       "\\begin{aligned}\n",
       "&\\text{Since, } t \\lt 0.7 \\rightarrow \\left( 0.45064 \\lt 0.7 \\right) :   \\\\[10pt]\n",
       "\\mathrm{ft} &= 0 \\; \n",
       "\\end{aligned}\n",
       "\\]"
      ],
      "text/plain": [
       "<IPython.core.display.Latex object>"
      ]
     },
     "metadata": {},
     "output_type": "display_data"
    },
    {
     "data": {
      "text/markdown": [
       "## Lateral Force\n",
       "            "
      ],
      "text/plain": [
       "<IPython.core.display.Markdown object>"
      ]
     },
     "metadata": {},
     "output_type": "display_data"
    },
    {
     "data": {
      "text/latex": [
       "\\[\n",
       "\\begin{aligned}\n",
       "F &= \\frac{ \\left( v - \\mathrm{ft} \\right) \\cdot \\mathrm{WixHi} }{ \\mathrm{WixHi}_{Total} } \\\\&= \\frac{ \\left( 7.56\\ \\mathrm{MN} - 0 \\right) \\cdot 166.88\\ \\mathrm{MN} }{ 360.78\\ \\mathrm{MN} } \\\\&= 3.50\\ \\mathrm{MN}  \\\\[10pt]\n",
       "\\end{aligned}\n",
       "\\]"
      ],
      "text/plain": [
       "<IPython.core.display.Latex object>"
      ]
     },
     "metadata": {},
     "output_type": "display_data"
    },
    {
     "data": {
      "text/latex": [
       "\\[\n",
       "\\begin{aligned}\n",
       "F &= \\frac{ \\left( v - \\mathrm{ft} \\right) \\cdot \\mathrm{WixHi} }{ \\mathrm{WixHi}_{Total} } \\\\&= \\frac{ \\left( 7.56\\ \\mathrm{MN} - 0 \\right) \\cdot 109.63\\ \\mathrm{MN} }{ 360.78\\ \\mathrm{MN} } \\\\&= 2.30\\ \\mathrm{MN}  \\\\[10pt]\n",
       "\\end{aligned}\n",
       "\\]"
      ],
      "text/plain": [
       "<IPython.core.display.Latex object>"
      ]
     },
     "metadata": {},
     "output_type": "display_data"
    },
    {
     "data": {
      "text/latex": [
       "\\[\n",
       "\\begin{aligned}\n",
       "F &= \\frac{ \\left( v - \\mathrm{ft} \\right) \\cdot \\mathrm{WixHi} }{ \\mathrm{WixHi}_{Total} } \\\\&= \\frac{ \\left( 7.56\\ \\mathrm{MN} - 0 \\right) \\cdot 65.78\\ \\mathrm{MN} }{ 360.78\\ \\mathrm{MN} } \\\\&= 1.38\\ \\mathrm{MN}  \\\\[10pt]\n",
       "\\end{aligned}\n",
       "\\]"
      ],
      "text/plain": [
       "<IPython.core.display.Latex object>"
      ]
     },
     "metadata": {},
     "output_type": "display_data"
    },
    {
     "data": {
      "text/latex": [
       "\\[\n",
       "\\begin{aligned}\n",
       "F &= \\frac{ \\left( v - \\mathrm{ft} \\right) \\cdot \\mathrm{WixHi} }{ \\mathrm{WixHi}_{Total} } \\\\&= \\frac{ \\left( 7.56\\ \\mathrm{MN} - 0 \\right) \\cdot 18.49\\ \\mathrm{MN} }{ 360.78\\ \\mathrm{MN} } \\\\&= 387.76\\ \\mathrm{kN}  \\\\[10pt]\n",
       "\\end{aligned}\n",
       "\\]"
      ],
      "text/plain": [
       "<IPython.core.display.Latex object>"
      ]
     },
     "metadata": {},
     "output_type": "display_data"
    },
    {
     "data": {
      "text/html": [
       "<div>\n",
       "<style scoped>\n",
       "    .dataframe tbody tr th:only-of-type {\n",
       "        vertical-align: middle;\n",
       "    }\n",
       "\n",
       "    .dataframe tbody tr th {\n",
       "        vertical-align: top;\n",
       "    }\n",
       "\n",
       "    .dataframe thead th {\n",
       "        text-align: right;\n",
       "    }\n",
       "</style>\n",
       "<table border=\"1\" class=\"dataframe\">\n",
       "  <thead>\n",
       "    <tr style=\"text-align: right;\">\n",
       "      <th></th>\n",
       "      <th>Forces</th>\n",
       "    </tr>\n",
       "  </thead>\n",
       "  <tbody>\n",
       "    <tr>\n",
       "      <th>F4</th>\n",
       "      <td>3.499 MN</td>\n",
       "    </tr>\n",
       "    <tr>\n",
       "      <th>F3</th>\n",
       "      <td>2.299 MN</td>\n",
       "    </tr>\n",
       "    <tr>\n",
       "      <th>F2</th>\n",
       "      <td>1.379 MN</td>\n",
       "    </tr>\n",
       "    <tr>\n",
       "      <th>F1</th>\n",
       "      <td>387.763 kN</td>\n",
       "    </tr>\n",
       "  </tbody>\n",
       "</table>\n",
       "</div>"
      ],
      "text/plain": [
       "        Forces\n",
       "F4    3.499 MN\n",
       "F3    2.299 MN\n",
       "F2    1.379 MN\n",
       "F1  387.763 kN"
      ]
     },
     "execution_count": 45,
     "metadata": {},
     "output_type": "execute_result"
    }
   ],
   "source": [
    "from math import sqrt\n",
    "zone = 0.4 \n",
    "SeismicSource_Type = \"A\"\n",
    "Soil_Profile = \"SD\"\n",
    "I = 1\n",
    "R = 8.5\n",
    "Distance = 5\n",
    "C_t = 0.731\n",
    "mode = \"long\"\n",
    "precision = 5\n",
    "D_e = np.array([6,6]) - 0.5\n",
    "height_list = np.array([4.5,3.5,3.5,3.5])\n",
    "H_n_ = height_list\n",
    "\n",
    "\n",
    "@handcalc(override=\"long\", jupyter_display=True, precision=precision)\n",
    "def c_t_finder(D_e,H_n_):\n",
    "    A_e = 0.3 * 6\n",
    "    A_c = sum(A_e*(0.2+(D_e/sum(H_n_)**2)))\n",
    "    C_t = 0.0743*sqrt(A_c)\n",
    "    return C_t\n",
    "\n",
    "\n",
    "\n",
    "@handcalc(override=\"params\", jupyter_display=True, precision=precision)\n",
    "def parameters(zone,SeismicSource_Type,Soil_Profile,I,R,Distance,H_n,C_t):\n",
    "    Zone = zone\n",
    "    SeismicSource = SeismicSource_Type\n",
    "    Soil = Soil_Profile\n",
    "    I = I\n",
    "    R = R\n",
    "    Distance = Distance * 10 ** 3 * m \n",
    "    H_n = sum(H_n)\n",
    "    C_t = C_t\n",
    "    W = sum(W_list) *10**3* kN\n",
    "    return W\n",
    "    \n",
    "@handcalc(override=mode, jupyter_display=True, precision=precision)\n",
    "def telastic(H_n,C_t):\n",
    "    T = C_t  * (sum(H_n) ** (3 / 4)) # Equation 208-12\n",
    "    return T\n",
    "\n",
    "@handcalc(override=mode, jupyter_display=True, precision=precision)\n",
    "def ircd(i):\n",
    "    if i == \"I\":x = 1.5\n",
    "    elif i == \"II\":x = 1.25\n",
    "    elif i == \"III\":x = 1\n",
    "    elif i == \"IV\":x = 1\n",
    "    elif i == \"V\":x = 1\n",
    "    return x\n",
    "\n",
    "\n",
    "@handcalc(override=mode, jupyter_display=True, precision=precision)\n",
    "def narcd(Distance):\n",
    "    if Distance >= 5 and Distance <= 10:Na = 1.2 - (((Distance - 5) / 5) * (1.2 - 1)) # Table 208-6\n",
    "    elif Distance >= 2 and Distance <= 5:Na = 1.5 - (((Distance - 2) / 3) * (1.5 - 1.2)) # Table 208-6\n",
    "    return Na\n",
    "\n",
    "\n",
    "@handcalc(override=mode, jupyter_display=True, precision=precision)\n",
    "def nvrcd(Distance):\n",
    "\n",
    "    if Distance >= 5 and Distance <= 10:Nv = 1.6 - (((Distance - 5) / 5) * (1.6 - 1.2)) # Table 208-5\n",
    "    elif Distance >= 2 and Distance <= 5:Nv = 2 - (((Distance - 2) / 3) * (2 - 1.6)) # Table 208-5\n",
    "    elif Distance >= 10 and Distance <= 15:Nv = 1.2 - (((Distance - 10) / 5) * (1.2 - 1)) # Table 208-5\n",
    "    return Nv\n",
    "\n",
    "\n",
    "@handcalc(override=mode, jupyter_display=True, precision=precision)\n",
    "def carcd(na, Soil_Profile):\n",
    "    if Soil_Profile == \"SA\":Ca = 0.32 * na # Table 208-7\n",
    "    elif Soil_Profile == \"SB\":Ca = 0.4 * na # Table 208-7\n",
    "    elif Soil_Profile == \"SC\":Ca = 0.4 * na # Table 208-7\n",
    "    elif Soil_Profile == \"SD\":Ca = 0.44 * na # Table 208-7\n",
    "    elif Soil_Profile == \"SE\":Ca = 0.44 * na # Table 208-7\n",
    "    return Ca\n",
    "\n",
    "\n",
    "@handcalc(override=mode, jupyter_display=True, precision=precision)\n",
    "def cvrcd(nv, Soil_Profile):\n",
    "    if Soil_Profile == \"SA\":Cv = 0.32 * nv # Table 208-8\n",
    "    elif Soil_Profile == \"SB\":Cv = 0.4 * nv # Table 208-8 \n",
    "    elif Soil_Profile == \"SC\":Cv = 0.56 * nv# Table 208-8\n",
    "    elif Soil_Profile == \"SD\":Cv = 0.64 * nv # Table 208-8\n",
    "    elif Soil_Profile == \"SE\":Cv = 0.96 * nv # Table 208-8\n",
    "    return Cv\n",
    "\n",
    "\n",
    "@handcalc(override=mode, jupyter_display=True, precision=precision)\n",
    "def BaseShear(cv, I, r, t, w):\n",
    "    V = ((cv * I) / (r * t)) * w # Equation 208-8\n",
    "    return V\n",
    "\n",
    "\n",
    "@handcalc(override=mode, jupyter_display=True, precision=precision)\n",
    "def MaxShear(ca, I, r, w):\n",
    "    V = ((2.5 * ca * I) / r) * w # Equation 208-9\n",
    "    return V\n",
    "\n",
    "\n",
    "@handcalc(override=mode, jupyter_display=True, precision=precision)\n",
    "def MinShear(ca, I, w):\n",
    "    V = 0.11 * ca * I * w # Equation 208-10\n",
    "    return V\n",
    "\n",
    "\n",
    "@handcalc(override=mode, jupyter_display=True, precision=precision)\n",
    "def Zone4(z, nv, I, r, w):\n",
    "    V = ((0.8 * z * nv * I) / r) * w # Equation 208-11\n",
    "    return V\n",
    "\n",
    "# @handcalc(override=mode, jupyter_display=True, precision=2)\n",
    "# def FBaseShear(v, vmax, V_min, V_zone4):\n",
    "\n",
    "#     if V_min > V_zone4:V_min = V_min\n",
    "#     else:V_min = V_zone4\n",
    "#     if v < V_min:BaseShear = V_min\n",
    "#     elif v > vmax:BaseShear = vmax\n",
    "#     else:BaseShear = v\n",
    "#     return BaseShear\n",
    "\n",
    "@handcalc(override=mode, jupyter_display=True, precision=precision)\n",
    "def FBaseShear(v, vmax, V_min, V_zone4):\n",
    "\n",
    "    if v < max(V_min,V_zone4):BaseShear = max(V_min,V_zone4)\n",
    "    elif v > vmax:BaseShear = vmax\n",
    "    else:BaseShear = v\n",
    "    return BaseShear\n",
    "\n",
    "@handcalc(override=mode, jupyter_display=True, precision=precision)\n",
    "def ft(t, v):\n",
    "    if t > 0.7 : ft = 0.07 * t * v # Equation 208-16\n",
    "    elif t < 0.7 : ft = 0\n",
    "    if ft > (0.25 * v):ft = 0.25 * v # Equation 208-16\n",
    "    return ft\n",
    "\n",
    "\n",
    "@handcalc(override=mode, jupyter_display=True, precision=2)\n",
    "def lateral_force(v, ft, WixHi,WixHi_Total,floor):\n",
    "    F = ((v - ft) * WixHi)/WixHi_Total\n",
    "    return F\n",
    "\n",
    "\n",
    "@handcalc(override=mode, jupyter_display=True, precision=precision)\n",
    "def lateral_force_top(v, ft, coefficient,WxH_Total,T):\n",
    "    F = (((v- ft) * coefficient)/WxH_Total) + ft\n",
    "    return F\n",
    "\n",
    "display(Markdown(f\"\"\"## C_t\n",
    "            \"\"\"))\n",
    "C_t = c_t_finder(D_e,H_n_)\n",
    "\n",
    "display(Markdown(f\"\"\"## Parameters\n",
    "            \"\"\"))\n",
    "# print(type(Distance))\n",
    "W = parameters(zone, SeismicSource_Type, Soil_Profile, I, R, Distance, H_n,C_t)\n",
    "display(Markdown(f\"\"\"## Nv,Na,Cv,Ca,T\n",
    "            \"\"\"))\n",
    "\n",
    "Na = narcd(Distance) # Table 208-5\n",
    "Nv = nvrcd(Distance) # Table 208-6\n",
    "Ca = carcd(Na, Soil_Profile)# Table 208-7\n",
    "Cv = cvrcd(Nv, Soil_Profile)# Table 208-8\n",
    "T = telastic(H_n,C_t) # Equation 208-12\n",
    "\n",
    "display(Markdown(f\"\"\"## Base Shear\n",
    "            \"\"\"))\n",
    "\n",
    "BaseShear = BaseShear(Cv, I, R, T, W) # Equation 208-8\n",
    "MaxShear = MaxShear(Ca, I, R, W)# Equation 208-9\n",
    "MinShear = MinShear(Ca, I, W)# Equation 208-10\n",
    "Zone4 = Zone4(zone, Nv, I, R, W)# Equation 208-11\n",
    "FBaseShear = FBaseShear(BaseShear, MaxShear, MinShear, Zone4)\n",
    "ft = ft(T, FBaseShear)# Equation 208-16\n",
    "\n",
    "display(Markdown(f\"\"\"## Lateral Force\n",
    "            \"\"\"))\n",
    "\n",
    "WxH_Total = WH[\"WxH\"].sum()\n",
    "\n",
    "asdas = [lateral_force(FBaseShear, ft, j,WxH_Total,i) for i,j in enumerate(WH[\"WxH\"],1) ]\n",
    "LateralPd = pd.DataFrame(asdas,index = [f\"F{i}\" for i,j in enumerate(asdas,1)][::-1],columns = [\"Forces\"])\n",
    "LateralPd\n"
   ]
  }
 ],
 "metadata": {
  "kernelspec": {
   "display_name": "Python 3 (ipykernel)",
   "language": "python",
   "name": "python3"
  },
  "language_info": {
   "codemirror_mode": {
    "name": "ipython",
    "version": 3
   },
   "file_extension": ".py",
   "mimetype": "text/x-python",
   "name": "python",
   "nbconvert_exporter": "python",
   "pygments_lexer": "ipython3",
   "version": "3.9.13"
  }
 },
 "nbformat": 4,
 "nbformat_minor": 4
}
