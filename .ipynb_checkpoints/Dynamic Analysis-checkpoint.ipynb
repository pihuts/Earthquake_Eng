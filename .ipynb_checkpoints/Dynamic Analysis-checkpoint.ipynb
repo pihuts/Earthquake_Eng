{
 "cells": [
  {
   "cell_type": "code",
   "execution_count": 29,
   "metadata": {},
   "outputs": [],
   "source": [
    "from sympy import Matrix,linear_eq_to_matrix,sympify,Eq,symbols,solve,pprint\n",
    "import numpy as np\n",
    "import handcalcs.render\n",
    "import forallpeople\n",
    "from numpy import pi\n",
    "forallpeople.environment(\"structural\", top_level=True)"
   ]
  },
  {
   "attachments": {},
   "cell_type": "markdown",
   "metadata": {},
   "source": [
    "## 1. FORMULATE THE STIFFNESS MATRICES FOR THE FF:\n",
    "1. 2 - STORY BLDG.\n",
    "2. 3 - STORY BLDG.\n",
    "3. 4 - STORY BLDG.\n",
    "4. 5 - STORY BLDG."
   ]
  },
  {
   "cell_type": "code",
   "execution_count": 30,
   "metadata": {},
   "outputs": [
    {
     "name": "stdout",
     "output_type": "stream",
     "text": [
      "MODE SHAPE: 2 - EQUATION\n"
     ]
    },
    {
     "data": {
      "text/latex": [
       "$\\displaystyle \\left[\\begin{matrix}k_{1} u_{1} - k_{2} \\left(- u_{1} + u_{2}\\right) + m_{1} y_{1 a}\\\\k_{2} \\left(- u_{1} + u_{2}\\right) + m_{2} y_{2 a}\\end{matrix}\\right]$"
      ],
      "text/plain": [
       "Matrix([\n",
       "[k1*u1 - k2*(-u1 + u2) + m1*y1_a],\n",
       "[        k2*(-u1 + u2) + m2*y2_a]])"
      ]
     },
     "metadata": {},
     "output_type": "display_data"
    },
    {
     "name": "stdout",
     "output_type": "stream",
     "text": [
      "MODE SHAPE: 2 - STIFFNESS MATRIX\n"
     ]
    },
    {
     "data": {
      "text/latex": [
       "$\\displaystyle \\left[\\begin{matrix}k_{1} + k_{2} & - k_{2}\\\\- k_{2} & k_{2}\\end{matrix}\\right]$"
      ],
      "text/plain": [
       "Matrix([\n",
       "[k1 + k2, -k2],\n",
       "[    -k2,  k2]])"
      ]
     },
     "metadata": {},
     "output_type": "display_data"
    },
    {
     "data": {
      "text/latex": [
       "$\\displaystyle \\left[\\begin{matrix}u_{1}\\\\u_{2}\\end{matrix}\\right]$"
      ],
      "text/plain": [
       "Matrix([\n",
       "[u1],\n",
       "[u2]])"
      ]
     },
     "metadata": {},
     "output_type": "display_data"
    },
    {
     "name": "stdout",
     "output_type": "stream",
     "text": [
      "MODE SHAPE: 2 - MASS MATRIX\n"
     ]
    },
    {
     "data": {
      "text/latex": [
       "$\\displaystyle \\left[\\begin{matrix}m_{1} & 0\\\\0 & m_{2}\\end{matrix}\\right]$"
      ],
      "text/plain": [
       "Matrix([\n",
       "[m1,  0],\n",
       "[ 0, m2]])"
      ]
     },
     "metadata": {},
     "output_type": "display_data"
    },
    {
     "data": {
      "text/latex": [
       "$\\displaystyle \\left[\\begin{matrix}y_{1 a}\\\\y_{2 a}\\end{matrix}\\right]$"
      ],
      "text/plain": [
       "Matrix([\n",
       "[y1_a],\n",
       "[y2_a]])"
      ]
     },
     "metadata": {},
     "output_type": "display_data"
    },
    {
     "name": "stdout",
     "output_type": "stream",
     "text": [
      "MODE SHAPE: 3 - EQUATION\n"
     ]
    },
    {
     "data": {
      "text/latex": [
       "$\\displaystyle \\left[\\begin{matrix}k_{1} u_{1} - k_{2} \\left(- u_{1} + u_{2}\\right) + m_{1} y_{1 a}\\\\k_{2} \\left(- u_{1} + u_{2}\\right) - k_{3} \\left(- u_{2} + u_{3}\\right) + m_{2} y_{2 a}\\\\k_{3} \\left(- u_{2} + u_{3}\\right) + m_{3} y_{3 a}\\end{matrix}\\right]$"
      ],
      "text/plain": [
       "Matrix([\n",
       "[        k1*u1 - k2*(-u1 + u2) + m1*y1_a],\n",
       "[k2*(-u1 + u2) - k3*(-u2 + u3) + m2*y2_a],\n",
       "[                k3*(-u2 + u3) + m3*y3_a]])"
      ]
     },
     "metadata": {},
     "output_type": "display_data"
    },
    {
     "name": "stdout",
     "output_type": "stream",
     "text": [
      "MODE SHAPE: 3 - STIFFNESS MATRIX\n"
     ]
    },
    {
     "data": {
      "text/latex": [
       "$\\displaystyle \\left[\\begin{matrix}k_{1} + k_{2} & - k_{2} & 0\\\\- k_{2} & k_{2} + k_{3} & - k_{3}\\\\0 & - k_{3} & k_{3}\\end{matrix}\\right]$"
      ],
      "text/plain": [
       "Matrix([\n",
       "[k1 + k2,     -k2,   0],\n",
       "[    -k2, k2 + k3, -k3],\n",
       "[      0,     -k3,  k3]])"
      ]
     },
     "metadata": {},
     "output_type": "display_data"
    },
    {
     "data": {
      "text/latex": [
       "$\\displaystyle \\left[\\begin{matrix}u_{1}\\\\u_{2}\\\\u_{3}\\end{matrix}\\right]$"
      ],
      "text/plain": [
       "Matrix([\n",
       "[u1],\n",
       "[u2],\n",
       "[u3]])"
      ]
     },
     "metadata": {},
     "output_type": "display_data"
    },
    {
     "name": "stdout",
     "output_type": "stream",
     "text": [
      "MODE SHAPE: 3 - MASS MATRIX\n"
     ]
    },
    {
     "data": {
      "text/latex": [
       "$\\displaystyle \\left[\\begin{matrix}m_{1} & 0 & 0\\\\0 & m_{2} & 0\\\\0 & 0 & m_{3}\\end{matrix}\\right]$"
      ],
      "text/plain": [
       "Matrix([\n",
       "[m1,  0,  0],\n",
       "[ 0, m2,  0],\n",
       "[ 0,  0, m3]])"
      ]
     },
     "metadata": {},
     "output_type": "display_data"
    },
    {
     "data": {
      "text/latex": [
       "$\\displaystyle \\left[\\begin{matrix}y_{1 a}\\\\y_{2 a}\\\\y_{3 a}\\end{matrix}\\right]$"
      ],
      "text/plain": [
       "Matrix([\n",
       "[y1_a],\n",
       "[y2_a],\n",
       "[y3_a]])"
      ]
     },
     "metadata": {},
     "output_type": "display_data"
    },
    {
     "name": "stdout",
     "output_type": "stream",
     "text": [
      "MODE SHAPE: 4 - EQUATION\n"
     ]
    },
    {
     "data": {
      "text/latex": [
       "$\\displaystyle \\left[\\begin{matrix}k_{1} u_{1} - k_{2} \\left(- u_{1} + u_{2}\\right) + m_{1} y_{1 a}\\\\k_{2} \\left(- u_{1} + u_{2}\\right) - k_{3} \\left(- u_{2} + u_{3}\\right) + m_{2} y_{2 a}\\\\k_{3} \\left(- u_{2} + u_{3}\\right) - k_{4} \\left(- u_{3} + u_{4}\\right) + m_{3} y_{3 a}\\\\k_{4} \\left(- u_{3} + u_{4}\\right) + m_{4} y_{4 a}\\end{matrix}\\right]$"
      ],
      "text/plain": [
       "Matrix([\n",
       "[        k1*u1 - k2*(-u1 + u2) + m1*y1_a],\n",
       "[k2*(-u1 + u2) - k3*(-u2 + u3) + m2*y2_a],\n",
       "[k3*(-u2 + u3) - k4*(-u3 + u4) + m3*y3_a],\n",
       "[                k4*(-u3 + u4) + m4*y4_a]])"
      ]
     },
     "metadata": {},
     "output_type": "display_data"
    },
    {
     "name": "stdout",
     "output_type": "stream",
     "text": [
      "MODE SHAPE: 4 - STIFFNESS MATRIX\n"
     ]
    },
    {
     "data": {
      "text/latex": [
       "$\\displaystyle \\left[\\begin{matrix}k_{1} + k_{2} & - k_{2} & 0 & 0\\\\- k_{2} & k_{2} + k_{3} & - k_{3} & 0\\\\0 & - k_{3} & k_{3} + k_{4} & - k_{4}\\\\0 & 0 & - k_{4} & k_{4}\\end{matrix}\\right]$"
      ],
      "text/plain": [
       "Matrix([\n",
       "[k1 + k2,     -k2,       0,   0],\n",
       "[    -k2, k2 + k3,     -k3,   0],\n",
       "[      0,     -k3, k3 + k4, -k4],\n",
       "[      0,       0,     -k4,  k4]])"
      ]
     },
     "metadata": {},
     "output_type": "display_data"
    },
    {
     "data": {
      "text/latex": [
       "$\\displaystyle \\left[\\begin{matrix}u_{1}\\\\u_{2}\\\\u_{3}\\\\u_{4}\\end{matrix}\\right]$"
      ],
      "text/plain": [
       "Matrix([\n",
       "[u1],\n",
       "[u2],\n",
       "[u3],\n",
       "[u4]])"
      ]
     },
     "metadata": {},
     "output_type": "display_data"
    },
    {
     "name": "stdout",
     "output_type": "stream",
     "text": [
      "MODE SHAPE: 4 - MASS MATRIX\n"
     ]
    },
    {
     "data": {
      "text/latex": [
       "$\\displaystyle \\left[\\begin{matrix}m_{1} & 0 & 0 & 0\\\\0 & m_{2} & 0 & 0\\\\0 & 0 & m_{3} & 0\\\\0 & 0 & 0 & m_{4}\\end{matrix}\\right]$"
      ],
      "text/plain": [
       "Matrix([\n",
       "[m1,  0,  0,  0],\n",
       "[ 0, m2,  0,  0],\n",
       "[ 0,  0, m3,  0],\n",
       "[ 0,  0,  0, m4]])"
      ]
     },
     "metadata": {},
     "output_type": "display_data"
    },
    {
     "data": {
      "text/latex": [
       "$\\displaystyle \\left[\\begin{matrix}y_{1 a}\\\\y_{2 a}\\\\y_{3 a}\\\\y_{4 a}\\end{matrix}\\right]$"
      ],
      "text/plain": [
       "Matrix([\n",
       "[y1_a],\n",
       "[y2_a],\n",
       "[y3_a],\n",
       "[y4_a]])"
      ]
     },
     "metadata": {},
     "output_type": "display_data"
    },
    {
     "name": "stdout",
     "output_type": "stream",
     "text": [
      "MODE SHAPE: 5 - EQUATION\n"
     ]
    },
    {
     "data": {
      "text/latex": [
       "$\\displaystyle \\left[\\begin{matrix}k_{1} u_{1} - k_{2} \\left(- u_{1} + u_{2}\\right) + m_{1} y_{1 a}\\\\k_{2} \\left(- u_{1} + u_{2}\\right) - k_{3} \\left(- u_{2} + u_{3}\\right) + m_{2} y_{2 a}\\\\k_{3} \\left(- u_{2} + u_{3}\\right) - k_{4} \\left(- u_{3} + u_{4}\\right) + m_{3} y_{3 a}\\\\k_{4} \\left(- u_{3} + u_{4}\\right) - k_{5} \\left(- u_{4} + u_{5}\\right) + m_{4} y_{4 a}\\\\k_{5} \\left(- u_{4} + u_{5}\\right) + m_{5} y_{5 a}\\end{matrix}\\right]$"
      ],
      "text/plain": [
       "Matrix([\n",
       "[        k1*u1 - k2*(-u1 + u2) + m1*y1_a],\n",
       "[k2*(-u1 + u2) - k3*(-u2 + u3) + m2*y2_a],\n",
       "[k3*(-u2 + u3) - k4*(-u3 + u4) + m3*y3_a],\n",
       "[k4*(-u3 + u4) - k5*(-u4 + u5) + m4*y4_a],\n",
       "[                k5*(-u4 + u5) + m5*y5_a]])"
      ]
     },
     "metadata": {},
     "output_type": "display_data"
    },
    {
     "name": "stdout",
     "output_type": "stream",
     "text": [
      "MODE SHAPE: 5 - STIFFNESS MATRIX\n"
     ]
    },
    {
     "data": {
      "text/latex": [
       "$\\displaystyle \\left[\\begin{matrix}k_{1} + k_{2} & - k_{2} & 0 & 0 & 0\\\\- k_{2} & k_{2} + k_{3} & - k_{3} & 0 & 0\\\\0 & - k_{3} & k_{3} + k_{4} & - k_{4} & 0\\\\0 & 0 & - k_{4} & k_{4} + k_{5} & - k_{5}\\\\0 & 0 & 0 & - k_{5} & k_{5}\\end{matrix}\\right]$"
      ],
      "text/plain": [
       "Matrix([\n",
       "[k1 + k2,     -k2,       0,       0,   0],\n",
       "[    -k2, k2 + k3,     -k3,       0,   0],\n",
       "[      0,     -k3, k3 + k4,     -k4,   0],\n",
       "[      0,       0,     -k4, k4 + k5, -k5],\n",
       "[      0,       0,       0,     -k5,  k5]])"
      ]
     },
     "metadata": {},
     "output_type": "display_data"
    },
    {
     "data": {
      "text/latex": [
       "$\\displaystyle \\left[\\begin{matrix}u_{1}\\\\u_{2}\\\\u_{3}\\\\u_{4}\\\\u_{5}\\end{matrix}\\right]$"
      ],
      "text/plain": [
       "Matrix([\n",
       "[u1],\n",
       "[u2],\n",
       "[u3],\n",
       "[u4],\n",
       "[u5]])"
      ]
     },
     "metadata": {},
     "output_type": "display_data"
    },
    {
     "name": "stdout",
     "output_type": "stream",
     "text": [
      "MODE SHAPE: 5 - MASS MATRIX\n"
     ]
    },
    {
     "data": {
      "text/latex": [
       "$\\displaystyle \\left[\\begin{matrix}m_{1} & 0 & 0 & 0 & 0\\\\0 & m_{2} & 0 & 0 & 0\\\\0 & 0 & m_{3} & 0 & 0\\\\0 & 0 & 0 & m_{4} & 0\\\\0 & 0 & 0 & 0 & m_{5}\\end{matrix}\\right]$"
      ],
      "text/plain": [
       "Matrix([\n",
       "[m1,  0,  0,  0,  0],\n",
       "[ 0, m2,  0,  0,  0],\n",
       "[ 0,  0, m3,  0,  0],\n",
       "[ 0,  0,  0, m4,  0],\n",
       "[ 0,  0,  0,  0, m5]])"
      ]
     },
     "metadata": {},
     "output_type": "display_data"
    },
    {
     "data": {
      "text/latex": [
       "$\\displaystyle \\left[\\begin{matrix}y_{1 a}\\\\y_{2 a}\\\\y_{3 a}\\\\y_{4 a}\\\\y_{5 a}\\end{matrix}\\right]$"
      ],
      "text/plain": [
       "Matrix([\n",
       "[y1_a],\n",
       "[y2_a],\n",
       "[y3_a],\n",
       "[y4_a],\n",
       "[y5_a]])"
      ]
     },
     "metadata": {},
     "output_type": "display_data"
    }
   ],
   "source": [
    "def get_matrix_eqn(mode_shape):\n",
    "\n",
    "        mode_number = mode_shape\n",
    "        k1,k2,k3,k4,k5,u1,u2,u3,u4,u5,m1,m2,m3,m4,m5,y1_a,y2_a,y3_a,y4_a,y5_a,wj2 = symbols('k1 k2 k3 k4 k5 u1 u2 u3 u4 u5 m1 m2 m3 m4 m5 y1_a y2_a y3_a y4_a y5_a,w_j')\n",
    "        varible_list = [k1,k2,k3,k4,k5,u1,u2,u3,u4,u5,m1,m2,m3,m4,m5,y1_a,y2_a,y3_a,y4_a,y5_a]\n",
    "        k_list = [k1,k2,k3,k4,k5]\n",
    "        u_list = [u1,u2,u3,u4,u5]\n",
    "        m_list = [m1,m2,m3,m4,m5]\n",
    "        y_list = [y1_a,y2_a,y3_a,y4_a,y5_a]\n",
    "        mode_shape = np.arange(mode_shape)\n",
    "        k_equation_string = [f\"m{i}*y{i}_a + k{i}*(u{i} - {0 if i == 1 else f'u{i-1}'}) - k{i+1}*(u{i+1} -u{i})\" if i != len(mode_shape) else f\"m{i}*y{i}_a + k{i}*(u{i} -u{i-1})\" for i,k in enumerate(mode_shape,1)]\n",
    "        m_equation_string = [f\"m{i}*y{i}_a \" for i,k in enumerate(mode_shape,1)]\n",
    "        k_equation_array = Matrix(k_equation_string)\n",
    "        m_equation_array = Matrix(m_equation_string)\n",
    "        print(f\"MODE SHAPE: {mode_number} - EQUATION\")\n",
    "        display(k_equation_array)\n",
    "        u_shape = [u_list[i] for i,j in enumerate(mode_shape)]\n",
    "        m_shape = [m_list[i] for i,j in enumerate(mode_shape)]\n",
    "        y_shape = [y_list[i] for i,j in enumerate(mode_shape)]\n",
    "        k_shape = [k_list[i] for i,j in enumerate(mode_shape)]\n",
    "\n",
    "        k_equation_expression = [Eq(sympify(j),0) for j in k_equation_string]\n",
    "        m_equation_expression = [Eq(sympify(j),0) for j in m_equation_string]\n",
    "        # eqns = [k1*(u1-u2),k2*(u2-u3)-k1*(u1-u2),k3*(u3-u1)-k2*(u2-u3)]\n",
    "        stiffness_matrix, b = linear_eq_to_matrix(k_equation_expression, u_shape)\n",
    "        print(f\"MODE SHAPE: {mode_number} - STIFFNESS MATRIX\")\n",
    "        u_matrix = Matrix(u_shape)\n",
    "        display(stiffness_matrix,u_matrix )\n",
    "        \n",
    "        mass_matrix, b = linear_eq_to_matrix(m_equation_expression, y_shape)\n",
    "        print(f\"MODE SHAPE: {mode_number} - MASS MATRIX\")\n",
    "        y_matrix = Matrix(y_shape)\n",
    "        display(mass_matrix,y_matrix )\n",
    "        return stiffness_matrix,mass_matrix,u_matrix,y_matrix\n",
    "\n",
    "\n",
    "mode_shape_ = 5\n",
    "mode_shape__ = [i+1 for i in range(mode_shape_)]\n",
    "for i1,mode_shape in enumerate(mode_shape__,1):\n",
    "    if i1 != 1:\n",
    "        get_matrix_eqn(mode_shape)\n",
    "k1,k2,k3,k4,k5,u1,u2,u3,u4,u5,m1,m2,m3,m4,m5,y1_a,y2_a,y3_a,y4_a,y5_a,wj2 = symbols('k1 k2 k3 k4 k5 u1 u2 u3 u4 u5 m1 m2 m3 m4 m5 y1_a y2_a y3_a y4_a y5_a,w_j')\n",
    "varible_list = [k1,k2,k3,k4,k5,u1,u2,u3,u4,u5,m1,m2,m3,m4,m5,y1_a,y2_a,y3_a,y4_a,y5_a]\n",
    "k_list = [k1,k2,k3,k4,k5]\n",
    "u_list = [u1,u2,u3,u4,u5]\n",
    "m_list = [m1,m2,m3,m4,m5]\n",
    "y_list = [y1_a,y2_a,y3_a,y4_a,y5_a]"
   ]
  },
  {
   "attachments": {},
   "cell_type": "markdown",
   "metadata": {},
   "source": [
    "## 2. COMPUTE THE FF FOR A 3 STORY BLDG:\n",
    "1. w_j\n",
    "2. 0_ij\n",
    "3. r_j"
   ]
  },
  {
   "attachments": {},
   "cell_type": "markdown",
   "metadata": {},
   "source": [
    "### GIVEN"
   ]
  },
  {
   "cell_type": "code",
   "execution_count": 31,
   "metadata": {},
   "outputs": [
    {
     "data": {
      "text/latex": [
       "\\[\n",
       "\\begin{aligned}\n",
       "m_{1} &= 3000 \\; \\;\\textrm{(in kg)}\n",
       "\\\\[10pt]\n",
       "m_{2} &= 3000 \\; \\;\\textrm{(in kg)}\n",
       "\\\\[10pt]\n",
       "m_{3} &= 2000 \\; \\;\\textrm{(in kg)}\n",
       "\\\\[10pt]\n",
       "k_{1} &= 40 \\cdot \\left( 10 \\right) ^{ 6 } &= 40000000 \\; \\;\\textrm{(in N/m)}\n",
       "\\\\[10pt]\n",
       "k_{2} &= 40 \\cdot \\left( 10 \\right) ^{ 6 } &= 40000000 \\; \\;\\textrm{(in N/m)}\n",
       "\\\\[10pt]\n",
       "k_{3} &= 35 \\cdot \\left( 10 \\right) ^{ 6 } &= 35000000 \\; \\;\\textrm{(in N/m)}\n",
       "\\end{aligned}\n",
       "\\]"
      ],
      "text/plain": [
       "<IPython.core.display.Latex object>"
      ]
     },
     "metadata": {},
     "output_type": "display_data"
    }
   ],
   "source": [
    "%%render \n",
    "m_1 = 3000 # in kg\n",
    "m_2 = 3000 # in kg\n",
    "m_3 = 2000 # in kg\n",
    "k_1 = 40 * 10**6 # in N/m\n",
    "k_2 = 40 * 10**6 # in N/m\n",
    "k_3 = 35 * 10**6 # in N/m\n"
   ]
  },
  {
   "cell_type": "code",
   "execution_count": 32,
   "metadata": {},
   "outputs": [
    {
     "name": "stdout",
     "output_type": "stream",
     "text": [
      "MODE SHAPE: 3 - EQUATION\n"
     ]
    },
    {
     "data": {
      "text/latex": [
       "$\\displaystyle \\left[\\begin{matrix}k_{1} u_{1} - k_{2} \\left(- u_{1} + u_{2}\\right) + m_{1} y_{1 a}\\\\k_{2} \\left(- u_{1} + u_{2}\\right) - k_{3} \\left(- u_{2} + u_{3}\\right) + m_{2} y_{2 a}\\\\k_{3} \\left(- u_{2} + u_{3}\\right) + m_{3} y_{3 a}\\end{matrix}\\right]$"
      ],
      "text/plain": [
       "Matrix([\n",
       "[        k1*u1 - k2*(-u1 + u2) + m1*y1_a],\n",
       "[k2*(-u1 + u2) - k3*(-u2 + u3) + m2*y2_a],\n",
       "[                k3*(-u2 + u3) + m3*y3_a]])"
      ]
     },
     "metadata": {},
     "output_type": "display_data"
    },
    {
     "name": "stdout",
     "output_type": "stream",
     "text": [
      "MODE SHAPE: 3 - STIFFNESS MATRIX\n"
     ]
    },
    {
     "data": {
      "text/latex": [
       "$\\displaystyle \\left[\\begin{matrix}k_{1} + k_{2} & - k_{2} & 0\\\\- k_{2} & k_{2} + k_{3} & - k_{3}\\\\0 & - k_{3} & k_{3}\\end{matrix}\\right]$"
      ],
      "text/plain": [
       "Matrix([\n",
       "[k1 + k2,     -k2,   0],\n",
       "[    -k2, k2 + k3, -k3],\n",
       "[      0,     -k3,  k3]])"
      ]
     },
     "metadata": {},
     "output_type": "display_data"
    },
    {
     "data": {
      "text/latex": [
       "$\\displaystyle \\left[\\begin{matrix}u_{1}\\\\u_{2}\\\\u_{3}\\end{matrix}\\right]$"
      ],
      "text/plain": [
       "Matrix([\n",
       "[u1],\n",
       "[u2],\n",
       "[u3]])"
      ]
     },
     "metadata": {},
     "output_type": "display_data"
    },
    {
     "name": "stdout",
     "output_type": "stream",
     "text": [
      "MODE SHAPE: 3 - MASS MATRIX\n"
     ]
    },
    {
     "data": {
      "text/latex": [
       "$\\displaystyle \\left[\\begin{matrix}m_{1} & 0 & 0\\\\0 & m_{2} & 0\\\\0 & 0 & m_{3}\\end{matrix}\\right]$"
      ],
      "text/plain": [
       "Matrix([\n",
       "[m1,  0,  0],\n",
       "[ 0, m2,  0],\n",
       "[ 0,  0, m3]])"
      ]
     },
     "metadata": {},
     "output_type": "display_data"
    },
    {
     "data": {
      "text/latex": [
       "$\\displaystyle \\left[\\begin{matrix}y_{1 a}\\\\y_{2 a}\\\\y_{3 a}\\end{matrix}\\right]$"
      ],
      "text/plain": [
       "Matrix([\n",
       "[y1_a],\n",
       "[y2_a],\n",
       "[y3_a]])"
      ]
     },
     "metadata": {},
     "output_type": "display_data"
    }
   ],
   "source": [
    "stiffness_matrix,mass_matrix,u_matrix,y_matrix = get_matrix_eqn(3)\n"
   ]
  },
  {
   "cell_type": "markdown",
   "metadata": {},
   "source": [
    "### SUBSTITUTE VALUES TO MATRIX"
   ]
  },
  {
   "cell_type": "code",
   "execution_count": 33,
   "metadata": {},
   "outputs": [
    {
     "name": "stdout",
     "output_type": "stream",
     "text": [
      "SUBSTITUTE VALUES TO STIFFNESS MATRIX\n"
     ]
    },
    {
     "data": {
      "text/latex": [
       "$\\displaystyle \\left[\\begin{matrix}80000000 & -40000000 & 0\\\\-40000000 & 75000000 & -35000000\\\\0 & -35000000 & 35000000\\end{matrix}\\right]$"
      ],
      "text/plain": [
       "Matrix([\n",
       "[ 80000000, -40000000,         0],\n",
       "[-40000000,  75000000, -35000000],\n",
       "[        0, -35000000,  35000000]])"
      ]
     },
     "metadata": {},
     "output_type": "display_data"
    },
    {
     "name": "stdout",
     "output_type": "stream",
     "text": [
      "SUBSTITUTE VALUES TO MASS MATRIX\n"
     ]
    },
    {
     "data": {
      "text/latex": [
       "$\\displaystyle \\left[\\begin{matrix}3000 & 0 & 0\\\\0 & 3000 & 0\\\\0 & 0 & 2000\\end{matrix}\\right]$"
      ],
      "text/plain": [
       "Matrix([\n",
       "[3000,    0,    0],\n",
       "[   0, 3000,    0],\n",
       "[   0,    0, 2000]])"
      ]
     },
     "metadata": {},
     "output_type": "display_data"
    },
    {
     "name": "stdout",
     "output_type": "stream",
     "text": [
      "MASS MATRIX X wj^2\n"
     ]
    },
    {
     "data": {
      "text/latex": [
       "$\\displaystyle \\left[\\begin{matrix}3000 w_{j}^{2} & 0 & 0\\\\0 & 3000 w_{j}^{2} & 0\\\\0 & 0 & 2000 w_{j}^{2}\\end{matrix}\\right]$"
      ],
      "text/plain": [
       "Matrix([\n",
       "[3000*w_j**2,           0,           0],\n",
       "[          0, 3000*w_j**2,           0],\n",
       "[          0,           0, 2000*w_j**2]])"
      ]
     },
     "metadata": {},
     "output_type": "display_data"
    },
    {
     "name": "stdout",
     "output_type": "stream",
     "text": [
      "STIFFNESS MATRIX - MASS MATRIX X wj^2\n"
     ]
    },
    {
     "data": {
      "text/latex": [
       "$\\displaystyle \\left[\\begin{matrix}80000000 - 3000 w_{j}^{2} & -40000000 & 0\\\\-40000000 & 75000000 - 3000 w_{j}^{2} & -35000000\\\\0 & -35000000 & 35000000 - 2000 w_{j}^{2}\\end{matrix}\\right]$"
      ],
      "text/plain": [
       "Matrix([\n",
       "[80000000 - 3000*w_j**2,              -40000000,                      0],\n",
       "[             -40000000, 75000000 - 3000*w_j**2,              -35000000],\n",
       "[                     0,              -35000000, 35000000 - 2000*w_j**2]])"
      ]
     },
     "metadata": {},
     "output_type": "display_data"
    },
    {
     "name": "stdout",
     "output_type": "stream",
     "text": [
      "DETERMINANT OF STIFFNESS MATRIX - MASS MATRIX X wj^2\n"
     ]
    },
    {
     "data": {
      "text/latex": [
       "$\\displaystyle - 18000000000 w_{j}^{6} + 1245000000000000 w_{j}^{4} - 21400000000000000000 w_{j}^{2} + 56000000000000000000000$"
      ],
      "text/plain": [
       "-18000000000*w_j**6 + 1245000000000000*w_j**4 - 21400000000000000000*w_j**2 + 56000000000000000000000"
      ]
     },
     "metadata": {},
     "output_type": "display_data"
    },
    {
     "name": "stdout",
     "output_type": "stream",
     "text": [
      "LET wj^2 = x\n"
     ]
    },
    {
     "data": {
      "text/latex": [
       "$\\displaystyle - 18000000000 x^{3} + 1245000000000000 x^{2} - 21400000000000000000 x + 56000000000000000000000$"
      ],
      "text/plain": [
       "-18000000000*x**3 + 1245000000000000*x**2 - 21400000000000000000*x + 56000000000000000000000"
      ]
     },
     "metadata": {},
     "output_type": "display_data"
    },
    {
     "name": "stdout",
     "output_type": "stream",
     "text": [
      "SOLVE FOR x\n"
     ]
    },
    {
     "data": {
      "text/plain": [
       "[207500/9 + 2500*(-1/2 - sqrt(3)*I/2)*(4931/729 + 8*sqrt(9310191)*I/243)**(1/3) + 4382500/(81*(-1/2 - sqrt(3)*I/2)*(4931/729 + 8*sqrt(9310191)*I/243)**(1/3)),\n",
       " 207500/9 + 4382500/(81*(-1/2 + sqrt(3)*I/2)*(4931/729 + 8*sqrt(9310191)*I/243)**(1/3)) + 2500*(-1/2 + sqrt(3)*I/2)*(4931/729 + 8*sqrt(9310191)*I/243)**(1/3),\n",
       " 207500/9 + 4382500/(81*(4931/729 + 8*sqrt(9310191)*I/243)**(1/3)) + 2500*(4931/729 + 8*sqrt(9310191)*I/243)**(1/3)]"
      ]
     },
     "metadata": {},
     "output_type": "display_data"
    },
    {
     "name": "stdout",
     "output_type": "stream",
     "text": [
      "SOLVE FOR wj\n"
     ]
    },
    {
     "data": {
      "text/plain": [
       "[(207500/9 + 2500*(-1/2 - sqrt(3)*I/2)*(4931/729 + 8*sqrt(9310191)*I/243)**(1/3) + 4382500/(81*(-1/2 - sqrt(3)*I/2)*(4931/729 + 8*sqrt(9310191)*I/243)**(1/3)))**0.5,\n",
       " (207500/9 + 4382500/(81*(-1/2 + sqrt(3)*I/2)*(4931/729 + 8*sqrt(9310191)*I/243)**(1/3)) + 2500*(-1/2 + sqrt(3)*I/2)*(4931/729 + 8*sqrt(9310191)*I/243)**(1/3))**0.5,\n",
       " (207500/9 + 4382500/(81*(4931/729 + 8*sqrt(9310191)*I/243)**(1/3)) + 2500*(4931/729 + 8*sqrt(9310191)*I/243)**(1/3))**0.5]"
      ]
     },
     "metadata": {},
     "output_type": "display_data"
    },
    {
     "name": "stdout",
     "output_type": "stream",
     "text": [
      "SOLVE FOR T\n"
     ]
    },
    {
     "data": {
      "text/plain": [
       "[6.28318530717959/(207500/9 + 2500*(-1/2 - sqrt(3)*I/2)*(4931/729 + 8*sqrt(9310191)*I/243)**(1/3) + 4382500/(81*(-1/2 - sqrt(3)*I/2)*(4931/729 + 8*sqrt(9310191)*I/243)**(1/3)))**0.5,\n",
       " 6.28318530717959/(207500/9 + 4382500/(81*(-1/2 + sqrt(3)*I/2)*(4931/729 + 8*sqrt(9310191)*I/243)**(1/3)) + 2500*(-1/2 + sqrt(3)*I/2)*(4931/729 + 8*sqrt(9310191)*I/243)**(1/3))**0.5,\n",
       " 6.28318530717959/(207500/9 + 4382500/(81*(4931/729 + 8*sqrt(9310191)*I/243)**(1/3)) + 2500*(4931/729 + 8*sqrt(9310191)*I/243)**(1/3))**0.5]"
      ]
     },
     "metadata": {},
     "output_type": "display_data"
    }
   ],
   "source": [
    "stiffness_matrix = stiffness_matrix.subs([(k1,k_1),(k2,k_2),(k3,k_3)])\n",
    "wj2 = symbols('w_j')\n",
    "print(\"SUBSTITUTE VALUES TO STIFFNESS MATRIX\")\n",
    "display(stiffness_matrix)\n",
    "mass_matrix = mass_matrix.subs([(m1,m_1),(m2,m_2),(m3,m_3)])\n",
    "print(\"SUBSTITUTE VALUES TO MASS MATRIX\")\n",
    "display(mass_matrix)\n",
    "print(\"MASS MATRIX X wj^2\")\n",
    "mass_matrix_wj2 = mass_matrix * wj2 ** 2\n",
    "display(mass_matrix_wj2)\n",
    "print(\"STIFFNESS MATRIX - MASS MATRIX X wj^2\")\n",
    "stiffness_matrix_mass_matrix_wj2 = stiffness_matrix - mass_matrix_wj2\n",
    "display(stiffness_matrix_mass_matrix_wj2)\n",
    "print(\"DETERMINANT OF STIFFNESS MATRIX - MASS MATRIX X wj^2\")\n",
    "determinant_stiffness_matrix_mass_matrix_wj2 = stiffness_matrix_mass_matrix_wj2.det()\n",
    "display(determinant_stiffness_matrix_mass_matrix_wj2)\n",
    "print(\"LET wj^2 = x\")\n",
    "x = symbols('x')\n",
    "determinant_stiffness_matrix_mass_matrix_wj2 = determinant_stiffness_matrix_mass_matrix_wj2.subs(wj2**2,x)\n",
    "display(determinant_stiffness_matrix_mass_matrix_wj2)\n",
    "print(\"SOLVE FOR x\")\n",
    "x = solve(determinant_stiffness_matrix_mass_matrix_wj2,x)\n",
    "display(x)\n",
    "print(\"SOLVE FOR wj\")\n",
    "wj = [i**0.5 for i in x]\n",
    "display(wj)\n",
    "print(\"SOLVE FOR T\")\n",
    "T = [2 * pi / i for i in wj]\n",
    "display(T)\n",
    "\n"
   ]
  },
  {
   "cell_type": "code",
   "execution_count": null,
   "metadata": {},
   "outputs": [],
   "source": [
    "from sympy import symbols, Eq, solve\n",
    "\n",
    "# Declare the symbol\n",
    "x = symbols('x')\n",
    "\n",
    "# Define the equation\n",
    "eq = Eq(3.4*(10**15) - 2.9 * (10**11)* x + 6 * (10**6) * (x **2), 0)\n",
    "pprint(eq)\n",
    "# Solve the equation\n",
    "solution = solve(eq, x)\n",
    "\n",
    "pprint(solution)"
   ]
  },
  {
   "cell_type": "code",
   "execution_count": null,
   "metadata": {},
   "outputs": [],
   "source": [
    "\n",
    "m_1 = 3000 \n",
    "m_2 = 2000 \n",
    "m_3 = 2000 \n",
    "k_1 = 41718518.52\n",
    "k_2 = 41718518.52\n",
    "k_3 = 35 * 10**6 \n",
    "stiffness_matrix,mass_matrix,u_matrix,y_matrix = get_matrix_eqn(2)\n",
    "stiffness_matrix = stiffness_matrix.subs([(k1,k_1),(k2,k_2)])\n",
    "wj2 = symbols('w_j')\n",
    "print(\"SUBSTITUTE VALUES TO STIFFNESS MATRIX\")\n",
    "display(stiffness_matrix)\n",
    "mass_matrix = mass_matrix.subs([(m1,m_1),(m2,m_2)])\n",
    "print(\"SUBSTITUTE VALUES TO MASS MATRIX\")\n",
    "display(mass_matrix)\n",
    "print(\"MASS MATRIX X wj^2\")\n",
    "mass_matrix_wj2 = mass_matrix * wj2 ** 2\n",
    "display(mass_matrix_wj2)\n",
    "print(\"STIFFNESS MATRIX - MASS MATRIX X wj^2\")\n",
    "stiffness_matrix_mass_matrix_wj2 = stiffness_matrix - mass_matrix_wj2\n",
    "display(stiffness_matrix_mass_matrix_wj2)\n",
    "print(\"DETERMINANT OF STIFFNESS MATRIX - MASS MATRIX X wj^2\")\n",
    "determinant_stiffness_matrix_mass_matrix_wj2 = stiffness_matrix_mass_matrix_wj2.det()\n",
    "display(determinant_stiffness_matrix_mass_matrix_wj2)\n",
    "print(\"LET wj^2 = x\")\n",
    "x = symbols('x')\n",
    "determinant_stiffness_matrix_mass_matrix_wj2 = determinant_stiffness_matrix_mass_matrix_wj2.subs(wj2**2,x)\n",
    "display(determinant_stiffness_matrix_mass_matrix_wj2)\n",
    "print(\"SOLVE FOR x\")\n",
    "x = solve(determinant_stiffness_matrix_mass_matrix_wj2,x)\n",
    "pprint(x)\n",
    "print(\"SOLVE FOR wj\")\n",
    "wj = [i**0.5 for i in x]\n",
    "pprint(wj)\n",
    "print(\"SOLVE FOR T\")\n",
    "T = [2 * pi / i for i in wj]\n",
    "pprint(T)"
   ]
  },
  {
   "cell_type": "code",
   "execution_count": null,
   "metadata": {},
   "outputs": [],
   "source": []
  }
 ],
 "metadata": {
  "kernelspec": {
   "display_name": "Python 3 (ipykernel)",
   "language": "python",
   "name": "python3"
  },
  "language_info": {
   "codemirror_mode": {
    "name": "ipython",
    "version": 3
   },
   "file_extension": ".py",
   "mimetype": "text/x-python",
   "name": "python",
   "nbconvert_exporter": "python",
   "pygments_lexer": "ipython3",
   "version": "3.9.13"
  }
 },
 "nbformat": 4,
 "nbformat_minor": 4
}
